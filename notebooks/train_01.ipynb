{
 "cells": [
  {
   "cell_type": "code",
   "execution_count": 2,
   "id": "4d3ef79d-9498-47a4-b7d7-ac86322c3e5d",
   "metadata": {},
   "outputs": [],
   "source": [
    "import torch\n",
    "import torch.nn as nn\n",
    "import torch.nn.functional as F\n",
    "import torch.optim as optim\n",
    "import torchaudio\n",
    "import sys\n",
    "\n",
    "import matplotlib.pyplot as plt\n",
    "import IPython.display as ipd\n",
    "\n",
    "from tqdm import tqdm\n",
    "\n",
    "\n",
    "from torchaudio.datasets import SPEECHCOMMANDS\n",
    "import os"
   ]
  },
  {
   "cell_type": "code",
   "execution_count": 3,
   "id": "ebd00a5a-f96a-4a58-946a-ab3b6e38f890",
   "metadata": {},
   "outputs": [
    {
     "data": {
      "text/plain": [
       "'cuda'"
      ]
     },
     "execution_count": 3,
     "metadata": {},
     "output_type": "execute_result"
    }
   ],
   "source": [
    "device = \"cuda\" if torch.cuda.is_available() else \"cpu\"\n",
    "device"
   ]
  },
  {
   "attachments": {},
   "cell_type": "markdown",
   "id": "065fe4ad-c3d9-40cf-9c12-73f1b14f2d4f",
   "metadata": {},
   "source": [
    "# DataSet creation"
   ]
  },
  {
   "cell_type": "code",
   "execution_count": 4,
   "id": "db631c6e-0a7f-4373-a51c-c695b7403e8f",
   "metadata": {},
   "outputs": [],
   "source": [
    "class SubsetSC(SPEECHCOMMANDS):\n",
    "    def __init__(self, subset: str = None):\n",
    "        super().__init__(\"./\", download=True)\n",
    "\n",
    "        def load_list(filename):\n",
    "            filepath = os.path.join(self._path, filename)\n",
    "            with open(filepath) as fileobj:\n",
    "                return [os.path.normpath(os.path.join(self._path, line.strip())) for line in fileobj]\n",
    "\n",
    "        if subset == \"validation\":\n",
    "            self._walker = load_list(\"validation_list.txt\")\n",
    "        elif subset == \"testing\":\n",
    "            self._walker = load_list(\"testing_list.txt\")\n",
    "        elif subset == \"training\":\n",
    "            excludes = load_list(\"validation_list.txt\") + load_list(\"testing_list.txt\")\n",
    "            excludes = set(excludes)\n",
    "            self._walker = [w for w in self._walker if w not in excludes]"
   ]
  },
  {
   "attachments": {},
   "cell_type": "markdown",
   "id": "ce8882cf-e09c-4c02-92b4-52369cad2269",
   "metadata": {},
   "source": [
    "## Create training and testing split of the data. We do not use validation in this tutorial."
   ]
  },
  {
   "cell_type": "code",
   "execution_count": 5,
   "id": "ca50417b-d88c-47b7-9d9e-c507a8f1be69",
   "metadata": {},
   "outputs": [],
   "source": [
    "train_set = SubsetSC(\"training\")\n",
    "test_set = SubsetSC(\"testing\")"
   ]
  },
  {
   "cell_type": "code",
   "execution_count": 6,
   "id": "2ea13b1a-0ebb-493e-ae8c-67ea40677184",
   "metadata": {},
   "outputs": [],
   "source": [
    "def cut_dataset(dataset, labels):\n",
    "    items_to_remove = []\n",
    "    for i, (_, _, label, *_) in enumerate(dataset):\n",
    "        if label not in labels:\n",
    "            items_to_remove.append(i)\n",
    "\n",
    "    for elem in sorted(items_to_remove, reverse=True):\n",
    "        dataset._walker.pop(elem)"
   ]
  },
  {
   "cell_type": "code",
   "execution_count": 7,
   "id": "d0321da8-8c2b-42c9-8efc-4425d09f486f",
   "metadata": {},
   "outputs": [],
   "source": [
    "commands = [\"forward\", \"backward\", \"left\", \"right\", \"stop\", \"on\", \"off\"]"
   ]
  },
  {
   "cell_type": "code",
   "execution_count": 8,
   "id": "ebe2398d-10d9-414c-af16-3992b998157b",
   "metadata": {},
   "outputs": [],
   "source": [
    "cut_dataset(train_set, commands)\n",
    "cut_dataset(test_set, commands)"
   ]
  },
  {
   "cell_type": "code",
   "execution_count": 126,
   "id": "097bc41a-ab1d-47c3-b49b-5f3985576e61",
   "metadata": {},
   "outputs": [
    {
     "name": "stdout",
     "output_type": "stream",
     "text": [
      "Shape of waveform: torch.Size([1, 16000])\n",
      "Sample rate of waveform: 16000\n"
     ]
    },
    {
     "data": {
      "image/png": "[encoded data removed]",
      "text/plain": [
       "<Figure size 640x480 with 1 Axes>"
      ]
     },
     "metadata": {},
     "output_type": "display_data"
    }
   ],
   "source": [
    "waveform, sample_rate, label, speaker_id, utterance_number = train_set[0]\n",
    "print(\"Shape of waveform: {}\".format(waveform.size()))\n",
    "print(\"Sample rate of waveform: {}\".format(sample_rate))\n",
    "plt.plot(waveform.t().numpy());"
   ]
  },
  {
   "cell_type": "code",
   "execution_count": 10,
   "id": "3b9be125-2027-4532-8176-53c5f62a7fac",
   "metadata": {},
   "outputs": [
    {
     "data": {
      "text/plain": [
       "['backward', 'forward', 'left', 'off', 'on', 'right', 'stop']"
      ]
     },
     "execution_count": 10,
     "metadata": {},
     "output_type": "execute_result"
    }
   ],
   "source": [
    "labels = sorted(list(set(datapoint[2] for datapoint in train_set)))\n",
    "labels"
   ]
  },
  {
   "cell_type": "code",
   "execution_count": 11,
   "id": "8d9b222b-ddfd-44ee-a3f2-ffbc16681182",
   "metadata": {},
   "outputs": [
    {
     "data": {
      "text/html": [
       "\n",
       "                <audio  controls=\"controls\" >\n",
       "                    <source src=\"data:audio/wav;base64,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\" type=\"audio/wav\" />\n",
       "                    Your browser does not support the audio element.\n",
       "                </audio>\n",
       "              "
      ],
      "text/plain": [
       "<IPython.lib.display.Audio object>"
      ]
     },
     "execution_count": 11,
     "metadata": {},
     "output_type": "execute_result"
    }
   ],
   "source": [
    "waveform_second, *_ = train_set[1]\n",
    "ipd.Audio(waveform_second.numpy(), rate=sample_rate)"
   ]
  },
  {
   "cell_type": "code",
   "execution_count": 78,
   "id": "3318ac0c-3bae-47dd-9544-1c3e819898e7",
   "metadata": {},
   "outputs": [
    {
     "data": {
      "text/html": [
       "\n",
       "                <audio  controls=\"controls\" >\n",
       "                    <source src=\"data:audio/wav;base64,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\" type=\"audio/wav\" />\n",
       "                    Your browser does not support the audio element.\n",
       "                </audio>\n",
       "              "
      ],
      "text/plain": [
       "<IPython.lib.display.Audio object>"
      ]
     },
     "execution_count": 78,
     "metadata": {},
     "output_type": "execute_result"
    }
   ],
   "source": [
    "new_sample_rate = 8000\n",
    "transform = torchaudio.transforms.Resample(orig_freq=sample_rate, new_freq=new_sample_rate)\n",
    "transformed = transform(waveform_second)\n",
    "\n",
    "ipd.Audio(transformed.numpy(), rate=new_sample_rate)"
   ]
  },
  {
   "cell_type": "code",
   "execution_count": 79,
   "id": "eec16654",
   "metadata": {},
   "outputs": [
    {
     "data": {
      "text/plain": [
       "torch.Size([1, 8000])"
      ]
     },
     "execution_count": 79,
     "metadata": {},
     "output_type": "execute_result"
    }
   ],
   "source": [
    "transformed.shape"
   ]
  },
  {
   "cell_type": "code",
   "execution_count": 55,
   "id": "6e8cbf4f-5174-4eb8-9650-d8feb445fef6",
   "metadata": {},
   "outputs": [
    {
     "name": "stdout",
     "output_type": "stream",
     "text": [
      "forward --> tensor(1) --> forward\n"
     ]
    }
   ],
   "source": [
    "def label_to_index(word):\n",
    "    # Return the position of the word in labels\n",
    "    return torch.tensor(labels.index(word))\n",
    "\n",
    "\n",
    "def index_to_label(index):\n",
    "    # Return the word corresponding to the index in labels\n",
    "    # This is the inverse of label_to_index\n",
    "    return labels[index]\n",
    "\n",
    "\n",
    "word_start = \"forward\"\n",
    "index = label_to_index(word_start)\n",
    "word_recovered = index_to_label(index)\n",
    "\n",
    "print(word_start, \"-->\", index, \"-->\", word_recovered)"
   ]
  },
  {
   "cell_type": "code",
   "execution_count": 56,
   "id": "c0c1486a-5b2d-42a3-b8d7-de48fc9f575f",
   "metadata": {},
   "outputs": [],
   "source": [
    "def pad_sequence(batch):\n",
    "    # Make all tensor in a batch the same length by padding with zeros\n",
    "    batch = [item.t() for item in batch]\n",
    "    batch = torch.nn.utils.rnn.pad_sequence(batch, batch_first=True, padding_value=0.)\n",
    "    return batch.permute(0, 2, 1)\n",
    "\n",
    "\n",
    "def collate_fn(batch):\n",
    "\n",
    "    # A data tuple has the form:\n",
    "    # waveform, sample_rate, label, speaker_id, utterance_number\n",
    "\n",
    "    tensors, targets = [], []\n",
    "\n",
    "    # Gather in lists, and encode labels as indices\n",
    "    for waveform, _, label, *_ in batch:\n",
    "        tensors += [waveform]\n",
    "        targets += [label_to_index(label)]\n",
    "\n",
    "    # Group the list of tensors into a batched tensor\n",
    "    tensors = pad_sequence(tensors)\n",
    "    targets = torch.stack(targets)\n",
    "\n",
    "    return tensors, targets\n",
    "\n",
    "\n",
    "batch_size = 256\n",
    "\n",
    "if device == \"cuda\":\n",
    "    num_workers = 1\n",
    "    pin_memory = True\n",
    "else:\n",
    "    num_workers = 0\n",
    "    pin_memory = False\n",
    "\n",
    "train_loader = torch.utils.data.DataLoader(\n",
    "    train_set,\n",
    "    batch_size=batch_size,\n",
    "    shuffle=True,\n",
    "    collate_fn=collate_fn,\n",
    "    num_workers=num_workers,\n",
    "    pin_memory=pin_memory,\n",
    ")\n",
    "test_loader = torch.utils.data.DataLoader(\n",
    "    test_set,\n",
    "    batch_size=batch_size,\n",
    "    shuffle=False,\n",
    "    drop_last=False,\n",
    "    collate_fn=collate_fn,\n",
    "    num_workers=num_workers,\n",
    "    pin_memory=pin_memory,\n",
    ")"
   ]
  },
  {
   "cell_type": "code",
   "execution_count": 130,
   "id": "ba8cc201",
   "metadata": {},
   "outputs": [
    {
     "data": {
      "text/plain": [
       "torch.Size([256, 1, 16000])"
      ]
     },
     "execution_count": 130,
     "metadata": {},
     "output_type": "execute_result"
    }
   ],
   "source": [
    "next(iter(train_loader))[0].shape"
   ]
  },
  {
   "attachments": {},
   "cell_type": "markdown",
   "id": "2ae593e4-3e69-4aec-adb9-fa0784fe4ea8",
   "metadata": {},
   "source": [
    "# Define the Network"
   ]
  },
  {
   "cell_type": "code",
   "execution_count": 84,
   "id": "0fe4cfa7-9f0f-4e15-9118-28db4bf84f0c",
   "metadata": {},
   "outputs": [
    {
     "name": "stdout",
     "output_type": "stream",
     "text": [
      "M5(\n",
      "  (conv1): Conv1d(1, 32, kernel_size=(25,), stride=(16,))\n",
      "  (bn1): BatchNorm1d(32, eps=1e-05, momentum=0.1, affine=True, track_running_stats=True)\n",
      "  (pool1): MaxPool1d(kernel_size=4, stride=4, padding=0, dilation=1, ceil_mode=False)\n",
      "  (conv2): Conv1d(32, 32, kernel_size=(3,), stride=(1,))\n",
      "  (bn2): BatchNorm1d(32, eps=1e-05, momentum=0.1, affine=True, track_running_stats=True)\n",
      "  (pool2): MaxPool1d(kernel_size=4, stride=4, padding=0, dilation=1, ceil_mode=False)\n",
      "  (conv3): Conv1d(32, 64, kernel_size=(3,), stride=(1,))\n",
      "  (bn3): BatchNorm1d(64, eps=1e-05, momentum=0.1, affine=True, track_running_stats=True)\n",
      "  (pool3): MaxPool1d(kernel_size=4, stride=4, padding=0, dilation=1, ceil_mode=False)\n",
      "  (conv4): Conv1d(64, 64, kernel_size=(3,), stride=(1,))\n",
      "  (bn4): BatchNorm1d(64, eps=1e-05, momentum=0.1, affine=True, track_running_stats=True)\n",
      "  (pool4): MaxPool1d(kernel_size=4, stride=4, padding=0, dilation=1, ceil_mode=False)\n",
      "  (fc1): Linear(in_features=64, out_features=7, bias=True)\n",
      ")\n",
      "Number of parameters: 23335\n"
     ]
    }
   ],
   "source": [
    "class M5(nn.Module):\n",
    "    def __init__(self, n_input=1, n_output=35, stride=16, n_channel=32):\n",
    "        super().__init__()\n",
    "        self.conv1 = nn.Conv1d(n_input, n_channel, kernel_size=25, stride=stride)\n",
    "        self.bn1 = nn.BatchNorm1d(n_channel)\n",
    "        self.pool1 = nn.MaxPool1d(4)\n",
    "        self.conv2 = nn.Conv1d(n_channel, n_channel, kernel_size=3)\n",
    "        self.bn2 = nn.BatchNorm1d(n_channel)\n",
    "        self.pool2 = nn.MaxPool1d(4)\n",
    "        self.conv3 = nn.Conv1d(n_channel, 2 * n_channel, kernel_size=3)\n",
    "        self.bn3 = nn.BatchNorm1d(2 * n_channel)\n",
    "        self.pool3 = nn.MaxPool1d(4)\n",
    "        self.conv4 = nn.Conv1d(2 * n_channel, 2 * n_channel, kernel_size=3)\n",
    "        self.bn4 = nn.BatchNorm1d(2 * n_channel)\n",
    "        self.pool4 = nn.MaxPool1d(4)\n",
    "        self.fc1 = nn.Linear(2 * n_channel, n_output)\n",
    "\n",
    "    def forward(self, x):\n",
    "        x = self.conv1(x)\n",
    "        x = F.relu(self.bn1(x))\n",
    "        x = self.pool1(x)\n",
    "        x = self.conv2(x)\n",
    "        x = F.relu(self.bn2(x))\n",
    "        x = self.pool2(x)\n",
    "        x = self.conv3(x)\n",
    "        x = F.relu(self.bn3(x))\n",
    "        x = self.pool3(x)\n",
    "        x = self.conv4(x)\n",
    "        x = F.relu(self.bn4(x))\n",
    "        x = self.pool4(x)\n",
    "        x = F.avg_pool1d(x, x.shape[-1])\n",
    "        x = x.permute(0, 2, 1)\n",
    "        x = self.fc1(x)\n",
    "        return F.log_softmax(x, dim=2)\n",
    "\n",
    "\n",
    "model = M5(n_input=transformed.shape[0], n_output=len(labels))\n",
    "model.to(device)\n",
    "print(model)\n",
    "\n",
    "\n",
    "def count_parameters(model):\n",
    "    return sum(p.numel() for p in model.parameters() if p.requires_grad)\n",
    "\n",
    "\n",
    "n = count_parameters(model)\n",
    "print(\"Number of parameters: %s\" % n)"
   ]
  },
  {
   "cell_type": "code",
   "execution_count": 85,
   "id": "06fc0d5a-7f9c-4f1e-89b9-11fdab16b068",
   "metadata": {},
   "outputs": [],
   "source": [
    "optimizer = optim.Adam(model.parameters(), lr=0.01, weight_decay=0.0001)\n",
    "scheduler = optim.lr_scheduler.StepLR(optimizer, step_size=20, gamma=0.1)  # reduce the learning after 20 epochs by a factor of 10"
   ]
  },
  {
   "attachments": {},
   "cell_type": "markdown",
   "id": "c293f08e-5a84-4789-abad-abaa3d097a1e",
   "metadata": {},
   "source": [
    "# Training and Testing the Network"
   ]
  },
  {
   "cell_type": "code",
   "execution_count": 86,
   "id": "f72ec8aa-333f-463e-a979-2f15a6b10d87",
   "metadata": {},
   "outputs": [],
   "source": [
    "def train(model, epoch, log_interval):\n",
    "    model.train()\n",
    "    for batch_idx, (data, target) in enumerate(train_loader):\n",
    "\n",
    "        data = data.to(device)\n",
    "        target = target.to(device)\n",
    "\n",
    "        # apply transform and model on whole batch directly on device\n",
    "        data = transform(data)\n",
    "        output = model(data)\n",
    "\n",
    "        # negative log-likelihood for a tensor of size (batch x 1 x n_output)\n",
    "        loss = F.nll_loss(output.squeeze(), target)\n",
    "\n",
    "        optimizer.zero_grad()\n",
    "        loss.backward()\n",
    "        optimizer.step()\n",
    "\n",
    "        # print training stats\n",
    "        if batch_idx % log_interval == 0:\n",
    "            print(f\"Train Epoch: {epoch} [{batch_idx * len(data)}/{len(train_loader.dataset)} ({100. * batch_idx / len(train_loader):.0f}%)]\\tLoss: {loss.item():.6f}\")\n",
    "\n",
    "        # update progress bar\n",
    "        pbar.update(pbar_update)\n",
    "        # record loss\n",
    "        losses.append(loss.item())\n",
    "\n",
    "def number_of_correct(pred, target):\n",
    "    # count number of correct predictions\n",
    "    return pred.squeeze().eq(target).sum().item()\n",
    "\n",
    "\n",
    "def get_likely_index(tensor):\n",
    "    # find most likely label index for each element in the batch\n",
    "    return tensor.argmax(dim=-1)\n",
    "\n",
    "\n",
    "def test(model, epoch):\n",
    "    model.eval()\n",
    "    correct = 0\n",
    "    for data, target in test_loader:\n",
    "\n",
    "        data = data.to(device)\n",
    "        target = target.to(device)\n",
    "\n",
    "        # apply transform and model on whole batch directly on device\n",
    "        data = transform(data)\n",
    "        output = model(data)\n",
    "\n",
    "        pred = get_likely_index(output)\n",
    "        correct += number_of_correct(pred, target)\n",
    "\n",
    "        # update progress bar\n",
    "        pbar.update(pbar_update)\n",
    "\n",
    "    print(f\"\\nTest Epoch: {epoch}\\tAccuracy: {correct}/{len(test_loader.dataset)} ({100. * correct / len(test_loader.dataset):.0f}%)\\n\")"
   ]
  },
  {
   "cell_type": "code",
   "execution_count": 87,
   "id": "060e41b6-0b0f-46e8-80d3-a5176ea710d5",
   "metadata": {
    "scrolled": true
   },
   "outputs": [
    {
     "name": "stderr",
     "output_type": "stream",
     "text": [
      "  0%|          | 0.09999999999999999/100 [00:00<09:04,  5.45s/it]"
     ]
    },
    {
     "name": "stdout",
     "output_type": "stream",
     "text": [
      "Train Epoch: 1 [0/17825 (0%)]\tLoss: 2.298386\n"
     ]
    },
    {
     "name": "stderr",
     "output_type": "stream",
     "text": [
      "  0%|          | 0.4000000000000002/100 [00:01<03:07,  1.88s/it] "
     ]
    },
    {
     "name": "stdout",
     "output_type": "stream",
     "text": [
      "Train Epoch: 1 [5120/17825 (29%)]\tLoss: 1.348365\n"
     ]
    },
    {
     "name": "stderr",
     "output_type": "stream",
     "text": [
      "  1%|          | 0.6249999999999998/100 [00:01<02:37,  1.58s/it] "
     ]
    },
    {
     "name": "stdout",
     "output_type": "stream",
     "text": [
      "Train Epoch: 1 [10240/17825 (57%)]\tLoss: 0.849036\n"
     ]
    },
    {
     "name": "stderr",
     "output_type": "stream",
     "text": [
      "  1%|          | 0.849999999999999/100 [00:01<02:28,  1.50s/it] "
     ]
    },
    {
     "name": "stdout",
     "output_type": "stream",
     "text": [
      "Train Epoch: 1 [15360/17825 (86%)]\tLoss: 0.748395\n"
     ]
    },
    {
     "name": "stderr",
     "output_type": "stream",
     "text": [
      "  1%|          | 0.9249999999999987/100 [00:02<04:48,  2.91s/it]"
     ]
    },
    {
     "name": "stdout",
     "output_type": "stream",
     "text": [
      "\n",
      "Test Epoch: 1\tAccuracy: 1797/2337 (77%)\n",
      "\n"
     ]
    },
    {
     "name": "stderr",
     "output_type": "stream",
     "text": [
      "  1%|          | 1.0124999999999984/100 [00:02<04:37,  2.81s/it]"
     ]
    },
    {
     "name": "stdout",
     "output_type": "stream",
     "text": [
      "Train Epoch: 2 [0/17825 (0%)]\tLoss: 0.606790\n"
     ]
    },
    {
     "name": "stderr",
     "output_type": "stream",
     "text": [
      "  1%|▏         | 1.387499999999997/100 [00:03<02:46,  1.69s/it] "
     ]
    },
    {
     "name": "stdout",
     "output_type": "stream",
     "text": [
      "Train Epoch: 2 [5120/17825 (29%)]\tLoss: 0.495684\n"
     ]
    },
    {
     "name": "stderr",
     "output_type": "stream",
     "text": [
      "  2%|▏         | 1.6124999999999963/100 [00:03<02:31,  1.54s/it]"
     ]
    },
    {
     "name": "stdout",
     "output_type": "stream",
     "text": [
      "Train Epoch: 2 [10240/17825 (57%)]\tLoss: 0.547839\n"
     ]
    },
    {
     "name": "stderr",
     "output_type": "stream",
     "text": [
      "  2%|▏         | 1.8499999999999954/100 [00:03<02:25,  1.49s/it]"
     ]
    },
    {
     "name": "stdout",
     "output_type": "stream",
     "text": [
      "Train Epoch: 2 [15360/17825 (86%)]\tLoss: 0.574872\n"
     ]
    },
    {
     "name": "stderr",
     "output_type": "stream",
     "text": [
      "  2%|▏         | 1.9249999999999952/100 [00:03<02:55,  1.79s/it]"
     ]
    },
    {
     "name": "stdout",
     "output_type": "stream",
     "text": [
      "\n",
      "Test Epoch: 2\tAccuracy: 1959/2337 (84%)\n",
      "\n"
     ]
    },
    {
     "name": "stderr",
     "output_type": "stream",
     "text": [
      "  2%|▏         | 2.012499999999995/100 [00:04<03:16,  2.01s/it] "
     ]
    },
    {
     "name": "stdout",
     "output_type": "stream",
     "text": [
      "Train Epoch: 3 [0/17825 (0%)]\tLoss: 0.395806\n"
     ]
    },
    {
     "name": "stderr",
     "output_type": "stream",
     "text": [
      "  2%|▏         | 2.4000000000000004/100 [00:04<02:30,  1.55s/it]"
     ]
    },
    {
     "name": "stdout",
     "output_type": "stream",
     "text": [
      "Train Epoch: 3 [5120/17825 (29%)]\tLoss: 0.385145\n"
     ]
    },
    {
     "name": "stderr",
     "output_type": "stream",
     "text": [
      "  3%|▎         | 2.6250000000000036/100 [00:04<02:24,  1.49s/it]"
     ]
    },
    {
     "name": "stdout",
     "output_type": "stream",
     "text": [
      "Train Epoch: 3 [10240/17825 (57%)]\tLoss: 0.473874\n"
     ]
    },
    {
     "name": "stderr",
     "output_type": "stream",
     "text": [
      "  3%|▎         | 2.8500000000000068/100 [00:05<02:23,  1.47s/it]"
     ]
    },
    {
     "name": "stdout",
     "output_type": "stream",
     "text": [
      "Train Epoch: 3 [15360/17825 (86%)]\tLoss: 0.328572\n"
     ]
    },
    {
     "name": "stderr",
     "output_type": "stream",
     "text": [
      "  3%|▎         | 2.925000000000008/100 [00:05<02:52,  1.78s/it] "
     ]
    },
    {
     "name": "stdout",
     "output_type": "stream",
     "text": [
      "\n",
      "Test Epoch: 3\tAccuracy: 2027/2337 (87%)\n",
      "\n"
     ]
    },
    {
     "name": "stderr",
     "output_type": "stream",
     "text": [
      "  3%|▎         | 3.012500000000009/100 [00:05<03:16,  2.02s/it]"
     ]
    },
    {
     "name": "stdout",
     "output_type": "stream",
     "text": [
      "Train Epoch: 4 [0/17825 (0%)]\tLoss: 0.297332\n"
     ]
    },
    {
     "name": "stderr",
     "output_type": "stream",
     "text": [
      "  3%|▎         | 3.4000000000000146/100 [00:06<02:29,  1.55s/it]"
     ]
    },
    {
     "name": "stdout",
     "output_type": "stream",
     "text": [
      "Train Epoch: 4 [5120/17825 (29%)]\tLoss: 0.334294\n"
     ]
    },
    {
     "name": "stderr",
     "output_type": "stream",
     "text": [
      "  4%|▎         | 3.6250000000000178/100 [00:06<02:23,  1.49s/it]"
     ]
    },
    {
     "name": "stdout",
     "output_type": "stream",
     "text": [
      "Train Epoch: 4 [10240/17825 (57%)]\tLoss: 0.259191\n"
     ]
    },
    {
     "name": "stderr",
     "output_type": "stream",
     "text": [
      "  4%|▍         | 3.850000000000021/100 [00:06<02:21,  1.48s/it] "
     ]
    },
    {
     "name": "stdout",
     "output_type": "stream",
     "text": [
      "Train Epoch: 4 [15360/17825 (86%)]\tLoss: 0.301840\n"
     ]
    },
    {
     "name": "stderr",
     "output_type": "stream",
     "text": [
      "  4%|▍         | 3.925000000000022/100 [00:07<02:54,  1.82s/it]"
     ]
    },
    {
     "name": "stdout",
     "output_type": "stream",
     "text": [
      "\n",
      "Test Epoch: 4\tAccuracy: 2047/2337 (88%)\n",
      "\n"
     ]
    },
    {
     "name": "stderr",
     "output_type": "stream",
     "text": [
      "  4%|▍         | 4.012500000000023/100 [00:07<03:12,  2.01s/it]"
     ]
    },
    {
     "name": "stdout",
     "output_type": "stream",
     "text": [
      "Train Epoch: 5 [0/17825 (0%)]\tLoss: 0.254112\n"
     ]
    },
    {
     "name": "stderr",
     "output_type": "stream",
     "text": [
      "  4%|▍         | 4.375000000000028/100 [00:07<02:32,  1.59s/it]"
     ]
    },
    {
     "name": "stdout",
     "output_type": "stream",
     "text": [
      "Train Epoch: 5 [5120/17825 (29%)]\tLoss: 0.280257\n"
     ]
    },
    {
     "name": "stderr",
     "output_type": "stream",
     "text": [
      "  5%|▍         | 4.600000000000032/100 [00:08<02:27,  1.55s/it] "
     ]
    },
    {
     "name": "stdout",
     "output_type": "stream",
     "text": [
      "Train Epoch: 5 [10240/17825 (57%)]\tLoss: 0.308462\n"
     ]
    },
    {
     "name": "stderr",
     "output_type": "stream",
     "text": [
      "  5%|▍         | 4.825000000000035/100 [00:08<02:26,  1.54s/it]"
     ]
    },
    {
     "name": "stdout",
     "output_type": "stream",
     "text": [
      "Train Epoch: 5 [15360/17825 (86%)]\tLoss: 0.291467\n"
     ]
    },
    {
     "name": "stderr",
     "output_type": "stream",
     "text": [
      "  5%|▍         | 4.987500000000037/100 [00:08<02:37,  1.66s/it]"
     ]
    },
    {
     "name": "stdout",
     "output_type": "stream",
     "text": [
      "\n",
      "Test Epoch: 5\tAccuracy: 2011/2337 (86%)\n",
      "\n"
     ]
    },
    {
     "name": "stderr",
     "output_type": "stream",
     "text": [
      "  5%|▌         | 5.062500000000038/100 [00:09<03:06,  1.96s/it]"
     ]
    },
    {
     "name": "stdout",
     "output_type": "stream",
     "text": [
      "Train Epoch: 6 [0/17825 (0%)]\tLoss: 0.279389\n"
     ]
    },
    {
     "name": "stderr",
     "output_type": "stream",
     "text": [
      "  5%|▌         | 5.3625000000000425/100 [00:09<02:29,  1.58s/it]"
     ]
    },
    {
     "name": "stdout",
     "output_type": "stream",
     "text": [
      "Train Epoch: 6 [5120/17825 (29%)]\tLoss: 0.222406\n"
     ]
    },
    {
     "name": "stderr",
     "output_type": "stream",
     "text": [
      "  6%|▌         | 5.600000000000046/100 [00:09<02:20,  1.49s/it] "
     ]
    },
    {
     "name": "stdout",
     "output_type": "stream",
     "text": [
      "Train Epoch: 6 [10240/17825 (57%)]\tLoss: 0.298810\n"
     ]
    },
    {
     "name": "stderr",
     "output_type": "stream",
     "text": [
      "  6%|▌         | 5.825000000000049/100 [00:10<02:18,  1.47s/it]"
     ]
    },
    {
     "name": "stdout",
     "output_type": "stream",
     "text": [
      "Train Epoch: 6 [15360/17825 (86%)]\tLoss: 0.282268\n"
     ]
    },
    {
     "name": "stderr",
     "output_type": "stream",
     "text": [
      "  6%|▌         | 5.90000000000005/100 [00:10<02:52,  1.84s/it] "
     ]
    },
    {
     "name": "stdout",
     "output_type": "stream",
     "text": [
      "\n",
      "Test Epoch: 6\tAccuracy: 1895/2337 (81%)\n",
      "\n"
     ]
    },
    {
     "name": "stderr",
     "output_type": "stream",
     "text": [
      "  6%|▌         | 6.012500000000052/100 [00:10<03:02,  1.94s/it]"
     ]
    },
    {
     "name": "stdout",
     "output_type": "stream",
     "text": [
      "Train Epoch: 7 [0/17825 (0%)]\tLoss: 0.245241\n"
     ]
    },
    {
     "name": "stderr",
     "output_type": "stream",
     "text": [
      "  6%|▋         | 6.400000000000057/100 [00:11<02:25,  1.55s/it]"
     ]
    },
    {
     "name": "stdout",
     "output_type": "stream",
     "text": [
      "Train Epoch: 7 [5120/17825 (29%)]\tLoss: 0.306778\n"
     ]
    },
    {
     "name": "stderr",
     "output_type": "stream",
     "text": [
      "  7%|▋         | 6.62500000000006/100 [00:11<02:21,  1.52s/it] "
     ]
    },
    {
     "name": "stdout",
     "output_type": "stream",
     "text": [
      "Train Epoch: 7 [10240/17825 (57%)]\tLoss: 0.323788\n"
     ]
    },
    {
     "name": "stderr",
     "output_type": "stream",
     "text": [
      "  7%|▋         | 6.850000000000064/100 [00:11<02:20,  1.51s/it] "
     ]
    },
    {
     "name": "stdout",
     "output_type": "stream",
     "text": [
      "Train Epoch: 7 [15360/17825 (86%)]\tLoss: 0.174021\n"
     ]
    },
    {
     "name": "stderr",
     "output_type": "stream",
     "text": [
      "  7%|▋         | 6.925000000000065/100 [00:12<02:49,  1.82s/it]"
     ]
    },
    {
     "name": "stdout",
     "output_type": "stream",
     "text": [
      "\n",
      "Test Epoch: 7\tAccuracy: 2066/2337 (88%)\n",
      "\n"
     ]
    },
    {
     "name": "stderr",
     "output_type": "stream",
     "text": [
      "  7%|▋         | 7.012500000000066/100 [00:12<03:11,  2.06s/it]"
     ]
    },
    {
     "name": "stdout",
     "output_type": "stream",
     "text": [
      "Train Epoch: 8 [0/17825 (0%)]\tLoss: 0.164173\n"
     ]
    },
    {
     "name": "stderr",
     "output_type": "stream",
     "text": [
      "  7%|▋         | 7.387500000000071/100 [00:12<02:24,  1.56s/it]"
     ]
    },
    {
     "name": "stdout",
     "output_type": "stream",
     "text": [
      "Train Epoch: 8 [5120/17825 (29%)]\tLoss: 0.196645\n"
     ]
    },
    {
     "name": "stderr",
     "output_type": "stream",
     "text": [
      "  8%|▊         | 7.612500000000074/100 [00:13<02:18,  1.50s/it]"
     ]
    },
    {
     "name": "stdout",
     "output_type": "stream",
     "text": [
      "Train Epoch: 8 [10240/17825 (57%)]\tLoss: 0.292025\n"
     ]
    },
    {
     "name": "stderr",
     "output_type": "stream",
     "text": [
      "  8%|▊         | 7.850000000000078/100 [00:13<02:14,  1.46s/it] "
     ]
    },
    {
     "name": "stdout",
     "output_type": "stream",
     "text": [
      "Train Epoch: 8 [15360/17825 (86%)]\tLoss: 0.145536\n"
     ]
    },
    {
     "name": "stderr",
     "output_type": "stream",
     "text": [
      "  8%|▊         | 7.925000000000079/100 [00:13<02:44,  1.78s/it]"
     ]
    },
    {
     "name": "stdout",
     "output_type": "stream",
     "text": [
      "\n",
      "Test Epoch: 8\tAccuracy: 2083/2337 (89%)\n",
      "\n"
     ]
    },
    {
     "name": "stderr",
     "output_type": "stream",
     "text": [
      "  8%|▊         | 8.01250000000008/100 [00:13<03:04,  2.00s/it] "
     ]
    },
    {
     "name": "stdout",
     "output_type": "stream",
     "text": [
      "Train Epoch: 9 [0/17825 (0%)]\tLoss: 0.281236\n"
     ]
    },
    {
     "name": "stderr",
     "output_type": "stream",
     "text": [
      "  8%|▊         | 8.387500000000058/100 [00:14<02:21,  1.55s/it]"
     ]
    },
    {
     "name": "stdout",
     "output_type": "stream",
     "text": [
      "Train Epoch: 9 [5120/17825 (29%)]\tLoss: 0.280494\n"
     ]
    },
    {
     "name": "stderr",
     "output_type": "stream",
     "text": [
      "  9%|▊         | 8.612500000000045/100 [00:14<02:16,  1.49s/it]"
     ]
    },
    {
     "name": "stdout",
     "output_type": "stream",
     "text": [
      "Train Epoch: 9 [10240/17825 (57%)]\tLoss: 0.196707\n"
     ]
    },
    {
     "name": "stderr",
     "output_type": "stream",
     "text": [
      "  9%|▉         | 8.850000000000032/100 [00:15<02:13,  1.46s/it]"
     ]
    },
    {
     "name": "stdout",
     "output_type": "stream",
     "text": [
      "Train Epoch: 9 [15360/17825 (86%)]\tLoss: 0.233357\n"
     ]
    },
    {
     "name": "stderr",
     "output_type": "stream",
     "text": [
      "  9%|▉         | 8.925000000000027/100 [00:15<02:41,  1.77s/it]"
     ]
    },
    {
     "name": "stdout",
     "output_type": "stream",
     "text": [
      "\n",
      "Test Epoch: 9\tAccuracy: 2062/2337 (88%)\n",
      "\n"
     ]
    },
    {
     "name": "stderr",
     "output_type": "stream",
     "text": [
      "  9%|▉         | 9.012500000000022/100 [00:15<03:01,  2.00s/it]"
     ]
    },
    {
     "name": "stdout",
     "output_type": "stream",
     "text": [
      "Train Epoch: 10 [0/17825 (0%)]\tLoss: 0.253150\n"
     ]
    },
    {
     "name": "stderr",
     "output_type": "stream",
     "text": [
      "  9%|▉         | 9.387500000000001/100 [00:16<02:20,  1.55s/it]"
     ]
    },
    {
     "name": "stdout",
     "output_type": "stream",
     "text": [
      "Train Epoch: 10 [5120/17825 (29%)]\tLoss: 0.155883\n"
     ]
    },
    {
     "name": "stderr",
     "output_type": "stream",
     "text": [
      " 10%|▉         | 9.612499999999988/100 [00:16<02:14,  1.49s/it]"
     ]
    },
    {
     "name": "stdout",
     "output_type": "stream",
     "text": [
      "Train Epoch: 10 [10240/17825 (57%)]\tLoss: 0.127645\n"
     ]
    },
    {
     "name": "stderr",
     "output_type": "stream",
     "text": [
      " 10%|▉         | 9.849999999999975/100 [00:16<02:12,  1.47s/it]"
     ]
    },
    {
     "name": "stdout",
     "output_type": "stream",
     "text": [
      "Train Epoch: 10 [15360/17825 (86%)]\tLoss: 0.198191\n"
     ]
    },
    {
     "name": "stderr",
     "output_type": "stream",
     "text": [
      " 10%|▉         | 9.92499999999997/100 [00:16<02:39,  1.78s/it] "
     ]
    },
    {
     "name": "stdout",
     "output_type": "stream",
     "text": [
      "\n",
      "Test Epoch: 10\tAccuracy: 2003/2337 (86%)\n",
      "\n"
     ]
    },
    {
     "name": "stderr",
     "output_type": "stream",
     "text": [
      " 10%|█         | 10.012499999999966/100 [00:17<03:00,  2.01s/it]"
     ]
    },
    {
     "name": "stdout",
     "output_type": "stream",
     "text": [
      "Train Epoch: 11 [0/17825 (0%)]\tLoss: 0.210654\n"
     ]
    },
    {
     "name": "stderr",
     "output_type": "stream",
     "text": [
      " 10%|█         | 10.387499999999944/100 [00:17<02:19,  1.56s/it]"
     ]
    },
    {
     "name": "stdout",
     "output_type": "stream",
     "text": [
      "Train Epoch: 11 [5120/17825 (29%)]\tLoss: 0.185810\n"
     ]
    },
    {
     "name": "stderr",
     "output_type": "stream",
     "text": [
      " 11%|█         | 10.612499999999931/100 [00:18<02:14,  1.50s/it]"
     ]
    },
    {
     "name": "stdout",
     "output_type": "stream",
     "text": [
      "Train Epoch: 11 [10240/17825 (57%)]\tLoss: 0.172953\n"
     ]
    },
    {
     "name": "stderr",
     "output_type": "stream",
     "text": [
      " 11%|█         | 10.849999999999918/100 [00:18<02:10,  1.47s/it]"
     ]
    },
    {
     "name": "stdout",
     "output_type": "stream",
     "text": [
      "Train Epoch: 11 [15360/17825 (86%)]\tLoss: 0.225976\n"
     ]
    },
    {
     "name": "stderr",
     "output_type": "stream",
     "text": [
      " 11%|█         | 10.924999999999914/100 [00:18<02:37,  1.77s/it]"
     ]
    },
    {
     "name": "stdout",
     "output_type": "stream",
     "text": [
      "\n",
      "Test Epoch: 11\tAccuracy: 2084/2337 (89%)\n",
      "\n"
     ]
    },
    {
     "name": "stderr",
     "output_type": "stream",
     "text": [
      " 11%|█         | 11.012499999999909/100 [00:18<02:57,  2.00s/it]"
     ]
    },
    {
     "name": "stdout",
     "output_type": "stream",
     "text": [
      "Train Epoch: 12 [0/17825 (0%)]\tLoss: 0.184196\n"
     ]
    },
    {
     "name": "stderr",
     "output_type": "stream",
     "text": [
      " 11%|█▏        | 11.399999999999887/100 [00:19<02:16,  1.54s/it]"
     ]
    },
    {
     "name": "stdout",
     "output_type": "stream",
     "text": [
      "Train Epoch: 12 [5120/17825 (29%)]\tLoss: 0.176386\n"
     ]
    },
    {
     "name": "stderr",
     "output_type": "stream",
     "text": [
      " 12%|█▏        | 11.624999999999874/100 [00:19<02:11,  1.49s/it]"
     ]
    },
    {
     "name": "stdout",
     "output_type": "stream",
     "text": [
      "Train Epoch: 12 [10240/17825 (57%)]\tLoss: 0.170085\n"
     ]
    },
    {
     "name": "stderr",
     "output_type": "stream",
     "text": [
      " 12%|█▏        | 11.849999999999861/100 [00:19<02:09,  1.47s/it]"
     ]
    },
    {
     "name": "stdout",
     "output_type": "stream",
     "text": [
      "Train Epoch: 12 [15360/17825 (86%)]\tLoss: 0.152959\n"
     ]
    },
    {
     "name": "stderr",
     "output_type": "stream",
     "text": [
      " 12%|█▏        | 11.924999999999857/100 [00:20<02:37,  1.79s/it]"
     ]
    },
    {
     "name": "stdout",
     "output_type": "stream",
     "text": [
      "\n",
      "Test Epoch: 12\tAccuracy: 1862/2337 (80%)\n",
      "\n"
     ]
    },
    {
     "name": "stderr",
     "output_type": "stream",
     "text": [
      " 12%|█▏        | 12.012499999999852/100 [00:20<02:56,  2.00s/it]"
     ]
    },
    {
     "name": "stdout",
     "output_type": "stream",
     "text": [
      "Train Epoch: 13 [0/17825 (0%)]\tLoss: 0.166119\n"
     ]
    },
    {
     "name": "stderr",
     "output_type": "stream",
     "text": [
      " 12%|█▏        | 12.39999999999983/100 [00:20<02:14,  1.54s/it] "
     ]
    },
    {
     "name": "stdout",
     "output_type": "stream",
     "text": [
      "Train Epoch: 13 [5120/17825 (29%)]\tLoss: 0.145981\n"
     ]
    },
    {
     "name": "stderr",
     "output_type": "stream",
     "text": [
      " 13%|█▎        | 12.624999999999817/100 [00:21<02:09,  1.49s/it]"
     ]
    },
    {
     "name": "stdout",
     "output_type": "stream",
     "text": [
      "Train Epoch: 13 [10240/17825 (57%)]\tLoss: 0.142744\n"
     ]
    },
    {
     "name": "stderr",
     "output_type": "stream",
     "text": [
      " 13%|█▎        | 12.849999999999804/100 [00:21<02:07,  1.47s/it]"
     ]
    },
    {
     "name": "stdout",
     "output_type": "stream",
     "text": [
      "Train Epoch: 13 [15360/17825 (86%)]\tLoss: 0.175408\n"
     ]
    },
    {
     "name": "stderr",
     "output_type": "stream",
     "text": [
      " 13%|█▎        | 12.9249999999998/100 [00:21<02:38,  1.82s/it]  "
     ]
    },
    {
     "name": "stdout",
     "output_type": "stream",
     "text": [
      "\n",
      "Test Epoch: 13\tAccuracy: 2080/2337 (89%)\n",
      "\n"
     ]
    },
    {
     "name": "stderr",
     "output_type": "stream",
     "text": [
      " 13%|█▎        | 13.012499999999795/100 [00:22<02:57,  2.04s/it]"
     ]
    },
    {
     "name": "stdout",
     "output_type": "stream",
     "text": [
      "Train Epoch: 14 [0/17825 (0%)]\tLoss: 0.163527\n"
     ]
    },
    {
     "name": "stderr",
     "output_type": "stream",
     "text": [
      " 13%|█▎        | 13.399999999999773/100 [00:22<02:15,  1.56s/it]"
     ]
    },
    {
     "name": "stdout",
     "output_type": "stream",
     "text": [
      "Train Epoch: 14 [5120/17825 (29%)]\tLoss: 0.168110\n"
     ]
    },
    {
     "name": "stderr",
     "output_type": "stream",
     "text": [
      " 14%|█▎        | 13.62499999999976/100 [00:22<02:09,  1.50s/it] "
     ]
    },
    {
     "name": "stdout",
     "output_type": "stream",
     "text": [
      "Train Epoch: 14 [10240/17825 (57%)]\tLoss: 0.196185\n"
     ]
    },
    {
     "name": "stderr",
     "output_type": "stream",
     "text": [
      " 14%|█▍        | 13.849999999999747/100 [00:23<02:07,  1.48s/it]"
     ]
    },
    {
     "name": "stdout",
     "output_type": "stream",
     "text": [
      "Train Epoch: 14 [15360/17825 (86%)]\tLoss: 0.149887\n"
     ]
    },
    {
     "name": "stderr",
     "output_type": "stream",
     "text": [
      " 14%|█▍        | 13.924999999999743/100 [00:23<02:36,  1.81s/it]"
     ]
    },
    {
     "name": "stdout",
     "output_type": "stream",
     "text": [
      "\n",
      "Test Epoch: 14\tAccuracy: 2085/2337 (89%)\n",
      "\n"
     ]
    },
    {
     "name": "stderr",
     "output_type": "stream",
     "text": [
      " 14%|█▍        | 14.012499999999738/100 [00:23<02:56,  2.05s/it]"
     ]
    },
    {
     "name": "stdout",
     "output_type": "stream",
     "text": [
      "Train Epoch: 15 [0/17825 (0%)]\tLoss: 0.155923\n"
     ]
    },
    {
     "name": "stderr",
     "output_type": "stream",
     "text": [
      " 14%|█▍        | 14.399999999999716/100 [00:24<02:13,  1.56s/it]"
     ]
    },
    {
     "name": "stdout",
     "output_type": "stream",
     "text": [
      "Train Epoch: 15 [5120/17825 (29%)]\tLoss: 0.180683\n"
     ]
    },
    {
     "name": "stderr",
     "output_type": "stream",
     "text": [
      " 15%|█▍        | 14.624999999999703/100 [00:24<02:07,  1.49s/it]"
     ]
    },
    {
     "name": "stdout",
     "output_type": "stream",
     "text": [
      "Train Epoch: 15 [10240/17825 (57%)]\tLoss: 0.143571\n"
     ]
    },
    {
     "name": "stderr",
     "output_type": "stream",
     "text": [
      " 15%|█▍        | 14.84999999999969/100 [00:24<02:05,  1.47s/it] "
     ]
    },
    {
     "name": "stdout",
     "output_type": "stream",
     "text": [
      "Train Epoch: 15 [15360/17825 (86%)]\tLoss: 0.121675\n"
     ]
    },
    {
     "name": "stderr",
     "output_type": "stream",
     "text": [
      " 15%|█▍        | 14.924999999999686/100 [00:25<02:31,  1.78s/it]"
     ]
    },
    {
     "name": "stdout",
     "output_type": "stream",
     "text": [
      "\n",
      "Test Epoch: 15\tAccuracy: 2063/2337 (88%)\n",
      "\n"
     ]
    },
    {
     "name": "stderr",
     "output_type": "stream",
     "text": [
      " 15%|█▌        | 15.012499999999681/100 [00:25<02:52,  2.03s/it]"
     ]
    },
    {
     "name": "stdout",
     "output_type": "stream",
     "text": [
      "Train Epoch: 16 [0/17825 (0%)]\tLoss: 0.174597\n"
     ]
    },
    {
     "name": "stderr",
     "output_type": "stream",
     "text": [
      " 15%|█▌        | 15.39999999999966/100 [00:25<02:11,  1.55s/it] "
     ]
    },
    {
     "name": "stdout",
     "output_type": "stream",
     "text": [
      "Train Epoch: 16 [5120/17825 (29%)]\tLoss: 0.161977\n"
     ]
    },
    {
     "name": "stderr",
     "output_type": "stream",
     "text": [
      " 16%|█▌        | 15.624999999999647/100 [00:26<02:05,  1.49s/it]"
     ]
    },
    {
     "name": "stdout",
     "output_type": "stream",
     "text": [
      "Train Epoch: 16 [10240/17825 (57%)]\tLoss: 0.164412\n"
     ]
    },
    {
     "name": "stderr",
     "output_type": "stream",
     "text": [
      " 16%|█▌        | 15.849999999999634/100 [00:26<02:03,  1.47s/it]"
     ]
    },
    {
     "name": "stdout",
     "output_type": "stream",
     "text": [
      "Train Epoch: 16 [15360/17825 (86%)]\tLoss: 0.184404\n"
     ]
    },
    {
     "name": "stderr",
     "output_type": "stream",
     "text": [
      " 16%|█▌        | 15.92499999999963/100 [00:26<02:30,  1.79s/it] "
     ]
    },
    {
     "name": "stdout",
     "output_type": "stream",
     "text": [
      "\n",
      "Test Epoch: 16\tAccuracy: 2082/2337 (89%)\n",
      "\n"
     ]
    },
    {
     "name": "stderr",
     "output_type": "stream",
     "text": [
      " 16%|█▌        | 16.012499999999626/100 [00:26<02:49,  2.02s/it]"
     ]
    },
    {
     "name": "stdout",
     "output_type": "stream",
     "text": [
      "Train Epoch: 17 [0/17825 (0%)]\tLoss: 0.150250\n"
     ]
    },
    {
     "name": "stderr",
     "output_type": "stream",
     "text": [
      " 16%|█▋        | 16.387499999999605/100 [00:27<02:10,  1.56s/it]"
     ]
    },
    {
     "name": "stdout",
     "output_type": "stream",
     "text": [
      "Train Epoch: 17 [5120/17825 (29%)]\tLoss: 0.193915\n"
     ]
    },
    {
     "name": "stderr",
     "output_type": "stream",
     "text": [
      " 17%|█▋        | 16.612499999999592/100 [00:27<02:04,  1.50s/it]"
     ]
    },
    {
     "name": "stdout",
     "output_type": "stream",
     "text": [
      "Train Epoch: 17 [10240/17825 (57%)]\tLoss: 0.175936\n"
     ]
    },
    {
     "name": "stderr",
     "output_type": "stream",
     "text": [
      " 17%|█▋        | 16.84999999999958/100 [00:28<02:02,  1.47s/it] "
     ]
    },
    {
     "name": "stdout",
     "output_type": "stream",
     "text": [
      "Train Epoch: 17 [15360/17825 (86%)]\tLoss: 0.192166\n"
     ]
    },
    {
     "name": "stderr",
     "output_type": "stream",
     "text": [
      " 17%|█▋        | 16.924999999999574/100 [00:28<02:26,  1.77s/it]"
     ]
    },
    {
     "name": "stdout",
     "output_type": "stream",
     "text": [
      "\n",
      "Test Epoch: 17\tAccuracy: 2094/2337 (90%)\n",
      "\n"
     ]
    },
    {
     "name": "stderr",
     "output_type": "stream",
     "text": [
      " 17%|█▋        | 17.01249999999957/100 [00:28<02:44,  1.98s/it] "
     ]
    },
    {
     "name": "stdout",
     "output_type": "stream",
     "text": [
      "Train Epoch: 18 [0/17825 (0%)]\tLoss: 0.147524\n"
     ]
    },
    {
     "name": "stderr",
     "output_type": "stream",
     "text": [
      " 17%|█▋        | 17.399999999999547/100 [00:29<02:07,  1.54s/it]"
     ]
    },
    {
     "name": "stdout",
     "output_type": "stream",
     "text": [
      "Train Epoch: 18 [5120/17825 (29%)]\tLoss: 0.174833\n"
     ]
    },
    {
     "name": "stderr",
     "output_type": "stream",
     "text": [
      " 18%|█▊        | 17.624999999999535/100 [00:29<02:02,  1.49s/it]"
     ]
    },
    {
     "name": "stdout",
     "output_type": "stream",
     "text": [
      "Train Epoch: 18 [10240/17825 (57%)]\tLoss: 0.178292\n"
     ]
    },
    {
     "name": "stderr",
     "output_type": "stream",
     "text": [
      " 18%|█▊        | 17.849999999999522/100 [00:29<02:01,  1.48s/it]"
     ]
    },
    {
     "name": "stdout",
     "output_type": "stream",
     "text": [
      "Train Epoch: 18 [15360/17825 (86%)]\tLoss: 0.139408\n"
     ]
    },
    {
     "name": "stderr",
     "output_type": "stream",
     "text": [
      " 18%|█▊        | 17.924999999999518/100 [00:29<02:26,  1.79s/it]"
     ]
    },
    {
     "name": "stdout",
     "output_type": "stream",
     "text": [
      "\n",
      "Test Epoch: 18\tAccuracy: 2100/2337 (90%)\n",
      "\n"
     ]
    },
    {
     "name": "stderr",
     "output_type": "stream",
     "text": [
      " 18%|█▊        | 18.012499999999513/100 [00:30<02:44,  2.01s/it]"
     ]
    },
    {
     "name": "stdout",
     "output_type": "stream",
     "text": [
      "Train Epoch: 19 [0/17825 (0%)]\tLoss: 0.139255\n"
     ]
    },
    {
     "name": "stderr",
     "output_type": "stream",
     "text": [
      " 18%|█▊        | 18.38749999999949/100 [00:30<02:08,  1.58s/it] "
     ]
    },
    {
     "name": "stdout",
     "output_type": "stream",
     "text": [
      "Train Epoch: 19 [5120/17825 (29%)]\tLoss: 0.137048\n"
     ]
    },
    {
     "name": "stderr",
     "output_type": "stream",
     "text": [
      " 19%|█▊        | 18.61249999999948/100 [00:31<02:04,  1.53s/it] "
     ]
    },
    {
     "name": "stdout",
     "output_type": "stream",
     "text": [
      "Train Epoch: 19 [10240/17825 (57%)]\tLoss: 0.117479\n"
     ]
    },
    {
     "name": "stderr",
     "output_type": "stream",
     "text": [
      " 19%|█▉        | 18.849999999999465/100 [00:31<02:01,  1.50s/it]"
     ]
    },
    {
     "name": "stdout",
     "output_type": "stream",
     "text": [
      "Train Epoch: 19 [15360/17825 (86%)]\tLoss: 0.113417\n"
     ]
    },
    {
     "name": "stderr",
     "output_type": "stream",
     "text": [
      " 19%|█▉        | 18.92499999999946/100 [00:31<02:23,  1.77s/it] "
     ]
    },
    {
     "name": "stdout",
     "output_type": "stream",
     "text": [
      "\n",
      "Test Epoch: 19\tAccuracy: 2082/2337 (89%)\n",
      "\n"
     ]
    },
    {
     "name": "stderr",
     "output_type": "stream",
     "text": [
      " 19%|█▉        | 19.012499999999456/100 [00:31<02:42,  2.01s/it]"
     ]
    },
    {
     "name": "stdout",
     "output_type": "stream",
     "text": [
      "Train Epoch: 20 [0/17825 (0%)]\tLoss: 0.131789\n"
     ]
    },
    {
     "name": "stderr",
     "output_type": "stream",
     "text": [
      " 19%|█▉        | 19.387499999999434/100 [00:32<02:05,  1.56s/it]"
     ]
    },
    {
     "name": "stdout",
     "output_type": "stream",
     "text": [
      "Train Epoch: 20 [5120/17825 (29%)]\tLoss: 0.103391\n"
     ]
    },
    {
     "name": "stderr",
     "output_type": "stream",
     "text": [
      " 20%|█▉        | 19.61249999999942/100 [00:32<02:01,  1.51s/it] "
     ]
    },
    {
     "name": "stdout",
     "output_type": "stream",
     "text": [
      "Train Epoch: 20 [10240/17825 (57%)]\tLoss: 0.094697\n"
     ]
    },
    {
     "name": "stderr",
     "output_type": "stream",
     "text": [
      " 20%|█▉        | 19.849999999999408/100 [00:33<01:57,  1.47s/it]"
     ]
    },
    {
     "name": "stdout",
     "output_type": "stream",
     "text": [
      "Train Epoch: 20 [15360/17825 (86%)]\tLoss: 0.208070\n"
     ]
    },
    {
     "name": "stderr",
     "output_type": "stream",
     "text": [
      " 20%|█▉        | 19.924999999999404/100 [00:33<02:22,  1.78s/it]"
     ]
    },
    {
     "name": "stdout",
     "output_type": "stream",
     "text": [
      "\n",
      "Test Epoch: 20\tAccuracy: 2100/2337 (90%)\n",
      "\n"
     ]
    },
    {
     "name": "stderr",
     "output_type": "stream",
     "text": [
      " 20%|██        | 20.0124999999994/100 [00:33<02:41,  2.02s/it]  "
     ]
    },
    {
     "name": "stdout",
     "output_type": "stream",
     "text": [
      "Train Epoch: 21 [0/17825 (0%)]\tLoss: 0.078692\n"
     ]
    },
    {
     "name": "stderr",
     "output_type": "stream",
     "text": [
      " 20%|██        | 20.399999999999377/100 [00:34<02:03,  1.56s/it]"
     ]
    },
    {
     "name": "stdout",
     "output_type": "stream",
     "text": [
      "Train Epoch: 21 [5120/17825 (29%)]\tLoss: 0.082041\n"
     ]
    },
    {
     "name": "stderr",
     "output_type": "stream",
     "text": [
      " 21%|██        | 20.624999999999364/100 [00:34<01:59,  1.50s/it]"
     ]
    },
    {
     "name": "stdout",
     "output_type": "stream",
     "text": [
      "Train Epoch: 21 [10240/17825 (57%)]\tLoss: 0.073658\n"
     ]
    },
    {
     "name": "stderr",
     "output_type": "stream",
     "text": [
      " 21%|██        | 20.84999999999935/100 [00:34<01:56,  1.47s/it] "
     ]
    },
    {
     "name": "stdout",
     "output_type": "stream",
     "text": [
      "Train Epoch: 21 [15360/17825 (86%)]\tLoss: 0.103102\n"
     ]
    },
    {
     "name": "stderr",
     "output_type": "stream",
     "text": [
      " 21%|██        | 20.924999999999347/100 [00:34<02:21,  1.80s/it]"
     ]
    },
    {
     "name": "stdout",
     "output_type": "stream",
     "text": [
      "\n",
      "Test Epoch: 21\tAccuracy: 2157/2337 (92%)\n",
      "\n"
     ]
    },
    {
     "name": "stderr",
     "output_type": "stream",
     "text": [
      " 21%|██        | 21.012499999999342/100 [00:35<02:40,  2.03s/it]"
     ]
    },
    {
     "name": "stdout",
     "output_type": "stream",
     "text": [
      "Train Epoch: 22 [0/17825 (0%)]\tLoss: 0.099143\n"
     ]
    },
    {
     "name": "stderr",
     "output_type": "stream",
     "text": [
      " 21%|██▏       | 21.38749999999932/100 [00:35<02:04,  1.58s/it] "
     ]
    },
    {
     "name": "stdout",
     "output_type": "stream",
     "text": [
      "Train Epoch: 22 [5120/17825 (29%)]\tLoss: 0.065566\n"
     ]
    },
    {
     "name": "stderr",
     "output_type": "stream",
     "text": [
      " 22%|██▏       | 21.612499999999308/100 [00:35<02:00,  1.54s/it]"
     ]
    },
    {
     "name": "stdout",
     "output_type": "stream",
     "text": [
      "Train Epoch: 22 [10240/17825 (57%)]\tLoss: 0.069638\n"
     ]
    },
    {
     "name": "stderr",
     "output_type": "stream",
     "text": [
      " 22%|██▏       | 21.837499999999295/100 [00:36<01:57,  1.50s/it]"
     ]
    },
    {
     "name": "stdout",
     "output_type": "stream",
     "text": [
      "Train Epoch: 22 [15360/17825 (86%)]\tLoss: 0.089048\n"
     ]
    },
    {
     "name": "stderr",
     "output_type": "stream",
     "text": [
      " 22%|██▏       | 21.987499999999287/100 [00:36<02:11,  1.68s/it]"
     ]
    },
    {
     "name": "stdout",
     "output_type": "stream",
     "text": [
      "\n",
      "Test Epoch: 22\tAccuracy: 2159/2337 (92%)\n",
      "\n"
     ]
    },
    {
     "name": "stderr",
     "output_type": "stream",
     "text": [
      " 22%|██▏       | 22.062499999999282/100 [00:36<02:34,  1.98s/it]"
     ]
    },
    {
     "name": "stdout",
     "output_type": "stream",
     "text": [
      "Train Epoch: 23 [0/17825 (0%)]\tLoss: 0.101953\n"
     ]
    },
    {
     "name": "stderr",
     "output_type": "stream",
     "text": [
      " 22%|██▏       | 22.362499999999265/100 [00:37<02:03,  1.59s/it]"
     ]
    },
    {
     "name": "stdout",
     "output_type": "stream",
     "text": [
      "Train Epoch: 23 [5120/17825 (29%)]\tLoss: 0.064234\n"
     ]
    },
    {
     "name": "stderr",
     "output_type": "stream",
     "text": [
      " 23%|██▎       | 22.599999999999252/100 [00:37<01:54,  1.49s/it]"
     ]
    },
    {
     "name": "stdout",
     "output_type": "stream",
     "text": [
      "Train Epoch: 23 [10240/17825 (57%)]\tLoss: 0.060565\n"
     ]
    },
    {
     "name": "stderr",
     "output_type": "stream",
     "text": [
      " 23%|██▎       | 22.82499999999924/100 [00:37<01:53,  1.46s/it] "
     ]
    },
    {
     "name": "stdout",
     "output_type": "stream",
     "text": [
      "Train Epoch: 23 [15360/17825 (86%)]\tLoss: 0.080177\n"
     ]
    },
    {
     "name": "stderr",
     "output_type": "stream",
     "text": [
      " 23%|██▎       | 22.99999999999923/100 [00:38<01:58,  1.54s/it] "
     ]
    },
    {
     "name": "stdout",
     "output_type": "stream",
     "text": [
      "\n",
      "Test Epoch: 23\tAccuracy: 2161/2337 (92%)\n",
      "\n",
      "Train Epoch: 24 [0/17825 (0%)]\tLoss: 0.066574\n"
     ]
    },
    {
     "name": "stderr",
     "output_type": "stream",
     "text": [
      " 23%|██▎       | 23.374999999999208/100 [00:38<02:01,  1.58s/it]"
     ]
    },
    {
     "name": "stdout",
     "output_type": "stream",
     "text": [
      "Train Epoch: 24 [5120/17825 (29%)]\tLoss: 0.062559\n"
     ]
    },
    {
     "name": "stderr",
     "output_type": "stream",
     "text": [
      " 24%|██▎       | 23.599999999999195/100 [00:39<01:56,  1.52s/it]"
     ]
    },
    {
     "name": "stdout",
     "output_type": "stream",
     "text": [
      "Train Epoch: 24 [10240/17825 (57%)]\tLoss: 0.051114\n"
     ]
    },
    {
     "name": "stderr",
     "output_type": "stream",
     "text": [
      " 24%|██▍       | 23.824999999999182/100 [00:39<01:53,  1.49s/it]"
     ]
    },
    {
     "name": "stdout",
     "output_type": "stream",
     "text": [
      "Train Epoch: 24 [15360/17825 (86%)]\tLoss: 0.104054\n"
     ]
    },
    {
     "name": "stderr",
     "output_type": "stream",
     "text": [
      " 24%|██▍       | 23.987499999999173/100 [00:39<02:03,  1.63s/it]"
     ]
    },
    {
     "name": "stdout",
     "output_type": "stream",
     "text": [
      "\n",
      "Test Epoch: 24\tAccuracy: 2171/2337 (93%)\n",
      "\n"
     ]
    },
    {
     "name": "stderr",
     "output_type": "stream",
     "text": [
      " 24%|██▍       | 24.06249999999917/100 [00:40<02:27,  1.95s/it] "
     ]
    },
    {
     "name": "stdout",
     "output_type": "stream",
     "text": [
      "Train Epoch: 25 [0/17825 (0%)]\tLoss: 0.048982\n"
     ]
    },
    {
     "name": "stderr",
     "output_type": "stream",
     "text": [
      " 24%|██▍       | 24.36249999999915/100 [00:40<02:00,  1.60s/it] "
     ]
    },
    {
     "name": "stdout",
     "output_type": "stream",
     "text": [
      "Train Epoch: 25 [5120/17825 (29%)]\tLoss: 0.051586\n"
     ]
    },
    {
     "name": "stderr",
     "output_type": "stream",
     "text": [
      " 25%|██▍       | 24.599999999999138/100 [00:40<01:53,  1.51s/it]"
     ]
    },
    {
     "name": "stdout",
     "output_type": "stream",
     "text": [
      "Train Epoch: 25 [10240/17825 (57%)]\tLoss: 0.057238\n"
     ]
    },
    {
     "name": "stderr",
     "output_type": "stream",
     "text": [
      " 25%|██▍       | 24.824999999999125/100 [00:41<01:52,  1.49s/it]"
     ]
    },
    {
     "name": "stdout",
     "output_type": "stream",
     "text": [
      "Train Epoch: 25 [15360/17825 (86%)]\tLoss: 0.050866\n"
     ]
    },
    {
     "name": "stderr",
     "output_type": "stream",
     "text": [
      " 25%|██▍       | 24.987499999999116/100 [00:41<02:02,  1.64s/it]"
     ]
    },
    {
     "name": "stdout",
     "output_type": "stream",
     "text": [
      "\n",
      "Test Epoch: 25\tAccuracy: 2167/2337 (93%)\n",
      "\n"
     ]
    },
    {
     "name": "stderr",
     "output_type": "stream",
     "text": [
      " 25%|██▌       | 25.062499999999112/100 [00:41<02:24,  1.93s/it]"
     ]
    },
    {
     "name": "stdout",
     "output_type": "stream",
     "text": [
      "Train Epoch: 26 [0/17825 (0%)]\tLoss: 0.052107\n"
     ]
    },
    {
     "name": "stderr",
     "output_type": "stream",
     "text": [
      " 25%|██▌       | 25.362499999999095/100 [00:42<01:58,  1.59s/it]"
     ]
    },
    {
     "name": "stdout",
     "output_type": "stream",
     "text": [
      "Train Epoch: 26 [5120/17825 (29%)]\tLoss: 0.077641\n"
     ]
    },
    {
     "name": "stderr",
     "output_type": "stream",
     "text": [
      " 26%|██▌       | 25.59999999999908/100 [00:42<01:51,  1.50s/it] "
     ]
    },
    {
     "name": "stdout",
     "output_type": "stream",
     "text": [
      "Train Epoch: 26 [10240/17825 (57%)]\tLoss: 0.070068\n"
     ]
    },
    {
     "name": "stderr",
     "output_type": "stream",
     "text": [
      " 26%|██▌       | 25.82499999999907/100 [00:42<01:50,  1.48s/it] "
     ]
    },
    {
     "name": "stdout",
     "output_type": "stream",
     "text": [
      "Train Epoch: 26 [15360/17825 (86%)]\tLoss: 0.060950\n"
     ]
    },
    {
     "name": "stderr",
     "output_type": "stream",
     "text": [
      " 26%|██▌       | 25.98749999999906/100 [00:43<01:59,  1.61s/it] "
     ]
    },
    {
     "name": "stdout",
     "output_type": "stream",
     "text": [
      "\n",
      "Test Epoch: 26\tAccuracy: 2171/2337 (93%)\n",
      "\n"
     ]
    },
    {
     "name": "stderr",
     "output_type": "stream",
     "text": [
      " 26%|██▌       | 26.062499999999055/100 [00:43<02:20,  1.90s/it]"
     ]
    },
    {
     "name": "stdout",
     "output_type": "stream",
     "text": [
      "Train Epoch: 27 [0/17825 (0%)]\tLoss: 0.052263\n"
     ]
    },
    {
     "name": "stderr",
     "output_type": "stream",
     "text": [
      " 26%|██▋       | 26.362499999999038/100 [00:43<01:56,  1.58s/it]"
     ]
    },
    {
     "name": "stdout",
     "output_type": "stream",
     "text": [
      "Train Epoch: 27 [5120/17825 (29%)]\tLoss: 0.052077\n"
     ]
    },
    {
     "name": "stderr",
     "output_type": "stream",
     "text": [
      " 27%|██▋       | 26.587499999999025/100 [00:44<01:50,  1.51s/it]"
     ]
    },
    {
     "name": "stdout",
     "output_type": "stream",
     "text": [
      "Train Epoch: 27 [10240/17825 (57%)]\tLoss: 0.050642\n"
     ]
    },
    {
     "name": "stderr",
     "output_type": "stream",
     "text": [
      " 27%|██▋       | 26.812499999999012/100 [00:44<01:49,  1.49s/it]"
     ]
    },
    {
     "name": "stdout",
     "output_type": "stream",
     "text": [
      "Train Epoch: 27 [15360/17825 (86%)]\tLoss: 0.046303\n"
     ]
    },
    {
     "name": "stderr",
     "output_type": "stream",
     "text": [
      " 27%|██▋       | 26.987499999999002/100 [00:44<01:57,  1.60s/it]"
     ]
    },
    {
     "name": "stdout",
     "output_type": "stream",
     "text": [
      "\n",
      "Test Epoch: 27\tAccuracy: 2166/2337 (93%)\n",
      "\n"
     ]
    },
    {
     "name": "stderr",
     "output_type": "stream",
     "text": [
      " 27%|██▋       | 27.062499999998998/100 [00:44<02:19,  1.91s/it]"
     ]
    },
    {
     "name": "stdout",
     "output_type": "stream",
     "text": [
      "Train Epoch: 28 [0/17825 (0%)]\tLoss: 0.054291\n"
     ]
    },
    {
     "name": "stderr",
     "output_type": "stream",
     "text": [
      " 27%|██▋       | 27.36249999999898/100 [00:45<01:55,  1.59s/it] "
     ]
    },
    {
     "name": "stdout",
     "output_type": "stream",
     "text": [
      "Train Epoch: 28 [5120/17825 (29%)]\tLoss: 0.059898\n"
     ]
    },
    {
     "name": "stderr",
     "output_type": "stream",
     "text": [
      " 28%|██▊       | 27.599999999998968/100 [00:45<01:48,  1.50s/it]"
     ]
    },
    {
     "name": "stdout",
     "output_type": "stream",
     "text": [
      "Train Epoch: 28 [10240/17825 (57%)]\tLoss: 0.076581\n"
     ]
    },
    {
     "name": "stderr",
     "output_type": "stream",
     "text": [
      " 28%|██▊       | 27.824999999998955/100 [00:46<01:47,  1.49s/it]"
     ]
    },
    {
     "name": "stdout",
     "output_type": "stream",
     "text": [
      "Train Epoch: 28 [15360/17825 (86%)]\tLoss: 0.045083\n"
     ]
    },
    {
     "name": "stderr",
     "output_type": "stream",
     "text": [
      " 28%|██▊       | 27.987499999998946/100 [00:46<01:57,  1.63s/it]"
     ]
    },
    {
     "name": "stdout",
     "output_type": "stream",
     "text": [
      "\n",
      "Test Epoch: 28\tAccuracy: 2171/2337 (93%)\n",
      "\n"
     ]
    },
    {
     "name": "stderr",
     "output_type": "stream",
     "text": [
      " 28%|██▊       | 28.06249999999894/100 [00:46<02:18,  1.92s/it] "
     ]
    },
    {
     "name": "stdout",
     "output_type": "stream",
     "text": [
      "Train Epoch: 29 [0/17825 (0%)]\tLoss: 0.073977\n"
     ]
    },
    {
     "name": "stderr",
     "output_type": "stream",
     "text": [
      " 28%|██▊       | 28.362499999998924/100 [00:47<01:53,  1.58s/it]"
     ]
    },
    {
     "name": "stdout",
     "output_type": "stream",
     "text": [
      "Train Epoch: 29 [5120/17825 (29%)]\tLoss: 0.065363\n"
     ]
    },
    {
     "name": "stderr",
     "output_type": "stream",
     "text": [
      " 29%|██▊       | 28.59999999999891/100 [00:47<01:46,  1.49s/it] "
     ]
    },
    {
     "name": "stdout",
     "output_type": "stream",
     "text": [
      "Train Epoch: 29 [10240/17825 (57%)]\tLoss: 0.074050\n"
     ]
    },
    {
     "name": "stderr",
     "output_type": "stream",
     "text": [
      " 29%|██▉       | 28.824999999998898/100 [00:47<01:44,  1.47s/it]"
     ]
    },
    {
     "name": "stdout",
     "output_type": "stream",
     "text": [
      "Train Epoch: 29 [15360/17825 (86%)]\tLoss: 0.055465\n"
     ]
    },
    {
     "name": "stderr",
     "output_type": "stream",
     "text": [
      " 29%|██▉       | 28.899999999998894/100 [00:47<02:10,  1.83s/it]"
     ]
    },
    {
     "name": "stdout",
     "output_type": "stream",
     "text": [
      "\n",
      "Test Epoch: 29\tAccuracy: 2166/2337 (93%)\n",
      "\n"
     ]
    },
    {
     "name": "stderr",
     "output_type": "stream",
     "text": [
      " 29%|██▉       | 29.012499999998887/100 [00:48<02:16,  1.92s/it]"
     ]
    },
    {
     "name": "stdout",
     "output_type": "stream",
     "text": [
      "Train Epoch: 30 [0/17825 (0%)]\tLoss: 0.055058\n"
     ]
    },
    {
     "name": "stderr",
     "output_type": "stream",
     "text": [
      " 29%|██▉       | 29.374999999998867/100 [00:48<01:49,  1.55s/it]"
     ]
    },
    {
     "name": "stdout",
     "output_type": "stream",
     "text": [
      "Train Epoch: 30 [5120/17825 (29%)]\tLoss: 0.073096\n"
     ]
    },
    {
     "name": "stderr",
     "output_type": "stream",
     "text": [
      " 30%|██▉       | 29.599999999998854/100 [00:49<01:44,  1.49s/it]"
     ]
    },
    {
     "name": "stdout",
     "output_type": "stream",
     "text": [
      "Train Epoch: 30 [10240/17825 (57%)]\tLoss: 0.055960\n"
     ]
    },
    {
     "name": "stderr",
     "output_type": "stream",
     "text": [
      " 30%|██▉       | 29.82499999999884/100 [00:49<01:43,  1.47s/it] "
     ]
    },
    {
     "name": "stdout",
     "output_type": "stream",
     "text": [
      "Train Epoch: 30 [15360/17825 (86%)]\tLoss: 0.067897\n"
     ]
    },
    {
     "name": "stderr",
     "output_type": "stream",
     "text": [
      " 30%|██▉       | 29.987499999998832/100 [00:49<01:52,  1.61s/it]"
     ]
    },
    {
     "name": "stdout",
     "output_type": "stream",
     "text": [
      "\n",
      "Test Epoch: 30\tAccuracy: 2166/2337 (93%)\n",
      "\n"
     ]
    },
    {
     "name": "stderr",
     "output_type": "stream",
     "text": [
      " 30%|███       | 30.062499999998828/100 [00:49<02:15,  1.93s/it]"
     ]
    },
    {
     "name": "stdout",
     "output_type": "stream",
     "text": [
      "Train Epoch: 31 [0/17825 (0%)]\tLoss: 0.070602\n"
     ]
    },
    {
     "name": "stderr",
     "output_type": "stream",
     "text": [
      " 30%|███       | 30.36249999999881/100 [00:50<01:49,  1.58s/it] "
     ]
    },
    {
     "name": "stdout",
     "output_type": "stream",
     "text": [
      "Train Epoch: 31 [5120/17825 (29%)]\tLoss: 0.069418\n"
     ]
    },
    {
     "name": "stderr",
     "output_type": "stream",
     "text": [
      " 31%|███       | 30.599999999998797/100 [00:50<01:43,  1.49s/it]"
     ]
    },
    {
     "name": "stdout",
     "output_type": "stream",
     "text": [
      "Train Epoch: 31 [10240/17825 (57%)]\tLoss: 0.065355\n"
     ]
    },
    {
     "name": "stderr",
     "output_type": "stream",
     "text": [
      " 31%|███       | 30.824999999998784/100 [00:50<01:42,  1.49s/it]"
     ]
    },
    {
     "name": "stdout",
     "output_type": "stream",
     "text": [
      "Train Epoch: 31 [15360/17825 (86%)]\tLoss: 0.070911\n"
     ]
    },
    {
     "name": "stderr",
     "output_type": "stream",
     "text": [
      " 31%|███       | 30.999999999998774/100 [00:51<01:46,  1.54s/it]"
     ]
    },
    {
     "name": "stdout",
     "output_type": "stream",
     "text": [
      "\n",
      "Test Epoch: 31\tAccuracy: 2157/2337 (92%)\n",
      "\n",
      "Train Epoch: 32 [0/17825 (0%)]\tLoss: 0.043318\n"
     ]
    },
    {
     "name": "stderr",
     "output_type": "stream",
     "text": [
      " 31%|███▏      | 31.374999999998753/100 [00:51<01:49,  1.59s/it]"
     ]
    },
    {
     "name": "stdout",
     "output_type": "stream",
     "text": [
      "Train Epoch: 32 [5120/17825 (29%)]\tLoss: 0.047964\n"
     ]
    },
    {
     "name": "stderr",
     "output_type": "stream",
     "text": [
      " 32%|███▏      | 31.59999999999874/100 [00:52<01:44,  1.52s/it] "
     ]
    },
    {
     "name": "stdout",
     "output_type": "stream",
     "text": [
      "Train Epoch: 32 [10240/17825 (57%)]\tLoss: 0.050696\n"
     ]
    },
    {
     "name": "stderr",
     "output_type": "stream",
     "text": [
      " 32%|███▏      | 31.824999999998727/100 [00:52<01:42,  1.50s/it]"
     ]
    },
    {
     "name": "stdout",
     "output_type": "stream",
     "text": [
      "Train Epoch: 32 [15360/17825 (86%)]\tLoss: 0.057415\n"
     ]
    },
    {
     "name": "stderr",
     "output_type": "stream",
     "text": [
      " 32%|███▏      | 31.987499999998718/100 [00:52<01:50,  1.63s/it]"
     ]
    },
    {
     "name": "stdout",
     "output_type": "stream",
     "text": [
      "\n",
      "Test Epoch: 32\tAccuracy: 2161/2337 (92%)\n",
      "\n"
     ]
    },
    {
     "name": "stderr",
     "output_type": "stream",
     "text": [
      " 32%|███▏      | 32.06249999999873/100 [00:53<02:11,  1.94s/it] "
     ]
    },
    {
     "name": "stdout",
     "output_type": "stream",
     "text": [
      "Train Epoch: 33 [0/17825 (0%)]\tLoss: 0.051296\n"
     ]
    },
    {
     "name": "stderr",
     "output_type": "stream",
     "text": [
      " 32%|███▏      | 32.362499999998796/100 [00:53<01:47,  1.59s/it]"
     ]
    },
    {
     "name": "stdout",
     "output_type": "stream",
     "text": [
      "Train Epoch: 33 [5120/17825 (29%)]\tLoss: 0.072447\n"
     ]
    },
    {
     "name": "stderr",
     "output_type": "stream",
     "text": [
      " 33%|███▎      | 32.59999999999885/100 [00:53<01:41,  1.51s/it] "
     ]
    },
    {
     "name": "stdout",
     "output_type": "stream",
     "text": [
      "Train Epoch: 33 [10240/17825 (57%)]\tLoss: 0.068428\n"
     ]
    },
    {
     "name": "stderr",
     "output_type": "stream",
     "text": [
      " 33%|███▎      | 32.8249999999989/100 [00:54<01:40,  1.50s/it]  "
     ]
    },
    {
     "name": "stdout",
     "output_type": "stream",
     "text": [
      "Train Epoch: 33 [15360/17825 (86%)]\tLoss: 0.071495\n"
     ]
    },
    {
     "name": "stderr",
     "output_type": "stream",
     "text": [
      " 33%|███▎      | 32.99999999999894/100 [00:54<01:44,  1.55s/it]"
     ]
    },
    {
     "name": "stdout",
     "output_type": "stream",
     "text": [
      "\n",
      "Test Epoch: 33\tAccuracy: 2165/2337 (93%)\n",
      "\n",
      "Train Epoch: 34 [0/17825 (0%)]\tLoss: 0.042990\n"
     ]
    },
    {
     "name": "stderr",
     "output_type": "stream",
     "text": [
      " 33%|███▎      | 33.37499999999903/100 [00:55<01:45,  1.59s/it] "
     ]
    },
    {
     "name": "stdout",
     "output_type": "stream",
     "text": [
      "Train Epoch: 34 [5120/17825 (29%)]\tLoss: 0.038043\n"
     ]
    },
    {
     "name": "stderr",
     "output_type": "stream",
     "text": [
      " 34%|███▎      | 33.59999999999908/100 [00:55<01:40,  1.51s/it] "
     ]
    },
    {
     "name": "stdout",
     "output_type": "stream",
     "text": [
      "Train Epoch: 34 [10240/17825 (57%)]\tLoss: 0.042398\n"
     ]
    },
    {
     "name": "stderr",
     "output_type": "stream",
     "text": [
      " 34%|███▍      | 33.82499999999913/100 [00:55<01:38,  1.49s/it] "
     ]
    },
    {
     "name": "stdout",
     "output_type": "stream",
     "text": [
      "Train Epoch: 34 [15360/17825 (86%)]\tLoss: 0.084160\n"
     ]
    },
    {
     "name": "stderr",
     "output_type": "stream",
     "text": [
      " 34%|███▍      | 33.987499999999166/100 [00:56<01:48,  1.64s/it]"
     ]
    },
    {
     "name": "stdout",
     "output_type": "stream",
     "text": [
      "\n",
      "Test Epoch: 34\tAccuracy: 2156/2337 (92%)\n",
      "\n"
     ]
    },
    {
     "name": "stderr",
     "output_type": "stream",
     "text": [
      " 34%|███▍      | 34.06249999999918/100 [00:56<02:08,  1.95s/it] "
     ]
    },
    {
     "name": "stdout",
     "output_type": "stream",
     "text": [
      "Train Epoch: 35 [0/17825 (0%)]\tLoss: 0.027286\n"
     ]
    },
    {
     "name": "stderr",
     "output_type": "stream",
     "text": [
      " 34%|███▍      | 34.36249999999925/100 [00:56<01:44,  1.59s/it] "
     ]
    },
    {
     "name": "stdout",
     "output_type": "stream",
     "text": [
      "Train Epoch: 35 [5120/17825 (29%)]\tLoss: 0.035608\n"
     ]
    },
    {
     "name": "stderr",
     "output_type": "stream",
     "text": [
      " 35%|███▍      | 34.599999999999305/100 [00:57<01:37,  1.49s/it]"
     ]
    },
    {
     "name": "stdout",
     "output_type": "stream",
     "text": [
      "Train Epoch: 35 [10240/17825 (57%)]\tLoss: 0.078858\n"
     ]
    },
    {
     "name": "stderr",
     "output_type": "stream",
     "text": [
      " 35%|███▍      | 34.824999999999356/100 [00:57<01:36,  1.49s/it]"
     ]
    },
    {
     "name": "stdout",
     "output_type": "stream",
     "text": [
      "Train Epoch: 35 [15360/17825 (86%)]\tLoss: 0.058172\n"
     ]
    },
    {
     "name": "stderr",
     "output_type": "stream",
     "text": [
      " 35%|███▍      | 34.98749999999939/100 [00:57<01:45,  1.62s/it] "
     ]
    },
    {
     "name": "stdout",
     "output_type": "stream",
     "text": [
      "\n",
      "Test Epoch: 35\tAccuracy: 2164/2337 (93%)\n",
      "\n"
     ]
    },
    {
     "name": "stderr",
     "output_type": "stream",
     "text": [
      " 35%|███▌      | 35.06249999999941/100 [00:58<02:04,  1.92s/it]"
     ]
    },
    {
     "name": "stdout",
     "output_type": "stream",
     "text": [
      "Train Epoch: 36 [0/17825 (0%)]\tLoss: 0.050582\n"
     ]
    },
    {
     "name": "stderr",
     "output_type": "stream",
     "text": [
      " 35%|███▌      | 35.36249999999948/100 [00:58<01:42,  1.59s/it] "
     ]
    },
    {
     "name": "stdout",
     "output_type": "stream",
     "text": [
      "Train Epoch: 36 [5120/17825 (29%)]\tLoss: 0.051116\n"
     ]
    },
    {
     "name": "stderr",
     "output_type": "stream",
     "text": [
      " 36%|███▌      | 35.59999999999953/100 [00:58<01:36,  1.50s/it] "
     ]
    },
    {
     "name": "stdout",
     "output_type": "stream",
     "text": [
      "Train Epoch: 36 [10240/17825 (57%)]\tLoss: 0.047574\n"
     ]
    },
    {
     "name": "stderr",
     "output_type": "stream",
     "text": [
      " 36%|███▌      | 35.824999999999584/100 [00:59<01:35,  1.48s/it]"
     ]
    },
    {
     "name": "stdout",
     "output_type": "stream",
     "text": [
      "Train Epoch: 36 [15360/17825 (86%)]\tLoss: 0.076651\n"
     ]
    },
    {
     "name": "stderr",
     "output_type": "stream",
     "text": [
      " 36%|███▌      | 35.98749999999962/100 [00:59<01:44,  1.63s/it] "
     ]
    },
    {
     "name": "stdout",
     "output_type": "stream",
     "text": [
      "\n",
      "Test Epoch: 36\tAccuracy: 2163/2337 (93%)\n",
      "\n"
     ]
    },
    {
     "name": "stderr",
     "output_type": "stream",
     "text": [
      " 36%|███▌      | 36.06249999999964/100 [00:59<02:03,  1.93s/it]"
     ]
    },
    {
     "name": "stdout",
     "output_type": "stream",
     "text": [
      "Train Epoch: 37 [0/17825 (0%)]\tLoss: 0.022259\n"
     ]
    },
    {
     "name": "stderr",
     "output_type": "stream",
     "text": [
      " 36%|███▋      | 36.362499999999706/100 [01:00<01:41,  1.59s/it]"
     ]
    },
    {
     "name": "stdout",
     "output_type": "stream",
     "text": [
      "Train Epoch: 37 [5120/17825 (29%)]\tLoss: 0.077504\n"
     ]
    },
    {
     "name": "stderr",
     "output_type": "stream",
     "text": [
      " 37%|███▋      | 36.59999999999976/100 [01:00<01:35,  1.50s/it] "
     ]
    },
    {
     "name": "stdout",
     "output_type": "stream",
     "text": [
      "Train Epoch: 37 [10240/17825 (57%)]\tLoss: 0.031524\n"
     ]
    },
    {
     "name": "stderr",
     "output_type": "stream",
     "text": [
      " 37%|███▋      | 36.82499999999981/100 [01:00<01:34,  1.49s/it] "
     ]
    },
    {
     "name": "stdout",
     "output_type": "stream",
     "text": [
      "Train Epoch: 37 [15360/17825 (86%)]\tLoss: 0.050132\n"
     ]
    },
    {
     "name": "stderr",
     "output_type": "stream",
     "text": [
      " 37%|███▋      | 36.98749999999985/100 [01:01<01:43,  1.64s/it]"
     ]
    },
    {
     "name": "stdout",
     "output_type": "stream",
     "text": [
      "\n",
      "Test Epoch: 37\tAccuracy: 2161/2337 (92%)\n",
      "\n"
     ]
    },
    {
     "name": "stderr",
     "output_type": "stream",
     "text": [
      " 37%|███▋      | 37.062499999999865/100 [01:01<02:01,  1.93s/it]"
     ]
    },
    {
     "name": "stdout",
     "output_type": "stream",
     "text": [
      "Train Epoch: 38 [0/17825 (0%)]\tLoss: 0.061050\n"
     ]
    },
    {
     "name": "stderr",
     "output_type": "stream",
     "text": [
      " 37%|███▋      | 37.36249999999993/100 [01:01<01:39,  1.58s/it] "
     ]
    },
    {
     "name": "stdout",
     "output_type": "stream",
     "text": [
      "Train Epoch: 38 [5120/17825 (29%)]\tLoss: 0.037035\n"
     ]
    },
    {
     "name": "stderr",
     "output_type": "stream",
     "text": [
      " 38%|███▊      | 37.59999999999999/100 [01:02<01:33,  1.49s/it]"
     ]
    },
    {
     "name": "stdout",
     "output_type": "stream",
     "text": [
      "Train Epoch: 38 [10240/17825 (57%)]\tLoss: 0.038462\n"
     ]
    },
    {
     "name": "stderr",
     "output_type": "stream",
     "text": [
      " 38%|███▊      | 37.82500000000004/100 [01:02<01:32,  1.49s/it] "
     ]
    },
    {
     "name": "stdout",
     "output_type": "stream",
     "text": [
      "Train Epoch: 38 [15360/17825 (86%)]\tLoss: 0.045410\n"
     ]
    },
    {
     "name": "stderr",
     "output_type": "stream",
     "text": [
      " 38%|███▊      | 37.987500000000075/100 [01:02<01:40,  1.62s/it]"
     ]
    },
    {
     "name": "stdout",
     "output_type": "stream",
     "text": [
      "\n",
      "Test Epoch: 38\tAccuracy: 2160/2337 (92%)\n",
      "\n"
     ]
    },
    {
     "name": "stderr",
     "output_type": "stream",
     "text": [
      " 38%|███▊      | 38.06250000000009/100 [01:02<01:59,  1.93s/it] "
     ]
    },
    {
     "name": "stdout",
     "output_type": "stream",
     "text": [
      "Train Epoch: 39 [0/17825 (0%)]\tLoss: 0.037345\n"
     ]
    },
    {
     "name": "stderr",
     "output_type": "stream",
     "text": [
      " 38%|███▊      | 38.36250000000016/100 [01:03<01:37,  1.59s/it]"
     ]
    },
    {
     "name": "stdout",
     "output_type": "stream",
     "text": [
      "Train Epoch: 39 [5120/17825 (29%)]\tLoss: 0.044292\n"
     ]
    },
    {
     "name": "stderr",
     "output_type": "stream",
     "text": [
      " 39%|███▊      | 38.600000000000215/100 [01:03<01:31,  1.49s/it]"
     ]
    },
    {
     "name": "stdout",
     "output_type": "stream",
     "text": [
      "Train Epoch: 39 [10240/17825 (57%)]\tLoss: 0.049699\n"
     ]
    },
    {
     "name": "stderr",
     "output_type": "stream",
     "text": [
      " 39%|███▉      | 38.825000000000266/100 [01:04<01:30,  1.48s/it]"
     ]
    },
    {
     "name": "stdout",
     "output_type": "stream",
     "text": [
      "Train Epoch: 39 [15360/17825 (86%)]\tLoss: 0.035209\n"
     ]
    },
    {
     "name": "stderr",
     "output_type": "stream",
     "text": [
      " 39%|███▉      | 38.9875000000003/100 [01:04<01:38,  1.61s/it]  "
     ]
    },
    {
     "name": "stdout",
     "output_type": "stream",
     "text": [
      "\n",
      "Test Epoch: 39\tAccuracy: 2157/2337 (92%)\n",
      "\n"
     ]
    },
    {
     "name": "stderr",
     "output_type": "stream",
     "text": [
      " 39%|███▉      | 39.06250000000032/100 [01:04<01:56,  1.92s/it]"
     ]
    },
    {
     "name": "stdout",
     "output_type": "stream",
     "text": [
      "Train Epoch: 40 [0/17825 (0%)]\tLoss: 0.073152\n"
     ]
    },
    {
     "name": "stderr",
     "output_type": "stream",
     "text": [
      " 39%|███▉      | 39.36250000000039/100 [01:04<01:37,  1.61s/it] "
     ]
    },
    {
     "name": "stdout",
     "output_type": "stream",
     "text": [
      "Train Epoch: 40 [5120/17825 (29%)]\tLoss: 0.010297\n"
     ]
    },
    {
     "name": "stderr",
     "output_type": "stream",
     "text": [
      " 40%|███▉      | 39.58750000000044/100 [01:05<01:33,  1.55s/it] "
     ]
    },
    {
     "name": "stdout",
     "output_type": "stream",
     "text": [
      "Train Epoch: 40 [10240/17825 (57%)]\tLoss: 0.053253\n"
     ]
    },
    {
     "name": "stderr",
     "output_type": "stream",
     "text": [
      " 40%|███▉      | 39.81250000000049/100 [01:05<01:31,  1.53s/it] "
     ]
    },
    {
     "name": "stdout",
     "output_type": "stream",
     "text": [
      "Train Epoch: 40 [15360/17825 (86%)]\tLoss: 0.051641\n"
     ]
    },
    {
     "name": "stderr",
     "output_type": "stream",
     "text": [
      " 40%|███▉      | 39.98750000000053/100 [01:06<01:36,  1.61s/it]"
     ]
    },
    {
     "name": "stdout",
     "output_type": "stream",
     "text": [
      "\n",
      "Test Epoch: 40\tAccuracy: 2163/2337 (93%)\n",
      "\n"
     ]
    },
    {
     "name": "stderr",
     "output_type": "stream",
     "text": [
      " 40%|████      | 40.06250000000055/100 [01:06<01:54,  1.91s/it]"
     ]
    },
    {
     "name": "stdout",
     "output_type": "stream",
     "text": [
      "Train Epoch: 41 [0/17825 (0%)]\tLoss: 0.021404\n"
     ]
    },
    {
     "name": "stderr",
     "output_type": "stream",
     "text": [
      " 40%|████      | 40.362500000000615/100 [01:06<01:37,  1.64s/it]"
     ]
    },
    {
     "name": "stdout",
     "output_type": "stream",
     "text": [
      "Train Epoch: 41 [5120/17825 (29%)]\tLoss: 0.031565\n"
     ]
    },
    {
     "name": "stderr",
     "output_type": "stream",
     "text": [
      " 41%|████      | 40.58750000000067/100 [01:07<01:35,  1.60s/it] "
     ]
    },
    {
     "name": "stdout",
     "output_type": "stream",
     "text": [
      "Train Epoch: 41 [10240/17825 (57%)]\tLoss: 0.066921\n"
     ]
    },
    {
     "name": "stderr",
     "output_type": "stream",
     "text": [
      " 41%|████      | 40.81250000000072/100 [01:07<01:32,  1.56s/it]"
     ]
    },
    {
     "name": "stdout",
     "output_type": "stream",
     "text": [
      "Train Epoch: 41 [15360/17825 (86%)]\tLoss: 0.042452\n"
     ]
    },
    {
     "name": "stderr",
     "output_type": "stream",
     "text": [
      " 41%|████      | 40.98750000000076/100 [01:07<01:36,  1.64s/it] "
     ]
    },
    {
     "name": "stdout",
     "output_type": "stream",
     "text": [
      "\n",
      "Test Epoch: 41\tAccuracy: 2164/2337 (93%)\n",
      "\n"
     ]
    },
    {
     "name": "stderr",
     "output_type": "stream",
     "text": [
      " 41%|████      | 41.062500000000774/100 [01:07<01:53,  1.93s/it]"
     ]
    },
    {
     "name": "stdout",
     "output_type": "stream",
     "text": [
      "Train Epoch: 42 [0/17825 (0%)]\tLoss: 0.037448\n"
     ]
    },
    {
     "name": "stderr",
     "output_type": "stream",
     "text": [
      " 41%|████▏     | 41.36250000000084/100 [01:08<01:32,  1.58s/it] "
     ]
    },
    {
     "name": "stdout",
     "output_type": "stream",
     "text": [
      "Train Epoch: 42 [5120/17825 (29%)]\tLoss: 0.043287\n"
     ]
    },
    {
     "name": "stderr",
     "output_type": "stream",
     "text": [
      " 42%|████▏     | 41.6000000000009/100 [01:08<01:27,  1.50s/it] "
     ]
    },
    {
     "name": "stdout",
     "output_type": "stream",
     "text": [
      "Train Epoch: 42 [10240/17825 (57%)]\tLoss: 0.029601\n"
     ]
    },
    {
     "name": "stderr",
     "output_type": "stream",
     "text": [
      " 42%|████▏     | 41.82500000000095/100 [01:09<01:26,  1.48s/it] "
     ]
    },
    {
     "name": "stdout",
     "output_type": "stream",
     "text": [
      "Train Epoch: 42 [15360/17825 (86%)]\tLoss: 0.039051\n"
     ]
    },
    {
     "name": "stderr",
     "output_type": "stream",
     "text": [
      " 42%|████▏     | 41.987500000000985/100 [01:09<01:33,  1.61s/it]"
     ]
    },
    {
     "name": "stdout",
     "output_type": "stream",
     "text": [
      "\n",
      "Test Epoch: 42\tAccuracy: 2164/2337 (93%)\n",
      "\n"
     ]
    },
    {
     "name": "stderr",
     "output_type": "stream",
     "text": [
      " 42%|████▏     | 42.062500000001/100 [01:09<01:51,  1.93s/it]   "
     ]
    },
    {
     "name": "stdout",
     "output_type": "stream",
     "text": [
      "Train Epoch: 43 [0/17825 (0%)]\tLoss: 0.031504\n"
     ]
    },
    {
     "name": "stderr",
     "output_type": "stream",
     "text": [
      " 42%|████▏     | 42.36250000000107/100 [01:09<01:31,  1.58s/it] "
     ]
    },
    {
     "name": "stdout",
     "output_type": "stream",
     "text": [
      "Train Epoch: 43 [5120/17825 (29%)]\tLoss: 0.036355\n"
     ]
    },
    {
     "name": "stderr",
     "output_type": "stream",
     "text": [
      " 43%|████▎     | 42.600000000001124/100 [01:10<01:25,  1.49s/it]"
     ]
    },
    {
     "name": "stdout",
     "output_type": "stream",
     "text": [
      "Train Epoch: 43 [10240/17825 (57%)]\tLoss: 0.038675\n"
     ]
    },
    {
     "name": "stderr",
     "output_type": "stream",
     "text": [
      " 43%|████▎     | 42.825000000001175/100 [01:10<01:24,  1.47s/it]"
     ]
    },
    {
     "name": "stdout",
     "output_type": "stream",
     "text": [
      "Train Epoch: 43 [15360/17825 (86%)]\tLoss: 0.052916\n"
     ]
    },
    {
     "name": "stderr",
     "output_type": "stream",
     "text": [
      " 43%|████▎     | 42.98750000000121/100 [01:10<01:32,  1.63s/it] "
     ]
    },
    {
     "name": "stdout",
     "output_type": "stream",
     "text": [
      "\n",
      "Test Epoch: 43\tAccuracy: 2163/2337 (93%)\n",
      "\n"
     ]
    },
    {
     "name": "stderr",
     "output_type": "stream",
     "text": [
      " 43%|████▎     | 43.06250000000123/100 [01:11<01:50,  1.94s/it]"
     ]
    },
    {
     "name": "stdout",
     "output_type": "stream",
     "text": [
      "Train Epoch: 44 [0/17825 (0%)]\tLoss: 0.028781\n"
     ]
    },
    {
     "name": "stderr",
     "output_type": "stream",
     "text": [
      " 43%|████▎     | 43.3625000000013/100 [01:11<01:29,  1.58s/it]  "
     ]
    },
    {
     "name": "stdout",
     "output_type": "stream",
     "text": [
      "Train Epoch: 44 [5120/17825 (29%)]\tLoss: 0.038086\n"
     ]
    },
    {
     "name": "stderr",
     "output_type": "stream",
     "text": [
      " 44%|████▎     | 43.60000000000135/100 [01:11<01:24,  1.49s/it] "
     ]
    },
    {
     "name": "stdout",
     "output_type": "stream",
     "text": [
      "Train Epoch: 44 [10240/17825 (57%)]\tLoss: 0.050041\n"
     ]
    },
    {
     "name": "stderr",
     "output_type": "stream",
     "text": [
      " 44%|████▍     | 43.8250000000014/100 [01:12<01:22,  1.47s/it]  "
     ]
    },
    {
     "name": "stdout",
     "output_type": "stream",
     "text": [
      "Train Epoch: 44 [15360/17825 (86%)]\tLoss: 0.020947\n"
     ]
    },
    {
     "name": "stderr",
     "output_type": "stream",
     "text": [
      " 44%|████▍     | 43.98750000000144/100 [01:12<01:30,  1.61s/it]"
     ]
    },
    {
     "name": "stdout",
     "output_type": "stream",
     "text": [
      "\n",
      "Test Epoch: 44\tAccuracy: 2166/2337 (93%)\n",
      "\n"
     ]
    },
    {
     "name": "stderr",
     "output_type": "stream",
     "text": [
      " 44%|████▍     | 44.06250000000146/100 [01:12<01:46,  1.91s/it]"
     ]
    },
    {
     "name": "stdout",
     "output_type": "stream",
     "text": [
      "Train Epoch: 45 [0/17825 (0%)]\tLoss: 0.052912\n"
     ]
    },
    {
     "name": "stderr",
     "output_type": "stream",
     "text": [
      " 44%|████▍     | 44.362500000001525/100 [01:13<01:27,  1.58s/it]"
     ]
    },
    {
     "name": "stdout",
     "output_type": "stream",
     "text": [
      "Train Epoch: 45 [5120/17825 (29%)]\tLoss: 0.038046\n"
     ]
    },
    {
     "name": "stderr",
     "output_type": "stream",
     "text": [
      " 45%|████▍     | 44.60000000000158/100 [01:13<01:22,  1.49s/it] "
     ]
    },
    {
     "name": "stdout",
     "output_type": "stream",
     "text": [
      "Train Epoch: 45 [10240/17825 (57%)]\tLoss: 0.035798\n"
     ]
    },
    {
     "name": "stderr",
     "output_type": "stream",
     "text": [
      " 45%|████▍     | 44.82500000000163/100 [01:13<01:22,  1.50s/it] "
     ]
    },
    {
     "name": "stdout",
     "output_type": "stream",
     "text": [
      "Train Epoch: 45 [15360/17825 (86%)]\tLoss: 0.049469\n"
     ]
    },
    {
     "name": "stderr",
     "output_type": "stream",
     "text": [
      " 45%|████▍     | 44.98750000000167/100 [01:14<01:31,  1.66s/it]"
     ]
    },
    {
     "name": "stdout",
     "output_type": "stream",
     "text": [
      "\n",
      "Test Epoch: 45\tAccuracy: 2164/2337 (93%)\n",
      "\n"
     ]
    },
    {
     "name": "stderr",
     "output_type": "stream",
     "text": [
      " 45%|████▌     | 45.062500000001684/100 [01:14<01:46,  1.94s/it]"
     ]
    },
    {
     "name": "stdout",
     "output_type": "stream",
     "text": [
      "Train Epoch: 46 [0/17825 (0%)]\tLoss: 0.027420\n"
     ]
    },
    {
     "name": "stderr",
     "output_type": "stream",
     "text": [
      " 45%|████▌     | 45.36250000000175/100 [01:14<01:27,  1.59s/it] "
     ]
    },
    {
     "name": "stdout",
     "output_type": "stream",
     "text": [
      "Train Epoch: 46 [5120/17825 (29%)]\tLoss: 0.044327\n"
     ]
    },
    {
     "name": "stderr",
     "output_type": "stream",
     "text": [
      " 46%|████▌     | 45.600000000001806/100 [01:15<01:21,  1.50s/it]"
     ]
    },
    {
     "name": "stdout",
     "output_type": "stream",
     "text": [
      "Train Epoch: 46 [10240/17825 (57%)]\tLoss: 0.061133\n"
     ]
    },
    {
     "name": "stderr",
     "output_type": "stream",
     "text": [
      " 46%|████▌     | 45.82500000000186/100 [01:15<01:20,  1.48s/it] "
     ]
    },
    {
     "name": "stdout",
     "output_type": "stream",
     "text": [
      "Train Epoch: 46 [15360/17825 (86%)]\tLoss: 0.032186\n"
     ]
    },
    {
     "name": "stderr",
     "output_type": "stream",
     "text": [
      " 46%|████▌     | 45.900000000001874/100 [01:15<01:40,  1.85s/it]"
     ]
    },
    {
     "name": "stdout",
     "output_type": "stream",
     "text": [
      "\n",
      "Test Epoch: 46\tAccuracy: 2161/2337 (92%)\n",
      "\n"
     ]
    },
    {
     "name": "stderr",
     "output_type": "stream",
     "text": [
      " 46%|████▌     | 46.0125000000019/100 [01:15<01:44,  1.93s/it]  "
     ]
    },
    {
     "name": "stdout",
     "output_type": "stream",
     "text": [
      "Train Epoch: 47 [0/17825 (0%)]\tLoss: 0.070466\n"
     ]
    },
    {
     "name": "stderr",
     "output_type": "stream",
     "text": [
      " 46%|████▋     | 46.387500000001985/100 [01:16<01:22,  1.54s/it]"
     ]
    },
    {
     "name": "stdout",
     "output_type": "stream",
     "text": [
      "Train Epoch: 47 [5120/17825 (29%)]\tLoss: 0.043463\n"
     ]
    },
    {
     "name": "stderr",
     "output_type": "stream",
     "text": [
      " 47%|████▋     | 46.612500000002036/100 [01:16<01:19,  1.50s/it]"
     ]
    },
    {
     "name": "stdout",
     "output_type": "stream",
     "text": [
      "Train Epoch: 47 [10240/17825 (57%)]\tLoss: 0.030077\n"
     ]
    },
    {
     "name": "stderr",
     "output_type": "stream",
     "text": [
      " 47%|████▋     | 46.85000000000209/100 [01:17<01:18,  1.47s/it] "
     ]
    },
    {
     "name": "stdout",
     "output_type": "stream",
     "text": [
      "Train Epoch: 47 [15360/17825 (86%)]\tLoss: 0.029404\n"
     ]
    },
    {
     "name": "stderr",
     "output_type": "stream",
     "text": [
      " 47%|████▋     | 46.92500000000211/100 [01:17<01:33,  1.77s/it]"
     ]
    },
    {
     "name": "stdout",
     "output_type": "stream",
     "text": [
      "\n",
      "Test Epoch: 47\tAccuracy: 2162/2337 (93%)\n",
      "\n"
     ]
    },
    {
     "name": "stderr",
     "output_type": "stream",
     "text": [
      " 47%|████▋     | 47.01250000000213/100 [01:17<01:44,  1.98s/it]"
     ]
    },
    {
     "name": "stdout",
     "output_type": "stream",
     "text": [
      "Train Epoch: 48 [0/17825 (0%)]\tLoss: 0.035738\n"
     ]
    },
    {
     "name": "stderr",
     "output_type": "stream",
     "text": [
      " 47%|████▋     | 47.400000000002215/100 [01:18<01:21,  1.54s/it]"
     ]
    },
    {
     "name": "stdout",
     "output_type": "stream",
     "text": [
      "Train Epoch: 48 [5120/17825 (29%)]\tLoss: 0.035280\n"
     ]
    },
    {
     "name": "stderr",
     "output_type": "stream",
     "text": [
      " 48%|████▊     | 47.62500000000227/100 [01:18<01:18,  1.49s/it] "
     ]
    },
    {
     "name": "stdout",
     "output_type": "stream",
     "text": [
      "Train Epoch: 48 [10240/17825 (57%)]\tLoss: 0.050794\n"
     ]
    },
    {
     "name": "stderr",
     "output_type": "stream",
     "text": [
      " 48%|████▊     | 47.85000000000232/100 [01:18<01:16,  1.47s/it] "
     ]
    },
    {
     "name": "stdout",
     "output_type": "stream",
     "text": [
      "Train Epoch: 48 [15360/17825 (86%)]\tLoss: 0.036688\n"
     ]
    },
    {
     "name": "stderr",
     "output_type": "stream",
     "text": [
      " 48%|████▊     | 47.925000000002335/100 [01:19<01:33,  1.79s/it]"
     ]
    },
    {
     "name": "stdout",
     "output_type": "stream",
     "text": [
      "\n",
      "Test Epoch: 48\tAccuracy: 2164/2337 (93%)\n",
      "\n"
     ]
    },
    {
     "name": "stderr",
     "output_type": "stream",
     "text": [
      " 48%|████▊     | 48.012500000002355/100 [01:19<01:43,  1.99s/it]"
     ]
    },
    {
     "name": "stdout",
     "output_type": "stream",
     "text": [
      "Train Epoch: 49 [0/17825 (0%)]\tLoss: 0.041466\n"
     ]
    },
    {
     "name": "stderr",
     "output_type": "stream",
     "text": [
      " 48%|████▊     | 48.38750000000244/100 [01:19<01:22,  1.59s/it] "
     ]
    },
    {
     "name": "stdout",
     "output_type": "stream",
     "text": [
      "Train Epoch: 49 [5120/17825 (29%)]\tLoss: 0.036496\n"
     ]
    },
    {
     "name": "stderr",
     "output_type": "stream",
     "text": [
      " 49%|████▊     | 48.61250000000249/100 [01:20<01:19,  1.55s/it] "
     ]
    },
    {
     "name": "stdout",
     "output_type": "stream",
     "text": [
      "Train Epoch: 49 [10240/17825 (57%)]\tLoss: 0.043791\n"
     ]
    },
    {
     "name": "stderr",
     "output_type": "stream",
     "text": [
      " 49%|████▉     | 48.850000000002545/100 [01:20<01:17,  1.52s/it]"
     ]
    },
    {
     "name": "stdout",
     "output_type": "stream",
     "text": [
      "Train Epoch: 49 [15360/17825 (86%)]\tLoss: 0.050983\n"
     ]
    },
    {
     "name": "stderr",
     "output_type": "stream",
     "text": [
      " 49%|████▉     | 48.92500000000256/100 [01:20<01:32,  1.81s/it] "
     ]
    },
    {
     "name": "stdout",
     "output_type": "stream",
     "text": [
      "\n",
      "Test Epoch: 49\tAccuracy: 2163/2337 (93%)\n",
      "\n"
     ]
    },
    {
     "name": "stderr",
     "output_type": "stream",
     "text": [
      " 49%|████▉     | 49.01250000000258/100 [01:20<01:43,  2.02s/it]"
     ]
    },
    {
     "name": "stdout",
     "output_type": "stream",
     "text": [
      "Train Epoch: 50 [0/17825 (0%)]\tLoss: 0.021952\n"
     ]
    },
    {
     "name": "stderr",
     "output_type": "stream",
     "text": [
      " 49%|████▉     | 49.38750000000267/100 [01:21<01:19,  1.57s/it] "
     ]
    },
    {
     "name": "stdout",
     "output_type": "stream",
     "text": [
      "Train Epoch: 50 [5120/17825 (29%)]\tLoss: 0.052036\n"
     ]
    },
    {
     "name": "stderr",
     "output_type": "stream",
     "text": [
      " 50%|████▉     | 49.61250000000272/100 [01:21<01:16,  1.53s/it] "
     ]
    },
    {
     "name": "stdout",
     "output_type": "stream",
     "text": [
      "Train Epoch: 50 [10240/17825 (57%)]\tLoss: 0.028956\n"
     ]
    },
    {
     "name": "stderr",
     "output_type": "stream",
     "text": [
      " 50%|████▉     | 49.85000000000277/100 [01:22<01:13,  1.47s/it] "
     ]
    },
    {
     "name": "stdout",
     "output_type": "stream",
     "text": [
      "Train Epoch: 50 [15360/17825 (86%)]\tLoss: 0.024262\n"
     ]
    },
    {
     "name": "stderr",
     "output_type": "stream",
     "text": [
      " 50%|████▉     | 49.92500000000279/100 [01:22<01:29,  1.79s/it]"
     ]
    },
    {
     "name": "stdout",
     "output_type": "stream",
     "text": [
      "\n",
      "Test Epoch: 50\tAccuracy: 2159/2337 (92%)\n",
      "\n"
     ]
    },
    {
     "name": "stderr",
     "output_type": "stream",
     "text": [
      " 50%|█████     | 50.01250000000281/100 [01:22<01:39,  1.98s/it]"
     ]
    },
    {
     "name": "stdout",
     "output_type": "stream",
     "text": [
      "Train Epoch: 51 [0/17825 (0%)]\tLoss: 0.049472\n"
     ]
    },
    {
     "name": "stderr",
     "output_type": "stream",
     "text": [
      " 50%|█████     | 50.387500000002895/100 [01:23<01:16,  1.55s/it]"
     ]
    },
    {
     "name": "stdout",
     "output_type": "stream",
     "text": [
      "Train Epoch: 51 [5120/17825 (29%)]\tLoss: 0.035234\n"
     ]
    },
    {
     "name": "stderr",
     "output_type": "stream",
     "text": [
      " 51%|█████     | 50.612500000002946/100 [01:23<01:13,  1.49s/it]"
     ]
    },
    {
     "name": "stdout",
     "output_type": "stream",
     "text": [
      "Train Epoch: 51 [10240/17825 (57%)]\tLoss: 0.030095\n"
     ]
    },
    {
     "name": "stderr",
     "output_type": "stream",
     "text": [
      " 51%|█████     | 50.850000000003/100 [01:23<01:11,  1.46s/it]   "
     ]
    },
    {
     "name": "stdout",
     "output_type": "stream",
     "text": [
      "Train Epoch: 51 [15360/17825 (86%)]\tLoss: 0.010438\n"
     ]
    },
    {
     "name": "stderr",
     "output_type": "stream",
     "text": [
      " 51%|█████     | 50.92500000000302/100 [01:23<01:26,  1.75s/it]"
     ]
    },
    {
     "name": "stdout",
     "output_type": "stream",
     "text": [
      "\n",
      "Test Epoch: 51\tAccuracy: 2161/2337 (92%)\n",
      "\n"
     ]
    },
    {
     "name": "stderr",
     "output_type": "stream",
     "text": [
      " 51%|█████     | 51.01250000000304/100 [01:24<01:37,  2.00s/it]"
     ]
    },
    {
     "name": "stdout",
     "output_type": "stream",
     "text": [
      "Train Epoch: 52 [0/17825 (0%)]\tLoss: 0.024480\n"
     ]
    },
    {
     "name": "stderr",
     "output_type": "stream",
     "text": [
      " 51%|█████▏    | 51.38750000000312/100 [01:24<01:15,  1.56s/it] "
     ]
    },
    {
     "name": "stdout",
     "output_type": "stream",
     "text": [
      "Train Epoch: 52 [5120/17825 (29%)]\tLoss: 0.035068\n"
     ]
    },
    {
     "name": "stderr",
     "output_type": "stream",
     "text": [
      " 52%|█████▏    | 51.61250000000317/100 [01:25<01:13,  1.51s/it] "
     ]
    },
    {
     "name": "stdout",
     "output_type": "stream",
     "text": [
      "Train Epoch: 52 [10240/17825 (57%)]\tLoss: 0.044217\n"
     ]
    },
    {
     "name": "stderr",
     "output_type": "stream",
     "text": [
      " 52%|█████▏    | 51.85000000000323/100 [01:25<01:11,  1.48s/it]"
     ]
    },
    {
     "name": "stdout",
     "output_type": "stream",
     "text": [
      "Train Epoch: 52 [15360/17825 (86%)]\tLoss: 0.034844\n"
     ]
    },
    {
     "name": "stderr",
     "output_type": "stream",
     "text": [
      " 52%|█████▏    | 51.925000000003244/100 [01:25<01:26,  1.79s/it]"
     ]
    },
    {
     "name": "stdout",
     "output_type": "stream",
     "text": [
      "\n",
      "Test Epoch: 52\tAccuracy: 2162/2337 (93%)\n",
      "\n"
     ]
    },
    {
     "name": "stderr",
     "output_type": "stream",
     "text": [
      " 52%|█████▏    | 52.012500000003264/100 [01:25<01:36,  2.02s/it]"
     ]
    },
    {
     "name": "stdout",
     "output_type": "stream",
     "text": [
      "Train Epoch: 53 [0/17825 (0%)]\tLoss: 0.024944\n"
     ]
    },
    {
     "name": "stderr",
     "output_type": "stream",
     "text": [
      " 52%|█████▏    | 52.38750000000335/100 [01:26<01:14,  1.56s/it] "
     ]
    },
    {
     "name": "stdout",
     "output_type": "stream",
     "text": [
      "Train Epoch: 53 [5120/17825 (29%)]\tLoss: 0.039887\n"
     ]
    },
    {
     "name": "stderr",
     "output_type": "stream",
     "text": [
      " 53%|█████▎    | 52.6125000000034/100 [01:26<01:10,  1.49s/it]  "
     ]
    },
    {
     "name": "stdout",
     "output_type": "stream",
     "text": [
      "Train Epoch: 53 [10240/17825 (57%)]\tLoss: 0.040483\n"
     ]
    },
    {
     "name": "stderr",
     "output_type": "stream",
     "text": [
      " 53%|█████▎    | 52.850000000003455/100 [01:26<01:08,  1.46s/it]"
     ]
    },
    {
     "name": "stdout",
     "output_type": "stream",
     "text": [
      "Train Epoch: 53 [15360/17825 (86%)]\tLoss: 0.071900\n"
     ]
    },
    {
     "name": "stderr",
     "output_type": "stream",
     "text": [
      " 53%|█████▎    | 52.92500000000347/100 [01:27<01:21,  1.74s/it] "
     ]
    },
    {
     "name": "stdout",
     "output_type": "stream",
     "text": [
      "\n",
      "Test Epoch: 53\tAccuracy: 2160/2337 (92%)\n",
      "\n"
     ]
    },
    {
     "name": "stderr",
     "output_type": "stream",
     "text": [
      " 53%|█████▎    | 53.01250000000349/100 [01:27<01:33,  1.98s/it]"
     ]
    },
    {
     "name": "stdout",
     "output_type": "stream",
     "text": [
      "Train Epoch: 54 [0/17825 (0%)]\tLoss: 0.048470\n"
     ]
    },
    {
     "name": "stderr",
     "output_type": "stream",
     "text": [
      " 53%|█████▎    | 53.38750000000358/100 [01:27<01:12,  1.55s/it] "
     ]
    },
    {
     "name": "stdout",
     "output_type": "stream",
     "text": [
      "Train Epoch: 54 [5120/17825 (29%)]\tLoss: 0.032446\n"
     ]
    },
    {
     "name": "stderr",
     "output_type": "stream",
     "text": [
      " 54%|█████▎    | 53.61250000000363/100 [01:28<01:09,  1.49s/it] "
     ]
    },
    {
     "name": "stdout",
     "output_type": "stream",
     "text": [
      "Train Epoch: 54 [10240/17825 (57%)]\tLoss: 0.017684\n"
     ]
    },
    {
     "name": "stderr",
     "output_type": "stream",
     "text": [
      " 54%|█████▍    | 53.83750000000368/100 [01:28<01:07,  1.47s/it] "
     ]
    },
    {
     "name": "stdout",
     "output_type": "stream",
     "text": [
      "Train Epoch: 54 [15360/17825 (86%)]\tLoss: 0.027642\n"
     ]
    },
    {
     "name": "stderr",
     "output_type": "stream",
     "text": [
      " 54%|█████▍    | 53.912500000003696/100 [01:28<01:22,  1.79s/it]"
     ]
    },
    {
     "name": "stdout",
     "output_type": "stream",
     "text": [
      "\n",
      "Test Epoch: 54\tAccuracy: 2165/2337 (93%)\n",
      "\n"
     ]
    },
    {
     "name": "stderr",
     "output_type": "stream",
     "text": [
      " 54%|█████▍    | 54.01250000000372/100 [01:29<01:32,  2.00s/it] "
     ]
    },
    {
     "name": "stdout",
     "output_type": "stream",
     "text": [
      "Train Epoch: 55 [0/17825 (0%)]\tLoss: 0.050101\n"
     ]
    },
    {
     "name": "stderr",
     "output_type": "stream",
     "text": [
      " 54%|█████▍    | 54.387500000003804/100 [01:29<01:11,  1.56s/it]"
     ]
    },
    {
     "name": "stdout",
     "output_type": "stream",
     "text": [
      "Train Epoch: 55 [5120/17825 (29%)]\tLoss: 0.049553\n"
     ]
    },
    {
     "name": "stderr",
     "output_type": "stream",
     "text": [
      " 55%|█████▍    | 54.612500000003855/100 [01:29<01:08,  1.51s/it]"
     ]
    },
    {
     "name": "stdout",
     "output_type": "stream",
     "text": [
      "Train Epoch: 55 [10240/17825 (57%)]\tLoss: 0.020379\n"
     ]
    },
    {
     "name": "stderr",
     "output_type": "stream",
     "text": [
      " 55%|█████▍    | 54.85000000000391/100 [01:30<01:06,  1.47s/it] "
     ]
    },
    {
     "name": "stdout",
     "output_type": "stream",
     "text": [
      "Train Epoch: 55 [15360/17825 (86%)]\tLoss: 0.078362\n"
     ]
    },
    {
     "name": "stderr",
     "output_type": "stream",
     "text": [
      " 55%|█████▍    | 54.92500000000393/100 [01:30<01:20,  1.78s/it]"
     ]
    },
    {
     "name": "stdout",
     "output_type": "stream",
     "text": [
      "\n",
      "Test Epoch: 55\tAccuracy: 2161/2337 (92%)\n",
      "\n"
     ]
    },
    {
     "name": "stderr",
     "output_type": "stream",
     "text": [
      " 55%|█████▌    | 55.012500000003946/100 [01:30<01:29,  1.99s/it]"
     ]
    },
    {
     "name": "stdout",
     "output_type": "stream",
     "text": [
      "Train Epoch: 56 [0/17825 (0%)]\tLoss: 0.025515\n"
     ]
    },
    {
     "name": "stderr",
     "output_type": "stream",
     "text": [
      " 55%|█████▌    | 55.400000000004034/100 [01:31<01:08,  1.54s/it]"
     ]
    },
    {
     "name": "stdout",
     "output_type": "stream",
     "text": [
      "Train Epoch: 56 [5120/17825 (29%)]\tLoss: 0.045350\n"
     ]
    },
    {
     "name": "stderr",
     "output_type": "stream",
     "text": [
      " 56%|█████▌    | 55.625000000004086/100 [01:31<01:05,  1.48s/it]"
     ]
    },
    {
     "name": "stdout",
     "output_type": "stream",
     "text": [
      "Train Epoch: 56 [10240/17825 (57%)]\tLoss: 0.043242\n"
     ]
    },
    {
     "name": "stderr",
     "output_type": "stream",
     "text": [
      " 56%|█████▌    | 55.85000000000414/100 [01:31<01:04,  1.47s/it] "
     ]
    },
    {
     "name": "stdout",
     "output_type": "stream",
     "text": [
      "Train Epoch: 56 [15360/17825 (86%)]\tLoss: 0.020152\n"
     ]
    },
    {
     "name": "stderr",
     "output_type": "stream",
     "text": [
      " 56%|█████▌    | 55.925000000004154/100 [01:32<01:17,  1.76s/it]"
     ]
    },
    {
     "name": "stdout",
     "output_type": "stream",
     "text": [
      "\n",
      "Test Epoch: 56\tAccuracy: 2163/2337 (93%)\n",
      "\n"
     ]
    },
    {
     "name": "stderr",
     "output_type": "stream",
     "text": [
      " 56%|█████▌    | 56.012500000004174/100 [01:32<01:28,  2.01s/it]"
     ]
    },
    {
     "name": "stdout",
     "output_type": "stream",
     "text": [
      "Train Epoch: 57 [0/17825 (0%)]\tLoss: 0.031362\n"
     ]
    },
    {
     "name": "stderr",
     "output_type": "stream",
     "text": [
      " 56%|█████▋    | 56.38750000000426/100 [01:32<01:07,  1.55s/it] "
     ]
    },
    {
     "name": "stdout",
     "output_type": "stream",
     "text": [
      "Train Epoch: 57 [5120/17825 (29%)]\tLoss: 0.037267\n"
     ]
    },
    {
     "name": "stderr",
     "output_type": "stream",
     "text": [
      " 57%|█████▋    | 56.61250000000431/100 [01:33<01:04,  1.49s/it] "
     ]
    },
    {
     "name": "stdout",
     "output_type": "stream",
     "text": [
      "Train Epoch: 57 [10240/17825 (57%)]\tLoss: 0.024056\n"
     ]
    },
    {
     "name": "stderr",
     "output_type": "stream",
     "text": [
      " 57%|█████▋    | 56.850000000004364/100 [01:33<01:02,  1.46s/it]"
     ]
    },
    {
     "name": "stdout",
     "output_type": "stream",
     "text": [
      "Train Epoch: 57 [15360/17825 (86%)]\tLoss: 0.049382\n"
     ]
    },
    {
     "name": "stderr",
     "output_type": "stream",
     "text": [
      " 57%|█████▋    | 56.92500000000438/100 [01:33<01:15,  1.76s/it] "
     ]
    },
    {
     "name": "stdout",
     "output_type": "stream",
     "text": [
      "\n",
      "Test Epoch: 57\tAccuracy: 2161/2337 (92%)\n",
      "\n"
     ]
    },
    {
     "name": "stderr",
     "output_type": "stream",
     "text": [
      " 57%|█████▋    | 57.0125000000044/100 [01:33<01:25,  1.99s/it] "
     ]
    },
    {
     "name": "stdout",
     "output_type": "stream",
     "text": [
      "Train Epoch: 58 [0/17825 (0%)]\tLoss: 0.037061\n"
     ]
    },
    {
     "name": "stderr",
     "output_type": "stream",
     "text": [
      " 57%|█████▋    | 57.40000000000449/100 [01:34<01:05,  1.54s/it] "
     ]
    },
    {
     "name": "stdout",
     "output_type": "stream",
     "text": [
      "Train Epoch: 58 [5120/17825 (29%)]\tLoss: 0.013321\n"
     ]
    },
    {
     "name": "stderr",
     "output_type": "stream",
     "text": [
      " 58%|█████▊    | 57.62500000000454/100 [01:34<01:03,  1.49s/it] "
     ]
    },
    {
     "name": "stdout",
     "output_type": "stream",
     "text": [
      "Train Epoch: 58 [10240/17825 (57%)]\tLoss: 0.029759\n"
     ]
    },
    {
     "name": "stderr",
     "output_type": "stream",
     "text": [
      " 58%|█████▊    | 57.85000000000459/100 [01:35<01:01,  1.47s/it] "
     ]
    },
    {
     "name": "stdout",
     "output_type": "stream",
     "text": [
      "Train Epoch: 58 [15360/17825 (86%)]\tLoss: 0.044635\n"
     ]
    },
    {
     "name": "stderr",
     "output_type": "stream",
     "text": [
      " 58%|█████▊    | 57.92500000000461/100 [01:35<01:15,  1.79s/it]"
     ]
    },
    {
     "name": "stdout",
     "output_type": "stream",
     "text": [
      "\n",
      "Test Epoch: 58\tAccuracy: 2162/2337 (93%)\n",
      "\n"
     ]
    },
    {
     "name": "stderr",
     "output_type": "stream",
     "text": [
      " 58%|█████▊    | 58.01250000000463/100 [01:35<01:23,  1.99s/it]"
     ]
    },
    {
     "name": "stdout",
     "output_type": "stream",
     "text": [
      "Train Epoch: 59 [0/17825 (0%)]\tLoss: 0.024046\n"
     ]
    },
    {
     "name": "stderr",
     "output_type": "stream",
     "text": [
      " 58%|█████▊    | 58.40000000000472/100 [01:36<01:04,  1.55s/it] "
     ]
    },
    {
     "name": "stdout",
     "output_type": "stream",
     "text": [
      "Train Epoch: 59 [5120/17825 (29%)]\tLoss: 0.026612\n"
     ]
    },
    {
     "name": "stderr",
     "output_type": "stream",
     "text": [
      " 59%|█████▊    | 58.62500000000477/100 [01:36<01:04,  1.56s/it] "
     ]
    },
    {
     "name": "stdout",
     "output_type": "stream",
     "text": [
      "Train Epoch: 59 [10240/17825 (57%)]\tLoss: 0.043468\n"
     ]
    },
    {
     "name": "stderr",
     "output_type": "stream",
     "text": [
      " 59%|█████▉    | 58.85000000000482/100 [01:36<01:03,  1.54s/it] "
     ]
    },
    {
     "name": "stdout",
     "output_type": "stream",
     "text": [
      "Train Epoch: 59 [15360/17825 (86%)]\tLoss: 0.017971\n"
     ]
    },
    {
     "name": "stderr",
     "output_type": "stream",
     "text": [
      " 59%|█████▉    | 58.925000000004836/100 [01:36<01:15,  1.85s/it]"
     ]
    },
    {
     "name": "stdout",
     "output_type": "stream",
     "text": [
      "\n",
      "Test Epoch: 59\tAccuracy: 2165/2337 (93%)\n",
      "\n"
     ]
    },
    {
     "name": "stderr",
     "output_type": "stream",
     "text": [
      " 59%|█████▉    | 59.012500000004856/100 [01:37<01:23,  2.05s/it]"
     ]
    },
    {
     "name": "stdout",
     "output_type": "stream",
     "text": [
      "Train Epoch: 60 [0/17825 (0%)]\tLoss: 0.020820\n"
     ]
    },
    {
     "name": "stderr",
     "output_type": "stream",
     "text": [
      " 59%|█████▉    | 59.400000000004944/100 [01:37<01:03,  1.56s/it]"
     ]
    },
    {
     "name": "stdout",
     "output_type": "stream",
     "text": [
      "Train Epoch: 60 [5120/17825 (29%)]\tLoss: 0.046223\n"
     ]
    },
    {
     "name": "stderr",
     "output_type": "stream",
     "text": [
      " 60%|█████▉    | 59.625000000004995/100 [01:38<01:00,  1.50s/it]"
     ]
    },
    {
     "name": "stdout",
     "output_type": "stream",
     "text": [
      "Train Epoch: 60 [10240/17825 (57%)]\tLoss: 0.047412\n"
     ]
    },
    {
     "name": "stderr",
     "output_type": "stream",
     "text": [
      " 60%|█████▉    | 59.850000000005046/100 [01:38<00:59,  1.48s/it]"
     ]
    },
    {
     "name": "stdout",
     "output_type": "stream",
     "text": [
      "Train Epoch: 60 [15360/17825 (86%)]\tLoss: 0.023371\n"
     ]
    },
    {
     "name": "stderr",
     "output_type": "stream",
     "text": [
      " 60%|█████▉    | 59.92500000000506/100 [01:38<01:11,  1.80s/it] "
     ]
    },
    {
     "name": "stdout",
     "output_type": "stream",
     "text": [
      "\n",
      "Test Epoch: 60\tAccuracy: 2163/2337 (93%)\n",
      "\n"
     ]
    },
    {
     "name": "stderr",
     "output_type": "stream",
     "text": [
      " 60%|██████    | 60.01250000000508/100 [01:38<01:20,  2.01s/it]"
     ]
    },
    {
     "name": "stdout",
     "output_type": "stream",
     "text": [
      "Train Epoch: 61 [0/17825 (0%)]\tLoss: 0.035223\n"
     ]
    },
    {
     "name": "stderr",
     "output_type": "stream",
     "text": [
      " 60%|██████    | 60.40000000000517/100 [01:39<01:01,  1.57s/it] "
     ]
    },
    {
     "name": "stdout",
     "output_type": "stream",
     "text": [
      "Train Epoch: 61 [5120/17825 (29%)]\tLoss: 0.028199\n"
     ]
    },
    {
     "name": "stderr",
     "output_type": "stream",
     "text": [
      " 61%|██████    | 60.62500000000522/100 [01:39<00:59,  1.51s/it] "
     ]
    },
    {
     "name": "stdout",
     "output_type": "stream",
     "text": [
      "Train Epoch: 61 [10240/17825 (57%)]\tLoss: 0.044482\n"
     ]
    },
    {
     "name": "stderr",
     "output_type": "stream",
     "text": [
      " 61%|██████    | 60.850000000005274/100 [01:40<00:58,  1.49s/it]"
     ]
    },
    {
     "name": "stdout",
     "output_type": "stream",
     "text": [
      "Train Epoch: 61 [15360/17825 (86%)]\tLoss: 0.047395\n"
     ]
    },
    {
     "name": "stderr",
     "output_type": "stream",
     "text": [
      " 61%|██████    | 60.92500000000529/100 [01:40<01:10,  1.81s/it] "
     ]
    },
    {
     "name": "stdout",
     "output_type": "stream",
     "text": [
      "\n",
      "Test Epoch: 61\tAccuracy: 2160/2337 (92%)\n",
      "\n"
     ]
    },
    {
     "name": "stderr",
     "output_type": "stream",
     "text": [
      " 61%|██████    | 61.01250000000531/100 [01:40<01:19,  2.04s/it]"
     ]
    },
    {
     "name": "stdout",
     "output_type": "stream",
     "text": [
      "Train Epoch: 62 [0/17825 (0%)]\tLoss: 0.017062\n"
     ]
    },
    {
     "name": "stderr",
     "output_type": "stream",
     "text": [
      " 61%|██████▏   | 61.387500000005396/100 [01:40<01:00,  1.56s/it]"
     ]
    },
    {
     "name": "stdout",
     "output_type": "stream",
     "text": [
      "Train Epoch: 62 [5120/17825 (29%)]\tLoss: 0.038540\n"
     ]
    },
    {
     "name": "stderr",
     "output_type": "stream",
     "text": [
      " 62%|██████▏   | 61.61250000000545/100 [01:41<00:57,  1.51s/it] "
     ]
    },
    {
     "name": "stdout",
     "output_type": "stream",
     "text": [
      "Train Epoch: 62 [10240/17825 (57%)]\tLoss: 0.036078\n"
     ]
    },
    {
     "name": "stderr",
     "output_type": "stream",
     "text": [
      " 62%|██████▏   | 61.8500000000055/100 [01:41<00:56,  1.47s/it]  "
     ]
    },
    {
     "name": "stdout",
     "output_type": "stream",
     "text": [
      "Train Epoch: 62 [15360/17825 (86%)]\tLoss: 0.044725\n"
     ]
    },
    {
     "name": "stderr",
     "output_type": "stream",
     "text": [
      " 62%|██████▏   | 61.92500000000552/100 [01:41<01:08,  1.79s/it]"
     ]
    },
    {
     "name": "stdout",
     "output_type": "stream",
     "text": [
      "\n",
      "Test Epoch: 62\tAccuracy: 2159/2337 (92%)\n",
      "\n"
     ]
    },
    {
     "name": "stderr",
     "output_type": "stream",
     "text": [
      " 62%|██████▏   | 62.01250000000554/100 [01:42<01:15,  2.00s/it]"
     ]
    },
    {
     "name": "stdout",
     "output_type": "stream",
     "text": [
      "Train Epoch: 63 [0/17825 (0%)]\tLoss: 0.044430\n"
     ]
    },
    {
     "name": "stderr",
     "output_type": "stream",
     "text": [
      " 62%|██████▏   | 62.400000000005626/100 [01:42<00:58,  1.55s/it]"
     ]
    },
    {
     "name": "stdout",
     "output_type": "stream",
     "text": [
      "Train Epoch: 63 [5120/17825 (29%)]\tLoss: 0.020611\n"
     ]
    },
    {
     "name": "stderr",
     "output_type": "stream",
     "text": [
      " 63%|██████▎   | 62.62500000000568/100 [01:42<00:55,  1.48s/it] "
     ]
    },
    {
     "name": "stdout",
     "output_type": "stream",
     "text": [
      "Train Epoch: 63 [10240/17825 (57%)]\tLoss: 0.027479\n"
     ]
    },
    {
     "name": "stderr",
     "output_type": "stream",
     "text": [
      " 63%|██████▎   | 62.85000000000573/100 [01:43<00:54,  1.47s/it] "
     ]
    },
    {
     "name": "stdout",
     "output_type": "stream",
     "text": [
      "Train Epoch: 63 [15360/17825 (86%)]\tLoss: 0.051771\n"
     ]
    },
    {
     "name": "stderr",
     "output_type": "stream",
     "text": [
      " 63%|██████▎   | 62.925000000005745/100 [01:43<01:06,  1.80s/it]"
     ]
    },
    {
     "name": "stdout",
     "output_type": "stream",
     "text": [
      "\n",
      "Test Epoch: 63\tAccuracy: 2158/2337 (92%)\n",
      "\n"
     ]
    },
    {
     "name": "stderr",
     "output_type": "stream",
     "text": [
      " 63%|██████▎   | 63.012500000005765/100 [01:43<01:16,  2.07s/it]"
     ]
    },
    {
     "name": "stdout",
     "output_type": "stream",
     "text": [
      "Train Epoch: 64 [0/17825 (0%)]\tLoss: 0.017328\n"
     ]
    },
    {
     "name": "stderr",
     "output_type": "stream",
     "text": [
      " 63%|██████▎   | 63.40000000000585/100 [01:44<00:57,  1.56s/it] "
     ]
    },
    {
     "name": "stdout",
     "output_type": "stream",
     "text": [
      "Train Epoch: 64 [5120/17825 (29%)]\tLoss: 0.047597\n"
     ]
    },
    {
     "name": "stderr",
     "output_type": "stream",
     "text": [
      " 64%|██████▎   | 63.625000000005905/100 [01:44<00:54,  1.49s/it]"
     ]
    },
    {
     "name": "stdout",
     "output_type": "stream",
     "text": [
      "Train Epoch: 64 [10240/17825 (57%)]\tLoss: 0.045112\n"
     ]
    },
    {
     "name": "stderr",
     "output_type": "stream",
     "text": [
      " 64%|██████▍   | 63.850000000005956/100 [01:44<00:53,  1.48s/it]"
     ]
    },
    {
     "name": "stdout",
     "output_type": "stream",
     "text": [
      "Train Epoch: 64 [15360/17825 (86%)]\tLoss: 0.006608\n"
     ]
    },
    {
     "name": "stderr",
     "output_type": "stream",
     "text": [
      " 64%|██████▍   | 63.92500000000597/100 [01:45<01:05,  1.81s/it] "
     ]
    },
    {
     "name": "stdout",
     "output_type": "stream",
     "text": [
      "\n",
      "Test Epoch: 64\tAccuracy: 2161/2337 (92%)\n",
      "\n"
     ]
    },
    {
     "name": "stderr",
     "output_type": "stream",
     "text": [
      " 64%|██████▍   | 64.01250000000599/100 [01:45<01:13,  2.05s/it]"
     ]
    },
    {
     "name": "stdout",
     "output_type": "stream",
     "text": [
      "Train Epoch: 65 [0/17825 (0%)]\tLoss: 0.044938\n"
     ]
    },
    {
     "name": "stderr",
     "output_type": "stream",
     "text": [
      " 64%|██████▍   | 64.40000000000607/100 [01:45<00:55,  1.55s/it]"
     ]
    },
    {
     "name": "stdout",
     "output_type": "stream",
     "text": [
      "Train Epoch: 65 [5120/17825 (29%)]\tLoss: 0.032388\n"
     ]
    },
    {
     "name": "stderr",
     "output_type": "stream",
     "text": [
      " 65%|██████▍   | 64.62500000000612/100 [01:46<00:52,  1.49s/it]"
     ]
    },
    {
     "name": "stdout",
     "output_type": "stream",
     "text": [
      "Train Epoch: 65 [10240/17825 (57%)]\tLoss: 0.029788\n"
     ]
    },
    {
     "name": "stderr",
     "output_type": "stream",
     "text": [
      " 65%|██████▍   | 64.85000000000618/100 [01:46<00:51,  1.47s/it]"
     ]
    },
    {
     "name": "stdout",
     "output_type": "stream",
     "text": [
      "Train Epoch: 65 [15360/17825 (86%)]\tLoss: 0.046976\n"
     ]
    },
    {
     "name": "stderr",
     "output_type": "stream",
     "text": [
      " 65%|██████▍   | 64.9250000000062/100 [01:46<01:02,  1.79s/it] "
     ]
    },
    {
     "name": "stdout",
     "output_type": "stream",
     "text": [
      "\n",
      "Test Epoch: 65\tAccuracy: 2166/2337 (93%)\n",
      "\n"
     ]
    },
    {
     "name": "stderr",
     "output_type": "stream",
     "text": [
      " 65%|██████▌   | 65.01250000000621/100 [01:46<01:09,  2.00s/it]"
     ]
    },
    {
     "name": "stdout",
     "output_type": "stream",
     "text": [
      "Train Epoch: 66 [0/17825 (0%)]\tLoss: 0.030363\n"
     ]
    },
    {
     "name": "stderr",
     "output_type": "stream",
     "text": [
      " 65%|██████▌   | 65.3875000000063/100 [01:47<00:53,  1.55s/it] "
     ]
    },
    {
     "name": "stdout",
     "output_type": "stream",
     "text": [
      "Train Epoch: 66 [5120/17825 (29%)]\tLoss: 0.032426\n"
     ]
    },
    {
     "name": "stderr",
     "output_type": "stream",
     "text": [
      " 66%|██████▌   | 65.61250000000635/100 [01:47<00:51,  1.49s/it]"
     ]
    },
    {
     "name": "stdout",
     "output_type": "stream",
     "text": [
      "Train Epoch: 66 [10240/17825 (57%)]\tLoss: 0.029020\n"
     ]
    },
    {
     "name": "stderr",
     "output_type": "stream",
     "text": [
      " 66%|██████▌   | 65.8500000000064/100 [01:48<00:50,  1.47s/it] "
     ]
    },
    {
     "name": "stdout",
     "output_type": "stream",
     "text": [
      "Train Epoch: 66 [15360/17825 (86%)]\tLoss: 0.046506\n"
     ]
    },
    {
     "name": "stderr",
     "output_type": "stream",
     "text": [
      " 66%|██████▌   | 65.92500000000642/100 [01:48<01:00,  1.77s/it]"
     ]
    },
    {
     "name": "stdout",
     "output_type": "stream",
     "text": [
      "\n",
      "Test Epoch: 66\tAccuracy: 2162/2337 (93%)\n",
      "\n"
     ]
    },
    {
     "name": "stderr",
     "output_type": "stream",
     "text": [
      " 66%|██████▌   | 66.01250000000644/100 [01:48<01:09,  2.03s/it]"
     ]
    },
    {
     "name": "stdout",
     "output_type": "stream",
     "text": [
      "Train Epoch: 67 [0/17825 (0%)]\tLoss: 0.055700\n"
     ]
    },
    {
     "name": "stderr",
     "output_type": "stream",
     "text": [
      " 66%|██████▋   | 66.38750000000653/100 [01:49<00:52,  1.57s/it]"
     ]
    },
    {
     "name": "stdout",
     "output_type": "stream",
     "text": [
      "Train Epoch: 67 [5120/17825 (29%)]\tLoss: 0.025367\n"
     ]
    },
    {
     "name": "stderr",
     "output_type": "stream",
     "text": [
      " 67%|██████▋   | 66.61250000000658/100 [01:49<00:49,  1.49s/it]"
     ]
    },
    {
     "name": "stdout",
     "output_type": "stream",
     "text": [
      "Train Epoch: 67 [10240/17825 (57%)]\tLoss: 0.039091\n"
     ]
    },
    {
     "name": "stderr",
     "output_type": "stream",
     "text": [
      " 67%|██████▋   | 66.85000000000663/100 [01:49<00:48,  1.45s/it]"
     ]
    },
    {
     "name": "stdout",
     "output_type": "stream",
     "text": [
      "Train Epoch: 67 [15360/17825 (86%)]\tLoss: 0.028036\n"
     ]
    },
    {
     "name": "stderr",
     "output_type": "stream",
     "text": [
      " 67%|██████▋   | 66.92500000000665/100 [01:49<00:58,  1.76s/it]"
     ]
    },
    {
     "name": "stdout",
     "output_type": "stream",
     "text": [
      "\n",
      "Test Epoch: 67\tAccuracy: 2162/2337 (93%)\n",
      "\n"
     ]
    },
    {
     "name": "stderr",
     "output_type": "stream",
     "text": [
      " 67%|██████▋   | 67.01250000000667/100 [01:50<01:06,  2.01s/it]"
     ]
    },
    {
     "name": "stdout",
     "output_type": "stream",
     "text": [
      "Train Epoch: 68 [0/17825 (0%)]\tLoss: 0.029126\n"
     ]
    },
    {
     "name": "stderr",
     "output_type": "stream",
     "text": [
      " 67%|██████▋   | 67.38750000000675/100 [01:50<00:50,  1.56s/it]"
     ]
    },
    {
     "name": "stdout",
     "output_type": "stream",
     "text": [
      "Train Epoch: 68 [5120/17825 (29%)]\tLoss: 0.032790\n"
     ]
    },
    {
     "name": "stderr",
     "output_type": "stream",
     "text": [
      " 68%|██████▊   | 67.6125000000068/100 [01:51<00:48,  1.49s/it] "
     ]
    },
    {
     "name": "stdout",
     "output_type": "stream",
     "text": [
      "Train Epoch: 68 [10240/17825 (57%)]\tLoss: 0.051838\n"
     ]
    },
    {
     "name": "stderr",
     "output_type": "stream",
     "text": [
      " 68%|██████▊   | 67.85000000000686/100 [01:51<00:46,  1.45s/it]"
     ]
    },
    {
     "name": "stdout",
     "output_type": "stream",
     "text": [
      "Train Epoch: 68 [15360/17825 (86%)]\tLoss: 0.041138\n"
     ]
    },
    {
     "name": "stderr",
     "output_type": "stream",
     "text": [
      " 68%|██████▊   | 67.92500000000688/100 [01:51<00:56,  1.75s/it]"
     ]
    },
    {
     "name": "stdout",
     "output_type": "stream",
     "text": [
      "\n",
      "Test Epoch: 68\tAccuracy: 2159/2337 (92%)\n",
      "\n"
     ]
    },
    {
     "name": "stderr",
     "output_type": "stream",
     "text": [
      " 68%|██████▊   | 68.0125000000069/100 [01:51<01:03,  2.00s/it] "
     ]
    },
    {
     "name": "stdout",
     "output_type": "stream",
     "text": [
      "Train Epoch: 69 [0/17825 (0%)]\tLoss: 0.052193\n"
     ]
    },
    {
     "name": "stderr",
     "output_type": "stream",
     "text": [
      " 68%|██████▊   | 68.38750000000698/100 [01:52<00:48,  1.54s/it]"
     ]
    },
    {
     "name": "stdout",
     "output_type": "stream",
     "text": [
      "Train Epoch: 69 [5120/17825 (29%)]\tLoss: 0.014813\n"
     ]
    },
    {
     "name": "stderr",
     "output_type": "stream",
     "text": [
      " 69%|██████▊   | 68.61250000000703/100 [01:52<00:46,  1.48s/it]"
     ]
    },
    {
     "name": "stdout",
     "output_type": "stream",
     "text": [
      "Train Epoch: 69 [10240/17825 (57%)]\tLoss: 0.026570\n"
     ]
    },
    {
     "name": "stderr",
     "output_type": "stream",
     "text": [
      " 69%|██████▉   | 68.85000000000709/100 [01:53<00:45,  1.46s/it]"
     ]
    },
    {
     "name": "stdout",
     "output_type": "stream",
     "text": [
      "Train Epoch: 69 [15360/17825 (86%)]\tLoss: 0.044190\n"
     ]
    },
    {
     "name": "stderr",
     "output_type": "stream",
     "text": [
      " 69%|██████▉   | 68.9250000000071/100 [01:53<00:55,  1.77s/it] "
     ]
    },
    {
     "name": "stdout",
     "output_type": "stream",
     "text": [
      "\n",
      "Test Epoch: 69\tAccuracy: 2160/2337 (92%)\n",
      "\n"
     ]
    },
    {
     "name": "stderr",
     "output_type": "stream",
     "text": [
      " 69%|██████▉   | 69.01250000000712/100 [01:53<01:02,  2.01s/it]"
     ]
    },
    {
     "name": "stdout",
     "output_type": "stream",
     "text": [
      "Train Epoch: 70 [0/17825 (0%)]\tLoss: 0.049107\n"
     ]
    },
    {
     "name": "stderr",
     "output_type": "stream",
     "text": [
      " 69%|██████▉   | 69.40000000000721/100 [01:53<00:47,  1.54s/it]"
     ]
    },
    {
     "name": "stdout",
     "output_type": "stream",
     "text": [
      "Train Epoch: 70 [5120/17825 (29%)]\tLoss: 0.032235\n"
     ]
    },
    {
     "name": "stderr",
     "output_type": "stream",
     "text": [
      " 70%|██████▉   | 69.62500000000726/100 [01:54<00:45,  1.49s/it]"
     ]
    },
    {
     "name": "stdout",
     "output_type": "stream",
     "text": [
      "Train Epoch: 70 [10240/17825 (57%)]\tLoss: 0.039576\n"
     ]
    },
    {
     "name": "stderr",
     "output_type": "stream",
     "text": [
      " 70%|██████▉   | 69.85000000000731/100 [01:54<00:44,  1.47s/it]"
     ]
    },
    {
     "name": "stdout",
     "output_type": "stream",
     "text": [
      "Train Epoch: 70 [15360/17825 (86%)]\tLoss: 0.042809\n"
     ]
    },
    {
     "name": "stderr",
     "output_type": "stream",
     "text": [
      " 70%|██████▉   | 69.92500000000733/100 [01:54<00:53,  1.79s/it]"
     ]
    },
    {
     "name": "stdout",
     "output_type": "stream",
     "text": [
      "\n",
      "Test Epoch: 70\tAccuracy: 2162/2337 (93%)\n",
      "\n"
     ]
    },
    {
     "name": "stderr",
     "output_type": "stream",
     "text": [
      " 70%|███████   | 70.01250000000735/100 [01:55<01:00,  2.02s/it]"
     ]
    },
    {
     "name": "stdout",
     "output_type": "stream",
     "text": [
      "Train Epoch: 71 [0/17825 (0%)]\tLoss: 0.048196\n"
     ]
    },
    {
     "name": "stderr",
     "output_type": "stream",
     "text": [
      " 70%|███████   | 70.38750000000744/100 [01:55<00:46,  1.56s/it]"
     ]
    },
    {
     "name": "stdout",
     "output_type": "stream",
     "text": [
      "Train Epoch: 71 [5120/17825 (29%)]\tLoss: 0.068994\n"
     ]
    },
    {
     "name": "stderr",
     "output_type": "stream",
     "text": [
      " 71%|███████   | 70.61250000000749/100 [01:55<00:44,  1.50s/it]"
     ]
    },
    {
     "name": "stdout",
     "output_type": "stream",
     "text": [
      "Train Epoch: 71 [10240/17825 (57%)]\tLoss: 0.048170\n"
     ]
    },
    {
     "name": "stderr",
     "output_type": "stream",
     "text": [
      " 71%|███████   | 70.85000000000754/100 [01:56<00:42,  1.46s/it]"
     ]
    },
    {
     "name": "stdout",
     "output_type": "stream",
     "text": [
      "Train Epoch: 71 [15360/17825 (86%)]\tLoss: 0.046903\n"
     ]
    },
    {
     "name": "stderr",
     "output_type": "stream",
     "text": [
      " 71%|███████   | 70.92500000000756/100 [01:56<00:51,  1.77s/it]"
     ]
    },
    {
     "name": "stdout",
     "output_type": "stream",
     "text": [
      "\n",
      "Test Epoch: 71\tAccuracy: 2159/2337 (92%)\n",
      "\n"
     ]
    },
    {
     "name": "stderr",
     "output_type": "stream",
     "text": [
      " 71%|███████   | 71.01250000000758/100 [01:56<00:58,  2.02s/it]"
     ]
    },
    {
     "name": "stdout",
     "output_type": "stream",
     "text": [
      "Train Epoch: 72 [0/17825 (0%)]\tLoss: 0.034864\n"
     ]
    },
    {
     "name": "stderr",
     "output_type": "stream",
     "text": [
      " 71%|███████▏  | 71.40000000000767/100 [01:57<00:44,  1.56s/it]"
     ]
    },
    {
     "name": "stdout",
     "output_type": "stream",
     "text": [
      "Train Epoch: 72 [5120/17825 (29%)]\tLoss: 0.012669\n"
     ]
    },
    {
     "name": "stderr",
     "output_type": "stream",
     "text": [
      " 72%|███████▏  | 71.62500000000772/100 [01:57<00:42,  1.50s/it]"
     ]
    },
    {
     "name": "stdout",
     "output_type": "stream",
     "text": [
      "Train Epoch: 72 [10240/17825 (57%)]\tLoss: 0.030720\n"
     ]
    },
    {
     "name": "stderr",
     "output_type": "stream",
     "text": [
      " 72%|███████▏  | 71.85000000000777/100 [01:57<00:41,  1.49s/it]"
     ]
    },
    {
     "name": "stdout",
     "output_type": "stream",
     "text": [
      "Train Epoch: 72 [15360/17825 (86%)]\tLoss: 0.027381\n"
     ]
    },
    {
     "name": "stderr",
     "output_type": "stream",
     "text": [
      " 72%|███████▏  | 71.92500000000778/100 [01:58<00:50,  1.80s/it]"
     ]
    },
    {
     "name": "stdout",
     "output_type": "stream",
     "text": [
      "\n",
      "Test Epoch: 72\tAccuracy: 2164/2337 (93%)\n",
      "\n"
     ]
    },
    {
     "name": "stderr",
     "output_type": "stream",
     "text": [
      " 72%|███████▏  | 72.0125000000078/100 [01:58<00:57,  2.04s/it] "
     ]
    },
    {
     "name": "stdout",
     "output_type": "stream",
     "text": [
      "Train Epoch: 73 [0/17825 (0%)]\tLoss: 0.029023\n"
     ]
    },
    {
     "name": "stderr",
     "output_type": "stream",
     "text": [
      " 72%|███████▏  | 72.38750000000789/100 [01:58<00:43,  1.58s/it]"
     ]
    },
    {
     "name": "stdout",
     "output_type": "stream",
     "text": [
      "Train Epoch: 73 [5120/17825 (29%)]\tLoss: 0.032454\n"
     ]
    },
    {
     "name": "stderr",
     "output_type": "stream",
     "text": [
      " 73%|███████▎  | 72.61250000000794/100 [01:59<00:41,  1.52s/it]"
     ]
    },
    {
     "name": "stdout",
     "output_type": "stream",
     "text": [
      "Train Epoch: 73 [10240/17825 (57%)]\tLoss: 0.041554\n"
     ]
    },
    {
     "name": "stderr",
     "output_type": "stream",
     "text": [
      " 73%|███████▎  | 72.83750000000799/100 [01:59<00:40,  1.49s/it]"
     ]
    },
    {
     "name": "stdout",
     "output_type": "stream",
     "text": [
      "Train Epoch: 73 [15360/17825 (86%)]\tLoss: 0.029865\n"
     ]
    },
    {
     "name": "stderr",
     "output_type": "stream",
     "text": [
      " 73%|███████▎  | 72.91250000000801/100 [01:59<00:49,  1.81s/it]"
     ]
    },
    {
     "name": "stdout",
     "output_type": "stream",
     "text": [
      "\n",
      "Test Epoch: 73\tAccuracy: 2164/2337 (93%)\n",
      "\n"
     ]
    },
    {
     "name": "stderr",
     "output_type": "stream",
     "text": [
      " 73%|███████▎  | 73.01250000000803/100 [01:59<00:54,  2.00s/it]"
     ]
    },
    {
     "name": "stdout",
     "output_type": "stream",
     "text": [
      "Train Epoch: 74 [0/17825 (0%)]\tLoss: 0.034768\n"
     ]
    },
    {
     "name": "stderr",
     "output_type": "stream",
     "text": [
      " 73%|███████▎  | 73.40000000000812/100 [02:00<00:41,  1.57s/it]"
     ]
    },
    {
     "name": "stdout",
     "output_type": "stream",
     "text": [
      "Train Epoch: 74 [5120/17825 (29%)]\tLoss: 0.025489\n"
     ]
    },
    {
     "name": "stderr",
     "output_type": "stream",
     "text": [
      " 74%|███████▎  | 73.62500000000817/100 [02:00<00:39,  1.50s/it]"
     ]
    },
    {
     "name": "stdout",
     "output_type": "stream",
     "text": [
      "Train Epoch: 74 [10240/17825 (57%)]\tLoss: 0.035852\n"
     ]
    },
    {
     "name": "stderr",
     "output_type": "stream",
     "text": [
      " 74%|███████▍  | 73.85000000000822/100 [02:01<00:38,  1.47s/it]"
     ]
    },
    {
     "name": "stdout",
     "output_type": "stream",
     "text": [
      "Train Epoch: 74 [15360/17825 (86%)]\tLoss: 0.027151\n"
     ]
    },
    {
     "name": "stderr",
     "output_type": "stream",
     "text": [
      " 74%|███████▍  | 73.92500000000824/100 [02:01<00:46,  1.78s/it]"
     ]
    },
    {
     "name": "stdout",
     "output_type": "stream",
     "text": [
      "\n",
      "Test Epoch: 74\tAccuracy: 2159/2337 (92%)\n",
      "\n"
     ]
    },
    {
     "name": "stderr",
     "output_type": "stream",
     "text": [
      " 74%|███████▍  | 74.01250000000826/100 [02:01<00:51,  1.99s/it]"
     ]
    },
    {
     "name": "stdout",
     "output_type": "stream",
     "text": [
      "Train Epoch: 75 [0/17825 (0%)]\tLoss: 0.015362\n"
     ]
    },
    {
     "name": "stderr",
     "output_type": "stream",
     "text": [
      " 74%|███████▍  | 74.40000000000835/100 [02:02<00:39,  1.54s/it]"
     ]
    },
    {
     "name": "stdout",
     "output_type": "stream",
     "text": [
      "Train Epoch: 75 [5120/17825 (29%)]\tLoss: 0.037154\n"
     ]
    },
    {
     "name": "stderr",
     "output_type": "stream",
     "text": [
      " 75%|███████▍  | 74.6250000000084/100 [02:02<00:37,  1.48s/it] "
     ]
    },
    {
     "name": "stdout",
     "output_type": "stream",
     "text": [
      "Train Epoch: 75 [10240/17825 (57%)]\tLoss: 0.028368\n"
     ]
    },
    {
     "name": "stderr",
     "output_type": "stream",
     "text": [
      " 75%|███████▍  | 74.85000000000845/100 [02:02<00:36,  1.47s/it]"
     ]
    },
    {
     "name": "stdout",
     "output_type": "stream",
     "text": [
      "Train Epoch: 75 [15360/17825 (86%)]\tLoss: 0.079747\n"
     ]
    },
    {
     "name": "stderr",
     "output_type": "stream",
     "text": [
      " 75%|███████▍  | 74.92500000000847/100 [02:02<00:44,  1.76s/it]"
     ]
    },
    {
     "name": "stdout",
     "output_type": "stream",
     "text": [
      "\n",
      "Test Epoch: 75\tAccuracy: 2160/2337 (92%)\n",
      "\n"
     ]
    },
    {
     "name": "stderr",
     "output_type": "stream",
     "text": [
      " 75%|███████▌  | 75.01250000000849/100 [02:03<00:50,  2.01s/it]"
     ]
    },
    {
     "name": "stdout",
     "output_type": "stream",
     "text": [
      "Train Epoch: 76 [0/17825 (0%)]\tLoss: 0.040256\n"
     ]
    },
    {
     "name": "stderr",
     "output_type": "stream",
     "text": [
      " 75%|███████▌  | 75.40000000000857/100 [02:03<00:37,  1.54s/it]"
     ]
    },
    {
     "name": "stdout",
     "output_type": "stream",
     "text": [
      "Train Epoch: 76 [5120/17825 (29%)]\tLoss: 0.013881\n"
     ]
    },
    {
     "name": "stderr",
     "output_type": "stream",
     "text": [
      " 76%|███████▌  | 75.62500000000863/100 [02:04<00:36,  1.49s/it]"
     ]
    },
    {
     "name": "stdout",
     "output_type": "stream",
     "text": [
      "Train Epoch: 76 [10240/17825 (57%)]\tLoss: 0.027493\n"
     ]
    },
    {
     "name": "stderr",
     "output_type": "stream",
     "text": [
      " 76%|███████▌  | 75.85000000000868/100 [02:04<00:35,  1.47s/it]"
     ]
    },
    {
     "name": "stdout",
     "output_type": "stream",
     "text": [
      "Train Epoch: 76 [15360/17825 (86%)]\tLoss: 0.053175\n"
     ]
    },
    {
     "name": "stderr",
     "output_type": "stream",
     "text": [
      " 76%|███████▌  | 75.9250000000087/100 [02:04<00:42,  1.76s/it] "
     ]
    },
    {
     "name": "stdout",
     "output_type": "stream",
     "text": [
      "\n",
      "Test Epoch: 76\tAccuracy: 2163/2337 (93%)\n",
      "\n"
     ]
    },
    {
     "name": "stderr",
     "output_type": "stream",
     "text": [
      " 76%|███████▌  | 76.01250000000871/100 [02:04<00:47,  1.97s/it]"
     ]
    },
    {
     "name": "stdout",
     "output_type": "stream",
     "text": [
      "Train Epoch: 77 [0/17825 (0%)]\tLoss: 0.018100\n"
     ]
    },
    {
     "name": "stderr",
     "output_type": "stream",
     "text": [
      " 76%|███████▋  | 76.4000000000088/100 [02:05<00:36,  1.55s/it] "
     ]
    },
    {
     "name": "stdout",
     "output_type": "stream",
     "text": [
      "Train Epoch: 77 [5120/17825 (29%)]\tLoss: 0.028911\n"
     ]
    },
    {
     "name": "stderr",
     "output_type": "stream",
     "text": [
      " 77%|███████▋  | 76.62500000000885/100 [02:05<00:34,  1.49s/it]"
     ]
    },
    {
     "name": "stdout",
     "output_type": "stream",
     "text": [
      "Train Epoch: 77 [10240/17825 (57%)]\tLoss: 0.032242\n"
     ]
    },
    {
     "name": "stderr",
     "output_type": "stream",
     "text": [
      " 77%|███████▋  | 76.8500000000089/100 [02:06<00:34,  1.48s/it] "
     ]
    },
    {
     "name": "stdout",
     "output_type": "stream",
     "text": [
      "Train Epoch: 77 [15360/17825 (86%)]\tLoss: 0.060888\n"
     ]
    },
    {
     "name": "stderr",
     "output_type": "stream",
     "text": [
      " 77%|███████▋  | 76.92500000000892/100 [02:06<00:41,  1.80s/it]"
     ]
    },
    {
     "name": "stdout",
     "output_type": "stream",
     "text": [
      "\n",
      "Test Epoch: 77\tAccuracy: 2161/2337 (92%)\n",
      "\n"
     ]
    },
    {
     "name": "stderr",
     "output_type": "stream",
     "text": [
      " 77%|███████▋  | 77.01250000000894/100 [02:06<00:47,  2.07s/it]"
     ]
    },
    {
     "name": "stdout",
     "output_type": "stream",
     "text": [
      "Train Epoch: 78 [0/17825 (0%)]\tLoss: 0.029261\n"
     ]
    },
    {
     "name": "stderr",
     "output_type": "stream",
     "text": [
      " 77%|███████▋  | 77.40000000000903/100 [02:06<00:35,  1.55s/it]"
     ]
    },
    {
     "name": "stdout",
     "output_type": "stream",
     "text": [
      "Train Epoch: 78 [5120/17825 (29%)]\tLoss: 0.058636\n"
     ]
    },
    {
     "name": "stderr",
     "output_type": "stream",
     "text": [
      " 78%|███████▊  | 77.62500000000908/100 [02:07<00:33,  1.49s/it]"
     ]
    },
    {
     "name": "stdout",
     "output_type": "stream",
     "text": [
      "Train Epoch: 78 [10240/17825 (57%)]\tLoss: 0.022697\n"
     ]
    },
    {
     "name": "stderr",
     "output_type": "stream",
     "text": [
      " 78%|███████▊  | 77.85000000000913/100 [02:07<00:32,  1.47s/it]"
     ]
    },
    {
     "name": "stdout",
     "output_type": "stream",
     "text": [
      "Train Epoch: 78 [15360/17825 (86%)]\tLoss: 0.011813\n"
     ]
    },
    {
     "name": "stderr",
     "output_type": "stream",
     "text": [
      " 78%|███████▊  | 77.92500000000915/100 [02:07<00:39,  1.78s/it]"
     ]
    },
    {
     "name": "stdout",
     "output_type": "stream",
     "text": [
      "\n",
      "Test Epoch: 78\tAccuracy: 2159/2337 (92%)\n",
      "\n"
     ]
    },
    {
     "name": "stderr",
     "output_type": "stream",
     "text": [
      " 78%|███████▊  | 78.01250000000917/100 [02:08<00:44,  2.02s/it]"
     ]
    },
    {
     "name": "stdout",
     "output_type": "stream",
     "text": [
      "Train Epoch: 79 [0/17825 (0%)]\tLoss: 0.031004\n"
     ]
    },
    {
     "name": "stderr",
     "output_type": "stream",
     "text": [
      " 78%|███████▊  | 78.40000000000926/100 [02:08<00:33,  1.56s/it]"
     ]
    },
    {
     "name": "stdout",
     "output_type": "stream",
     "text": [
      "Train Epoch: 79 [5120/17825 (29%)]\tLoss: 0.039990\n"
     ]
    },
    {
     "name": "stderr",
     "output_type": "stream",
     "text": [
      " 79%|███████▊  | 78.62500000000931/100 [02:08<00:32,  1.50s/it]"
     ]
    },
    {
     "name": "stdout",
     "output_type": "stream",
     "text": [
      "Train Epoch: 79 [10240/17825 (57%)]\tLoss: 0.016735\n"
     ]
    },
    {
     "name": "stderr",
     "output_type": "stream",
     "text": [
      " 79%|███████▉  | 78.85000000000936/100 [02:09<00:31,  1.49s/it]"
     ]
    },
    {
     "name": "stdout",
     "output_type": "stream",
     "text": [
      "Train Epoch: 79 [15360/17825 (86%)]\tLoss: 0.025564\n"
     ]
    },
    {
     "name": "stderr",
     "output_type": "stream",
     "text": [
      " 79%|███████▉  | 78.92500000000938/100 [02:09<00:37,  1.79s/it]"
     ]
    },
    {
     "name": "stdout",
     "output_type": "stream",
     "text": [
      "\n",
      "Test Epoch: 79\tAccuracy: 2158/2337 (92%)\n",
      "\n"
     ]
    },
    {
     "name": "stderr",
     "output_type": "stream",
     "text": [
      " 79%|███████▉  | 79.0125000000094/100 [02:09<00:42,  2.02s/it] "
     ]
    },
    {
     "name": "stdout",
     "output_type": "stream",
     "text": [
      "Train Epoch: 80 [0/17825 (0%)]\tLoss: 0.050094\n"
     ]
    },
    {
     "name": "stderr",
     "output_type": "stream",
     "text": [
      " 79%|███████▉  | 79.40000000000948/100 [02:10<00:31,  1.54s/it]"
     ]
    },
    {
     "name": "stdout",
     "output_type": "stream",
     "text": [
      "Train Epoch: 80 [5120/17825 (29%)]\tLoss: 0.030304\n"
     ]
    },
    {
     "name": "stderr",
     "output_type": "stream",
     "text": [
      " 80%|███████▉  | 79.62500000000954/100 [02:10<00:30,  1.49s/it]"
     ]
    },
    {
     "name": "stdout",
     "output_type": "stream",
     "text": [
      "Train Epoch: 80 [10240/17825 (57%)]\tLoss: 0.032680\n"
     ]
    },
    {
     "name": "stderr",
     "output_type": "stream",
     "text": [
      " 80%|███████▉  | 79.85000000000959/100 [02:10<00:29,  1.47s/it]"
     ]
    },
    {
     "name": "stdout",
     "output_type": "stream",
     "text": [
      "Train Epoch: 80 [15360/17825 (86%)]\tLoss: 0.064173\n"
     ]
    },
    {
     "name": "stderr",
     "output_type": "stream",
     "text": [
      " 80%|███████▉  | 79.9250000000096/100 [02:11<00:35,  1.77s/it] "
     ]
    },
    {
     "name": "stdout",
     "output_type": "stream",
     "text": [
      "\n",
      "Test Epoch: 80\tAccuracy: 2157/2337 (92%)\n",
      "\n"
     ]
    },
    {
     "name": "stderr",
     "output_type": "stream",
     "text": [
      " 80%|████████  | 80.01250000000962/100 [02:11<00:39,  2.00s/it]"
     ]
    },
    {
     "name": "stdout",
     "output_type": "stream",
     "text": [
      "Train Epoch: 81 [0/17825 (0%)]\tLoss: 0.043017\n"
     ]
    },
    {
     "name": "stderr",
     "output_type": "stream",
     "text": [
      " 80%|████████  | 80.40000000000971/100 [02:11<00:30,  1.56s/it]"
     ]
    },
    {
     "name": "stdout",
     "output_type": "stream",
     "text": [
      "Train Epoch: 81 [5120/17825 (29%)]\tLoss: 0.025802\n"
     ]
    },
    {
     "name": "stderr",
     "output_type": "stream",
     "text": [
      " 81%|████████  | 80.62500000000976/100 [02:12<00:29,  1.50s/it]"
     ]
    },
    {
     "name": "stdout",
     "output_type": "stream",
     "text": [
      "Train Epoch: 81 [10240/17825 (57%)]\tLoss: 0.036205\n"
     ]
    },
    {
     "name": "stderr",
     "output_type": "stream",
     "text": [
      " 81%|████████  | 80.85000000000981/100 [02:12<00:28,  1.48s/it]"
     ]
    },
    {
     "name": "stdout",
     "output_type": "stream",
     "text": [
      "Train Epoch: 81 [15360/17825 (86%)]\tLoss: 0.023919\n"
     ]
    },
    {
     "name": "stderr",
     "output_type": "stream",
     "text": [
      " 81%|████████  | 80.92500000000983/100 [02:12<00:34,  1.83s/it]"
     ]
    },
    {
     "name": "stdout",
     "output_type": "stream",
     "text": [
      "\n",
      "Test Epoch: 81\tAccuracy: 2157/2337 (92%)\n",
      "\n"
     ]
    },
    {
     "name": "stderr",
     "output_type": "stream",
     "text": [
      " 81%|████████  | 81.01250000000985/100 [02:12<00:38,  2.02s/it]"
     ]
    },
    {
     "name": "stdout",
     "output_type": "stream",
     "text": [
      "Train Epoch: 82 [0/17825 (0%)]\tLoss: 0.032314\n"
     ]
    },
    {
     "name": "stderr",
     "output_type": "stream",
     "text": [
      " 81%|████████▏ | 81.40000000000994/100 [02:13<00:28,  1.56s/it]"
     ]
    },
    {
     "name": "stdout",
     "output_type": "stream",
     "text": [
      "Train Epoch: 82 [5120/17825 (29%)]\tLoss: 0.028318\n"
     ]
    },
    {
     "name": "stderr",
     "output_type": "stream",
     "text": [
      " 82%|████████▏ | 81.62500000000999/100 [02:13<00:27,  1.50s/it]"
     ]
    },
    {
     "name": "stdout",
     "output_type": "stream",
     "text": [
      "Train Epoch: 82 [10240/17825 (57%)]\tLoss: 0.048357\n"
     ]
    },
    {
     "name": "stderr",
     "output_type": "stream",
     "text": [
      " 82%|████████▏ | 81.85000000001004/100 [02:14<00:26,  1.48s/it]"
     ]
    },
    {
     "name": "stdout",
     "output_type": "stream",
     "text": [
      "Train Epoch: 82 [15360/17825 (86%)]\tLoss: 0.036698\n"
     ]
    },
    {
     "name": "stderr",
     "output_type": "stream",
     "text": [
      " 82%|████████▏ | 81.92500000001006/100 [02:14<00:32,  1.77s/it]"
     ]
    },
    {
     "name": "stdout",
     "output_type": "stream",
     "text": [
      "\n",
      "Test Epoch: 82\tAccuracy: 2160/2337 (92%)\n",
      "\n"
     ]
    },
    {
     "name": "stderr",
     "output_type": "stream",
     "text": [
      " 82%|████████▏ | 82.01250000001008/100 [02:14<00:36,  2.02s/it]"
     ]
    },
    {
     "name": "stdout",
     "output_type": "stream",
     "text": [
      "Train Epoch: 83 [0/17825 (0%)]\tLoss: 0.036255\n"
     ]
    },
    {
     "name": "stderr",
     "output_type": "stream",
     "text": [
      " 82%|████████▏ | 82.40000000001017/100 [02:15<00:27,  1.55s/it]"
     ]
    },
    {
     "name": "stdout",
     "output_type": "stream",
     "text": [
      "Train Epoch: 83 [5120/17825 (29%)]\tLoss: 0.025749\n"
     ]
    },
    {
     "name": "stderr",
     "output_type": "stream",
     "text": [
      " 83%|████████▎ | 82.62500000001022/100 [02:15<00:25,  1.49s/it]"
     ]
    },
    {
     "name": "stdout",
     "output_type": "stream",
     "text": [
      "Train Epoch: 83 [10240/17825 (57%)]\tLoss: 0.052761\n"
     ]
    },
    {
     "name": "stderr",
     "output_type": "stream",
     "text": [
      " 83%|████████▎ | 82.85000000001027/100 [02:15<00:25,  1.48s/it]"
     ]
    },
    {
     "name": "stdout",
     "output_type": "stream",
     "text": [
      "Train Epoch: 83 [15360/17825 (86%)]\tLoss: 0.029644\n"
     ]
    },
    {
     "name": "stderr",
     "output_type": "stream",
     "text": [
      " 83%|████████▎ | 82.92500000001029/100 [02:15<00:30,  1.77s/it]"
     ]
    },
    {
     "name": "stdout",
     "output_type": "stream",
     "text": [
      "\n",
      "Test Epoch: 83\tAccuracy: 2160/2337 (92%)\n",
      "\n"
     ]
    },
    {
     "name": "stderr",
     "output_type": "stream",
     "text": [
      " 83%|████████▎ | 83.0125000000103/100 [02:16<00:33,  2.00s/it] "
     ]
    },
    {
     "name": "stdout",
     "output_type": "stream",
     "text": [
      "Train Epoch: 84 [0/17825 (0%)]\tLoss: 0.013127\n"
     ]
    },
    {
     "name": "stderr",
     "output_type": "stream",
     "text": [
      " 83%|████████▎ | 83.4000000000104/100 [02:16<00:25,  1.54s/it] "
     ]
    },
    {
     "name": "stdout",
     "output_type": "stream",
     "text": [
      "Train Epoch: 84 [5120/17825 (29%)]\tLoss: 0.038236\n"
     ]
    },
    {
     "name": "stderr",
     "output_type": "stream",
     "text": [
      " 84%|████████▎ | 83.62500000001044/100 [02:17<00:24,  1.48s/it]"
     ]
    },
    {
     "name": "stdout",
     "output_type": "stream",
     "text": [
      "Train Epoch: 84 [10240/17825 (57%)]\tLoss: 0.046069\n"
     ]
    },
    {
     "name": "stderr",
     "output_type": "stream",
     "text": [
      " 84%|████████▍ | 83.8500000000105/100 [02:17<00:23,  1.46s/it] "
     ]
    },
    {
     "name": "stdout",
     "output_type": "stream",
     "text": [
      "Train Epoch: 84 [15360/17825 (86%)]\tLoss: 0.031132\n"
     ]
    },
    {
     "name": "stderr",
     "output_type": "stream",
     "text": [
      " 84%|████████▍ | 83.92500000001051/100 [02:17<00:28,  1.79s/it]"
     ]
    },
    {
     "name": "stdout",
     "output_type": "stream",
     "text": [
      "\n",
      "Test Epoch: 84\tAccuracy: 2158/2337 (92%)\n",
      "\n"
     ]
    },
    {
     "name": "stderr",
     "output_type": "stream",
     "text": [
      " 84%|████████▍ | 84.01250000001053/100 [02:17<00:32,  2.03s/it]"
     ]
    },
    {
     "name": "stdout",
     "output_type": "stream",
     "text": [
      "Train Epoch: 85 [0/17825 (0%)]\tLoss: 0.045181\n"
     ]
    },
    {
     "name": "stderr",
     "output_type": "stream",
     "text": [
      " 84%|████████▍ | 84.40000000001062/100 [02:18<00:24,  1.55s/it]"
     ]
    },
    {
     "name": "stdout",
     "output_type": "stream",
     "text": [
      "Train Epoch: 85 [5120/17825 (29%)]\tLoss: 0.009987\n"
     ]
    },
    {
     "name": "stderr",
     "output_type": "stream",
     "text": [
      " 85%|████████▍ | 84.62500000001067/100 [02:18<00:23,  1.50s/it]"
     ]
    },
    {
     "name": "stdout",
     "output_type": "stream",
     "text": [
      "Train Epoch: 85 [10240/17825 (57%)]\tLoss: 0.037287\n"
     ]
    },
    {
     "name": "stderr",
     "output_type": "stream",
     "text": [
      " 85%|████████▍ | 84.85000000001072/100 [02:18<00:22,  1.48s/it]"
     ]
    },
    {
     "name": "stdout",
     "output_type": "stream",
     "text": [
      "Train Epoch: 85 [15360/17825 (86%)]\tLoss: 0.054346\n"
     ]
    },
    {
     "name": "stderr",
     "output_type": "stream",
     "text": [
      " 85%|████████▍ | 84.92500000001074/100 [02:19<00:27,  1.80s/it]"
     ]
    },
    {
     "name": "stdout",
     "output_type": "stream",
     "text": [
      "\n",
      "Test Epoch: 85\tAccuracy: 2159/2337 (92%)\n",
      "\n"
     ]
    },
    {
     "name": "stderr",
     "output_type": "stream",
     "text": [
      " 85%|████████▌ | 85.01250000001076/100 [02:19<00:31,  2.07s/it]"
     ]
    },
    {
     "name": "stdout",
     "output_type": "stream",
     "text": [
      "Train Epoch: 86 [0/17825 (0%)]\tLoss: 0.031164\n"
     ]
    },
    {
     "name": "stderr",
     "output_type": "stream",
     "text": [
      " 85%|████████▌ | 85.38750000001085/100 [02:19<00:23,  1.61s/it]"
     ]
    },
    {
     "name": "stdout",
     "output_type": "stream",
     "text": [
      "Train Epoch: 86 [5120/17825 (29%)]\tLoss: 0.034775\n"
     ]
    },
    {
     "name": "stderr",
     "output_type": "stream",
     "text": [
      " 86%|████████▌ | 85.6125000000109/100 [02:20<00:22,  1.54s/it] "
     ]
    },
    {
     "name": "stdout",
     "output_type": "stream",
     "text": [
      "Train Epoch: 86 [10240/17825 (57%)]\tLoss: 0.027219\n"
     ]
    },
    {
     "name": "stderr",
     "output_type": "stream",
     "text": [
      " 86%|████████▌ | 85.83750000001095/100 [02:20<00:21,  1.49s/it]"
     ]
    },
    {
     "name": "stdout",
     "output_type": "stream",
     "text": [
      "Train Epoch: 86 [15360/17825 (86%)]\tLoss: 0.023068\n"
     ]
    },
    {
     "name": "stderr",
     "output_type": "stream",
     "text": [
      " 86%|████████▌ | 85.98750000001098/100 [02:20<00:23,  1.71s/it]"
     ]
    },
    {
     "name": "stdout",
     "output_type": "stream",
     "text": [
      "\n",
      "Test Epoch: 86\tAccuracy: 2162/2337 (93%)\n",
      "\n"
     ]
    },
    {
     "name": "stderr",
     "output_type": "stream",
     "text": [
      " 86%|████████▌ | 86.050000000011/100 [02:21<00:28,  2.03s/it]  "
     ]
    },
    {
     "name": "stdout",
     "output_type": "stream",
     "text": [
      "Train Epoch: 87 [0/17825 (0%)]\tLoss: 0.038675\n"
     ]
    },
    {
     "name": "stderr",
     "output_type": "stream",
     "text": [
      " 86%|████████▋ | 86.35000000001106/100 [02:21<00:22,  1.62s/it]"
     ]
    },
    {
     "name": "stdout",
     "output_type": "stream",
     "text": [
      "Train Epoch: 87 [5120/17825 (29%)]\tLoss: 0.035118\n"
     ]
    },
    {
     "name": "stderr",
     "output_type": "stream",
     "text": [
      " 87%|████████▋ | 86.65000000001113/100 [02:22<00:20,  1.52s/it]"
     ]
    },
    {
     "name": "stdout",
     "output_type": "stream",
     "text": [
      "Train Epoch: 87 [10240/17825 (57%)]\tLoss: 0.045648\n"
     ]
    },
    {
     "name": "stderr",
     "output_type": "stream",
     "text": [
      " 87%|████████▋ | 86.87500000001118/100 [02:22<00:19,  1.52s/it]"
     ]
    },
    {
     "name": "stdout",
     "output_type": "stream",
     "text": [
      "Train Epoch: 87 [15360/17825 (86%)]\tLoss: 0.037378\n"
     ]
    },
    {
     "name": "stderr",
     "output_type": "stream",
     "text": [
      " 87%|████████▋ | 86.9500000000112/100 [02:22<00:23,  1.84s/it] "
     ]
    },
    {
     "name": "stdout",
     "output_type": "stream",
     "text": [
      "\n",
      "Test Epoch: 87\tAccuracy: 2161/2337 (92%)\n",
      "\n"
     ]
    },
    {
     "name": "stderr",
     "output_type": "stream",
     "text": [
      " 87%|████████▋ | 87.01250000001122/100 [02:22<00:27,  2.12s/it]"
     ]
    },
    {
     "name": "stdout",
     "output_type": "stream",
     "text": [
      "Train Epoch: 88 [0/17825 (0%)]\tLoss: 0.043845\n"
     ]
    },
    {
     "name": "stderr",
     "output_type": "stream",
     "text": [
      " 87%|████████▋ | 87.3875000000113/100 [02:23<00:19,  1.58s/it] "
     ]
    },
    {
     "name": "stdout",
     "output_type": "stream",
     "text": [
      "Train Epoch: 88 [5120/17825 (29%)]\tLoss: 0.030157\n"
     ]
    },
    {
     "name": "stderr",
     "output_type": "stream",
     "text": [
      " 88%|████████▊ | 87.61250000001135/100 [02:23<00:19,  1.54s/it]"
     ]
    },
    {
     "name": "stdout",
     "output_type": "stream",
     "text": [
      "Train Epoch: 88 [10240/17825 (57%)]\tLoss: 0.056880\n"
     ]
    },
    {
     "name": "stderr",
     "output_type": "stream",
     "text": [
      " 88%|████████▊ | 87.8500000000114/100 [02:23<00:18,  1.49s/it] "
     ]
    },
    {
     "name": "stdout",
     "output_type": "stream",
     "text": [
      "Train Epoch: 88 [15360/17825 (86%)]\tLoss: 0.028163\n"
     ]
    },
    {
     "name": "stderr",
     "output_type": "stream",
     "text": [
      " 88%|████████▊ | 87.92500000001142/100 [02:24<00:21,  1.78s/it]"
     ]
    },
    {
     "name": "stdout",
     "output_type": "stream",
     "text": [
      "\n",
      "Test Epoch: 88\tAccuracy: 2161/2337 (92%)\n",
      "\n"
     ]
    },
    {
     "name": "stderr",
     "output_type": "stream",
     "text": [
      " 88%|████████▊ | 88.01250000001144/100 [02:24<00:24,  2.02s/it]"
     ]
    },
    {
     "name": "stdout",
     "output_type": "stream",
     "text": [
      "Train Epoch: 89 [0/17825 (0%)]\tLoss: 0.033364\n"
     ]
    },
    {
     "name": "stderr",
     "output_type": "stream",
     "text": [
      " 88%|████████▊ | 88.38750000001153/100 [02:24<00:18,  1.57s/it]"
     ]
    },
    {
     "name": "stdout",
     "output_type": "stream",
     "text": [
      "Train Epoch: 89 [5120/17825 (29%)]\tLoss: 0.029063\n"
     ]
    },
    {
     "name": "stderr",
     "output_type": "stream",
     "text": [
      " 89%|████████▊ | 88.61250000001158/100 [02:25<00:17,  1.50s/it]"
     ]
    },
    {
     "name": "stdout",
     "output_type": "stream",
     "text": [
      "Train Epoch: 89 [10240/17825 (57%)]\tLoss: 0.055996\n"
     ]
    },
    {
     "name": "stderr",
     "output_type": "stream",
     "text": [
      " 89%|████████▉ | 88.83750000001163/100 [02:25<00:16,  1.48s/it]"
     ]
    },
    {
     "name": "stdout",
     "output_type": "stream",
     "text": [
      "Train Epoch: 89 [15360/17825 (86%)]\tLoss: 0.057607\n"
     ]
    },
    {
     "name": "stderr",
     "output_type": "stream",
     "text": [
      " 89%|████████▉ | 89.00000000001167/100 [02:25<00:17,  1.58s/it]"
     ]
    },
    {
     "name": "stdout",
     "output_type": "stream",
     "text": [
      "\n",
      "Test Epoch: 89\tAccuracy: 2159/2337 (92%)\n",
      "\n",
      "Train Epoch: 90 [0/17825 (0%)]\tLoss: 0.034042\n"
     ]
    },
    {
     "name": "stderr",
     "output_type": "stream",
     "text": [
      " 89%|████████▉ | 89.37500000001175/100 [02:26<00:16,  1.60s/it]"
     ]
    },
    {
     "name": "stdout",
     "output_type": "stream",
     "text": [
      "Train Epoch: 90 [5120/17825 (29%)]\tLoss: 0.049284\n"
     ]
    },
    {
     "name": "stderr",
     "output_type": "stream",
     "text": [
      " 90%|████████▉ | 89.6000000000118/100 [02:26<00:15,  1.52s/it] "
     ]
    },
    {
     "name": "stdout",
     "output_type": "stream",
     "text": [
      "Train Epoch: 90 [10240/17825 (57%)]\tLoss: 0.037466\n"
     ]
    },
    {
     "name": "stderr",
     "output_type": "stream",
     "text": [
      " 90%|████████▉ | 89.82500000001185/100 [02:27<00:15,  1.50s/it]"
     ]
    },
    {
     "name": "stdout",
     "output_type": "stream",
     "text": [
      "Train Epoch: 90 [15360/17825 (86%)]\tLoss: 0.048200\n"
     ]
    },
    {
     "name": "stderr",
     "output_type": "stream",
     "text": [
      " 90%|████████▉ | 89.98750000001189/100 [02:27<00:16,  1.66s/it]"
     ]
    },
    {
     "name": "stdout",
     "output_type": "stream",
     "text": [
      "\n",
      "Test Epoch: 90\tAccuracy: 2162/2337 (93%)\n",
      "\n"
     ]
    },
    {
     "name": "stderr",
     "output_type": "stream",
     "text": [
      " 90%|█████████ | 90.06250000001191/100 [02:27<00:19,  1.96s/it]"
     ]
    },
    {
     "name": "stdout",
     "output_type": "stream",
     "text": [
      "Train Epoch: 91 [0/17825 (0%)]\tLoss: 0.036124\n"
     ]
    },
    {
     "name": "stderr",
     "output_type": "stream",
     "text": [
      " 90%|█████████ | 90.36250000001198/100 [02:28<00:15,  1.59s/it]"
     ]
    },
    {
     "name": "stdout",
     "output_type": "stream",
     "text": [
      "Train Epoch: 91 [5120/17825 (29%)]\tLoss: 0.028211\n"
     ]
    },
    {
     "name": "stderr",
     "output_type": "stream",
     "text": [
      " 91%|█████████ | 90.60000000001203/100 [02:28<00:14,  1.50s/it]"
     ]
    },
    {
     "name": "stdout",
     "output_type": "stream",
     "text": [
      "Train Epoch: 91 [10240/17825 (57%)]\tLoss: 0.037489\n"
     ]
    },
    {
     "name": "stderr",
     "output_type": "stream",
     "text": [
      " 91%|█████████ | 90.82500000001208/100 [02:28<00:13,  1.48s/it]"
     ]
    },
    {
     "name": "stdout",
     "output_type": "stream",
     "text": [
      "Train Epoch: 91 [15360/17825 (86%)]\tLoss: 0.040927\n"
     ]
    },
    {
     "name": "stderr",
     "output_type": "stream",
     "text": [
      " 91%|█████████ | 90.98750000001212/100 [02:29<00:14,  1.65s/it]"
     ]
    },
    {
     "name": "stdout",
     "output_type": "stream",
     "text": [
      "\n",
      "Test Epoch: 91\tAccuracy: 2160/2337 (92%)\n",
      "\n"
     ]
    },
    {
     "name": "stderr",
     "output_type": "stream",
     "text": [
      " 91%|█████████ | 91.06250000001214/100 [02:29<00:17,  1.93s/it]"
     ]
    },
    {
     "name": "stdout",
     "output_type": "stream",
     "text": [
      "Train Epoch: 92 [0/17825 (0%)]\tLoss: 0.055619\n"
     ]
    },
    {
     "name": "stderr",
     "output_type": "stream",
     "text": [
      " 91%|█████████▏| 91.3625000000122/100 [02:29<00:13,  1.59s/it] "
     ]
    },
    {
     "name": "stdout",
     "output_type": "stream",
     "text": [
      "Train Epoch: 92 [5120/17825 (29%)]\tLoss: 0.040945\n"
     ]
    },
    {
     "name": "stderr",
     "output_type": "stream",
     "text": [
      " 92%|█████████▏| 91.60000000001226/100 [02:30<00:12,  1.50s/it]"
     ]
    },
    {
     "name": "stdout",
     "output_type": "stream",
     "text": [
      "Train Epoch: 92 [10240/17825 (57%)]\tLoss: 0.052496\n"
     ]
    },
    {
     "name": "stderr",
     "output_type": "stream",
     "text": [
      " 92%|█████████▏| 91.82500000001231/100 [02:30<00:12,  1.48s/it]"
     ]
    },
    {
     "name": "stdout",
     "output_type": "stream",
     "text": [
      "Train Epoch: 92 [15360/17825 (86%)]\tLoss: 0.030642\n"
     ]
    },
    {
     "name": "stderr",
     "output_type": "stream",
     "text": [
      " 92%|█████████▏| 91.98750000001235/100 [02:30<00:12,  1.61s/it]"
     ]
    },
    {
     "name": "stdout",
     "output_type": "stream",
     "text": [
      "\n",
      "Test Epoch: 92\tAccuracy: 2157/2337 (92%)\n",
      "\n"
     ]
    },
    {
     "name": "stderr",
     "output_type": "stream",
     "text": [
      " 92%|█████████▏| 92.06250000001236/100 [02:31<00:15,  1.92s/it]"
     ]
    },
    {
     "name": "stdout",
     "output_type": "stream",
     "text": [
      "Train Epoch: 93 [0/17825 (0%)]\tLoss: 0.028034\n"
     ]
    },
    {
     "name": "stderr",
     "output_type": "stream",
     "text": [
      " 92%|█████████▏| 92.36250000001243/100 [02:31<00:12,  1.58s/it]"
     ]
    },
    {
     "name": "stdout",
     "output_type": "stream",
     "text": [
      "Train Epoch: 93 [5120/17825 (29%)]\tLoss: 0.032734\n"
     ]
    },
    {
     "name": "stderr",
     "output_type": "stream",
     "text": [
      " 93%|█████████▎| 92.60000000001249/100 [02:31<00:10,  1.48s/it]"
     ]
    },
    {
     "name": "stdout",
     "output_type": "stream",
     "text": [
      "Train Epoch: 93 [10240/17825 (57%)]\tLoss: 0.038652\n"
     ]
    },
    {
     "name": "stderr",
     "output_type": "stream",
     "text": [
      " 93%|█████████▎| 92.82500000001254/100 [02:32<00:10,  1.48s/it]"
     ]
    },
    {
     "name": "stdout",
     "output_type": "stream",
     "text": [
      "Train Epoch: 93 [15360/17825 (86%)]\tLoss: 0.042194\n"
     ]
    },
    {
     "name": "stderr",
     "output_type": "stream",
     "text": [
      " 93%|█████████▎| 92.98750000001257/100 [02:32<00:11,  1.62s/it]"
     ]
    },
    {
     "name": "stdout",
     "output_type": "stream",
     "text": [
      "\n",
      "Test Epoch: 93\tAccuracy: 2162/2337 (93%)\n",
      "\n"
     ]
    },
    {
     "name": "stderr",
     "output_type": "stream",
     "text": [
      " 93%|█████████▎| 93.06250000001259/100 [02:32<00:13,  1.93s/it]"
     ]
    },
    {
     "name": "stdout",
     "output_type": "stream",
     "text": [
      "Train Epoch: 94 [0/17825 (0%)]\tLoss: 0.033396\n"
     ]
    },
    {
     "name": "stderr",
     "output_type": "stream",
     "text": [
      " 93%|█████████▎| 93.36250000001266/100 [02:33<00:10,  1.60s/it]"
     ]
    },
    {
     "name": "stdout",
     "output_type": "stream",
     "text": [
      "Train Epoch: 94 [5120/17825 (29%)]\tLoss: 0.026400\n"
     ]
    },
    {
     "name": "stderr",
     "output_type": "stream",
     "text": [
      " 94%|█████████▎| 93.60000000001271/100 [02:33<00:09,  1.50s/it]"
     ]
    },
    {
     "name": "stdout",
     "output_type": "stream",
     "text": [
      "Train Epoch: 94 [10240/17825 (57%)]\tLoss: 0.026366\n"
     ]
    },
    {
     "name": "stderr",
     "output_type": "stream",
     "text": [
      " 94%|█████████▍| 93.82500000001276/100 [02:33<00:09,  1.49s/it]"
     ]
    },
    {
     "name": "stdout",
     "output_type": "stream",
     "text": [
      "Train Epoch: 94 [15360/17825 (86%)]\tLoss: 0.033430\n"
     ]
    },
    {
     "name": "stderr",
     "output_type": "stream",
     "text": [
      " 94%|█████████▍| 93.9875000000128/100 [02:34<00:09,  1.63s/it] "
     ]
    },
    {
     "name": "stdout",
     "output_type": "stream",
     "text": [
      "\n",
      "Test Epoch: 94\tAccuracy: 2162/2337 (93%)\n",
      "\n"
     ]
    },
    {
     "name": "stderr",
     "output_type": "stream",
     "text": [
      " 94%|█████████▍| 94.06250000001282/100 [02:34<00:11,  1.91s/it]"
     ]
    },
    {
     "name": "stdout",
     "output_type": "stream",
     "text": [
      "Train Epoch: 95 [0/17825 (0%)]\tLoss: 0.032030\n"
     ]
    },
    {
     "name": "stderr",
     "output_type": "stream",
     "text": [
      " 94%|█████████▍| 94.36250000001289/100 [02:34<00:08,  1.58s/it]"
     ]
    },
    {
     "name": "stdout",
     "output_type": "stream",
     "text": [
      "Train Epoch: 95 [5120/17825 (29%)]\tLoss: 0.065453\n"
     ]
    },
    {
     "name": "stderr",
     "output_type": "stream",
     "text": [
      " 95%|█████████▍| 94.60000000001294/100 [02:35<00:08,  1.49s/it]"
     ]
    },
    {
     "name": "stdout",
     "output_type": "stream",
     "text": [
      "Train Epoch: 95 [10240/17825 (57%)]\tLoss: 0.018260\n"
     ]
    },
    {
     "name": "stderr",
     "output_type": "stream",
     "text": [
      " 95%|█████████▍| 94.82500000001299/100 [02:35<00:07,  1.47s/it]"
     ]
    },
    {
     "name": "stdout",
     "output_type": "stream",
     "text": [
      "Train Epoch: 95 [15360/17825 (86%)]\tLoss: 0.023163\n"
     ]
    },
    {
     "name": "stderr",
     "output_type": "stream",
     "text": [
      " 95%|█████████▍| 94.98750000001303/100 [02:35<00:08,  1.63s/it]"
     ]
    },
    {
     "name": "stdout",
     "output_type": "stream",
     "text": [
      "\n",
      "Test Epoch: 95\tAccuracy: 2161/2337 (92%)\n",
      "\n"
     ]
    },
    {
     "name": "stderr",
     "output_type": "stream",
     "text": [
      " 95%|█████████▌| 95.06250000001305/100 [02:35<00:09,  1.93s/it]"
     ]
    },
    {
     "name": "stdout",
     "output_type": "stream",
     "text": [
      "Train Epoch: 96 [0/17825 (0%)]\tLoss: 0.052839\n"
     ]
    },
    {
     "name": "stderr",
     "output_type": "stream",
     "text": [
      " 95%|█████████▌| 95.36250000001311/100 [02:36<00:07,  1.59s/it]"
     ]
    },
    {
     "name": "stdout",
     "output_type": "stream",
     "text": [
      "Train Epoch: 96 [5120/17825 (29%)]\tLoss: 0.025171\n"
     ]
    },
    {
     "name": "stderr",
     "output_type": "stream",
     "text": [
      " 96%|█████████▌| 95.60000000001317/100 [02:36<00:06,  1.50s/it]"
     ]
    },
    {
     "name": "stdout",
     "output_type": "stream",
     "text": [
      "Train Epoch: 96 [10240/17825 (57%)]\tLoss: 0.026015\n"
     ]
    },
    {
     "name": "stderr",
     "output_type": "stream",
     "text": [
      " 96%|█████████▌| 95.82500000001322/100 [02:37<00:06,  1.48s/it]"
     ]
    },
    {
     "name": "stdout",
     "output_type": "stream",
     "text": [
      "Train Epoch: 96 [15360/17825 (86%)]\tLoss: 0.059459\n"
     ]
    },
    {
     "name": "stderr",
     "output_type": "stream",
     "text": [
      " 96%|█████████▌| 95.98750000001326/100 [02:37<00:06,  1.62s/it]"
     ]
    },
    {
     "name": "stdout",
     "output_type": "stream",
     "text": [
      "\n",
      "Test Epoch: 96\tAccuracy: 2159/2337 (92%)\n",
      "\n"
     ]
    },
    {
     "name": "stderr",
     "output_type": "stream",
     "text": [
      " 96%|█████████▌| 96.06250000001327/100 [02:37<00:07,  1.91s/it]"
     ]
    },
    {
     "name": "stdout",
     "output_type": "stream",
     "text": [
      "Train Epoch: 97 [0/17825 (0%)]\tLoss: 0.019228\n"
     ]
    },
    {
     "name": "stderr",
     "output_type": "stream",
     "text": [
      " 96%|█████████▋| 96.36250000001334/100 [02:37<00:05,  1.59s/it]"
     ]
    },
    {
     "name": "stdout",
     "output_type": "stream",
     "text": [
      "Train Epoch: 97 [5120/17825 (29%)]\tLoss: 0.032444\n"
     ]
    },
    {
     "name": "stderr",
     "output_type": "stream",
     "text": [
      " 97%|█████████▋| 96.6000000000134/100 [02:38<00:05,  1.49s/it] "
     ]
    },
    {
     "name": "stdout",
     "output_type": "stream",
     "text": [
      "Train Epoch: 97 [10240/17825 (57%)]\tLoss: 0.063728\n"
     ]
    },
    {
     "name": "stderr",
     "output_type": "stream",
     "text": [
      " 97%|█████████▋| 96.82500000001345/100 [02:38<00:04,  1.48s/it]"
     ]
    },
    {
     "name": "stdout",
     "output_type": "stream",
     "text": [
      "Train Epoch: 97 [15360/17825 (86%)]\tLoss: 0.014697\n"
     ]
    },
    {
     "name": "stderr",
     "output_type": "stream",
     "text": [
      " 97%|█████████▋| 96.98750000001348/100 [02:38<00:04,  1.63s/it]"
     ]
    },
    {
     "name": "stdout",
     "output_type": "stream",
     "text": [
      "\n",
      "Test Epoch: 97\tAccuracy: 2160/2337 (92%)\n",
      "\n"
     ]
    },
    {
     "name": "stderr",
     "output_type": "stream",
     "text": [
      " 97%|█████████▋| 97.0625000000135/100 [02:39<00:05,  1.93s/it] "
     ]
    },
    {
     "name": "stdout",
     "output_type": "stream",
     "text": [
      "Train Epoch: 98 [0/17825 (0%)]\tLoss: 0.041212\n"
     ]
    },
    {
     "name": "stderr",
     "output_type": "stream",
     "text": [
      " 97%|█████████▋| 97.36250000001357/100 [02:39<00:04,  1.59s/it]"
     ]
    },
    {
     "name": "stdout",
     "output_type": "stream",
     "text": [
      "Train Epoch: 98 [5120/17825 (29%)]\tLoss: 0.037013\n"
     ]
    },
    {
     "name": "stderr",
     "output_type": "stream",
     "text": [
      " 98%|█████████▊| 97.60000000001362/100 [02:39<00:03,  1.50s/it]"
     ]
    },
    {
     "name": "stdout",
     "output_type": "stream",
     "text": [
      "Train Epoch: 98 [10240/17825 (57%)]\tLoss: 0.039308\n"
     ]
    },
    {
     "name": "stderr",
     "output_type": "stream",
     "text": [
      " 98%|█████████▊| 97.82500000001367/100 [02:40<00:03,  1.49s/it]"
     ]
    },
    {
     "name": "stdout",
     "output_type": "stream",
     "text": [
      "Train Epoch: 98 [15360/17825 (86%)]\tLoss: 0.052242\n"
     ]
    },
    {
     "name": "stderr",
     "output_type": "stream",
     "text": [
      " 98%|█████████▊| 97.98750000001371/100 [02:40<00:03,  1.64s/it]"
     ]
    },
    {
     "name": "stdout",
     "output_type": "stream",
     "text": [
      "\n",
      "Test Epoch: 98\tAccuracy: 2160/2337 (92%)\n",
      "\n"
     ]
    },
    {
     "name": "stderr",
     "output_type": "stream",
     "text": [
      " 98%|█████████▊| 98.06250000001373/100 [02:40<00:03,  1.95s/it]"
     ]
    },
    {
     "name": "stdout",
     "output_type": "stream",
     "text": [
      "Train Epoch: 99 [0/17825 (0%)]\tLoss: 0.042831\n"
     ]
    },
    {
     "name": "stderr",
     "output_type": "stream",
     "text": [
      " 98%|█████████▊| 98.3625000000138/100 [02:41<00:02,  1.59s/it] "
     ]
    },
    {
     "name": "stdout",
     "output_type": "stream",
     "text": [
      "Train Epoch: 99 [5120/17825 (29%)]\tLoss: 0.033213\n"
     ]
    },
    {
     "name": "stderr",
     "output_type": "stream",
     "text": [
      " 99%|█████████▊| 98.60000000001385/100 [02:41<00:02,  1.50s/it]"
     ]
    },
    {
     "name": "stdout",
     "output_type": "stream",
     "text": [
      "Train Epoch: 99 [10240/17825 (57%)]\tLoss: 0.020882\n"
     ]
    },
    {
     "name": "stderr",
     "output_type": "stream",
     "text": [
      " 99%|█████████▉| 98.8250000000139/100 [02:41<00:01,  1.48s/it] "
     ]
    },
    {
     "name": "stdout",
     "output_type": "stream",
     "text": [
      "Train Epoch: 99 [15360/17825 (86%)]\tLoss: 0.034903\n"
     ]
    },
    {
     "name": "stderr",
     "output_type": "stream",
     "text": [
      " 99%|█████████▉| 98.98750000001394/100 [02:42<00:01,  1.62s/it]"
     ]
    },
    {
     "name": "stdout",
     "output_type": "stream",
     "text": [
      "\n",
      "Test Epoch: 99\tAccuracy: 2162/2337 (93%)\n",
      "\n"
     ]
    },
    {
     "name": "stderr",
     "output_type": "stream",
     "text": [
      " 99%|█████████▉| 99.06250000001396/100 [02:42<00:01,  1.94s/it]"
     ]
    },
    {
     "name": "stdout",
     "output_type": "stream",
     "text": [
      "Train Epoch: 100 [0/17825 (0%)]\tLoss: 0.050328\n"
     ]
    },
    {
     "name": "stderr",
     "output_type": "stream",
     "text": [
      " 99%|█████████▉| 99.36250000001402/100 [02:42<00:01,  1.62s/it]"
     ]
    },
    {
     "name": "stdout",
     "output_type": "stream",
     "text": [
      "Train Epoch: 100 [5120/17825 (29%)]\tLoss: 0.045241\n"
     ]
    },
    {
     "name": "stderr",
     "output_type": "stream",
     "text": [
      "100%|█████████▉| 99.58750000001407/100 [02:43<00:00,  1.54s/it]"
     ]
    },
    {
     "name": "stdout",
     "output_type": "stream",
     "text": [
      "Train Epoch: 100 [10240/17825 (57%)]\tLoss: 0.037744\n"
     ]
    },
    {
     "name": "stderr",
     "output_type": "stream",
     "text": [
      "100%|█████████▉| 99.81250000001413/100 [02:43<00:00,  1.50s/it]"
     ]
    },
    {
     "name": "stdout",
     "output_type": "stream",
     "text": [
      "Train Epoch: 100 [15360/17825 (86%)]\tLoss: 0.033784\n"
     ]
    },
    {
     "name": "stderr",
     "output_type": "stream",
     "text": [
      "100%|█████████▉| 99.98750000001417/100 [02:43<00:00,  1.61s/it]/home/cailen/Projects/CommandsRecognizer/venv/lib/python3.11/site-packages/tqdm/std.py:524: TqdmWarning: clamping frac to range [0, 1]\n",
      "  full_bar = Bar(frac,\n",
      "100%|██████████| 100.00000000001417/100 [02:43<00:00,  1.64s/it]\n"
     ]
    },
    {
     "name": "stdout",
     "output_type": "stream",
     "text": [
      "\n",
      "Test Epoch: 100\tAccuracy: 2161/2337 (92%)\n",
      "\n"
     ]
    },
    {
     "data": {
      "image/png": "[encoded data removed]",
      "text/plain": [
       "<Figure size 640x480 with 1 Axes>"
      ]
     },
     "metadata": {},
     "output_type": "display_data"
    }
   ],
   "source": [
    "log_interval = 20\n",
    "n_epoch = 100\n",
    "\n",
    "pbar_update = 1 / (len(train_loader) + len(test_loader))\n",
    "losses = []\n",
    "\n",
    "# The transform needs to live on the same device as the model and the data.\n",
    "transform = transform.to(device)\n",
    "with tqdm(total=n_epoch) as pbar:\n",
    "    for epoch in range(1, n_epoch + 1):\n",
    "        train(model, epoch, log_interval)\n",
    "        test(model, epoch)\n",
    "        scheduler.step()\n",
    "\n",
    "# Let's plot the training loss versus the number of iteration.\n",
    "plt.plot(losses);\n",
    "plt.title(\"training loss\");"
   ]
  },
  {
   "attachments": {},
   "cell_type": "markdown",
   "id": "d926955c-ec83-4149-bde5-2a93a8acae78",
   "metadata": {},
   "source": [
    "# Save model"
   ]
  },
  {
   "cell_type": "code",
   "execution_count": 88,
   "id": "52820d81-45fc-4ad9-b3da-c8edac9184a8",
   "metadata": {},
   "outputs": [],
   "source": [
    "file = \"model_state_dict_2500\"\n",
    "torch.save(model, file)"
   ]
  },
  {
   "cell_type": "code",
   "execution_count": 89,
   "id": "18abdce2-65b2-4630-9af0-16b3af126c7b",
   "metadata": {},
   "outputs": [],
   "source": [
    "file = \"scripted_model_2500.pt\"\n",
    "model_scripted = torch.jit.script(model) # Export to TorchScript\n",
    "model_scripted.save(file) # Save"
   ]
  },
  {
   "cell_type": "code",
   "execution_count": 90,
   "id": "b8b83587-6a23-4e47-bf0e-4fa364b63876",
   "metadata": {},
   "outputs": [
    {
     "name": "stdout",
     "output_type": "stream",
     "text": [
      "Expected: backward. Predicted: backward.\n"
     ]
    }
   ],
   "source": [
    "def predict(tensor):\n",
    "    # Use the model to predict the label of the waveform\n",
    "    tensor = tensor.to(device)\n",
    "    tensor = transform(tensor)\n",
    "    tensor = model(tensor.unsqueeze(0))\n",
    "    tensor = get_likely_index(tensor)\n",
    "    tensor = index_to_label(tensor.squeeze())\n",
    "    return tensor\n",
    "\n",
    "\n",
    "waveform, sample_rate, utterance, *_ = train_set[2]\n",
    "ipd.Audio(waveform.numpy(), rate=sample_rate)\n",
    "\n",
    "print(f\"Expected: {utterance}. Predicted: {predict(waveform)}.\")"
   ]
  },
  {
   "cell_type": "code",
   "execution_count": 91,
   "id": "8e06fcf4-116d-4e5d-a014-6b89a45cc1fc",
   "metadata": {},
   "outputs": [
    {
     "data": {
      "text/html": [
       "\n",
       "                <audio  controls=\"controls\" >\n",
       "                    <source src=\"data:audio/wav;base64,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\" type=\"audio/wav\" />\n",
       "                    Your browser does not support the audio element.\n",
       "                </audio>\n",
       "              "
      ],
      "text/plain": [
       "<IPython.lib.display.Audio object>"
      ]
     },
     "execution_count": 91,
     "metadata": {},
     "output_type": "execute_result"
    }
   ],
   "source": [
    "waveform, *_ = test_set[500]\n",
    "ipd.Audio(waveform.numpy(), rate=sample_rate)"
   ]
  },
  {
   "cell_type": "code",
   "execution_count": 92,
   "id": "3758671f-786a-48f0-b47a-650094f7e932",
   "metadata": {},
   "outputs": [
    {
     "data": {
      "text/plain": [
       "'backward'"
      ]
     },
     "execution_count": 92,
     "metadata": {},
     "output_type": "execute_result"
    }
   ],
   "source": [
    "predict(waveform)"
   ]
  },
  {
   "cell_type": "code",
   "execution_count": 93,
   "id": "e91dfffd-ad79-44e0-9e5b-fe1b6a4235a9",
   "metadata": {},
   "outputs": [
    {
     "data": {
      "text/html": [
       "\n",
       "                <audio  controls=\"controls\" >\n",
       "                    <source src=\"data:audio/mpeg;base64,//vAZAAAAcMBUGhgAAgt4CndDAABDhSxNawkbykdB+V1kYwIAELcWslttu4uAgGGlAAcrOQQcJAQDGCAIcEHROCDso7SGOa8EOUBDnOJPOco7ghwc/yjv6PBCsPgLOTX/bfe7AWgIHBpQEAxE4IBhxcHAQOS4IHOzhjwxyhzo8o6o5/8mQ8MfymJxb/9ZKo22kmULa0JFRaaYRFDCrXRJUmXEeJtaByatlqwB3zgxiFUIatc1Y3G36nNCZiLac1dVGJyerkJuqVSE6PdbVX79GV0FyG85cFdp11WWfimnuc4WqK71G26vHvk9c/3RlSbr2/Rv3zrm/SFSrSBTZLfaccaUDUm2VQEBAQEBaWqqqp9VVVRiYgpgFXXNbQSc5ohW15VznLcNjGkjGBTo+Y6LiG1FvS37dv+5dAee1UQue+91ypCOSttwtttNh8YAHVvb8vgPNvyjmQoZq0NpFkiJikjBQvkyVKWFBs4yw2TkK2ScwFE32mn1d5g1E6+tnaOSP7BbNvsy3PVNxt5JXPlYKv+2XX59HJpFY5L8f5+RaCtxfxRmr0fo5F/PtNZ1Ml6bbP2636adfq7BVbcjkbciTJ4iaoOCovOElODpPUhIxlFzUvUhH5rnEuOtJOcuPeArw0pp7lKdH3f+64t3j0Pr5etVCRkIJCLkRKCZszcIHQFIocHYsBAhAStoiAxUEXm1kiB0WmVq9eJp0ZsVC4JEcSENiab7nOGHgiHQi9AMBEmOxMxnk25TpFEjR2tCEQnqaNdHsWWCBohJFkmbpA2vGMcQJdJNhIY08Ujs6tCYGP0AiEZmtlPC7kqfmXAUlLtzU3kueR5Imrvb0iJi13PREEjROkiVPGRgvdvto8xACkkiZf6kf5V0uHvFQTcljazmHjuub+chxgJoHFUCh14RFSAoPIGVCgyiKEEAatQusDAupaj7yVLytaggZuHnRpF6LOLzUUF9VPRQSn/+6BkzAADrSTK6y9JwjnAGV1kAAATcX8jraRxwSwApHGgAABiJKKbjSQCrD4wKQZQSDolaZ4CSgMUg4wS30HABopNR3GdsTZ42GDbQusTkwGSFQwq0y4VrCJQWIhKAzciUsfiqeWc0xNhaRGIDzMpq1qNOEU63aWVLsrrKycoZlsVfkYw8320QD0MUwYK8hV+A9CLk8JSOyN0i6CuhH/cJqmu2qg39ccWUfn+RLALE7Pf3AZ6+vw+3v3ziBTpbhTLkbUCkLR5BVLNQxuur/J5EZlfX/mWS+m15gYuDxsgIhcoLoA4ZCaHoWdz7Oa7VgIWLBTvYv7ORGoC4DsYl5w68PLfNAfUFFIiW0eREyrQHmNQ3EIIX9ARUIANMAAakYpwC0RV7KKB74Zl6xehVUVECAeKOQbZhhHEVopSNsZ3TTm1KbLKqZcUhNtU6ss2SVrTDs2BiFaTeY5pVILk0zGIipxa0hCyruQYQxocWjqIz5l2oxMMHRGAVeZk9Tda5d/PLwRPPBrbULh/6pB/WwfaPmUIZEZKaQNuyOFc8I9UMqhPgUoreRKIRven76un0X+rf63pIxGDuVKGx4LicDQ+GKiYTQISCXhUURnHsMPZXTWS+l+VIgWq8taKNNGyimSa2g2rsAnLPmDShYGBgikQQIEgahibphAyVCcTJ4mpIFxQAOWwwXTCORT/+5Bk9AAEy07I6ykcckqEmT1QIg4RcWMnjCRxqTQV5T2AiHjKyCQ0RAxzPwpGg6wHdH33k5nlaXc+FxVCRS2XlRpV6q47Xht0EmIAFJRLKErjDuiiWqIR8equbnHMY3FIVr2U0RjIlNWLuUKtIikefPlfNOGZOamknZDETvARway4OBhKmMFC3rpZLSSiISjaRS3jJJZIo2TMkCYtgak6Em/3rc825amLQVWxjhIgQA2OOrNBIMrjqgGlYTEZ0WFbxS8VnOgzFkJUMoGAOmNaxjqGHUjAiylGFWoIggyNJgMOFQAULGWECpdLQxYRBCpUTCy0wAGMSSveGlXu3V/HjafLxUYC4IA0O0SIG27ZmmJxwRyRETC8lktzIIpwQIIsjyLc3tdAJYImMMJHCeKNsWXTymETC6sJJMQSTc1mc7sdANVCJvEMSRVJEVgkXVqvcj+jWrYyHqSdbas2bbQsjb3sHYpzu+igygF/pRK6lNKNpMGSig2KsadnyGhMwNizpcNKuUtFdB4BirCptr3h9DSkgRDosNOQRpiK3lLRjg//+6Bk1AAEhFvJ40wbeE6AKS1oAAASmZklrSRRwSwApKkgAAA+hNlYkW5ZBFryxOTOmgbag0smFUHEIoEJIC1LWjHGYYyKdYqEmSaACqgcKIxUGlfFny58ymfLptnruNu89E7daYsBs2ZRkLAGkYfDaFsQKqgk2jwMWTkqR9uTTS7XNpSnPxVoMTuDLd3NOCyej6K1G0aVwgynUH63FVvE5p7uUqqRSpJlruXypfo1P+mk2hUqXwrSKGoJkQ3q9Ss6NmVTpOQUxPGNOmhGCFllJhhLEiTUMSVjSCkzpLQVWg71u+R7RbzlVnDjR/Rr7/nbo/t5XpMFEYRDZ01AzkuAx0eKAy9BVjyYs6ktY1PS3TTPp9fddcqCX3xxpNyIuAmx3AEDSBEdmAlBjYkOQbDkxS/ivy1jlNHaExdvn3lsHCo+TnQ9lNTDbXWHDCEpXM1ohQFlaXX8+ilm7e2MMRplSxc/NcquxdExnrtQkRx5Qz6RN2rrcMw5ZqZSkL1IGHIVXLJbJ+1c30+nmdLvAx3BdrKMZGakyAo3dC+Bkm9O8P+GEMQIHWKMS75kwWpHI0XEwSgeiKp0ACxtQxqWn2OTFbsm1bnYYSaKFlDSYhAxMMJMrCQZCpzo7bSdQicEsmKo0nEnEGxThDUmkmt7lprn3F3VlWklIw0Sk40m080rBZ4AbOPKJrtQKAj/+6Bk54AEt2PKYykc+kUliT1AI34SfYcxrDBx6SSAZXUQAAQYCA1lLG8mnJyvUyCH4bvUUhajDFoWE+yiJKgqDgJZdA4KgVLrKCWFJLqImmm02oIRv5U27RloqkmO9dpuSM2eQ7NJUgQ9t/jaNl022WpT3Fcjr0bbaaUufc2Q3rjmZVia7TDvvEhWJmmWv9JjbmfqVKbetfz/rPb+Zc8wWSCjjbpGVidqNsuHUOJ4iDhFzGWUtyyf9Nw8nFq0GzZQkWGgUXaSOtRpC7QmsHHoYZe8a0YcOKc00I4THPIvsARY6Byp4owiLR41CNSbTyBJRqli6Zp2MWGIlhRaIqARvLRJAA6iEuV4tE03ORtBZLVd4LJEA6SvRlSiGaonBICR5GTtLkorqeLIINoJT1sgEgEwhCfjCUdEyWl1JqxV5dEUMlqbaMt8fHQleugi83AkqugBn4Wkj8q08pruD87qTnkplgcDiL+Q/pDKUV/17vj609OZe//jzNiBpWIopxKJOBVjNVSlVVIKd6eq/Q37/s2nZ8DE/vyv/c55wAYGEIvr7//5e8vyLv/nGHNJX/LurAl9byFrdRyLuQmsTL0x2WBxEpKpOL2AXSzol0FICijBdBC8AFWuhSDSG6s3ssshttIDcqcgVrkWeUPERNyIxFzYXCJtdOLBYBIGzUGPNaSSBYy2NTwmpjP/+5Bk/gAEk2jL6wkc+EyAOUxkIAERpQctjCTRqRKsJTUgivkzCbxb7m7kQgmErBSOUYanVlnVbeLxv5Qg+3QQLMQPxGf4fv2pipNnMuP2nCqyT07V1akstlZSxcPj+ZjjsSU9jOA02YUWDhw2z7umUTASghmZbVtdtTraoq8vc5H/kepS+f9Aq7r06shSWZ47hP3NbcrNqSokPiNFC4wfBJyzM+PAu+QCGzNJyyWiiJldAJAKMKLGRCNpjm7AGaqqSPR7UiVbhy1AUwy8KVLXZREWIce+gC92H2isnhWKtOzUtvIx8L8Th8VyWP2u2PWn7IbSoR4FRXdfXN+xA9uPUP4bNN0XNJCooPlBellk0Vdi5jqwIkfwmxGBIQwdzbUGLRSFRQp0HYTBByR6+HmR2GT+TFYhmmStkhI8eifMihpGWG5n4FD52kD2QVa2kp11IJLRE4eHqmq7H7XO20l3rq9ql0IxCKnTQsFBcUDYyDgRdICwPloShe2MslG/WxM9vWpDByp5YSHExi5MYQU0RmxlJTBkuu+HgjBZRQM0tE//+6Bk5AAEnk9Mawk0ykKmGVo0I38TcYstrDBx6Q6AZXCwAAQOwBtSVKviQcVFWoXpbZ82QLuchdUkgCrGoKXZCiBsXJ/9uRugzBaKWjK4nKqI4S5h/TFigfROumWunki1RdKKal1YQuYHpToN3HLQ60eVvWnV4tDhhUwsVDjKqp+0aj7u/uf+dZS/uViRJc4cl3GqHKH2erLJvpzzw0e622pK2qSZeibCHMWezPTWtt8rrIpe0+C+2epyv/WzWRFY9jcltEP512k6SwmIiAXGC449GnOl1P7F3SKdj1pQpMcBVtOXyY9jXm0UbKWCQUo5KguDPpSCGId1ICJmA5pG1BTcvKiclAqd0GstLbq7ClETAweQNJGomPqlhQF13oj7USyzkbko2yen1BLIqyOiRzdanbdpilIRNbhoQGTKSTwsNvhtuWf0+L6RFJJBqaQKys3CT+WP7HqThKSVFw5DxZUFBqdn72j3aWcqLQ3LROmUnhzO1pqrCUlRVOk+PS6R6i8i0d3/1IDQJrVjJpuu6sqMnoz7H1G/57/+9fvL/+8/0aooTF3l7iMSEwz75HymqUyaL8NSwyllG3CsaEcwH7j7Y6TS4TKRl2sRIlKFJlnAhIwQMIDXr2WSW4WKWcFjort6pF1l112ZPTSzMB0koaBTLWubggRPIR44ND164mO28j2qZnNhpGj/+5Bk/AAEfk9NeylEwkgGKTo0Jn4TVYstrCTRSQ0opWSgjryOacZebQpauqvauQPNSShBbU8T1ukexTttF42t8+rb5LwjN6qJRJpzGDVnDEZRDBmHGnlY1j3qfS3jV/J7U1heiOK/d7VTRRKilQH+2tcpBSSRvV9uC8SJCsVOPc0u0+KAMs4yNNmUHH0zrfFjJl8aipTO5A+gchNrmG7pJUPITBa6+Y/+LjyyWMCJwQGDrz0eksKyoBAtSSSPeDMhrCHha0lGZlFowcEcAy5JRDdFRQ6XLqwdqEuRFoHdqzkqVVIptKmBhdGhcfICMmmkhLTQRabZ3JnioiDKMh3abmu+Au1kWUTFRbFI1EvP3a6WqRv3VsTzUFfGuhbRpM+WpbJsabYZHDzWJST9+IeSGXV9MvbOUyw61zS+tNlV0jkWV6ei+tRoEtJOcsgBD2tHhZ45ypubYbU8ooXcxSRan3ZtjQ+NFFj2PuXXdtPrYYLo8SGnkn4hvY9x9TmI2CnUrurVjilhJYKUtkq5yjhrqWQArFb1ERL4RRgYOaPLV/H/+5Bk34AEglfMawkc+kNAOTxAIAASMVctrCRzyPOA5TDwgAT1PcCKskMBQfiNzdUAunatd+HTbz5jeJiJWibEJKfurPhYgjFcVLA9zhrRUwMPYaLGjaoYW5QFKLju0qEs1iUYyUPGRbEse4wliTxoxDDRmg5sTXoMwa4fL5Kz5IWKA9K9sH8TkFGz44EBxLgXReLFxbYSjdUckaSSgSMliZp4GeLq5Koax6Q3OvWg+dvHvSZo6dSP69PX939Or/0LzSEuQkc5wBUoWrAhJ4ghJCU1Cko2IABR75GMTzHYKXQAuXcL4g6aA1foUKTgWGYEwTJLZoPmOpX4TNUtWFLGUaE26vjJqGVITB+K9HZ9eXC6XgpgSp7sLNohVCovfY6ZoJygeGBISHVjWINIlFPMbp44snRRMz0o+y2tiYgji6FHMuUm9SLpWdZh7fTuWtznrtSSUA6iD9OHW7pD9r6pJUuApVKNZICBMgU57Ii2qyZ9rqcyu/pvlb2X8zuv/rL0fzR5gE7Pv6W0fZc2fR9lr+56/m6rwOQhGb6jP8+Yrbz/+6BkzQAEdDzL6wxDYjYAGV0sAAASxT8v7DEN6Q6uJTCgiv0CibJ2lUoZchEDEWCklScRlmSLwCoc1mErWRmhbguGWSMQ2cpUvGsZnrwuRCK6VzLZXHxGQBpIk05BY0RolNkQhlCFhEA5onRsiAmFbNMBwSt49RlnV5Na5iEtrX4gwTsZepYjvckxKOzW16ZZkrmIYDpJX2bpvruxya7U4VUiZUWG92EHN6GmbGjn9NCIiq9rkZ3QjetWjePD+IiKasE9AkebZz6b2um3OT7ere7PLLWS///3yLytlPX17yZ+YXq5HJAMnRDwonuaJfsDKXEWR93OSlPogy0WMPcaVH62kI4wBJCKSNttQCkFOBh1YDOEAvMxSZoMgqZkUOr9Y/DlVoblu3DcyC5MMLBlQZZRxVBcuw0hYFJkUIzKSEREE0C9zGyiY0DaEUmUa8crTxURKUyxKUUb2mhMwlkpynddeo6gTHkFA3zBMKBM4zgAhQzyvhuTWPFQmRzbLBGu3fVZLYb/g779q1/F1Rtz3dielWV/cBMSaRaKbiLGSIFJlTIoxTnpqsX6jQz1XapjdS2hE2HrDEKAYsaPXodfT83If/xXSl9cTWqZJa0HNyItApKElJ7mxZuOAlE5DaUZCROS+TdLmu8hLUzbWrG2Qv2waAoHAowrppKesmsvqcmGSVC0uRaQIB3/+5Bk8IAEr2bLawkc6kRLyRkcI74SaSMprCRxyN2ApTSwAABxfvs2Z5Uj48PEONdfXnM6DmKOU/76428cFlz3KMLMyrkDE5NMoKOiq3fUWIgKH23dlKoSPs1z7XBn5DfX+ejVy3Ul6GGZYxRf86MtszdtkMQpI5o24i2kU0GodmrT0GbSds6GQ0vp9/dLoa8I2i+FVsOOfk3BvA9yhRgjK1w2liXppTY3Y5Hpa5Ex3KSvFFSMFApONpgFMwIE5gSKYQ4dGiePDNRQDEwyTKma22Yo2JgphynH0qpXztEK2FdS6cFZs6LN7RLi+6ssSlDr/L4nGbr1RUcfOz+79m36zYfKrsk5EkCDQUPpMwaRLlDvuEo1R2PtVSpeBCceOZGbH8T8WeIwAYMIYdNWOCS3MCQ5JMBnzOJAXNCgqG3Dxr6YBZ7/Twm5W6+mWEH8lr3dV3qUyk7OhCUJv1GRC1+b2yfct3R1KynaPmpXeTw+Z3l9NewiSQjLNNYTKxjH0oo4fTWhD9Iuqo3a8TzRLePYK0pWhWWn0QQCk422luIkGmz/+6Bk3IAEZktLawwcej0BKX0EIwsSfQcnrLEPgTej5TDQjjy5BIyKKe4BEFxqzoLgkF1K6Pr4rOE0iIyqRCKAFwgaLK9lsmosyZG8b8TLAlhJS1mkVNnxEXYLESLHLwxmQBJ8MeWGZyFFr0EiE5ikEKggKz8NzRSoFMcLQ5htU2iiyoQzZ/cigY7N7GFsHyuu0IzJprJfMU92q5eSJhCLrzZNzO7/Q0iqUEyio2UxdQQLHgba95Z6qlGcdmRqahR0ZJlbgeDzwAIgKIHmFKDJ0keDSzZBRseVngmntXq6NWlhT5gPoeC6VFheqPeG6AIgJSXVNL/oTegyQuMaoVmEQUtBJQEMLFUqLrhjFdMzYGrtFFMBcc2yR5aPkHlD5wuVnilLjnKHT+Nhk8Y2/oynq1EybsrTK6mE9xznxYkICcXYogIYtlEimMxNDHEBJWVmE1jrmxkOyxw2zWfvJYZ8PKkR77nCv8Pn35nl+kzbeGcY5ubKZ51hEILF3C5v1GSBVyOrtBEAkeVAkDMzTHnmKin+RnRTHUbMuAZNkkQG3RqapiErH2ajhgcdatpg1bIkWt1iJVuwhOPyjmqNJWkelwhWpa3XLWtLVgYm8gyLWgt+aZkCR4y1hDUVMRLZCY0iAasI0lPZ/1AX7huA2dU0vFImeXQBZBUUhCWPipcjEC9MqIVFVsvyoyn/+5Bk+YAEfWFJ6wkcUEogOS0kIAARxYsrjDBvoSwXJTAQjfxVjBKipCTTbSbnJ/a3EmJu7otB4CSuqnZQyuADwPIFJFSGcwB4Hw7U//7GWNGsM6Xr/sy+XuWgdZlLKHidMkgKkB4q4c8VBk+HLwTA4h/SRps5TUbTg5Tu9DXorOXveTSx9E6nve6FXRHsulGXeMDKa0OxzkkNTtsg8lQ8lisa9yPlRGlJtkyUl8IgkxE52kWIhfYV6ULyWK6McTPclPVAWsOdOCC1EWXq5Z/jiIA5D5EBEEZgIscgOimIipgJdg4kUYYsCwGD3JcV2YejsO0r0Sr6t1uH5KsFxoE2+PLiSfUSal5qo9POxRVu5WlQsGDCikv+eQAAx9lSdA4EcnMJGGW5hc9Xi8QjI7fm+nz55HxL/MtS6rzLOnc6W55Qyvl6UlMupEf9gwcw5hA36jDfIIJ4pFIyNxssPRbTmYXs39F2A/6nXMpnOcapT42fPhSrw/49MvVM2NzljOG8yJeP28LoLGCkVYaBtgqoTCpx8B25X2j1Rcos0KNHOOD/+6Bk3oAEd1pJ4wkcaFTMmSoII/ZRqZsjjCR0wVOdJLRwjPjRZYlHCrDjP6pBy7y3VNtopq3nwxiAimCbrKGRjSmbrUElF/TIpKlCRIYihEo9MupkfBKOo6LHi4ZLhxEKxw0s6x+4XtdOj1fa1YMtBNxgASyCVcbHBOZjMJG4MJQpUTgIlgxkJVj9X1DoMgkxQxmqi+tE+mgKB314fMtTHNkZwikoZCHO8NzbJiPdz9GoSGnNqsHAwB3AV3eYMkcbk7egmAAfCSnNe5Wts2VIlhY1epIVBsmy9O5bkC6TLkIDVAiIpFCYbIAEBshU9Wq1ltbzVOll4bu8VW8K0vC4651LVlzZCW0KZq/+mDmo4lNBIASh1CUighUUWvERC84gAqRpcbomZQM5rZ5fNyqaiUjkjGCj1A5gQbhNYM5FLme/KzDWNw3njE03onUNVV1zZA5mjVKMpvCsW0AKmF7fYQqGuRKNwIZqarDHIp16HrwzC6Z6r3ThWTOGXw+mp0rs2pkpT8yaw7/L15g7+h6/UHbZXdW9oki6bgIhgU4NE3BsYjqui6b/Oww5NJm54IBQDRkICDiwu0ssMh6rTcmSekVe7FjEk0sJh0IJaus8qMfUGC4omOetxlkCxMNA7CqBCWY4CVrJKVeVDEAEQxxpOWKxsZCwZvBggovmvJCAeDZY5cSa6rtvpcv/+5Bk7oAEhVrLawwcSkgAGVwEAAERYaMljBhzAVEQ5bQRDhz+3BdGCiERhdQmVnGciyi4kQmsaKlzCM3BdVg8s0sjmtKqnMmsNmkZpCJWvSp43R+ZGDhghQpyBuELuY6mJUPFBlsp44sIWLc1qG5hv1KFuZWQLqjz7kDKnGNZzUtoR8jWl3TMl9L6xyhDscR921++3F9j/M4/+IeNNv9rpbOn1tXplSMi2U8OLIUPVBPn158HvRLEBygbPwZyX57nNJ7izJ505mZnPK6IUn1ELus5Ty85KfYdYFUKF0o5amwbUp6PSMvQr0zXVjWJwJAoaCoZ1BRW+uzfcBDDmER1Mh1MTAeMhaJIQ9LMrqMR01i1rY4gpJ2IGdRvoHi7swe6QNClqRATqUiMLbASuaWrJuQQxJkKozM2SDkR5RhFhJCT0mmrvG4K4lM6jE5nXkK8bzTn32ayuleb7Hrt3NJvlEJq9Ee8/Ig8Qi01/JRY93Ub+23mk/MxswATNMIRoflLe93/d3/oNtSR+d9oKaqlGorLf6i3FCbKbWyVW1gC1Nz/+6Bk0QAE32XHSykcYloMeUwMI6kSPT0njCRzqTCZZTAgjmzkSkCakPKl40JYqiXb7COFucBC4YFUh0Ue+lwirX4FYfAz6O145th99Z+Qli6kvQ5zUACHWSjd3UotgdQhcSmB5QgL2FDQkKVZetk6asrg5vGINALg968eCSnWjdpjHzhZQqatYgUsLTizkNzyehaR2WFr+fdjbbXWdbXROWhvf6RusRQfbt1eetdlu5nZ7m015EAVu63pmfLtsjzzHy5ZD1F46Mv57/h+joF22Nd4j/G3Su5bstBt5tpEmJxWDQsULGEi/RLHFaCEZtFK9JYimOVUjEMCAWy96TVmk/KpQgYgIOJNYSZkUHqxKplDOMCHlelNDsdXi6a4+4cgzndO61THCVQn7X+u/Jh/m+qwryeqhH7w+jNIZKzx+pv/S9vi3U2LVLIE+QqNuONpImQRzOYGLpjhwgYkvqX7EvihiYagylSYEVeVqMIYLVuko/OUEZVicciapVVPL0eQLUimIrr+gSORs1grc3PWL1eeQfXbZ9CcfxpYfRQWVTZhTO5WQlM4Z7wft0BZywMFNpM7VK55z5YDexGQhRymVyNGOUnJa+x05aMVuc8+IxhdRWUTG+ersCKUablcksZbd3Oh2Twb2b7SrDpuXe/SLpveI2/sRPYS5XPtu5U1OEhhFUoQNSHVoKL/+6Bk2gAEtljIYwwz4Fzl2V0EZotR5WMlrDBxgTQY5PQQjDCjB54ERUc5LFhXpha5xWS1/RsoOOailJdc292uQ1sulrjqZIJZ0sOEZpeYcoKhYChxKkxFARaNPpDJ22KNqpuy15pXWRIlxkbIwTeGUKFDFlOjpNAiTbMZBrVPZK7iDreaiMtnWroPQMCOzQGQRwmHFEcY6GnbobBF0AxbZDkm1DNMHkp9E6rglcrGFRjFM5plMzVc7SQ/bmJlQFCQUFMSm+/rs53tdmf9YDZLj11kjbSFFGMrlAyPdmSR1A+ak/FnwkOEjNqYmNQ96GO0kNzO4JT1MgZrP0Z6Z+1Oc7ohMr2c7K4IiwGLuAqVhqbOi52+YU2xHLoy6YRYMLo1PRE6EdtVT/v2gip5eNlRuDgiiGmgkA85dyQwAEtMuK/u2rP1IVqQFS2McpLOQzZwpL9yQ2tabjGQJMcHqTHGFAqARm57pinjJBwuXTk8mEFJJlOOlV5VY42mhpLkIGBCtKakxyrw1A9etc7MvlvvfIcjQwpve2UjMmN+luuJNxEpcYjfIxCIeXUwR62nOTC4BZfJ3XaAU0483G23GkeUJjO7wyuuZkKTf9ZiTPtvrBgI3nK5rMRmphkwHL3LsQvIPdVz2F3dxkCQ6Fwk4raUKiiRynPZmKXdAG0IfY7SrZMlP6oFtRNpVQz/+6Bk5QAEa1ZKawkcWlZHeS0EwoQSXaUhjBh3ATUcZLQwjuCgDYORKek1iASXwXmG1S4B4RIRfdWJLRjzIGztyaFANl4CRocNBBCUQPaDy8id0rFregxdCWP+TBQeUVW6KCBigrxPYymllm5NRSizjKVGKA1DOOgIOMGOgwTjOqDFFWvnsIc3B2K/mHemQpoTZkdhIlU4MuzUqt5V2ORC4REeeWeDwOmMphvEi0G1JPsSMUkOXzTbl2JIBbevlPEGRez/FvDs17hM4ZEN/b9OHUtRDErWxMelaEyadYm5+sa8rTTW1jJ6WdYpSqqJD4uudFDOM2jIve176S6OxpAPQiaFTKoZLEGFjBIANG2+t1jjiabZ4KvYM4fVGCjQFBwA0yJDgFAS6bAk0FA2Gs3i0bizInAi76yiV6/MIG9WwrN2yZmZzUbLWiudKRHqsELajTO5Fs6Ijo+QHaw7EODzNy5RpUqcFyA3Wkbm6XNHNdhMQkzQpC2tUspZczOQjJJN0Jzk7BNMSdI4ZAlIsymnqdJaHAYz9FRftBljr+ztaQBJ2zsiCUKWY60Ek2h+dsvjN2pBlGXU3RdnHHss6QPAcRYHHAJZsHzrhcGnHJF187MkYrYylwB70PAxe0uZe8+0uguVYh4AS1u0YRurxtUWeRqRuKNlJHBj+CAZOJHIrGhGEvGoEAQQIkD/+5Bk9gAEsGLHYwkcQFjHKU0YI6MRoZslrBhzAVGNZTQQmDRCokgnVPHGUNzkUKiiAVAoSHYkMHy9OftHFDsnJD8wdOVbbi29218UTkqHYOZq0842G3K+pD778+4xblrTUTqVdb6P/3LXG65TyLJox5WmiQdWND+RLWYHB3pRXEEFKQVu4XOuixuCFDwcs7c8M4v1S+AE0CM9tdOq28d////r/kG8Or00k8jTduJBQChstuyUej0kIeb31REjYJmWVtbl5sxXlSZ0loggYYlUUGHp/kSuDOGbOie2QNMeYwgFYsxp1/GSxb6//7s3//iN7K0hWzqZns83j23Ib90T0+Y6b+ZxC4210jtTcSBBORwMYN40BXBccSiBwcTWBEikMoDXarlThrENOtFIxMQ9Pw3ALymBOEQqHGFmmyNIiwG7cxUtY7pbLsqFlsbXxpmUyMyskg3Vut7mhmymXPZkKmrCu+rZ9NRKsdnu0JruSoATlU/MaqjDlbGFVvIT43K6k+VUkst5l/0LNN5Xjz29djek1tUadSPxpOJIhRVNqAT/+6BkzAAE3FNIawwccmKl2S0gw9BRvWUprKRzqVOd5TQwji0jJY8JMKMgES61irLOpZO2ck0yew4b/ltjHZnpTusI32nUVaeZBlq+ukwdtLv/DLTjfjeu/XLX3b/Zwf01fCLbHE6001/cmqX6CJzImKh//9ZHDiBK07QByhQxZUouYH2jeBTRNUqBgptHKZ08Tdnwa1TmRChDATVQwPJJMI10kQfEyZVWvBPH29QGytNtStNs6xInBqKs1taxyk8MEbMQwMQ4VpE2WEog1C+TKqkb+WjIpsbb+K1IMKDmIY1ipED5V+U6ZWFJ8ThlnTvYRey+lzkP/YJ0PS55AbMztTM+9szbddvl3l+onZOHnZkbkbj3k+dt26NG9FmScws7aGcqYppU87wGEFPo3pSUfB4st7sQGAq2oDmBJF3vJ2uD4eYLJqgmaIpSUc5umKo6AYvF3pJvG08tskbcaSZ3OhwhryBY4x01oGUC4DCAaSGCQsOFTrL4Ljd6aWMp5gzTRKLILFUXFYul4lpC+aq0OJaKClkdt2dCKldn0eVZSyErx0NIikSSQGIso6LUZ6WHQVRioDgG3baBX2kpDKQm8lRdF+nJGQchYX6Pty7Bb/08wru9l+sD0cn2hUyVVX/3//ARWdmdpf6aRxU4Cadp1gus/QJSbuIhsLFYTE/1/fmfYtX7+8/b4P//+6BkzoAEgWNNewkcalnlqY8YJsUReKslrLDQiUOIZnwTCgWh1/bIaatbv2rDvvR3PeGvTYOWvX+/91/t3/5btJl+AjfVoCFrWvPtCLUGRWhTlHrjSIBIJrGOZQ8ghi1gLGSBQxMiGxqqNPZgyNasszgdpbLYKZ5QPohAEickQ0sdRMQQGD0+bdCSUG8wWtHU6u6OMc/BYMAw1cRVgGTWpTggtlD9Wm56OpzQHHwBUMxanIYJs/TPxuzbGvLFeTEtup149aP+iO4Z/dedahtn6Jf2CC2Uq0YkiSDrZoLBynEazcrcr8WmghlqWp7c7Etz8QU9kDElhwIxI2GQWDgcHsDCgw9gdSuRGLDqXrLpOj3NFChUaQSYPqBk1egYXQ5+88QGqYTofYZSPmWRXpenScQvRqBXdWVYV7bFESxezOhCkDmNRwrMBnGHKCIAFSg66HikFh2FMUWHDCgraAhZojlRAHMDh8KB5fHwu3OHtfEyFs8PV5554VzoSF47ESFQ3ajbFDuD6K3mL3pSmtUrX9uvWqf5xuinImHVNmJDPk5K4ZIudFiBDptuZfpCP18szhYuHC25NXBZ+cyh6SLTWVFfOkCjqs93zHjgEvocEUmW5xvKAkdoEBq0Y5KGiiQOgTX8wZ33d+Cc9Q6sUpLHZ3VKEI26GmInujlS3oXtIr2WTVE2OqroIzf/+6Bk3gAEJzrKewkcWmGj2P0Mw0oTWYst7DBx6VUfZLATCc3c53Lgfvtv7O91dvvO211LaPr47AO1pr7KXlUObtN19/1QaduQAQIyihUEBa8wCLpOIPCYCs1SFl1Hog9ukA7lb70sFQMpxqkylnpGszFdYOzrHujCyNZ8Qb1SRhKEFlC66oQhCa+v9XlJIJWnaTdyLQc9hWnYzEEuxICQfVLX4hCU0tSsNVHAR5WgAYkdpgOQ3wjDMGoEhlzUXL00vOS9zR6oz3huUgrGCYPChYkY0FK7idAit8zlkqbIBPNImji4PopumXlqSoT+1fbcOwzFBlUO1Es4iZQv5duqBI1aj1sHdaJxDp5QxnsD1YiCNtusZ6hHnk/E5HHJOdV/Ka0tvlYJuF21XxO/pkvuvh37SLtgzvDuqK2kcjSZyHKAbF62DIJJMBJiEg1FNZIdfKrGbIAn+8QngWHxOEFSIWeLAqXKIkydBpZ4bTShOexXSk1AXWZpqaTXglXV5dzM12IOTkhMPmuFCm6xuMCVnAfZQdpC8HEZhOQ/fMz1c8gTThJsexAtT/bRdBMymKS8Xji1Zi55hF3Ga5JlVXEv////9vYetujsurcaS4LYhEcWYcyg8VA6qmu4qFJqGVstySg9GHIMs0lT5gUdEfzPND3QhomkTONIhKkUZwWBSFGCg97wgaTcrGf/+6Bk5YAEx2NIYwkdUF2GST0FAzNR8SMl7CRvyWMXZLSAj0juOOSy1DktUsyIooxbGz6lXvtRWpHZU459SimksNlGQuChEW37HQh0N+VNkQ0KG7LgljvP2647lkSgzXFOonGLZEfILdHW20jCU0k3Z91dWkKy+KJagMZxqkHuMK7sPO9v0dad5dSmbAxZQRCWDoybvVbZnRwNDTIidXnZVg93M10N+93RYSu1imDSENS65cILNijZ9OkvaZ2YM6UQKmvl6kdi6tR6mHr717uBbaLeuRptJKzcEbD7erKP92jNoCcN7BlVmjUh22POwICoJB1JoTXB8Xa5qECrnmhY0G2WNNBoSkDLWCm2ciEglC1zMX4YYKoCJlUUUxcyXUwUdtXWCRt+c+wbbReN/fMhkBG2liEJEJHEgUpsg4o6RISZTSgG03qPtFF3NguGh3SYsJyciOlFEkApk1uAykq9rW5QalbgzomJDaMYQ0xNBJBIGcrQKj2vUAJaPZvGYnk4ZjdKyyBqGabjldstHawqjvvY9HZfugun16melmkTXBTzU2/DKlMcJTLv3viBjn+dfbqEtv5+lM+eeqp+5t/+wd3gzVlWttkkFRwVwc08YF+N9MkyzjFM4OeTeX7NkYOOBqwNzdVoZYECosFBgAF3G+umiGoZi6AqgeDYf3tmC6UCiaHuQdppFFr/+6Bk6QAEu2RHYywb8lmiqR0FIx4S6SMfjCTRSUmJZTwTIAwnm03vf0B5Sk03OVRIrNAJZUoifYgZQQEBlEZm4ggAlAGkZGjo8LEVJMtLvNkafOtekEEP/OwuRzNBfRBJIJ0o4JIFOQsc5hihUUYlZKYuBBhrwtB5dRhpjWVOjSLHwfsKLxF1OUZBYLnMaPCTkEQXhEISnm+4vc7yv/ws82zn1zp5cLMqWUplKzItw70C8b0fDVKF4G2m86E5SmNI/3Cf4DS0koskmiiQtGMZjWUJtS9Smg+tUsIBTi49Zq55+eeUXkzyNeFGZRyzgwoEStY4Jg8+KMi4xdz1yQgUfFUia/PklIuSytRulpRVFbTiG0j0ABc2calTu2IhW80wBsMEBcRpZzirQJPXIWtKgRASQg5SagXDFFiusOYsKY9OqlBXDolE1+hPaWvM1OzgS7P4XFE9O5f1W3PB5O0RLSMry2sFayJ9ZGu9mzF7R1ix9OmMt7WUsWg4dAqQbYeuMk2DXIsoVY8QBLBNjhGoY9IGWLYlLVWVlF7706biMm9OvW47tIaYHAYsOiDi70bMbiWs/Rr3/7J93oP93XO57WZbKSs3OAki1UiCrKU2GWcHg97Y+zliQct1tOOYCR1wbHF5IOOHIGWTCK37XV3R02+hm5jXtehB1jBVxOSuyV9bUrsVSn2ycXX/+6Bk7oAEvVzHYwYdUlVlCQ0Ew4QUgWEhjDEPyRkLpKgQmPgoKIIgyZIJM1A0EsNIRHEKJHTJ5obiiE1mPy1tmks7iMKb+JkmAOXYSbmShRKCbRfBMjpPTBXyT61sQgR7iy8YX5mmTmw2E6jF9mXLCK6iouwjhQI4liZxJHg0yak1WVqk+trKk9PMrNiQkzrIVkCdjka6UjstPf0LM/Qmd7aQUiamiigNF5BBxtBAbihWsi/Vtu6NtEEuC6aJCiFrU/efG1lM2VZ5joJSaJkT5zH5R9pUHILmxY0fJlAocULBtxRuoYZEjVevepvT9XHj/oq5GvxN9Z5Dfs6dLU80cl1U28CImJARU6CZIOSJRM4GjrxTPfSVKzxeBWQL7feSQ1FoVPPqxCkhqDWnTshp8N0ZK0q0wozvqTnpBvCJVHTrd4DMXRYHFv48aVb0xDVOk67rpFR9jThup0u6eRIRRysB7Nl5echOUzM1ctk3TPhWnvS6I4VCRIR8O62PLdKpg6IhhlowAppnSCUqj6iZpLUnK2UkEKW2kR5J8lxA0gkeuHDkKnw4JPro8CAIsx0f5mfM81GKdBJ3KpcdNUMMtIOIpSmmfYoSH29y5scj/yuPnp1ZFbZ2OQ56ign/60P9GUl93TGJwjUFLtPPnxEUhqW3ZgClDwkAyayVzhNah5xmswmBIdgWW0v/+5Bk9YEEnGJH4wkcYEriyR0FJhQSLZsfjBh2wUEQpHQzDGgRAkeJG0jDDKBEo4UiQ6hXZipKkl15htlWkHRxSXeqgLnHJ3cpY66pEkmxilX51mX2apNtOElFy2QzLpVV0UpxRavSpzuFEVdHFmhtHc/8i4QMqZSb2KRIE2OAYSkoLJPMlFC4EMAYXr1GQne6/3z3y//+8AbXKXIom4UD9nypiyV1KCdBUNuG8QeosmnCL3FQGUrr1X3MhHfRtscqiowY5XdGEu7iLuYQUhTX1z/1ejNVqDkAIGJ0XJDCeVf+p7+/GdsV1PS5ns/9CF9sbS1rVRMI24wwYKThMMRhZzwIAApBkEXHL8IHpJLVe6HRGDw/sambJ46jNiQqjJPmh+8mNGEyKXXWoX5JnJO5iZogLGjyh6SVkCRHCLGt8W6gkYciTJESUgh5nEmLuqkvzNnkMq4XE65Hlo1HS3UadJ3XOu1uxfQt5zv/nW7oyUWbXgKeC17yv9perEf8DTf+u/rW96zcqt6v/sH+yWzOOJklLQAACzoQYfEQSMPcRLj/+6Bk1AAE+F9IYwkc8lZnyQ0kYlwTnTkfjDDOySoB5bQQiARe8Ti4pD0c02tyHEQyluOrwUOupF0tbEh4xaxRVhV+gVdQekUN2kBw1G1LVbXpC1ykIozonTCpuqmJj/6VpwDDC0COj2iqWHA4ytgGVDybzGoQjsiEMj4CgtHBc+QCNgkKUhDgqxHvwLLlwgni7f36QafwcXF51DFWf22300aF5EHFErG5ubQQBForMK9IhswE6oK6uKs5VDBmUmtWnL39uX3tBNMynsWYKWWnCqdPH8H/63o3vLlFNB4a7fsEFTIPUu3u3hik5n0lqKQj/H+A6CpSTjCq9zI2E7LPj3kELzHJrKJuTmbSiMISLuJqqQ2OjL5S0WX/p+3LZFuqFMMYPgMsVAofea3Ghu6L0js3S6om8UFRa1pthhNXc1Uv9/a24ACJvzJ2UbIDSKwaMBRNCQjOpkQE0cmkI1oSIDU6jL8u83r7vo6M7PlkTTLMU0IlNkmHx9uCOsf5LWiYDjCFK3ygquqzBCWnJiktip1MWm3ueU1sWl46UfUmDQTW6r6m5HrCXMkimfF5WMvZsmg67V2UqVppw5SpHSXUjOP1mUPH7ezPH49iUWTACFDEro98sTBLHhPtQHg1U/SNayQc5+25JRPov78QaCEwBOmfq0/oMOzGgEZBVglnYooZqSuvTnlJcrf/+6Bk2IAEQ1zM+wwbelsIKY8YYpsSQW8z7SRzqYUdZTxzDawssEHCOhRVHR4UAYHMrqRqnECwwKkhplrAkoE2pW/MxjeMIMTrWgBEi2inb77VpMLAcdMZ3kRhYFGQwCDAQjDHRYLozoaF+IRTqbtMXXBLpve/kkEcEgoRuKkYJtHF0QiRsNGicmLBRLo0ZEi1cFzLUSs7Ui623AXbSOZVJFzZDQs6TmE5vxRZe225U/w5UlUoNOIqUUbMIuzr9diQpNOEZI+Tbtpnfo+U+J9eZxEjbM3diBcuj/ByYAFFZkl2/2uSUlUZ7rOFs0d2RVbOntQp4kOEGCoOOxBjMlpPTE5GUWP6Of1xLr1GFEhk3JaQndSISQQ00t43HBpzqGpH5uNte8ukOa80bMNAHYIw41BuXE4REbACGrHiXeuSrLMKBoHnIQAVU4ACREEE7RIDFzxIFg4QTIVAqSSHd/azXYMU2iKkqHVjvVqUlD8dk3ys40vOTlpcVSy2gMLmXZFyqjT3fN9Uu9T4Vv1ape/M8rbWoEw0cj6dxnZ1jyMT8Rjczp+pw3XN0IGMYULSEMZia4IEbhYRxiSRJnIieaofFtsQbyfrtqLmj0jATBiMCgRWzXTyRtIpbBrWNK1dma6KpGOrZF6QLmU1aIUtTNlOWwjJv85/eRVpn8/Nrl+cQYCDlioXsKB4cZL/+6Bk4AIElDvMe4kceltGKY8sIxsTBX817jBxqUoYZbTQjFzwiDa2MDSXgspC91ytJZqJlf1mFtLWir21AEl5eZhvv7WmAwGM06D/QACAo8hDgmXGCCRfQ4BFq1+LrQYbZkiaT6xF1IaiJERjgrUQiKCBsw0H4KSgZt8UpQmKF7tdLcc905xlTogz4w22p6VCcUxWxNxLmY0ob4h7hBYRJFnZejlVU1CTcB7K//kjwxXmvwvX4gAOGd3h22+9TQcKB9nA7qOm8XVpkRP7fd77N8IuRy/fyb7SKRQIMCZApVyEnmPqAh4NCm2gav9esdd0gBLDs7un2sibAyEDEHKM2iIGAItEVgBD5HcoAZAA0+mfCMB0r6s9X+0x1mmP3AwEEYuOzcmlJvORkC0JKOVlE2ZrISlQlmXb1yqPoMQObsxBBw4MdGNXNeGzoJzMFuCCKc903IvqLZ3eUwmOmg5IDGNib4WIqKEUxQGeY/oKGmVgJ/aTW72RNDA0HLDs2MYWc95KnkSxzQ6pB0sZoDHAXEmqBWORcrF1l3mZHPLl+uUQyNkBmWVJzI5tSPkvJjEUOMYRSJb4BMSpv3/O+L1zolV1FQA3eXd4f/+2NgQAAxvIj9CAwmmoLFy/AsjVAnMkwi2o7AqrWTKEMrbLEpDKyQ4NqAwOpoDRXCx9RYQk3KxWJXisS5KvA8T/+5Bk5oADyjbNe2kcWjrlCa8cIxkQCQsz7iRxaUegZfTwjH1AiKgaLkqQiJiF66FQmXJUmoT2kMmjX3/1WV7Zi7bVxKpVSFo5FebTDddf4wrWe8nUmJyUtbEcRvbyTyTdpsv/HJtUARHZniIv+tcggcNp7e+wxH6ZbYTo/+3uEiGorNQYy+qjV/Wau6XHFgz/ucb8/vfo/3/+//2uOqqW3AvWeyiXWIf7uZgCvUPMy/+30kAABnb/gfyuQxAdHYABWfGEDoBEJFRsaMjnsrTcgdry73IfQCVhdUgXPq0snj5Pt4minA3kLfm/T9+pRxFhRxkAxIRqgsM5QApkeRjWx3DOTD2LAoNPMOpFUaiRR4DCUQn1Mnt9Sjl/wt2V5FWTyF9gCI8M7M/2vrbCg/DpujOq5y2rd94bQ0IcWRH5F9d1cjZYRzK+jQzNy0kDuVDZ9GoBwUKA6PU/d/fq/rOze7JWgrR+/5SKxd+f79XdxoSqA2i6eIiP/vnICEEmOo+YxGJhEBmAQGEFgwIE0/ljmBwaLCRW1+UnIlJ2JrCyN3P/+5Bk4YAERkLN+5pIekPgOb8cQAFPGPk57SRxKTcUZnxxmmVwC3kajcOJCQV3ax12zTZGT6mzbGWJQMFYLsPU2LUIpz31MssQLzJpt6120a01Fh1Fq9DjIQNwuEI98npHAd7a/YoYIEqw9WGpJ56ZUi19qWlOhgT0759tgJNpVzsuIgC4LkO+S7Vatp6FaRdDldgMJhMegix3qVzoun7spfZmKHBFEMjGEDhBSMvUk6UO6nZWJSk61MUSBxIqJVDEmCUDCYskWPOuSJVMU8XJCzqmJVpW1Svy4AzxEOrP7do2wYGGHAcAZjCIAMZFhJgUqAIelcJIxfdH9oCa5fsBT4ZuEAzViIlqVHy+dFUVlj1ahAUP45SIv5Br1nXRBRZ8BROcqlsHOOXKBRBApOlkhTdrS25y8zM7Xhc479UZtuxVZBq3vGgteU+IzrK9eM74qjIQJlrqcnfbEETwBuyeyyeykkIBIOzmSrb7AEGpoYabOVtWXzwQkOgOEHFD8LOx1OUyJbFq5TmaiggWCYIHQO1E80YHqxc3X01JAJ15xIr/+6Bk1gAEOU7N+4kc2l1HGT08ZQkQbR8z7bDNaSOVZbSgjPy3Wq07XQCaZ2Zof77VuBNw1WaMuAC2pVIk+TAAFMElAk9gaBI7l0YcnmDRpscKdNks0/zvN1aYPowqICZQBQqiHlE5MF0K0kQeJ11gqQESFk0+5RqGtbGFnYIkBtFuEaNRnzkGWZig+IRmOg4Sozh/7N2CmBKj6OUH2S4zNg1pGKIHMnPrDHE4dfdmdHKQHQJZXZnL40QRAUWZGuWPNqPiy3+5EyEz6DB4JcIDUGQopjxzUyFTjsXrEPqoOdTP+jrVaN+tS//qAHaIZ1dtt9mmASCmEwYs2CwNGxIHSsKA8CAo8Sv0Kgy21BC6bVl1vIbjSdGZJKLSkyLzKlchRRjm2wVlkLS9y0O9LNOdjmUvNVpHHXli1dm1s5bapGLtPxuXz4LfTOlxc61k061GN7YHdSV2ry3IRE7Efrzh9sO8sKaMzauQHsxWSTAHt23u++ubYh3AmlCnig4q21ZhKJ1IjCbz8VImzRw+p6RRQuLMaVGnwmaPNBNH6evWJkOAFuuBghpb1LUACEdFZ5VHZljPSY3B4Tg0/ozKFI6kdMlDzuxciWgFdiUIayTmCEZkxcaQgEI3GzUTsMIzMDwwM/S4HhxzhpkRxvkwYJn1GeGoIGhMgZ+YMyDAoQIbE1NylM05AdHAA4H/+5Bk8IAEUFXN+2kc2DgDiX0cIz8QXOs39bYAKO6ApvaEAATGDDljMNAMQa7AzgwQymAi1BfCdMEGBQxn7uCx4IGFnoFiUcpJ21ApnjgYgUHMoOHgimStSJhZZnjPsL2sL2rxa8yQBN0DDyYiYUaAkahzTmlP21yG0t72sMO6pP9WEs+XrWFAIFCtuKD7byqLJAvmmou2BXXab/f/HL///ZGrumhuB4YbeOO5LnYhp3GArAyaw77OIEeOH//+63r8P1z/+xcpLFyk5hh3DmfN02UMVqsXngeKExRuYX/7UgAJKGUXPR2SSigAAAAFtn7Ca/30yYfsk3LTSJHt8OIBTP+eTADCOYmhUOBw+Qtexn0v/Z/1BRyee2WSRO89hDGgNOoHAmksUZmCI2RhwWBLQp0s9eZeq7WyLWR5pEuHMojSPK1osfqaDBdKq1pcwNw22EnbMVsQo12XdqxnuIetWevd2h+EhzNTE9I0H7+dV1i1o3rXFt4xLrW6/XrNbcz2DPFit8OHfThDzErW9rbkn1/Wtdwa/eo+7ZxaNjEXyzb/+6Bk7oAI32JR/m9IgDVDOd3FjIAUuXdRvZeAKL0A57eSAARzv+26Vra3godHpe0K1PTxawYtQUaK664r+gAE57b2WxygIECIFANEqwKLDzZEO3WpFXdP7fFnuSNppf/2dfi4p169atJ5sWH1KgAG4r1TbIEuCQ6YCgwY+zHqHHmUYTMplkArRBQDAwBQiRPTHUwQnLCK4n2/geC9O/WjW9bl0RfRRksles7yn92PnPOq7Mrc/1TECyjf5jWzjdsP106htTatx4TjPbP////x84xXOI8N/v01jO6Y3JnOXPDetqNOMpTmHlHadSWfv/v/dPjGva+sSeTvYj3r42F6Tx/vawN0woBp2TIkKbKOy9SaHasijdTGqt8ZAAAiQ2ha/LW0H4pgzDMOguPicNicUEEeg46LI+1LHDDO7uj9UTsF/0Zu7NjXp7v/eAAJMZw5ZfXIvhw0K8RhgEZAKDQMY8oGNgBbpIUWCxkGMFBVHYaTRuMvcgWNkcG+hlAaSbbrNmQFUM9HJKt61Pi+h+8WCktSIdXzyIOzn7+dDgoCwxhAEpBIu3x/x/fc7KJGHHdzY/mKqEEA0IAbAiHwSiOUUOSSXFxQwiqubf///qTRqz/0kIxNf1c7ioXKBIQSpMWBAj4rWEg3awyzGwAAAyQ5bf+6SiMHdARoCNSSKtaffWNwZ4ERFkuX/AH/+6BkzgAFaGNSa481ejCged89aQET7WVR7bERKMECKDzzJATV1KtYRU232DFNHadv9fd8suoAABYwOShluBXXObc4E5DwtBAGM+JLLDS0YGqSDBCqqEyOtifGkbgDjis8uf1x28WVAkNJQ3h5Kzqp48rjsrTs8LFl6aUKrz58tZTnUXz8zbkwVFReVjdHQ7LjObn3M/+s66oYTUPExxDSijIFih4hYqI4ijDBY0YeKHiEojVdd//8Taf9yqzExUX3ujpQOkCoeB7mOg6+0tB7UO+6/ZnI+sAAACEIQ2t90lEAggBVNsNTSrSFKsnd1997j16PcK+xib/6H9HsNej2XVoqkQARqBtE9eVcFgcwe/BSKZ0WplmMjAwBBBaQguQJBE5mFv4pbAcsYQuFyM5cDQmtmi1SYrTw3QzVfz/d/OlMpvvKoP91mVhNAwPx0sZjY3pnENQiEslI4rsOr7UtdS1N/7bDBo+uf7jls8gVFyEOQpmGh2KGuPCSbST0VLv/9G51WazZkYcUULkj0JswXEIwDCwTBwIQ/Mka7vZu6AAADQAefNLW0IIfY6BlwEyJZZaJCiABPkTOtoVYBBcMO+hz/Yut7K+Z9Wlezb2/qgAAmjE1JeFM1s8EMjJnRWFgiZ4IYdUTOC2Dgl6HiSjbq5hoLQuZUBYIp+Pt2wOtwGp4lTbc3KFK/1f/+5Bk6gAFDV/Te0xE2ixgmf8VIwMTeWdPrbERqMACZ3z0mASPeI8kUCtZGzbLl3Hht45y9nnBeSazr/5CTSKaJqLnWbmakYm3//692xqf//hl33Vs7xSZDhnS5CRBZMlH5mCRhdHqj99f/w/YpddpZz7dUrj8jkpxhvklJCrqsJRlCr//liLQXLHWX5cAABbN1vu8kEBp8NJsLOAhO9y9SH/Q27bZ7L0UMxXv19Vy0RMv/2e7RSAH4rSk4D6DQIihg8GGeBSXkASZTuBxpMGgJrxep+ESllsRTOZ24yeiklbJo1Gp0rGJRr6SQ9HIqkr7VtRnu30JCGtnzS/u2x10OUbBmsyn0z1mk1qDqQHtu4+Umok6JCPvq7qFZXgl/99+vWtRW7pY1NgtoeIQwfCEkkLcEpECBhu/n/+LxbR02rOMc//+/Kyqz3jskQpaSTYt+x/6CPOb0MIINDwABHDdtZfFBgqJCWjMGYsm9T0VDxGO+a9Sv5nQtQlRpDRj7/VUj//6KQAAogQi3uCujiR5hdYP2hRMArIXqlrQAPnSYFD/+5Bk24AFGmBS609Leikgmf0dIQUUrW9HTj0xaKUCZ/T0jAzSXTDLshemSizIWJmrGF4sObxULtqo7PaClu9vuloCvUyOgxV24Zk1LRwUrDWBm2t51q9F2pGFRE3ZocaJ8fRKQLB0I49uubk9X+upqanazmFtlUQhgBsA4dHEC4f2QaZTDFpNeuqZDih5V39aT/cTdT9g3BwVD8wbFEnN9Xz9f2PbRrjcuAAABrJwu3/+tEGUHhAya96Bdj3GbbPe/xrvXm36IourYr+3UbNrejjvTX+v0EGyTkviIJMW/SqJmYBAUOAQAmFGY8biMIdNEvi4wwLQGGCSEWydDRDE90+4LMPTar1UpEDlzhZhKh9Fa34ujndwlfwn0VhSZ0ltVbFJNreqVzQZB2aJwnEZb6jteUEZkne46FE/+l4glUOHyNHjjxxIqDwchoOgeFxHHic5xBeXKSnmpencwUsXsUYyXoyR9n8d/qciiu3ELSZ7ycwppN94AAWxse/sbgyQEsYIkStk3tOItctKPitCaHc7TXVY3x3+7ov0/bpuQ+T/+6BkzIgFD2LR609D+ivgih8UwwEUPXNHrb0N4K6CZ3TzGAy6pWoABb5UJvXFPpVHc3AqUIAI6uZIBZDfIUqzlvS4Kw6El4JQwFfqxxQAMWSJActY8XzQH2la+GK7N8ZwmxteiL0NPXvlR8FNdx6CFe7eZjZeQkja9Zfdzq6+W33O506ET/X/WyjxNiySsO4Doeky8VGxmYkgkqGs0m0nEme6e2zh7PsNrOnre/qLfNPZbFrjbFXXUMe+05tUG9bXLN1gAASw6Qt39tlFAgKoyEo0wtSKnLrG/IPbc917/vV6afdKzlxBolK/Qz5xjiCtC9qgAHrUgI6+AKCAY624M8JC+YBShY5MvxqBoWjaMochf6gDPy+HwCHhshgiX15FvEtuoHYdnXKTi1p8wbewrRl9WbW+2kZs8Mf5tiuQLV6yGlLNHBtq3M/5ayvQZmVpuXY67MzPbf2K32PfrGvaLI7BIBMUEG6GnO3mPmu3r3u3i/vpHGcK0jLWPPr1026bTNJ7+/PzPpO/M9m2/7WtNJe/8cnKsgATf777+9yCgsCCGgEYWYkUcNtaZPMfprqh+knn/VWLDQy4k1rHN/3i2NCCqP3f+qoANlmmVkjl/KfYyY5IgZkDhoMDwghEYGYECGGhECFro+26/Uwa7MJRDrXoHg4BwbBZZNbKKgENmWca/1vwUoDyEBH/+5Bk8YAE413Sa0xb+DAgif8kZQEUbYNBreGE6MGBZ/SQiARCh6Cw3IySGMlid5c5InIbWYqI1a8c7xmZkRHZtKMMz4/it3s+M80cBVRwWAQCXLBStk16Zt+7H3W5QpYl5G3dfdmu/zPM59lKUd/1Muwu4sdmkIdLgAKUNDNO91rjGikY9wZLUPJMc9Y0EXUj3qokVUGPftT0MPMru16PpSo9R5XvotvrBUd2h1VLZPQXjGRJcBNLRIciAICeLgQ+QSIDWMIYLMXiudncqXIM9C0cNdHq5smhK5ypCV77W4EG8XTVP22j1jgqRkX4NJUNVOtxab+dfwWXw3srrWLVlf6znWceuYOawprv3lvr7xnNdWq+3uLNmltR2yLt1GcPu+aR80y+k1H1T/5lgeMyxH2X0CHukryfcG7juI/tNnEGPCgx4l2LwrRdW3H1pXba/Pn2UBUaWh1aNtrXICJPJmSBYau1OHSiy/GdCmI221PcN2aJfb/Xv9513/qRECFIF3MkhlRFsrrKQAAAAN3TzECs3gIMlJDlgllZKdAEENX/+5Bk34AEuVnR+2k0aC/gOd8wwAEVeXlD9YeAKKSAZ76CAARGDDRww8ZGBEMQhAGiSeYIQExADgo5kAHVjNvgwiFAJWMFr5mUBoSIoVZuh2afE5+BW9Kwy9GdiACVADkxiJt7ACXKA5G4vaoCrCgnUqCCyQMNN1LYuDd/nK0ptiwdFpHxFdHlU03elE1Xxw3zGVRqnkMVkT8QwpW42Vqzco46ibzLVLVjP842eTQ/K4Aj7BV/rE5q7V5lWu2PnLX2qWtLqbe3Sf1137Zw+7uw8/EMRPWUzVvZZfc1a73+Y445ay1rvO1otIH7oZVOTkv127nn+PNbzvVsirjpNzmFIz+gN3Djq/9JEiAASqNMLIkKbrNVmAAAAAA9LG2Jo4GeBhhBpsyoxYq5nBnQ7u6OOldmu9rnO5GdNSoivR3iwsxH//6P//+r///0CXWaupxtpEg9jwciDoQw40yi1z8LHaovanvJCqbNAaa9bOgUFYIhUZPAgwaVk9c8ZGUTzZpISQcwhQGJQWg08exU7qGSqIowr2Zvg0gWZ1icZIZVP6n/+7Bk0AAIS2LJ/m9AAEDEud/BlIIS+T8fvZSACXcYZX+SkAS3sKUleVSUpznHI+l/JVPZeXqSsPt/f/Nev51/l3u/1V5ng3s53HXSrJQNz60If5/u66Zyf1JN6Bf1d3f1TTyrpLYPDPESsxfZGiB8dMibunwkIkyRARDUK2tTsQEZpd7xypT17WKGdmlMlyVZkFlv413/Y3t/46eQjbr3bzdltz+/wz58ebMlhcwUFSxsBjH2xZIuUNGkC15T2zbK/+xKG2r2kUabZJAaRiSFpKNWIO8SmTomqbtcRgq224Q2886/boS4isqbH7atAH0BfFkZVZ584YkV189q1oVEpfbrMMavBvCFW7jA1d/o2H2QXawOKYhAQeu/6G9uVIQu7fHMnkZuEWo5cvVLKWQ/YVagsYCyaYstRtygIRQos9BVCN7oowIYVSg9TULLLYq2620kExgMgZiKE0LN3UBUu+ZCChcdwQm6/DYjFhSmHIRVOyFDPd135eU0IiBkFQUz4dvWYDSpVQWETVie4iKIYGzRsOPUTafER8AKPMYW3Wt9vov/ossqP2+2sjjRKIADNa8YAqbiDiNwhFbKwZGZiLwL9eJwVWuFBEdhtrsDU8zDErJgyyElHVZFJxI85FB0UsSBMlaOmYbSVH8TrlIymVd83dFo1e822tSdqhtP0MYHWWatuZ0I5YmBcgEljjCCqoCOUiik8JncPpROLKrHNpLjFsiprUkJdtChrJJc9a00kRDAUNKsXU4VLz70gAQKSWIzLydazwZeOYn16bBBb/UTdB/r9OttMDVwjQouTVJO9/+fImZ7z8nNJzvlTTx0qv/7oGTXAARDTUfrCRxgW6UpDQTDChBw9R+smHMBbZ+kNJMNOMmTgoxrLiIju2JcK9P6Cl7dChVP1RrrbZX/aqE6cgxgomMIfgNqolUEq1jOKsK6DhQMwSDx4PgoST4hjpJ6RqUmhiqxF75ovLjxtb2UxiZ18nIMW1LD5ukhFLK0pbjqzc81kG9fM0612ew9SSkxVRLodeg24lCGvWtB6beLZc0m9zm256roZKkqxzFdW+Pf67HXG5kN3cX1zUu+/vlylaMRNPm3/9dvKStY9v3/M6RNbE5WUiSFD4OCCFZVIROGi8ki4oSiCnzdvC9ks2jzSDFDCZMiaSRRlewepGK8a3p3jb+P8nfOXPr5bY/eN05oz7u/M+S5oZFni4qaWJAgCL0Q1GjkoMEFZSHSSHAdakOFNsGBjvQpKuTrjjh1dIEQEsEKzuryW0mTgAAIAAIBbC4CBj7hemGUHoY7DGAEJrc57AcVIYKwOpj4CqGHIGyTAVrLMF0AMwRgLDBdE4MDgHcmxQ4GBAQA0BANmjgDcCzIaaERImBggBBwAAxoAwgFQQFcnzckodOAoDQMAgsOPAGAAGGhiAaDAagpZdTMS0AMEwzwA4ABlgkQMnDkDhYjBRyghBoXJNGTNKzYhpfLJTFnmJqINEgD4Rcya9bMog6ROLHQLAPxdDIwuEtB8wEQr9+OAdY4xP/7wGTogATFYUdlYWACbsa47aSYAChWHy/56oBA/I0mfxgwAO5NEQIoibhABQMTBcDD4kAw+DwMegwDAwLAwaEQuiAQDNv6i+T7k+6KFN0wtADlA34DAgEDAgDQICYDAweBQb4DdoLAr//m5XQqZd7+BhoMAkCgBQOLQJyFdEJCJBfwhBkA+cigwi7/////////oJl82lcwImdL5oqACCCJCGVneGP921iAAAAA2cfoDiGhxdzlfYPzzNFAaLl2EUpMECCgYtFX4Z1RbjDAAkais+phI4KG1l/wAOcqESaJVHeYjuAATQIECJgiWQhsoDehZKVJsuXCACmOihE5VAWmVgfDwUmprEuNj1guMPw1LC6CLqVn+ido1CekESSzy2SUuOqQplW9vu23Huf6zcEfWrMzMzMzMzPQbCI5bKbDaxkcQOlczaMWjAfisfFqztyyliEnTxZCqOGzqItlRpQvaRG6RQZsr1h6ZrnGb3tTb0l5qsxfM9t/3Ha6tq7yDU8WEBRnVll97tW2AMMIKtDDCWJFa8/JBJFCHcVkjRUbYapZjktWz7WfuZxZXHgBIro7Q7i+QBgKONhA2DCIUlFYMQHF3UPjYNPeYZ7M8iEuo1xgyG8JibSLwSACLiEjOj6ZdlCDbbBm0kKqyR1Daz0NExQe/IO3BU4+DdxyyR+OJSM2Wky4+/ciORDgSKcSdIeocDomujTD3FEVnqpprnOGXMaxNLDitEmw5z0LOHqWTa8LTTXX/FqdJtBQ0kxuSAIqKjw0bX62sAQ4TYge9cuy+u960OdndQu+ZaYXD4Q43txmsyfzltyW30+z/9cCRtX2zb+LcI9HLYFqXxN5CAYtsuGFhLKGBswRRiD3oqu42QKByOCcYY/0t8Xmi0tA4kaRFlBKL1FTyOBhjXiqwYNLkkTsKzmMgs3ZntjzJohmGQMmu/df9SVb/7/uqmR0anh/JINglceILCOP//uQZP8ABSha0H9hgAgroBnf4IABEkFfPeylEWC5ACe8AAAEo1GiGrMMlYRlcmPKFh8XJMzqsPb43kQiRu37232pwEE7synkI80HuUxOl+l1DntN2WI8Mh0bjHRt5g5KBa27T6JOQchqTYvf1LpHsjVrEadgUusm22U0ESQbGI2zbEMUWfBUaWqFrZkkUBKYbbtBRMbtHUwH7cmnITAk0t6xYcd50Pps0gQj/VgFxKCBUc2iPquNLiyJ6o827r65dz8xW9Dfo4WIDw59zeWlB7tEQrxpX//8RcxBE0cogIKh2F+ZqD5LdmiPi1qal4lIialWJeqjm0ZIIMr/SvbT67FSA1VUSpt4kAGzgVa0rPaiimgz6+etKEIflml995d8cjM1c+zQG9HZyRVRqCRT6uL6mUPj97P9imBVVZdoiTbYuQ3kQeuBvowYQQEKDDAoSiWthIEHGFmVLHtToeOKNPooTfcaWS2UhshAwhb0PmDiNVJGhgHhqLBEgls1JmztJo14RUJqfXTV4JAw2DAocIgEcq9aCyHJGtNzA3hbHfPf//uQZPUABCBTzmsMQ+I4JEm9BGHREZ1TN6yxEYDhmKY9EI383/PLUzMaQEwNSw6D2bEgesKKu8w/W13FfZ59008IxgHB8aLA2h50WKI4HWlMn0pQFV2iYh997oqCb1BEcYeabLvZuO5harL2bkiouQ6MrXAjnp+9Dbv931i6TSZhQsDiUrACAkhXhpPpkoH+M3tPapKpIQHE9AZCiZFMu+oyaBNViiEh2F/wheM1BUvUk4Gg5n6GqiOGyCpEtHW+HhBRF1fQtsj0V1pYZmBe1kwM4xMMcV7TQVPGA82fm6zp/b/y+2WitrzW03/mZn8+YN+evdhEyXByDUlCUpus1Y/adm9PY7cmZ2mvsrF8RMcOINsxXLxVco9YAEjZnim2+lbghxaWC8B9z1Nhgk+LopatzUJSy1iKKJVPRKHJr9Xf/r3pV0N99NUANyKkiX3/vTwUIMbCEOdRETzWg+MjO48AXDey1Di+NB0ICZiETg0ABDqMbCZThp8nX+y6GIOdt/nYeWXxm3FrD+w4BgWyuHo67zsPbHUK2GyqCh5kxM/N//uQZPKABLpPzvspRNgyQAnfAAABEolHO+1hg6i5hmd8IIhshkn02H1L9LSkcXEZOKwIKGIEQCIy6OF5DG07dNfdopM6nqX/9fv4Y2bSNDcmAUIUyNzdRB25HQOHdn9b76OMYm8nSCIXj4PhuINQybCx0iiIAAABUeJv+20ggIfUBABNF0oqrMPUxNRovFkJWS9G50V3CiI+qbDDgILqa9AHS5bXd012N+wAAAJ5ldqgKGDRoYNwxhgEHEgGIxcaWFBms2GZgAYtBhgURGBQCYaAIjEZhwDOAjAzCUmuoZNqluYWTEa8s9y7KRie7lZcMyJY2HSwwxbS7fX1TFdfP3l01VPwkaeLvVHqZoRFUMtNblpZNi+PeRW0KlI///Wf2lFMGknScPFWMk0T2QeZCvD3E9y+kGAoHABBCC4chgSiRBMy/f3MzTDaccMs3qVzuna+aD9koAAAIJLx/9dZQgKQ6CAIYcgkiaH2pdPP121Paj2dnQhbay7PZdr/ZrR7kI1KepQAAAK6ocCoJmVjJ49ia5OG2sZoYsY0aGLb5C1g//uQZOqABUZR0PuJXjo1QGnvCMYBFY1jO649D+i6Aif8c4wEpcMjJBwGDk4ZJFCFHVYoxIx7rCBlRreo00uVOrnFLIYTgC2cWmiHqWWrrfb4SpV80ONEhw/9/4pevcEiYaoSqvhRor+PqDiJl+pIVn0bcC+pImsQYOdb98fGd6+7f3vK/pbMvix2SalNZix7X3mtfNfWYcC+7sUBbPxUtlGZcSbvOPQUWLng6HlBiIG19QAAAANVR//t5BYWYnUAZeHh1+cHhBlg4SWs2oP/YXJaJLcL+9Sz4GAzQmgrL//IehOZUAAAAlAmERZAAWQAAAAaEgvRoFkkmhuHQZb4ppnpFkmdOIyZgIcJjoA6GFkMEOgPmLwHUYt4EpgYgEiQK5hQhbBgERgrALFAUhFyHJiUTqAopB2CkzzEqW69oCGaE0JASENF30XU82KwyWA35fNiwEITgTDZshYggV5HcoZGQH6ZY0tlzIkrHfSETAdmBFQUyjhqgFom7O+1tkLgpF0sH16s5a1K8EvnPhU5bciExSQ9tVqOjw7qtafyjkTK//uwZMyABVFQzu1t4AgygJn/owABItWJJ7nsgADWA2a3GAAAL279vlzKdbzWOFSP4V5inaHNO/P4TEXfTs58Yn5Be5Nuz8uid9AKy6k/lSkyguOyi1hn+Xal/Wv33+WOc7cs61zf8//jc/Yys6tC2qFlvX/5kVSOf/oiqROJAAAIH/pZtJtJA4AAAAAgA2EQ/gdF5HUJJWR+BkIEB0JqOXkWjRacHqQDwuA2OFKU3rf+6ppiAAAAEYAABmoABAAAAANV8RgyHQ0TSseVMZU4AzeS4jHgGsM2RB0xcAWTO+H2MRoNEyZzFjD3ECMGYN8EgBmECFuYN4Dpgug3CwMSTJFCsoHki0BQLA8vCwwXCcQtVD6LRUbTtSHCoaXC+khTTHQoQOGix+W9ONDoWqqZAIkmGYMOhkoyu3wSsa4vFsbtQQXijBd+IOIuxDdXLd4JZ0ne6gyGECNMleq2/9OqB4f7add/VXWJRPV4q6XbOF/OZoGwz8dp87WUNw0keajk9qtO4TTP1CAKM19Rmt3sqyh+vza3FzUkbpIIjrwNgfSCF8JbNZjTxRt9ou3ePWJu9Zo6sepeYZZ/l+FfT200YgaW0Wf93z+vrB0M5ZwzMc7ax7hrLDWWv/HWf9x5//////////vXcbqwCKv/oAI86cNgAAIhw2UIAAAAAAIXPOCGryUGchE2QqwRVYaNSn6e/l3P3zf8ztMznfs+v/DoseVG5BHE0AyB5toy6jUnuo6OTq/2//8OdabWdXZR6f/V//3MAACMzifZkCsrEW6Iik5gGHhwmCjRRIxEONwAzEwJD4WAWjyNKpOlK1KxOmoD5OH/+7Bk3wAJ63bIbnsgAFGjuTrMGAAVyWs/vbeAIL2CZ7+SAARkVrmpGR06PpHoUhVmJ/RVl+JkXFQw9yOLzV31qwcxv9Zr97raFBgw3iCbYb59Wz1lmqxywG/GPulbZq5Vs367ZCvJeLrP3jca0bcFkgw4jY3Tt8VyfOdaS6tn6+/i+N43L6sur418aj+bWt3rLXVd+Pi+d1j+sgLlW2qQzWpywAAA0Z4b/3eSDh+zGa1Jw5xZA1dKEQo8/WER0dQa2dYjpnsmJ4Iovbz9vX/v+j9NAACbrbnxQCqMxn08YCdGkCYWFF/AJ1Bg0acFhAigELpJqqGCgG2zNWwMJb6AXjfL9T6x8evCNdLRDyITkMIEbkEPeE+vOONs87PDY9GOmyykkzYRPYjJCdThmyM/Z39e/fvezRF3v8RWb7lbUeQY+YfMuSkIb99eE+TCwoney/2qPpJu9m+3/2rrbz4yBhBArLIAgACCCHtMhGe7vfZ4AAAiNEPv/tbBwQpEpQSADy3ok5pejOV2U0NzSmquQUHuVq979r/Q3ndBKFD6dyG6QAAAI0l4UAm0k5WDMAXjMQ8wUGBAUYKIkQuPRgGSiwDIVp9L4SrXO2Zjq6IahqOCscBdGK01zDSUaZNprHgRJfG8JmH029WkUqj4esvZVKWq9ZGLjJVKNmJlNEzVb/8xrCYfdd8+eiJEjM5m13N9V7KyKnlJUSl+1M26clWpJC0EUqqzUSyJFI4wkU3vd2/9zO8/vSVHGo41USSp2/BSQAALnu13ljggGCeRzGHGxU0YfalVVam+x7GDjFQQXt3bm3VOokkbWLq/6OeI+yipAP/7oGTPgAT1aNBrbDQ4MKCZ/xgjERPljT2tpNGovYJndFGMDBCtz0pIxtjuCAyUqA5OIydf4tFCJPD4gBSezX0sFZGusIdVlLKoEhmek9PBCoV2QM5UanLRjQbQEgsGDw032acg9RxjpTdMt3KlD93GksKh4JqJeh6udDVdRMJZG43UQyRpCIujJpfxxsqDBpIQiI4jmixl8xFSnTNDFEktb1f8aCj3SM7QQRZ44wtbyxhp8HRTobrAACKrsvqjKEEGhe+9NBBFgtfMbD2ZUgWCSxzbDiDHo+tzEKQEfWt49bPvV/81tMgBBG56EiGzg+OIABmdOIBAoVQkzwKIHUOWzJx8veyURhijwQZJWDwSicwBpynDwTMolTpUbTnZi1X5mnwpoy3qnEN01ukxxUp2QWOG3Vs14+rizUn6YcNC5SEFljgc0gdNeiZVYyKzYKRQIkhpI+XWafyeELia6rMTFcMOo5E1FcfvObV/7r4+ZHZsz4S8GO+mvPLRKOHJV1KthvNfWpr9gIDFbb7/VuCBqKKkDYXGJRRcxGliLphUYqp6ENnlVisbx1Pq39ffW77GOt3pTKoAAA3fSyFBQPN09zE0k0A6GRgIDDAlUcGQ6jUwQ2QiUDU8IAALgiEKYsNQA+9PKH1onelj6Q9fs53pi3av07CZJCsuWMsdvTsaVLq3tlWbvr6zHP/7kGTzgASqWM7TeEHoL2CZrR0hBRQRXzdNoNiougJndFGEFO7lnIW6rpZjZwQATfNlpfZOXkmrMpnnqYv2T3GjrR7DXuIpK7RPcfqXVD5v/9J0IrqGIMaJJE+HGKuoxHUUYVGCKGC2t7qxsDjT6x65f2F396AACA7ZPm2gJDFM0iimV9vIll4CqswoymL2wyi1a8MmkJIsGTb/VQ8ypZBT3sgd7nKQxTk55zC8aAAKAhJPykTBCFGPdwWADZhMLh4QUmPnQXLSK/TKIhsv4/tMlTTq3sOMArCc/BczMJPhTRuNtDabonAsV0GzkXzKj1yy3LUh6cJTAND4MljL/+cVYog8hhQXBqHouIRsDGrrlIMP3bOKu5RYNVBSh68JXdT5bwLjytIb/+7+Ok7zlSRxsres1Vi02WHBMuSQilB8KP9tiAABo87t/ZGwgGRNJqOlhVa1r23soNPxQUFHCqwDwPZFiyOrrUwW0WqirupP/XUADA5PmQTEFTlX804IDGcsG5qgAYUcgwbBBEXLZyQg6EJblRQHAYCBmTpiNxb52f/7kGToAAUjXs5TbEY6OEMpnSwjTxLNbT2tsQ8gtYJndHEMBBDBJM7G+uVRuZZ9cyCpKevakeV+6y7nOLurDE6+4PK49M8r1W7UZZ1RL30Qm3jAkHhYPV6/v+1Jn7L9Id7GPbJTnTLmi7KXnocdRiiME5IhMHw0c2//xKm5pVRbzaUtcdPazJQ8oNWgh0WOPtgoCLScypiaAAAqpdr7bIxA4h6ICbFgEieCLxavs94SQEFtVDlG3MWCm+yha3Gq+ffe71bVupo+wAEApfAAChECzM3VNFkkyiazD5BM+A0wgSjKYnMhC1axZlTOVpdM4IjGYlDpapI+D1kpxB5MVSuocaW0aeBSr95DOUf248kWxiRKgiKShKUltwWX6M6iNzV/9//9FOAyStmRSYYW1WeTyNVvjcY+9ky7sstv2bAkmjJRIQPbYQJKsIopHYu3NnkYV4ZPYdNKUmJLtPmyxnr/74rbU0qImuAyou2oaAAAIoIkb+ytsQmiw7jQHUTQHXNOhIuswUGIPrLtJrfez1ardxBPQhPMN/TPTT/o2frWAP/7oGTWAAUaXM7TbER4MEBp3RRDARSlWzVOPTDgyQHnPKEMBIRYB9v8gKAhAg6NEy8w4EAQGAQ24DiYwMGRZR4Lot+gVI0MQsALuappqsHBiY20Q0S+F61HWb8mCA/9vZmqHXH6wI2rubbCofjmeqbvcdLyt+spiwdEC4OuHwjCdinvPcTwM//SKxTvkaWczFnobCipwcwfEU5Iyumidp52o3vGMSsnOhSEC+5gACqFNfI0kRRkfhO5xdLzncvvM7/UyVsaiF11/cpi02V966cv68XONm7Kk793/WAkagB7d5AWFMDN9DhjDKkjImTIhgCEDBAKBJHqrAkM97al/ExxgI0Iah/AwYDa0uBMG51WNarpjiZkPllH7LGGpvUdmG0viBhc3IFHKpkmVB2evuXccEJ8VLDyGeRZqMmHSMr+e//0o/fDl4nih4NoF3inZvnOcGtTqDW6lmXf7EN+I7QzlBieJlQGkhOyACZsgosXf6NsQwpj5AKm5xjLpYFka0vxRrTBUgWFAGgqlwQQ4i+nRopZVTAPar09rfe73LoCONAGSfVgpl8DXoKX1dAQsdeBhIFEDhE/RkdfN5eqwjYwqUGFiGkzPdSE9aDkguYMdMQWRgORUIefJkGQ9UysYHTlDELIOcQxGo+hJzmRBdh6C8Kg9Vt+ss71ga1hG3NRBM4y2TpwQH7f6v/7kGTzgARMUc7rbERaLuK5nSQjExHRQTutMS8o0oEnPCGABBi7aPLnhn/ZXX8IKTgw5CmGEALCUA6MBhIpiAiU2LfnGlVZZULjJecG13qZNVSWxf3gyNHhNTiTAfTu/pAckpm+/9sdAdiocXACkVlIGMqaSYJxIJxRrFSCAqhCh+3Tdp8/1ojBqenv8uCFkqTHHSUsxJMtNLCCHLdoC6CWnhBtwwQBDRIUqB+DOoOCXsAqEekmkJsRZFGmsv7Ak+vNQloYmXrmoRJH1ulNNb0RvFIzKyuNpUTkVCVo5LC+cmCGuLi5YvwfcVKbLxKMBLVgcLo/lxGSHzM8ltC53LZDVCN63SB+mSeZpkptkhSu02yNI2LXGmQ9Z3//qdWm6CcITWwpCI5H7tbjEQwDXw53X6BTZGZEaft622DAVxlEeoqCj3ICiQKRY1da5MqlVSKkkf7v813/6P/2VwWavLdFb/asqMykOQyAwhUGvQOBhTZMGDLjFkkJSYTAFLoNa6vKhBBqWQ5WGUaSJkSTEmuFY+OtodEY6jZomaXQ9cxWG//7kGT0AAU8T07rL0voNaAZ3QAAARONO0PsMNHopYBnfBAABFWSIoORizWItCJVVbuicmATAY8abCT5T5Tf/5R8vJyRsErRNmnRZKYns6Pnm2RIkSJ1P///88tKLAZFiWmqYkFg6dBQOyppLWBtX/UCOzy7Or7b6tMCOg2iZOjw0aRTB0+VLsDFQThhdIhB8NhYInipWCZ0JkFQkExCo4oHRfQtW2l3pfiu1qo7BsFm6q7l3+2tbYAELJEBoYCDRhAGkQGDBgb6LVWoyxDWBJtp8vsO0+smbbAUWIFYtYdpuSKUC4daY01kri76behXgls4SK1LHQ6UI0pJ3TZZ3MmczyhCOJwr3VkwrSlx0+L6Zp6AmCJ26FSpTOuzJyyxJJ1zQ/OHnKDJgzxNVNO/91OaTby12XOGNhOWMsHSaxI1N8zIUxFH1Y5loW399ZvOOcMqdsczYQ4FCT2hswIRcUmaCbClVlLnTd7bIRKkbA6g33PVBplop3V7ZGSQDGxapFwOMqcTIhWxC361aRHgsGWs/T4vKIREHupxSxWKpFod3v/7kGThABSJTs77DDPYPiAZrwQAAQ89VTPspHHpKJQmfBSMdCGpKdRJ3CmJCllPN/i+Bu60dO1lYsdj3ulw/fpuNuVrEzyg/yc9X30Ul56gpcebSN09wRwSJPjxwVMNAohNYbmCyYWH2IQ4KEzeMeVf///2/9ALLy8RCtbbW0RXhhAjuQgHXXkzx+4paqoq1GsQTy0ocJHZ6zWh3hqRU6U3F51yGNCIJGFllvn+ROCJ8zrEyFk162aB9fxkabkVMWITz1UuNWUzigh4h3hlR2SRNAPC9oKsFhIFCR2xqWPsX6cpv2EDRJRAjbuw6zCZHLVyzQeHmrM6mnOq15GDBtUjlBDJZKLKp7qhRxNBJUFhWRYEYd2ICEU0HMRJmxrQmQiM3/7kV+4IsimSNchT5wN9IzGzRmBmr3dkyzDbwjGgVl3IV/2VC/P+5lY/m9989rSAATChgEc8gYsBNiGdCKEJGGeP7E6wugIkcZBeZcM58oNw4PiE04BmXKoUBCwdg2MEylBU+cBN66E3nRRqBdDzwSDr37ZI81gb0Qj5/dV9+P/7oGTVgAP/SEp7DBv4Uye5byQjgRA9OyXsJHEBYY1k9DSahBHGlR9/r7F/c0EUFvhbIUNICZTZmbu4r2HlbX8TiazAjerrEYA2zjwXNFCIUrRXBVDO8IDZ8OKMoCGEydhpCm9HVMdysZzypZsrLYp7m1dpq9LyxTCXpFVBcZn9yT1vn9JQxnsGYjNiEeSELLCp0GwC0ICrzIeJEToMCjI6/abWSHD+MB0Y1j0I1TFGwKS5TPNRNJELpvZZgaUNlHV4uOEfIdy/z5kPNoWa/91jH1wToOZh1gS0mCGLB5ANDg6CriySUYYGWDFNMMLlVhGHHKCJkHAVBEVHkxzH6L1PSmzs6tL+4//ffpP9tsyLVKALNYEYymSgh6bAQ4wtzIq/sTFgOlGWiyuIM6gCKP097wfCbRw9AyLNo04oyIeREj4Kt0tGCyYmiimguL1MIG13uR4jUxlrZSxJarXCutqZtC0DtMg9j2014wtVCIX82zKLMwZkWR9BuH50+pOTrmZ/mlPJnNN/+uzcg+7fsyN1p/ooUfq3PwZVk12kzabiBEGCQWj7ZUQnxGwbEpjjde4xpnB8TNIHspuaHHKFvPfTP2FOgmMVAqLgRmUJXjMsNqEBG7wJAXthyCzaQCFEkZHGN+vU4ZQXeeZTcwNI/0d7kL9aU201qTVKILCORj0sGnh9SEHJAuQu+f/7oGTxgARMRchjCRvwWwPpDSEjShG5IR2MJHGJaZhkNGSM8C080tlOqxadVwOFxYXuyV7rFyBDZUwzHZjTarM1ZrWHlnLx8dbZ9qjtlmHLZ1y13a3Sws//OP7tY/xm+b+s0s38pqVrt72+Zv3Zat8b3+n5p9LT8HUnc6d3aU6r1czM215yn/aOHOrNYHBe8n82nbp/r3psdqvEu+X1+JLZX37uT/IDZNL6VK20iH2QdTaGAPXtAiEYFsCSYOf/mbhfzsW1MumQ4Qizhg80kC6T4JsWhqSIXBUvQoPhMkxqB6XlTsipRZxhjLogIFXPCDXUHO+N//6rrf0qzqqqsIsojobyxHgQBAAAHeEYBBCGRkBpAZHNshb5YpqDHYALByJSpuYNJM4IyIIJ7DvgKuAoAxor40RTgveTgwgReREnBaxUiMJMbZJGYN3gScWSDYsjCgMAZAc4TeINEEhokUFblIaAdISReICpReUZmCSaDhygjwyJgW8uvsb2UieQpVG6CZskZqXrQUzNSUpBk1OzvdkmN03sgylrTQUtlKfu2h/WitmbWed60n6T5fQKmzf8EyZiVD/+QNBh5Aq477dbHbJZdUmAQAAABLFPGCk1A06EkyIsrCbrO1kQ7PsR+yOykiff8NeGUTQ2RuE3PIBBFxiUGG+nRhx36NLc7//u6Pr7Nv/////qAv/7oGT+AATBVMdlYYACVEN5HaGgABhZcTH5mRIBL48lNxJgADSUXcS2OIRFIsVMRTMouNIydMskGMKAZbuAQqMJgDM8DpOACfMXw6MKQaMSwPFg2NnxnM3CKMRwBEQcmWwuiohHaaHHYjTNj4CMCRM2DYxS4xLVExLx+UkRAHHhBgnBq3hjoplzFV1lh0h11MgSXCBgCbA5SbdKIVYBIQ31d7YFmI+FkyRia0gbNSaICdogFRBrCBpByVbvP4vyAU8MTKISEELLg4UsxfjkFx1/rEBwNH9ckFP5BUusO+48gm4nC5mTLvLsCECq9m7R1L0AcXWOumE07LLFM7kBSxnbQGTrjZ1TwJLofW7TPuqmXbcdtGJwxBkgfeGXvp3Uei7fmcKd6mur+Wgo67EnalLJBJJREpa/dPc3Zv2O4fzLci/Dmsf3/f/XxKH4z21bqX7dDburJ+/0AElBKZ5Z5eGbNdsDDYAAA0XhZGZ5kOowEyxkhetS3rPrOANsLOWB7Gbjr/+mf8NFLlgM2hcOq1N0yNGACA+IpAOsF1zchMZMkKME5nRftbBlkKoP0haXhQtdtkYuwmppxZ51qAyqtnWo9JqxWG7k3ZixoEbLg26a1fFYm5cK2rpRRlBA82I24UJb76sP7ib09g3jwX9N21bVfq1rQ4MVmvmLDfP37i+j9x9YsV7G96Qd6//7sGTzgAmmY1J+d0gCNSEKH8GAABSNX1P9l4AovABn/4IABH7Ut5MZxBt95rXVfHxfv2rMkePqmcV+t39sX+vp7u8AOChnO/QK5shAXV2Vp2SWboJ4TESU0OUdph8c63Z6mXnOlPzQ5KVywq4Oon3aLG/r9NNWqHNyKgI5eXkzVAAAF99DaEyHBow5wVSMAFvo+IAC36AcFaCzfo8cIc4uyfOhFqiILCIjJjbKImIjRBFMkt+x88LGkJwGRMH1WRCA4HIowJLchlMqTFCag84K5k2ckrcrslVryxW1EWtUVmGoTQHVsIkIIq7OPFNS1VSVspNRdDblFnErje5TVtIpS3socp8Pmet8Y3kdyxdqLtfgcJ0cO1+RTeu//QJIeKlor62+3BITHpQkEUjWYiMrew4j6F19fo6UAVvfnuj9vy/7/ZrEzdnlzZmgmjNwFgBKBKoABK1MCz48kAhaqEFLfrKSNfhlr9KVkzanCGhKqZFO5uM76E27gvJ2FXumzeNNbdNM1M59M1/7sMzO8q9ebxes1GGI3QpmJygTsNlw5VgvXuYlaW180w+++9i0xh7NbUSNvFbZrXOqRod9Qo+a4gPobFCtjXtnVdVly9rv1jV3nO4uvveoke+N7rTNfbFcZxj6z53kSqENUrLAJMrVCxW0+skCHLjUKeMF9SA4je2VM5nvK8xFEpcZT1Jo3ey7t///p0VACBLWakHlaDGWczqdKkAAz0dMFDTglM0pqM5GDUgU4kTNUCDNx0yYbMxCRQGBVMATA00KNROnEMZLwGOEgI2ILNCwJ1yAiEPTFVmpKYGVKEQgtwWjAwgaLBxQ//uQZPuABRBZUnsPSqooQAovAAABFQV1R/WHgCClAGf+ggAEaMmFAgpsGDiAKo6zmCpejcX0hDWlYgLAG04KQpFmLGPEEA3hZSRAEhhJHHoCTrWDYMxleS8pTAjDsPZq3R9WDoLtu3dubtv6j9TRtRaL52m5wzAkZpazltzgqEQVKJdPuBDD6OE6MZnZuHn+VRlVqCozWxu1MJRYvaubz/n7d6ZjNNVFGlVh8Ol/+NFq1O09f//0AIIYWywx1JwxXX53AAAAAPKQUM894ABO87la8WNMc1HIZt6r0T3qzgYqZHOcojYrteouQK7REO8Pb7T8HEphIPQJgEWE0RowcpF5jSMypFNUKC8r7NCQ4FE3uKfV0FRT2j4fv6V1BXa0duV5ujR4879lhqpkc4zlAra9Y65g3huU7uetb+WTes6t4WrZli1fPtxc4rv/NYtLfOt2xrWPa281x8btPBVKpYq1hxcV1WFB17fb5ijFVTekv3qPu6rQAjNLO0P/9ZZg0GCY4UuIq3Cmy+FhzVpvGiqbt0sRqv+mKhhN50QUNX+r//ugZOwAB3FHT/5vQJAyw5n/wQgCEZkfRf2HgCjSAGe/ggAE6Ty2WyqDBgGHiqoQU2aXV4mv31wTGEfBq6BzbHehMt5QyrbBhmqp0qAInAbH8oA0Gsirw9JR+nbWMyZ2vasRBFpTHU9LBy4w1zI+sPw1dtpwUzEsrLch1WsmmgskbydeUW2aeLZGRcSdXe4MVTO6RFbHKSOW+Y8v7zMKj/Zrt/tf/PlsdkQ7xfctj9gwezPYAFRph2dr9tLKCKQ6VSoGSyFrcP2ucVE60raw4pD7Czbmhahv10hQ81Z8206EnGXHEL0LTj6QGGi5R7wiMMBeBgEoZ5V4mX7aSsBHA8BiIGsBnMODis2L4AhYQQtSkQPMLptHdGnXqyxuNwQkAqGShAWRCj25JMF8PkqFeTSaAF1D6GeniVdz3l1HpImYN8YNR6xBVeOZ8EEGWh4T1LTzNuaRNLxSz1S73Ku9cHtEfnlspORAyzTfqEgQxzaEAVoZ2eyjpAUVWaXW9t/rIGjYq1RxoaDPLgYKEcpIXTWVj//kqx0LzNwXIstLY3VxRJ/KVpU664UjtbMantCq56vvf9mGCb1ktau7dfp1r8/Ls1UjTOy/J2OJEATgnIRKGtIPCKYxRuA1IAkBBkjEmCIrxOE0VfrKWsv5LBNEXFgRmNJkXlVOVBMaJkzOucuxk5JliJlEdYaV//uQZO2ABChPz3sMM3pAABnPAAABEHlJOewkcWEtmmb8EIx9eQsyStKfpiEkpIwJlFQEzA3E0LFHUM5sk3cc9vz8kDDNBBiwRtYbcBrgvXoZzP/PBTATj/X2BOrO7PT+S7RwNTIiUbex7WUHEnY9Su6GF1N7N6fyr0+kGQ6SokraO3xWuy5xHqos6l5C2vs75vPdL2pRqI1Ze7MV+W9BHNYCNGh4iXu31kYQgMmF5gQxKUvyWqFghgEAM0WcR6GgP/Aq61NF1P/E6wBQOFSICElHYuvt6Rilz6SiSkslpQhWGprEaHMhGCLsjk2vFCtFMhkvbE1kDLSGh1zEOFw6ZLQyWO+aESrbucu0Hd8MaKSBEX2wr4szPjKGmbZb9UJtyS3e+yskIBkaKCpktC22LYSCooXPa48RcxQ4nWZXe05wubE/dd8jpuQvhkSmebKak2UZ4qHjz40LtcRHd7qG/fuXuRBHhpeWjbe1tJOUF9IqNaGpgZDCxVopEGLLhLoflYFS9YaNNu7znwqQlUNBbQRREQoJrybJiFis7AaUQPgy//uQZOGAA99Dy+sJHFpHKlmvFGLjT6kfN+wkcakSGyX0Ew6UqzJXw0EWVYYJnqoIB+zGYXR6jhARsZ0NkpqJgopr0jIF016lRYdNUC5cNE0AYbEQHaBQCQfSwaIDabhcJWUeaiiDPoAkRFRYhrLbI0KRETzhrqIcKKOCmd5F7V1vTKxH3OP/NZ7JRcf/ZWubT4chW09HmbUzdXuDJaZymEd+8ip2wxj/o3+3v2z19XeAaw0zNPf+2zkCzAHk1PLgEiVaSsJLFS9AFIx6YqBv15uenPIDc6Fo4K506A6Ox9V5rFtrUYXFg5V+nqv+3ZG2iv+x2vFErZtip0EozDCyQyQCFuUIILbCCqqaoK0qTOkmV28s9WeswIkmg+K9wyZ2LPrCVIGxJnMRJaJNiBqzPUQ0f22xoZL2rNgTkBZFlZ6Xkfs5Hu1jIyhDmHOT7uVz8qX8qGQ10ZDP88HhAqSFhxdAcKQYWh60BNTeQGJegXoSv7s280ogdWe3eY9scSRDBkFTaAmSD1KLodhCkbCg8iIXYLIoRp8p8YvqB0T1jhUE//uQZN2ABAw8TPsJHFhI54mPBENrT4kzNewwb6kjFWZ8Mw1EsknQGyOarDs0UnSlYws1AiNVr7jLbVpfYdQnyJkcASwwBBbURVMHWyiCR6gGbV2Bk4MdE6WxsYIY3M2MmKlnlDcntCnlnTy1QWwgew0vRA+SEgmeYUFhUUW4xQqwLpssuWAkVb/vXEkSCiSkdKisqGIHKHKkWghI4CHCqq5ojkx2Tkc+lIb6NLDmUvxIcOnITllrb3I6a5tTho2wgy0TFpFR4PIXUJQTrKMWaUJXhKEXe3u/WCPUVNRC+2uNEjoZrhHKMOgmsIEJoIwaiiyg6DB2bLdSZaApowJ9nJkL7d7YeC49myOiYEBO8aA05EOmTqjah5dddlAjCTUX1CLGtakyQs5s2IfJxlrc8NiBCRll1mNvr1ibOmk5RizdQLvVJkANKXXnzugkUVJMgUc9Z7r7mSakEyAEJRQ+NaWcLsT8qOsLdZcCJ2eHh0zkTJIetfssbRKigcIZoUmYmbOTas1i1iCb2kepkcrykqOopzynaWf/3ScGY60LKYg8//ugZNQABGNOy3sMG9hTRylNBGNdEi0hL+yk0eE+l2V8YI5EJwROCgcPIfOYs8kwLDQ8rVS4Wcs7a4doTWV5d9a0240waUoFZAK0SEQ8BINhQdUJZYuQpsqRMJJudauz7GkhuHLM5RPvA1iU5UFJ3edeQxQ9IlNRHzUEqRKvUGL6zix3DpfLO8ZW40a0EmNQHn5bEE7s5mMegc33d7U2CE9KlppY773SflDhtdzIyz+mRLnCyoUAG5DITH/Qz+7QRKn5/qmmiQAyhTCs2AZUYpYwCaQgmTEagVRZ83vi5/qfhLu0aXk+/5CXBGylWVWByUWmz3fG5ve21RKGDcJ8kMSfMyxSQe2T0wdfueMbK79aAjRkZoM/flgFEBjSbxlOMkFrvyQQB6iQ49VgVtANKGY11mMHjLlslUUQlVnRMDYSBFSCYpXBFDR9d+y+5J/M9CdplVmKJRCuw0YkWUmwxCTtVWVoIOIEAq5jjbQ3UnpcgPHKsadlZEcitizIlp5Uz90DkZXb48womKCcsQLDp8ZL91ecItTRLVokO9gGaKsxLxHUmkAdnZEMIYIjrBqAs2quYY2wwlkF5dMp5clBohlhxFnak7k5x4FQMJhUJnRUYA3BIqbAUoaNJFi4VFwYAx4CybW/9oqqAXmJmJZVI0gSGVA0sAJNeBlQcMEEAw8LmrDvgkGKEOc0//uQZOaABBdUSWsmHcBRJRk9BMNbUX07IcwkcYEtDWV8FI1U2ehDirwXay6UlYTEoYaNzoUoCKCiJahQ2ID9oMYh1WSwRZlKcfJO7yQpSb1WGqwnkKNZa0n8/LEqrVLndrqrdsNKvZbTW1iD3V40w0KmuiWEIUsyOgt2zEB0F4gLND1qqDc+lNPFjahr/o94EkNDxMtXLImQz5rNc3pw7MRm1JnHERIWWodAwiZEkRXv6w5PuZNo1bRT4xHojHTdYEtaXmezCs2tutpIX5cmD/PtJ6RGeneCmELntqYva8qBNMQ8RC/9AA5MtUYzuEcHrpLwERWKD12RIJ25pZPISVYJE8sHYvONsVQ8dOXXEf0eMXV5yWXMYrFe1Io8wtvusUO26vuv/h/0eI4oCIdBkRXFBqEEwAGlUwwUdy46Gle0mZ0aoGR89Tula8zTVg6xgxw4jwyhQF6f3M/B5RYuLGHicpSKOMsHNGQL+gESHqKqXf9tbQzs/iHdgY6zFKBeaCBSdYU1gm9LUOqxx1WJjsHBqfX5fy6wV8oYYrXSZSoG//ugZM8ABGVOynspHHhQiNlvGCOVEYVXJ8wwbeE3EeY8YI5NDFnb/H/T95M/X6ttE9WqA/7P5/+Qbv/qpgB6mpiIeSRIggEOUrNw4yF5hFycxnQC2A6AcUuupMusX3Z/7CiBcMgHARBQCwHAUiCK2EjlnDw9cRA4MlnHiYeeOikJOLPYlBY8eOMtSj1PHn44izJbm6Q+Tt7ce6NeOlrS2YmIMtytCUdKSt6+Yq0iu3uerk1O5pot9Kbf3mdZkoiGUalPQ9KTrXLY5KyFQAzs8Q8tZZGiRm50FmY1IUQCtQJxJ8IoBbBX6f8u1Pkszy3aHmriUM1mnHeWxuz272ZtQfXm/+7dz/728wr37WLEIiNv2lmMPW4NW9ezbuPhfvn0rvnIgWWR0JzKFN0nhqEIQAAAN0LMmAA15Pg4jsqgwSGByQ0AoFKQdtGnzWI0yyTJ1xZNAfZFyuTJoZLEFRBghCK8DcgG+EFODGmJIGoj8oi2iEgncR8M6LYcHMJc+ailidJwN4ApBAEbQ4C6s6TsxSLpDzh1YuUOPGEYFEQXWbufTdZWcvl5EzSJMLgBBUQTBswMgtalIn1popuqndaKJBDBZMGpPkgpU8tNZm1SmZkvVabkXN0jcyKaZiT5fWlSQZrVObLLlfur/nDJAwdBzVJTzF0MxUjZSdX//////9ExPJoMaigzRAby//ugZOaABHtTyn1hAAhV5alfoxgBXKYXLfmokEkPjuX/EmAB6xDMsQqu+/srbAAAAE/v86Jgqi6P6SsCZTrufSQKgSCp+O796ezCihqESvFuBugUEFkGCQgDeg/aOSvt/o+7sb8qgCpZhqg4lYdH89OZjCIAAOIlDKigzENBz6GEBfUxwEMDBSyIhEAuOjQWkRowwFQUL8IVn+drk2DpUwtpzAKYWstpyqwvp6QZRcm5vVoOcwk63N8xlHEAWj1A3m1PnQTdO7eqGOplEfybTwyQ5FdDvLV89T6hVjm4nWmQG0KwtpKTUcHJkhPtn9mLaPvWllrmUqdkZW5vjQaV1u8uaY9vX5xG1C1mTOLbx8/xYkfe4cT/////7///////+aUhf6zSupKZ///+P/////////////////u9LWrFF8VQAdkmChzd0h0/kwjAAAAAbvOmSnKUJiQoOK4TA0xKMcRdQQTYie1FvWs5iDyjKi/BF8SPZMm2o0ChyaJlXMRG3Rf/uBMdf/+xjTn//Qp7kXf///+srCTBUERoqomFubMRKHAgyAeQEHAdEvEGSYxdxC1VoJSlu5D7PLB+BJGUg5wJhhW25N7j3bYsXTDWNEQ9ms+bG5jvEo/19w7R86ruPbcalswMfFvmf6+7+/cXylkhUk1H3FzPS88bVa7rbMaXdfC+3mBj7fBW//uwZNIABtJ3y/5t4IJYQ9mPxBgCEeznLf2HgClMEmU/jIAFYZc3TqlYo4yK/iNvFmBJXeOEVpWkVWmdszdWunb4BESK8QzRxtEgOzfMf2z6WoaRsiDUeLgBEmJKgYV1dxS3tFymk1CQ0y0/8TfPFItQPwajLpCCvNOvVGvX3InnA7O02IZW6g/qf60Fvv9vV+hwinUHRWd4hmsjTJBUfEgDxySw+xTUvKXiQyLgsgVa1lFB2G0U5beH4JhqDq1NIpK6/4W6Zrsn6e2NkkCyBdUwX1ZVcVj0FHR3I23u8dcou6fT66cm4VNthK7Eqz6UTSlNvUpYFQcTWiWm2YNX3pGTZ7wKe7YORJASkXbMv1Bl5gF9Lb4F8bI5w/+xMjT6FMxfUWLJvtUmQABEmR5oydqoDGSbBvoXSXiyqkjYjOnt0ItGl7Aqk6B0N70O3itFBWU+nPv/sWA/16eYA/tnsJ4fkCxDUr0U4D3+xhfbzvdhmCK01M1Na7SRJAlaXoMaGgDCkzCMCq6YoiGj6BAK11F8ATMYx9JBhAfI0ggg8Ga5pI80MzxcgEHMUeU7yowaNAIHtM05SCPjEzhjXIyS4qhgrfaDD0qkqlZ0iSRiEIzwaxSoYtEdx9vUfN1cETNvd7X8EMpwsMSITQnACgmUG4ugeKr2r9C5IFZYiKmq13mjQv+sjlKsZPamOMElU7nUamzgcIaDoFldUZqhnZYSoKI2BrW9vl/sKxA4RQdOUgfIYgSBVygmiQmiyoXMPWXe29emtSGyI1IHdHinlo2skJJgQgWIaSCUymjWCARKR4qAhuk4mECBGYsohlmtZ9YIhTn/+5Bk7oAEck9KewkdWk5jyS0NIndQ3SMx7DEM4T2YZnyQjow8ysvSr2Abla8BBEshx7RhdCSSXW5EhN9tEEUy2sqwtml02w0sy3P9dtdNU4bUuCFy+7I6xC4eLL8hEWRG5nGIs/aWOx6O/j9JI/+kePLASLYWE/61ND+Nll/9t5v0HhG2Wft517dAkOHepiNbJCiJO4YwAEgQME51tDSBTto4ptIFGMTjBh8wWjGZxageQKX73LeymbGhTc9jlHhFYUIm2jZDK1OoYlgeLhxz2DcLDT3ktiwYATlneIZZJUiAB0YVCAYllQJYyBMcBxYKOYIBgi6KCqwDWIhGo4FBJQCWnu+eDa9GmWW5PGzm7Rbs4u1MuQtdgusEf1zB7BWBDv56ckhffGkl8xb2bSlaFQxcUmo2EmSPQglGLNSTUdrEAebjK1Vgepvn8LU5aYMEMOJGgckBThybFRAexapQAIoYGjC1G/6lkAmavCw0jZSAA5H6mvhhhg9AoSH/V7hIh4rY61rLW5hYips3GSE1Mghe0ApSwnBJFNNbQpSGe9r/+6Bk04AEgl9K+ykdWk7FWW8FI2kSBSkn7DBv4UAd5PyAjuTnB2IyYyhVhXe48usNsF3j5tE8eCpPkwvVAGVXiHZvm0yAQcAalAZEqUIjFtAxhB8aTVJIgwNS4WZaA4r2Uzgcjc9LJAL5eDEpTK4SVB2vO7QPgaIUEayLJpfMfPmnbxS2xNNZx3GPvZLu/T9iluDKGEHnQgAfsvNEOKlYdOKOrFDaHhNCmwYzJ/ReVAx0jtzGvg2gEKAUkQKhhN5hSVAAItDJ8JGwwZSJv+SASN1aIV/43GyMhL38gTbOD8YuSw2cg9LM3GZbsKIVKmSKpIYMEmFPFAEYjeQPBKj0rBY6pXI5cxikYdZxGUEZuYMoWEfUF2bqQJdAam2IBUkYOAo0ogbSWk2M9H+XcoAJ3qJlY3kbJJUNCsje1+QcdWoVGXFAJlmiFwCeyBZcaIUTJFmChc7bB8RsRiSbMqLCQeR8NhykxRCEIhKqOufO26zdggS4xiNW03pMq8xQ+BBBYJrRUIK57KdOK7QQ2gSJqcT2LuanSx2lLzI3uXU1G5Q4ryp9xFkNjYgaTI9LnKK2MIPY/cGTBgZnMPFP9NGkgsPvcXycGFK44t7SJohDD7ei1eqGlGotlQbUs7Za/33NT79BNoHla/disxYPjzZqwStA7a5UGCjTryjHizAYlTThQm5poViopVD/+6Bk5oAEkk7Keywb+F8ImV8kI8URJUcr7Dxt4WcTJbyEmcwa3MAhFn/1qgF4maqoi3WRIoQ1mAABrGXGIgDhxRxPQCFJ/tWFg0F27LXkbxvS4VBLpSRA8aLE4UCqaVa+MC+4HHXDIMndXZkwOp5WMxTZ+c5KQUIwK+igzAFQLiRxnTJX0wddFu7JO+R0oQNjmfwyUgSKFAG50BraQFRg42gFDV5Eg5m8ZQ5jTxymaAVSEqaltt3GiHJMmKAblkwl0gSbGjAkQphgcTqVMUNj62EL30W2MUfd1iOw8HycXZ1F0f9W1aoi8i04fXs8ajwZa/JxKdTMu+fcve7ZJiu2o3T/89l3//KwFXi8q5f/+1qMhusc1TdtPEAiEEHYAo06WqJrA0SB65o88DR7sjgt/IIqx6098swu4PNrOTIeQDqqI5rRiO0QwW15HGdQpVnqYECDa+1CulPGIpUwV18dYtOEtjBL1a0YVXjv18yT2t88pIf+Vfs5LVOobLMGcADoxDfCINU7MrV0vrutaP1f3i1wE0SIiZa+5ppi6/JXiwMMJ0OGRwLwwtG0e+5RIEim1K25zns5I92ISXuTerJ/T/QYqvm7ICJlbV/TubB/Lv9x6bI6meLE19DO3VUCJnmJl3tmUJJVwFJADACcbwpoCRTOEOmu0SUw9pyEbpNeWBybxlkWcqHc6aD/+5Bk7wAEHkHL+ykcWFjEeW8NJlVRQVUz7CR1aSiY5fwzCgUWrztuWVtx5fih2BBfg06ylWGd6M2/WjVeyssT441gM21hkZWcgZoGFqQGACgJGAw0AAe6aeddV2Yt45JwQ7L0Gh0jLIvJP3Ctc4zCR6Esbo8n9TVM+K33/2HEjPsc5kQI1h4dottbJQRE32GoskRWvlkC+i/loUBJmgLRUNIWag5PRyJHJ35U7Jik8udq3dvmXNr4j3yTdAztf7q83uet91rre7le4fk9Ht7yPQzogqvMuzLZbXGkfCyA0wCQNUAnAIEmCYJSIIkCgHLOBBUPoNxjQeqnwOspUqgrlE1uTYdvc7Wr4uN0/r/qoFlaCBaqZnKd4tSQKS1IpiE4xZmLIjwzPb98mNf485zIOlGypR9UTdprLvNbvePKnRKU9jxOHUGFvWXFlxFRGCZw5bkUtaOBVDwHiz7KBBCWIiIi22VNiGwCtRSumXFCETkYKFBXOJ+2zxEjWpySrM3mi0zGLR+jk0W8X1Qp5N5073UFjonSSDzl3b280riDMrX/+6Bk1QAEYkzK+wwdOk9kOV8Ewy9RVQcn7LDNQS0VZTwUjSiw7W6fKV6hVQNoi5ypn+61tMKiBxQqoNCgBG9DVRgrVShY1VmLdk+4eR+RGS9A+aggwbnbQ4kgsCXceCzdvjxmxyZNFuqyt7bmSwyoK+iI6e4eEMqZuNuiT8mrZWUilO0idfZ4WudefaHhvVzkZ1ZuzmzbOVqdcqXfitRu9nKVMbM2NZ/nPAvn/7vs719Rv62BobM8y73XaNMN5ZlqDJpIAuJiirmXGPIy3b2KG4tSQlP54dCkLNbsQMzs0CPGZQp63QFIwwx0siIm5ZHheVV//GpZUSVU3bWEAPxcAJ4q7qpf7+2NMhAaiD63kEdDWUEDNoA4yYqXy73YQ2Z1eaziKgGDoiIjzYKgwyopb0MH0uhD5I5aNIumrDTA0FzzTkEaZMk8oEAyog1+5kE2ftY20LAFYYd2Uwubgw7g2Djs8cjsBsSvPhE1w4XArz7mpD6tbrwegdskdrPN9r/O7nNP15h/VlqgEzZZqFf6txEEgPEbMdoCQsGBKOLGpeSUUjigoIQHd40CQOVvqcfbO9I7n5leT2n+hGQIkhURHgItLRhKJri+w8pDscSKXdn0v/Zrv9q8ogJkmau4f33NtppwbAM6IgHVouAWVKUdjQZLpLHaomKS5osAuo1l+2xPaHw8OyTUmdn/+5Bk7wAEQUDM+wwzykwpeY8MI/VRKQMz7CRv6TyV5bwUjUwrBzc4Dj7ZWbfogYLEQpBpR+zx3lLU7PppWggnkEaJZ5lCvlty5RWdSCFBMtxJEUhRGTik1LIyuJ0pVSIsPblEOOVW5DkB50nDEBxoMW2GErXXudVWUAEZFiJl/JY0yGlkYGaIlbKEeYbFdCZY4ggpJeEGmDNM1nNHXOoZzuZq8BZeRNSKUiKGlEnLJv75Y261SBv/l6uSByx2bnan8gG3M53729av73+ggNXmHdllsaRJNhBrQAeoGVWMZWeqmQmc4yhXW2dIOh1asP1KIu7cSzlc8GDlj7xFrRVwY4HAkcILhJECJFiCzEUWDGS1lOMMIDdb2Vy0HLaMjZK/bMe8Llp2iyinpzz6MuO36QVImk0ajEgyxyMgkcpUDGfDy0X2bKlQaADjC4DztMWg8+7G5IU2229ARqrREO+mjhBAoXRDJSE4MoytIoXNPFqNbHzeQy92HzNZSJRBNk8/AW0mh3Nyz+n56GDSuSsihjAIZCEUw4RAaHjtv0XyJ0n/+6Bk1wAENlLMewkcaFMFGW8FI1tRlUsp7Bhz6TqXZXwTDXybra5tRkNpA1ipuqir5pGmxhBawQFRyBTwWlN8euDlPcJMh5oMLTgvtvDLIXeisbNIUQwLtA2cLZpp01oIAbZPGiFv5CFy6H0sVbdHtaXeMz65HmS+Xs/HFDuR7JSN6YqCt0fUKaBjRk6ZQBCMS9OkXgqfacB8I3ZqI2pa1jlyRaqcFA92hZFYybHKq3gtBP0+qgMzWJl5by5tEgCCTcon4QJgwoQKzu+yPOZz7cpmpQP3Xbz7MiJkdHDBYDtaCXa1TLuU55TLhl+66mfpqCaBjbT8gapJWkdqFw+6jP1Uh1H//1gbvd3UU/stiSQNGjeBTIAzcUuul4RnSmLjjJQqBASXvVdMMTk8tijMsYnK4nNPfas7sDaUmgPETcxddK0W1DfSHkMmXmJzNwrZTNttKonojqL3FdXl/qwUB8V3oh9EiMddFuZHw7tqSqVokizN+/3PcBShxGDTfdJopmWT7nt2tZT7ZdAjOId4d63GiQDowSkAaD4yhgq0CQAWGijsJpokjYQAuhkk2lm7Hian9K1OhVHtbBWdra/dPu2+atjuHzVb3d627k4bNLpr1v7qf9ep136//ta3//2f/2/vewNYiKl3faSNEk8DUXHsg0htGNkASgaB/5QFA1A5ciTGXnJ4AXD/+5Bk74AEWFXMewkcalGmeW8FI00QfP8v7CR1KWWH5TwUmM3qtEY2QfuFVjxu7jVVVNOh7qnQ7XPoPldRiNWf2U8s9lpj4MFmkCQmUsjkeMa5YQxqIssZql8lzqzTJkTzV2ShKEUB9ArJQT3nE6TuUTh8d0nPb17QR966o36H5/xV3mP+cQFHZYd1jaSIIj891UcRPlI3rIwusRiW2H0cWtiprbLNisl5BOqEtqeWWc2ePzNYhMVw1h1eL1XYjzHwHAIikFNciUoOiyImPEQXeKi4jU5pciX///6+oDSMy6qX/2lbTAJhR4JpAwhEvcmYh+PLUOHiDQCy6sEFkYb0KRyKUinmVSkTrS43z/BixmJ5uCTSHmFAxae88DrERjW2UlA0p2ZxtLLdaST4tvAvkT8Jjqw8uJYJk7/d6XzX2H2o67PyCvhUKqn1vXzH5gL3gdoVVNtB2mtlxoyvmJseJEszfmLs73olzASRnl3Zv3G0QHS6O5fG5YjrANTVrJJZkSx7bbEqCw4OW/TKOGzNbkYyLTfoiAuI5Ncn2zr12Qf/+6Bk0QAENDnK+wxD2lcGuT8kI7URqRMx7DzNqW6XpTyzDaw5P4mKEBEBgQ4dApgecBkNOAgSB8ChRTROaWkLTvj0/u7N+r0qA0d6qqad7JG0xSCZgFCFkiUBo4scqhEh2BIKSTypQQJakEGQlgUWge5STkGurSUT81eb1dpqaXxJoOOUYnKf28YbQBtNDTIXcbqBOJOHH7W3/E/yjEuh66R2aUOsw0diIgTGpuVdWwc7A++giuJ95xy6+lIzyTL/K6nJm7xU6XViOTm1+oVstM3DnMyx1AZMjxMxHrbhSNVD50SvvUBRhYfeGGz5AXI0mnTjExtlkmi04Ze46Kk14QHqpkfWXJGUsKnXM4R+KQepLFCgEFSa9VwsAAs4DE1PYkTpCIUEpEVDyYwvHJctNG2tCdQKbzE1TvbWmiSl4YJkDD0R0BIYyYCiCjV0uq3jrMQhtuDE1NnIcuD4CdKxw2BhzEFIbMLT2V68qNnvKjfYTokH0raFeA6nOxlSSu0rlmeH3+XXFl09c22tkYPLOQv65S8ljzTZzGrxgF877/7nGZ37582Xz18ylm54hAxi9RzCJ7h/ui78T7f0N7zf3/4CmsPMTDWytosd6329vsSCmq2ONIl1XQw6XjuJiGWpObaCuZiMBoBqQJkIg2Dm45b8JikEvnZfJr+fKffyufnm3SkrkUIYNV7/+6Bk4IAEb2dL+wYeOF4GCV8kI8URqSsr7DDRKSWo5fxgjr2PCgNYqaupb26RJNC4EMAWwYcasiUX2uIdoCe2cZmLIn21iCv5W4sBy4EA6QKDijfpNGTQIM8BOuygyfIT62LzCU4MPtSqbJi7Zhd77jKWRUrnpWYSKADG8Q4Mquf9JVImLFKGVcNXU5HPRJRf5tepUw8P2mRykho1z6XkhL00th+2rlNUMtnNFJMFyEDcGQHlol29bcJJgO3sNFye59REwCRc0epil4R8+qKDTPRMQVnVoWdXfK/t8/68Z6d1y/VNyfpsiuJBksAJgwkYZtDwuh2997BCWAIGDzVOmSh0V02/jTD2vSU0GQM6mJiIbO1IgkOSCBC+h4QiK2wDYYmgYQEIor1VyzYy/8hb2CXaf6MIhGCIEEqSqVJkCqqIYpdqCNeVIlzxiTBeFS7+0yP11zKO1K+4cKpFSQXIkMsScgZ6pAwsB0D80TaMzONshybBHZSn1VKjZrSpx3cy0wVQQ3vv2hb75v25J+WIETuzs0PNc0iSrajpoW+4KrzS9pSQphMz0EuXGB4rzDa2Nc/UWcIIcULBCmSiJITQws1xy4oxMVEZFbhMCg8EjIUH2EOTqDZQJOe8PPUhVxceyI79scpChzbaBHipqpedtpEky/Qk6K3ArMzSDLFMcseFdtnrCZGh2YL/+5Bk8gAEXmjL+wkcaFtF+V8FIz8QVL8r7CRxaWeUJXwTFPTFItGqUFWjg0mJ5g8K0KANj9lw+5hqB0DEWpaxQ+6Na8CXwmm3LO5uK6Oz0a1LfFti5XSsJCbjQQ4UMIElhqVBQkskNCM0bP12KwnMmJ3Mo58ZgUL+fwyDmfC7nynuZQ0xcEyDF/reQkS4IbNgRvDs8K2t8aJUVHfaBgoex1V0A8hpbYZuwMWHw7D2VpISEZllKYauJJpprSDz93f7nPhQfvJFgOTC5iOGkA+1QQEmHLSEUsEZga3TULpTSx8Ycc40SBgeBktYtL3r1Ai1l1UxO1tjSZbEmOJ/LrAYhdoFyFkDkC4SxJWzKtIJbSthI5dqTFzLgXBGJCUzWU9U05HA6LXXn3zroqX2jDlOrk16J3bVUMXfcxxCrFDvRbAIk7lGD8Ko1cSIm9RRdHOaZOJpTsbMrblHJTJ18O55n+e/OBa/042bqBpoArrSdnnruhQpQE2h5eJjy2toos+GdZ5AAO/JWFaxCCpE5zKFWerxQslkREsUn6RGpUE0vub/+6BkzoAEY1pL+ykb+l6E+W8gZl8QzSEx7DBv6XUc5bw0jhS3bRW3IYHQRlTS/5VKZTWPIjOnTY3KAlHE3Diplac0Sa1NIrFXrtfoSfSPszsKwOtpOgAoiImXORxpAFOg2TfIqBCxIMOKhx6V0qZWqN6Gh06NzY2bMyfRuT/kypyITxny+vgovIHJvJ0ROzWpILfAJyjpe/a1cCACkFnojtrdsultOO27fa/NnvjnGgtwek9dsi55akEDrqe/zcqeIr7OM/f50fDPEv3f8wprr9PTD0kCgYHHgYAZED7TtxkwDRmnr6gUv/v9W40gCgzWAgaIs+DtklgMQvS5NSuJNWVQoaGmc6e5i7HJLRy/MSZhcVSkr3MkvrmpzasxvlXVKoX3r4pRUFxY4bbNotFXk4ENtrbXqLdxA6QccOhNdbxU6KExRYG7xM1LRrbYikbYgsIV47pjM0ESW0BiT+MVkNNEpcvFsUYZJg9CRZMkhCNBaXazEgHZ5F+lFc4sYV0g5+eTtJY9xzJg9/bmcDGqL6s+j9VyFRpjWA4DoUsiClWsEMxMR3wWZFkMWhbp5+5G2fnodDIeX80bNVfdo2YocjwLw7gGOf0Or2lkvpn8wMziIiZea2REFyOpokRpGRVp1VyF5rWQ0StGKHR7URNIwiCBAq+axBbsuSsarmtMEnNqlcWRs6J1nNL/+6Bk2gAEhlLJ+wk0SF9nGT0Ewz0RJVMt7DBv6WWYZXwUjOxLUECZQlOnig80ELTDyzmw/EESGEvZpr+6h3mLvKdNA6i5upebZq0iwJMiG+hlWKgPCwWNkieJIukTrWESaQekzcXVgMhZcdtoD0My7JBDupBFRcG2lFKn0oxyFi2clSQ2hZ7tIS2ZUmSdbUeGpM1a7ubsFqOiyBKjUlMQKKBekU1MJTc9S0z14h1TeiHN0/+FIdql5ZaRJNjmboy4lXRyrt8wXBaAw5OTACVmd4iLG2iSTajpsrtpZISugwra44cMEhEyIhp4OibJgbTIG5o4qmSb90JCG9X9npA08nKlvZCUO1Mw+kJWsfTKvn748uVW83Lrx4mqdkTmd33cF6/bnMmj/vbhs+Otej0necH/9v//6BnDuzur2yONJCKB16GBMRBsiagkBECheJXsVqpNQhgM5HMKNx8L8qziKrYpHI3DccHIoVSIhJJzxQ00mr1lyIhQXKpPUzXZAMpd6d188/I23PIloKXcLW2OsIvUCOr2tM1Id6vKVRLVioaBtzUMNOixW9fYVpLk7dM2UwqFWJZ2u8FV1rU7EhP9u/3aAmh3V5h5W3GQuZySgnOlKlTj34TBi4VJo7C7TIaSJuayB5fmf21f+Gd0zaL575xS12DAh2OWi1Okhm9EnIYqg2vRQSASxWz/+6Bk44AEUGHLewkb+mmnGT8FIy9RjQcl7CR1SXCdJXyDDPSmxQvqfdQ3S1daZUY5KjiVkU0oY4aqBWqqualvdZGk0rwaAxJKqhUBUIk0nCgGa05cArvTXSLdWB6j0PxBr/uzOxbB7d9wvWjYRDrVRHWUtyCERPXbQFAbmtm9OFTSfJqOpZJ+JdTWUoZraNqM2PVwg+XzMXuUo41G6amrsbdpZSVG+zMfq67ebfKshZHlMMCX7+5nq5IdCk5WktNP4xbeMb7k7OwNEZpmVa6WRIqQSuYM6FeIwHDTJgo4e+LKE2WEkaIKDgK90anaWZlHyMbpELzZ2BLwuHIiapk6KZByTMyRO2Zc1Tom/lpsXk34Mzcqm7Xrp/fH/brNjda9Dl7frrE6b6nfICNdVd0z/fMdeXnBqVJAcThgYKQ0TR/VVTeUNQlwC0FrTlFEyISBfVBcGKtphhBdTWjXwrB8p0wSpgZOaHTi6hwugWwUWobkcb3akhEuxmsbIJuzCHQwUBsOWQGjmLXyCo5Ds1cr168IjDSkfOHnN4pR0Qu8UposRz2DFEyhZmz4IJil32IwAku0LtOAq0PDxMXWUognM0FEQqwXWYJ105okB1EaEDZcoqtP7png3FQcg8Jn4ciUkVVzf71X6VMxl0qNi7dRwll9gqTQgaksVFgXEoRAajbA/WKk1GVKDAv/+6Bk6AEEdmLL+wkdamHoiV8FI0dRcW8v7DBvqY0UpTwUmOyKJjFfSxMbdqVRrLNO5uLVCGmJiZabXEyQmum88baRrDiZMIBqBEMsa24hEInmwabbHAVNIqWPsx1tQNUQkiOI4NbrlC5ztGoP0Hlh6zm2vS9EBmtbLl/2s3sSKGnTF1+p1tj/Y6Hr7sMcL0Fsmse4FEETyB2SZE6pETBtjwOmOp8JG6bMHqjawj1zJZacuUWlxoRwa+PxE1UEeBKHVuGVKVgazDvEPHksZAOjaoWCouC61QeURVMzGZZ+a4MhJI8cSXbIEm8P0zelC3/Opq5U2/g0EBNgwJlRIFzjnRWljGLQxnTFnM1DlXvCzV7LPi1ru8Z1hDVNzMu+vsjJZA2YSBkXA0cAkM7MIoaGV5SDypICvFjzrsTfqTRJ+r1vCYWCgWSImnJPg9oonYndv2SiDtKyAIDOI4OqUckpGjb3RaU8rtZ2OVafJKS6qhDs3TX1HPFM9jILiSHUi89zGKQj/Mlzs4Zcuh//9R+ZJVyy7UwRvwiJkdUn1xyKQSUWEA/0ygaQzRMwu8jaJNw93RGZ2EPqE4RiIVatgmhFFN8yYkpEzDSVvx6ifj/TidIEYJESLgQHhIaBXCZKjUyNIh2sHxG1IEIhwLCh1G00yomkQLGMi5QiUQaQEpLSaR9OxXKqAYqbmqn/+6Bk6wAEjVfKeywcelKE+V8gw2kRuYct7KRx6XoOpXyTDhx//rGmwusFpEuwyBEBQLnOnNqhLwITQ/ykPEfy2HUYxPVGbM0BXL5XvGHOvHmhwKMxvmk4M0jLBeKCR7NRgMefAwaOgQjRCUmQiNUdnWhJ6XZ4w5zJk2zOKtj8+pmI2KW2GvUoYOos0wancR29dwmu7Q1P05x8S1R21LdJVTNXl9CGl928TETtDe978RpU9uxxbWgA1d1iFXztskncz1dxQmEMduJAm0ISjisH1GlM3HGBWaH93Z5+bGgEmQWtCFZSE2XPz7EOk2aNIghdMRU9phiehh+4QKeVUOdkQmwTiVBbFwrlDUSiCEBeke29NDBFfQ+pQHVVdXUvt/YmonKTpEO4dAFGJKCLcRZWOsSbZ67jdVnNNiRgTgZFBwwNCsJ6tdELKJTHNEYMbu3ycqsURlCoSFM0mJ7Lk/TWEkRfKsFrBASxIRRq2CoaksP3FaPmfXz6vDwfF3Zuk8hHsSnDL+km7XK0inn+TnayWFCYmzKKgIymErEq9juDQZDAFd3d3hP44yQWl+1kNGqOaJwLBBZeHF459tf/ZQIUBKw8dJ0ZldAlL7C6zP3/LT3xVK4wVoLBx22hmxGu4EzHbvUlrF81nT3aI04Z8xWSAW3//Dd+/c/q7Vu93v1v40u5Tvmc5RCIh4f/+6Bk9YAEvmXL+w9C+mGmOU8kw4kRHZsx7CRvqZGX5Txkjo2GeNxsglFQyrASoPNbAY8eKmSsC+sUgpxV6rmi1u+zbNr7kP9H5h0S6KBcBMgwwTyioLSjZTzvy5RkSRU58+Fh+sCBTloHZa1tCOBPN3Io0wxybpPGk9nSvm2yHaDHKZqzTad3rf2rXrGZo/d8rQJnRrdcrpZTa3bnuNC5IKiwNgcBqWWFBXCYRcBDY46z0+5QItt3kljkbS+NX6JajIPMOojAEAggLBY7kWyIlZvZ2x0xkkn6r26x8qzq3x6OLXCQOfRL0EoiwVEAWIgUDtYMFUw1eaFWIBuOHPNGwSJJgJzXqKBWvWVPXBiIo9wuHnKOad//6wNYh3eETWRxpoQoOaD+dTUbCrlCWgEaQl/EZxcqoWAromZtzFkQJGWRqJ0zAw+xIYegE7dDBKgFEVWoLQexqglnvWUhKVRhYdgpwGghiCC2Hc1aEKCoCjiDFxx3czQjJHdvrTYmc3bql+zXQ7TKGdeGFlPc0LCJpanecBEbquX8K98sBhUqaxtISrer6QNniIeZW2xxJKzGojmoshFDQued6chXXRaq0i27AkqEi6yBVEslMbJoubDxVynTOt3RaXrFN0NC2CUgVOLfiaR32iRGbc1hrJ7ZH7Q+/sDN6HZRFI9nvc/7uv37tpszvkX1zwP/+6Bk9QAEpVJJ+wk0uGRlKR0YI9ARoX8l7CRxQZsl5XwUjH3w5+kDanhYd0tskbTIOqBmcpfAzALZBIiFtA0tzHfrsVk09I2fNxiEVatDcBvFOhxHihCoHsWj6eP/KUYiIZ9l8RW13Qjvs4tXrFLG0ECNCXNjIkI4ptFI0M1kcwxxeZEhXyz2q+YPVZWyrOR5MZTz+4w14cRPkGrbJhNqWOeOFQTmCpYDXK/67wNXiIiYWfWREK/6b25DDyoyh01hw0SPeEDnI8iXyKZvrIB1GiTDD7lrwG9u+MsfjeyNodEIHRA7HhrB6kakcVYBFQQ5o4+k4AWAPQi74VKwG6xrOUas7GJa8PjLVdhsg0BAcu7xDsksbaSaPxioGOioIOhiGJ1GDqsdV2YCXIhBRAgBYQRPEmwtPROLxKDGzb/Ry8zEmMXwHJD9C9yyx1dXqkZU90/av3o7ZTWI8MZBlYIpYJI/FYKEJuCiBOv/o7yKp3FUF6bPo/qEc67wn6rgjU825Ckqk0uoiOK3N6AbDlTUcMgpXSs6rMzBCoXFB6zlj1HrrU9IEkQ0Q7LPrbE2rjjgUAkUMRKIiRpsclOWQOgfTVuu733hADMdmNsxvAhFAcSQIwZFUAwbck8ERpYAAESIKCtww60IpaFheSpMdieeVU9N61WpatqMXa0BpuMaFQaGaHeGR1xNJIf/+6Bk8YAEME5J+wkcwGFmSV8kw5cSyY0j7LBtwWqNZTwUmKASYCnFQCYPqaI1d0ZI/CfqYTXFeu+cE0DYLLRCAsVS9o4HhdsTFvLNpW5gWcPC0xRj3c7moTw5udXu1bqOrseeeOdcz9B99XcNYruxKnCK8anSPDcMoyA2qOuRqrIDN5uh2Tw5QqcMtUhMttLi1JbsmnMv5nhKqFDIGAs0WDrmr0veJkiPqAFd2d4lN00gAD6YWOKIKKo5JEjaBl8UCw2EhDk781fhFrZ5o4oCTnLIjQQQAgQIvUBnvMhMiCudOEwiWFQZK7sZYg/UwgsBl1IHOK730khRJjgDe489FBunZWMQLvrtpI21ESQqwosJ8MfwBpBCi05K3oDhx62YLpmmTNMfOTzd+Jq4bnRPZUvHUr4Pha5aMIW4MmLpYtVgYHLT9Puuvb+WoW2gXUbydtjvfrMMFcl52yznVidQys4pmwk5BjTVg02KzWdq5p6y2tTPXPz+XyBe0whywCKEhYBIAE8bNJaExALMafaiSk309AGrxEPEL7Y4STWvsUxIQlgpiSCWVYtFSJ5hBp/dWHciIuxCmdaBElI1qLc0KLC7+cjMcTQEmxHmJjODwgDtZBjEVsNy5V1lKRphcVFJ0+MSG+LIc7P0WOaw2YzS1QWZiZmJfa2RJMkGJOJos+AjUzmfTkgpnjf/+5Bk+AAEfmJI+wwbcFwi2T8EyScRyT0hrDBxwXCXpXyDDTTRWxsGYqGuyxiOp84S3B/cWKsufHtobQDgNlq6tnm5f7/OjdtIvtantTX4lNHFBlBUPIxBRgrSvizB4QZRdRGhYWKL5bW/dCByZihKMClSk8O4KbqrQ1JaCO1jN5HQn3HNFdGQs8kUw9NKcjHhthxEU4bBWkJiYld7rW01iBySAbgNP1M/jAhDZqEW/13lIcMCCkLQWpfxuJkYecFtMW96ovr55k9VjzYMKJxBnQdKU+a2Ompv89TZvO5dqL5ghOChak2MDMhU2ms8fSAw2TizmKvY42OSCu7NDsxSKSxJB0TOMTSn2JeRvbEpm0184zKSUDkKWs1kENudTcpXelvYsTQW9peoMVMRC6VC80s9R1uR98tttpl6JjZCdZmVLx2EoySFWQpXIOkQsT7sN3KcJ5OuuhZ1JVOCc3tr9BhIfMzsyOS5ZbyLEPsLfNlm1kLieugZLgrcj3mDcqlyAEgQiAFP10AWy26rNVuIrzlWGGXbIxiUlzcXikRWvWT/+7BkywAEWmLLewwbeGOoqX8VI0UR2Xcj7CRzwbUu5DSRivBOX9hTh95WmkMN0zskKL+QOBsOGCxFRjUmWFC/Z0RG0p8hVjW3B5qwIRdwaQpsLPMjM1LLKSGlu8KFZbvpVip3Z9u1t2O2rGZAbyzR4qLFZpaFTv/cG22u7kbbbRJWCLnBVdQZt1gmSWIHeSs0iSKbw+zh/rCwfymErrBNE8MnEbxvLktuL6PC95ht9lbeHo3qlhpdNlzM0SN1bOuhjjSzrzXxrSI5FsoqKKjEraKDlUYa5S+fXMIoOltT8RH1dvHY9knwrb915PHFpoeZq30WqLYJKLuVOi+h8oRSaUss8vXqT+zmb7+H5/7T3dBXZXZ4VpI0kAWsNnhOfZSScg21FykAYHIRGwj46RRhl2lotw/cmStRSkSt2Mn82BiY2fSCv5OcaMLgQd7Q1+FqxwPSECkvX0OWG4meEFvkNmkVaTaq4sK6EpCKXrbV9QTMw8zCxZW4SSQ3fwKqJRpaLrFAONA0ujsGKQcZoweAFHIWjkVBIfs2UzG3K1xfJqpxadrz9+zreOIcUbG8eBD09JwpsqwaktChTEKHvLOOymFw4LJIOFyc6aH5FDmPf3hjK8k+YmJWre3u51dtd1lrhJIH1MrELPWMaSqRLjs/TrL/4i/Bpo7bbF7OvoL77/e1RuEgTr4KBFsgpNKyQThfJzeUYFMDk+oykHZJMj/jKBTFAuAjK+cJzbDvUTdhR5nYHDowVoXKgcYYFRCFFkWCIKkigLgB4BSIycYWA4iGMsAyluSmtA0+vZ32K11vjAaZmZeFe7VtooJRKSkEXLdNLf/7oGT8gAS8RcfrLDPyX6d5PyAj1RGlQynsMQ2pixhk9JMMtFRgx7UtW8bgxJCJad6DchLUEAru3WkEGLJZhTcSKUSrUxBciXXoqUmKxyj7T1X6uL60ju9FQ7SWzXYe+83l+9PnF668DnbH/WvvtTu5X0O61bk7znT327p3n/pm65ME7SlL9f7N2+nzM7N+yHczspMzs/l5/P7a2pssFA7AXSOLZWGetsSa27ONxRxo42RWkWy+V3KDL0WHhgac1mFs7mdSFZ6K1CsYhjKh3stG/KaUZU99zurroli3d3YRZzI/EEKZXKRGFhApM0eJnwALtOjDJSJEFg+ohqUxzUK+tmhGNcXk3dJhHg3dH8+NYbDIIAOwVzEQY7EPGho5twbZHVgKZjCKF6pqCERWEBg2nkOUTAOwySeOQO4wAcoWoeS4GAW46EkOwKqXi+FAFiFwEYBuBwCajYXzIeg5hlpggBBRGFjAhDh4MRzkgZEUuErOFhqgXnH8nHTyDszJrSLE1sfrRao00TFJToVUmRQNTExOnUzBdCYoos9f2nzVFaBocWmssUlVtRu3XXfS6RcOmp5azjmzOmdQ7+vv69f///rNWago/Nf/0kAurPDO6s7MzbeuuNJgAAU172C5l0JFwnDQRrRYg4BU92WcAEVheDkQMxSuWmaSiLSNIothjmLB9SpbwT7f///7oGT8AASyW8r9YYAKXIdpHaMUABjF4yv5toIBeZOlfxBgAPpxOGZ8TAmKBRp8ShQWpALmPQRA0Hy3//93/93///sqKEWFSkODN0SDmgqFIgDAIKD4oED6gIMKTUXtChWZF1nzN0E6YLDNBxaXqafIE61lzVsFtQsx+vk9YBoEnNU3CoNVWF+fsAz0cfyxhRF9TpiGybAjTiMw8j9WzSbCX6XzrhlvIW/TL46WQvVYiIXDEfJL1k50e2s6sLyEqnMV1eIaFUoza3GUSgUYxFRpzbFBTp40m1fJ9BeessG0VktCLG8VCWNAuEZk3DZ064pLTgxOMWD5FVEd629rqHp5uPSu6PGeFXEF/rc+tfftnWv9/dpt4pner0vnymQeD5YmPOf1O//SFA+TNA+GaZbp5ZLLbaqkkUSQAAAjL08b1KqjlZVvlhFZhfTo6/RzPjQQ6BcWA4ByEpLKRTjjgjW/ZcFJofPvystaR4MIAwOmw0Xa4MCYPAMQB4GnNFEFEkJh11aD1bDj8/Q593Sd2H3WkL0MOlHdf/3Xf9BHpE1uu0csyqYVIpBiqZQdJp0KJpTRoGdQcCxeBIxSKeXqATdOE6cVG50h8dnNc6y7WCP7EbjG7TNrUsuVxpMevP6w+hHOMPNLt7KW15pc80gMraOuxPuU3M+nzj+s9XXa7mu3g9me+9bVyb5l4P/7sGTjAAdSZct+beQQb4RpLcYYABN5VR+dhgAJcI2kN5CAAHqWmCztK3rPffZtmZfXfpaY9rmTk/vuxaIR6Gs2k2DdJP1u0gNzTH99hx2f//31saWW26YwJBInQFQkdCC30HEC5abjyKQpTxQl2hxoQA5DiNrx/sXpTOgu+jc0SGSICBJE6fy5pXVRctVpY0Ijck8DrABWWFz4acXck5SqZfcvWbW1DGYGHqENur9NOtt0rXqKKRoTqKAI5z6/26yhV1cFT4exsAdt0OJF61DLR2lMi0jlc64mixKy1cnLOPUI5L/ssglaJhqKPdkbUUlWP9Zq22nJgx3kqmJwZyLNhngil1Me+mlZSeFAT5XfM/hkq8ly++ym/bXl/FS2KV90Tr7jUhjz5r3/rxM93375+L+vp7UkUAjS5U6ABTWcekmxFVIv9217rccTSrwgJlB4o/JQ5A+Xm/qYUHStDY6Z0Cs/M/n8qn9J5T+UpHOFCGUMHQJGDiaw0GAOBkNrlAm8YNXDCJpJtQ3HZunTM+5h3u84fF2rPFf0H6K3ZGqpUBOHHO2VTAKYIFDdfLUNP8zGMwQ2jvVouxB+bCaM2KwaZJmZAQqoubw4hECNMbbuWqCd65cGmF4YTTbVgTxUCm3Fh3pjvxUfpaOkBAhIa4S7sCVhDA6dq2VUKHdc/hZR2KMpYqs9MnBMZLdgYujsTESVzjSmG3dkIjOa+mRbn+XkR5cBAUdQUQ/31FGereTUnBnZnd4ZY3JI0yoG0mM2SzCptlHpKwNrm2athi5JIrw8yLY4n96fSi17rl5awQSTiG6P3zfK6tESFWp7vxss9aMe//ugZOEABKdjR2MMMnBVRLktJMM6EtWbHYwkcYlhnWT8FIw4FgxWhKIZiS//1JkCqpkXnFPJ1ruLHAiqt921sHbaqcQJESwRtFOgUDTNjZA2VraXwcWig5EuydV02bvw+l+gvvra7KKSHGEsCf+HoFh6rPwi/E5TOT5ccwJSUylm67Y8iVOGvE9Oi3TmUEXxDDCnMMIqz9rna8iRDPsnbIaBjREalK+7FZ5oXKjjrsnihUtkdQO5HkADkI/tlzjPoy4BBdpI7me383dzrft19exLns64R/0UI8QhMERmppAoGhP6pAJgNMASoDaTYy6bc7loabKRQ5yAtzUGSDx4RKfNKIK01cgyFsO0rX+Z8BOYZLWI/Hjk+oVAaDD6hKRDZU0ldIDemYUKuWMQ4I0vepjPS8O7M8CgN/1QIiNPQhUFixM6B21XXLIpCnbYosC0FKqH6kMORDliuyNp95nFLF5snHTTKStig9OBh2rIpChjXBFvxJ21Yt6iNGjVV4Th6cmzhHGeaji9aUY3cqLp1nnWD7tWZU7JX8kJiXMIoN1OlNNCNJEaGIyNzpHa4+epw3gTKux032JNCXp+3THDhkTnyTiYQWyIDPotl91pFd3iBTKETQ4eVEIbxZkhIUre9RWdG65TeNVDAYlQCkCzLU57D4joKCskmZl+dPmZkbJCWbKRcD5kOsAU//ugZOcABKlJR+MmHjJhhrj8JMNSEvWRI8wkdUFpHGQwkI4oUEg8iLgUo8gLiw5n/qRi16mszQoE9rH3Uf6qiZiXmFMGnEiAia5kLMGZii5WRy3RTCYbS5rDosJwtKYMpiJgHw6xKweiSCYvRfucdfDijJDDjzxsqUrpCifNFDh5p1QijtabUarOXUNrc29B8w8+19KtuqdD3U7tyHsec2XLZcbxKKNw2GTVOayKbC6TP6h09+lCT37oprO6uZ49/N+5kQ7pKdnUsZTH7HzD++ZbLv40/26TO6MJJpuJEZiO3bE8RO5xB1iA99qZJ2e++RwiXS+WyqksuLKX3P+k6250ldL8MsucQ4RIthtAVDFzxAZyMMHwyFUqTUuXCqg8KoAlA8w1QhPtOvcpKqHaReiLsi61ff/Q7zEQ8RMxDJEPpdJM24mgSHJuzDMGG4EeghahlCH6i6UCSDrJiBiyLzYgUAEDAKk4xy65fUMVEFaDM2ukVRX84xb4WDZsjWHAJFKkZGX1XsSmIdy4oXEbZI9k0xRq3pVtbdx9AIKYYCwUAQfca7RRCfXnGJVDkUqLCNmdaWM5kbPJBV3zt3NLiBFb2XtWZGtcGBpNvpATOtN23nv9545Y1LOdqpVZfJ7FyPrdnlL25IncaHnvuOFf+4byoHQhxgCYECWpzs7ViaylrQ3m8FFGe3qT//uwZOWABL1oyn1hYAhhRykNp4wAHvmBKfmcgAGIDyT3GGAA9Ya//3/6/nNZ83nn/NUmu87ScywvCAKCAo8MulZr/yDTX/qaHE67bXabWPV2totIIhAAUK42adRFqy5xSc2gVLjMiaaD0UDaZTZjxRQ0oJkmqM7sxumpIrLJF9tRoQXJdrioRAx4G+VPP2xQDhWQSB/5UYKCERhyirvuYupLPd2L+j/2f/7c1ZiomnlFBRNtOM7owAE0NuxKOzB0HSRSTTT0W2j0zSJxdjzLMKAsE8YRcuTKnHrNPAhMN4DCvsK5cNRVpiV0XuVXKFhTM0FO6q2v2Gvxt7K9pfWvCrWz5qZ62eOVYmdKV7GzB1GtBr/j79t3xf/UWWq5cYEONm2PrONa1EthcvHJr14M9oUSutb3S9vj73XP3q+aQJ/bEldf7tj6pby//JOgM4Tb8hnDMzs7MZSrJQDhYhnjUeqHi1YyNHnrxPjJDxEeVvFuZ7MBPWnoR1dmSQOv7L1/18nXi7S0Y4WQnUzaJWMtHDUWlpS5uam6QCbkcSbZAWcHrJ8jRWmWrV1PuPwkaG9LgNqzSYrSNB9QRIa5rhkMI+8Jxg25yE8k5JeS5EWWoNLMzyUYJLQcldr3GousyHlDl4Y4tQ84WBJO8PUJPjzuS05lObhKCUvpOWzs5vxUHPlxyqsvEHbXv625PXNn7Hl+kMiFt9btOss/+nllIne3Gj899/2Ciq2QkdRbZpVAZZNCdQLmcG4jJkZd1wzK9dpyL8glBByDJk6GxFExJI4aUgmIiwuTTRXUjT/0fVqWnirVqWtLnKW7yj5p5FV5eIiaECv/+6Bk4wAFMVzK/2XgAkHhOS7mBAARmUsx7CTRKSoS5LSQjeiqATGRfweJgkWZ1VvNKZUzAmVHlQDy2jtySF5ebHJkKMkIRMsJS7YmN0gUeKioZqbCIljFJthGpPkOeatV7frE2c3GooZQqcF4mVJL95CxaktyM64t/MqrViLAmZVGsmRVopFZTUZZSDGf6mWsmkI6THcvX8EBhdwhIli8VYFEjSotJAqd+vSu20IrsgoIH8uHfbZnTrmvdjX/s+bGZTk9Z5W08M9MNiEot6EPiySx4wLkbxqlEenR6zFNzdmPSOakkoeoKXIS5EqAdF73oufkt1VM1km0YVtSJAjghEtoYxj1pmSJsETOlgBE4Z4VFgtvOSciAQCRlwCRk0iRROz1tFhLGkjknIkc01yMJRvv8ZmZoGAhXSgaEFDcp/yCv8Kfwo3wKChUIocUaOCv//+C4K///nAHABRgMKA3gYOiXzv6jwbUeBVxURAUNEGf/////61MQU1FMy4xMDBVVVVVVVVVVVVVVVVVVVVVVVVVVVVVVVVVVVVVVVVVVVVVVVVVVVVVVVVVVVVVVVVVVVVVVVVVVVVVVVVVVVVVVVVVVVVVVVVVVVVVVVVVVVVVVVVVVVVVVVVVVVVVVVVVVVVVVVVVVVVVVVVVVVVVVVVVVVVVVVVVVVVVVVVVVVVVVVVVVVVVVVX/+4Bk9gAUYlZKcwkceExjWPwwI3YMMLUhpJhzKHqAouggAABVVVVVVVVVVVVVVVVVVVVVVVVVVVVVVVVVVVVVVVVVVVVVVVVVVVVVVVVVVVVVVVVVVVVVVVVVVVVVVVVVVVVVVVVVVVVVVVVVVVVVVVVVVVVVVVVVVVVVVVVVVVVVVVVVVVVVVVVVVVVVVVVVVVVVVVVVVVVVVVVVVVVVVVVVVVVVVVVVVVVVVVVVVVVVVVVVVVVVVVVVVVVVVVVVVVVVVVVVVVVVVVVVVVVVVVVVVVVVVVVVVVVVVVVVVVVVVVVVVVVVVVVVVVVVVVVVVVVVVVVVVVVVVVVVVVVVVVVVVVVVVVVVVVVVVVVVVVVVVVVVVVVVVVVVVVVVVVVVVVVVVVVVVVVVVVVVVVVVVVVVVVVVVVVVVVVVVVVVVVVVVVVVVVVVVVVVVVVVVVVVVVVVVVVVVVVVVVVVVVVVVVVVVVVVVVVVVVVVVQ==\" type=\"audio/mpeg\" />\n",
       "                    Your browser does not support the audio element.\n",
       "                </audio>\n",
       "              "
      ],
      "text/plain": [
       "<IPython.lib.display.Audio object>"
      ]
     },
     "execution_count": 93,
     "metadata": {},
     "output_type": "execute_result"
    }
   ],
   "source": [
    "myfile = \"2023-05-19-16-37-43.mp3\"\n",
    "ipd.Audio(myfile)"
   ]
  },
  {
   "cell_type": "code",
   "execution_count": 94,
   "id": "58ccd71c-f7cb-4193-be2f-4f44edb385b2",
   "metadata": {},
   "outputs": [
    {
     "name": "stdout",
     "output_type": "stream",
     "text": [
      "AudioMetaData(sample_rate=44100, num_frames=114048, num_channels=2, bits_per_sample=0, encoding=MP3)\n"
     ]
    }
   ],
   "source": [
    "metadata = torchaudio.info(myfile)\n",
    "print(metadata)"
   ]
  },
  {
   "cell_type": "code",
   "execution_count": 144,
   "id": "c5863beb-474b-48ac-9909-bff42a9a4475",
   "metadata": {},
   "outputs": [],
   "source": [
    "waveform, sample_rate = torchaudio.load(myfile)"
   ]
  },
  {
   "cell_type": "code",
   "execution_count": 145,
   "id": "a7dd71fb-ff2c-4263-85ea-be0cf069e1c6",
   "metadata": {},
   "outputs": [],
   "source": [
    "def plot_waveform(waveform, sample_rate):\n",
    "    waveform = waveform.numpy()\n",
    "\n",
    "    num_channels, num_frames = waveform.shape\n",
    "    time_axis = torch.arange(0, num_frames) / sample_rate\n",
    "\n",
    "    figure, axes = plt.subplots(num_channels, 1)\n",
    "    if num_channels == 1:\n",
    "        axes = [axes]\n",
    "    for c in range(num_channels):\n",
    "        axes[c].plot(time_axis, waveform[c], linewidth=1)\n",
    "        axes[c].grid(True)\n",
    "        if num_channels > 1:\n",
    "            axes[c].set_ylabel(f\"Channel {c+1}\")\n",
    "    figure.suptitle(\"waveform\")\n",
    "    plt.show(block=False)"
   ]
  },
  {
   "cell_type": "code",
   "execution_count": 146,
   "id": "a024b331-eaa1-455c-ba07-2b339911ade2",
   "metadata": {},
   "outputs": [
    {
     "data": {
      "image/png": "[encoded data removed]",
      "text/plain": [
       "<Figure size 640x480 with 2 Axes>"
      ]
     },
     "metadata": {},
     "output_type": "display_data"
    }
   ],
   "source": [
    "plot_waveform(waveform, sample_rate)"
   ]
  },
  {
   "cell_type": "code",
   "execution_count": 147,
   "id": "1ce7c504-798f-4653-ab83-9457dbbe9d23",
   "metadata": {},
   "outputs": [
    {
     "data": {
      "text/html": [
       "\n",
       "                <audio  controls=\"controls\" >\n",
       "                    <source src=\"data:audio/wav;base64,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\" type=\"audio/wav\" />\n",
       "                    Your browser does not support the audio element.\n",
       "                </audio>\n",
       "              "
      ],
      "text/plain": [
       "<IPython.lib.display.Audio object>"
      ]
     },
     "execution_count": 147,
     "metadata": {},
     "output_type": "execute_result"
    }
   ],
   "source": [
    "ipd.Audio(waveform.numpy()[0], rate=sample_rate)"
   ]
  },
  {
   "cell_type": "code",
   "execution_count": 148,
   "id": "4a781d34-798f-4372-8b74-5ba689e2d795",
   "metadata": {},
   "outputs": [
    {
     "data": {
      "text/plain": [
       "torch.Size([2, 114048])"
      ]
     },
     "execution_count": 148,
     "metadata": {},
     "output_type": "execute_result"
    }
   ],
   "source": [
    "waveform.size()"
   ]
  },
  {
   "cell_type": "code",
   "execution_count": 149,
   "id": "a8fa8508",
   "metadata": {},
   "outputs": [
    {
     "data": {
      "text/html": [
       "\n",
       "                <audio  controls=\"controls\" >\n",
       "                    <source src=\"data:audio/wav;base64,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\" type=\"audio/wav\" />\n",
       "                    Your browser does not support the audio element.\n",
       "                </audio>\n",
       "              "
      ],
      "text/plain": [
       "<IPython.lib.display.Audio object>"
      ]
     },
     "execution_count": 149,
     "metadata": {},
     "output_type": "execute_result"
    }
   ],
   "source": [
    "my_transform = torchaudio.transforms.Resample(orig_freq=114048, new_freq=2500)\n",
    "waveform_t = my_transform(waveform)\n",
    "\n",
    "ipd.Audio(waveform_t.numpy()[0], rate=16000)"
   ]
  },
  {
   "cell_type": "code",
   "execution_count": 138,
   "id": "ef1a24fa",
   "metadata": {},
   "outputs": [
    {
     "data": {
      "text/plain": [
       "torch.Size([1, 1, 2500])"
      ]
     },
     "execution_count": 138,
     "metadata": {},
     "output_type": "execute_result"
    }
   ],
   "source": [
    "torch.unsqueeze(torch.unsqueeze(waveform[0], 0), 0).shape"
   ]
  },
  {
   "cell_type": "code",
   "execution_count": 139,
   "id": "087a53ee",
   "metadata": {},
   "outputs": [
    {
     "data": {
      "text/plain": [
       "torch.Size([2, 2500])"
      ]
     },
     "execution_count": 139,
     "metadata": {},
     "output_type": "execute_result"
    }
   ],
   "source": [
    "waveform.shape"
   ]
  },
  {
   "cell_type": "code",
   "execution_count": 124,
   "id": "2cb0b537-175f-4fd6-a2d2-88af63196675",
   "metadata": {},
   "outputs": [
    {
     "ename": "RuntimeError",
     "evalue": "Expected 2D (unbatched) or 3D (batched) input to conv1d, but got input of size: [1, 1, 1, 1250]",
     "output_type": "error",
     "traceback": [
      "\u001b[0;31m---------------------------------------------------------------------------\u001b[0m",
      "\u001b[0;31mRuntimeError\u001b[0m                              Traceback (most recent call last)",
      "Cell \u001b[0;32mIn[124], line 1\u001b[0m\n\u001b[0;32m----> 1\u001b[0m predict(torch\u001b[39m.\u001b[39;49munsqueeze(torch\u001b[39m.\u001b[39;49munsqueeze(waveform[\u001b[39m0\u001b[39;49m]\u001b[39m.\u001b[39;49mto(device), \u001b[39m0\u001b[39;49m), \u001b[39m0\u001b[39;49m))\n",
      "Cell \u001b[0;32mIn[90], line 5\u001b[0m, in \u001b[0;36mpredict\u001b[0;34m(tensor)\u001b[0m\n\u001b[1;32m      3\u001b[0m tensor \u001b[39m=\u001b[39m tensor\u001b[39m.\u001b[39mto(device)\n\u001b[1;32m      4\u001b[0m tensor \u001b[39m=\u001b[39m transform(tensor)\n\u001b[0;32m----> 5\u001b[0m tensor \u001b[39m=\u001b[39m model(tensor\u001b[39m.\u001b[39;49munsqueeze(\u001b[39m0\u001b[39;49m))\n\u001b[1;32m      6\u001b[0m tensor \u001b[39m=\u001b[39m get_likely_index(tensor)\n\u001b[1;32m      7\u001b[0m tensor \u001b[39m=\u001b[39m index_to_label(tensor\u001b[39m.\u001b[39msqueeze())\n",
      "File \u001b[0;32m~/Projects/CommandsRecognizer/venv/lib/python3.11/site-packages/torch/nn/modules/module.py:1501\u001b[0m, in \u001b[0;36mModule._call_impl\u001b[0;34m(self, *args, **kwargs)\u001b[0m\n\u001b[1;32m   1496\u001b[0m \u001b[39m# If we don't have any hooks, we want to skip the rest of the logic in\u001b[39;00m\n\u001b[1;32m   1497\u001b[0m \u001b[39m# this function, and just call forward.\u001b[39;00m\n\u001b[1;32m   1498\u001b[0m \u001b[39mif\u001b[39;00m \u001b[39mnot\u001b[39;00m (\u001b[39mself\u001b[39m\u001b[39m.\u001b[39m_backward_hooks \u001b[39mor\u001b[39;00m \u001b[39mself\u001b[39m\u001b[39m.\u001b[39m_backward_pre_hooks \u001b[39mor\u001b[39;00m \u001b[39mself\u001b[39m\u001b[39m.\u001b[39m_forward_hooks \u001b[39mor\u001b[39;00m \u001b[39mself\u001b[39m\u001b[39m.\u001b[39m_forward_pre_hooks\n\u001b[1;32m   1499\u001b[0m         \u001b[39mor\u001b[39;00m _global_backward_pre_hooks \u001b[39mor\u001b[39;00m _global_backward_hooks\n\u001b[1;32m   1500\u001b[0m         \u001b[39mor\u001b[39;00m _global_forward_hooks \u001b[39mor\u001b[39;00m _global_forward_pre_hooks):\n\u001b[0;32m-> 1501\u001b[0m     \u001b[39mreturn\u001b[39;00m forward_call(\u001b[39m*\u001b[39;49margs, \u001b[39m*\u001b[39;49m\u001b[39m*\u001b[39;49mkwargs)\n\u001b[1;32m   1502\u001b[0m \u001b[39m# Do not call functions when jit is used\u001b[39;00m\n\u001b[1;32m   1503\u001b[0m full_backward_hooks, non_full_backward_hooks \u001b[39m=\u001b[39m [], []\n",
      "Cell \u001b[0;32mIn[84], line 19\u001b[0m, in \u001b[0;36mM5.forward\u001b[0;34m(self, x)\u001b[0m\n\u001b[1;32m     18\u001b[0m \u001b[39mdef\u001b[39;00m \u001b[39mforward\u001b[39m(\u001b[39mself\u001b[39m, x):\n\u001b[0;32m---> 19\u001b[0m     x \u001b[39m=\u001b[39m \u001b[39mself\u001b[39;49m\u001b[39m.\u001b[39;49mconv1(x)\n\u001b[1;32m     20\u001b[0m     x \u001b[39m=\u001b[39m F\u001b[39m.\u001b[39mrelu(\u001b[39mself\u001b[39m\u001b[39m.\u001b[39mbn1(x))\n\u001b[1;32m     21\u001b[0m     x \u001b[39m=\u001b[39m \u001b[39mself\u001b[39m\u001b[39m.\u001b[39mpool1(x)\n",
      "File \u001b[0;32m~/Projects/CommandsRecognizer/venv/lib/python3.11/site-packages/torch/nn/modules/module.py:1501\u001b[0m, in \u001b[0;36mModule._call_impl\u001b[0;34m(self, *args, **kwargs)\u001b[0m\n\u001b[1;32m   1496\u001b[0m \u001b[39m# If we don't have any hooks, we want to skip the rest of the logic in\u001b[39;00m\n\u001b[1;32m   1497\u001b[0m \u001b[39m# this function, and just call forward.\u001b[39;00m\n\u001b[1;32m   1498\u001b[0m \u001b[39mif\u001b[39;00m \u001b[39mnot\u001b[39;00m (\u001b[39mself\u001b[39m\u001b[39m.\u001b[39m_backward_hooks \u001b[39mor\u001b[39;00m \u001b[39mself\u001b[39m\u001b[39m.\u001b[39m_backward_pre_hooks \u001b[39mor\u001b[39;00m \u001b[39mself\u001b[39m\u001b[39m.\u001b[39m_forward_hooks \u001b[39mor\u001b[39;00m \u001b[39mself\u001b[39m\u001b[39m.\u001b[39m_forward_pre_hooks\n\u001b[1;32m   1499\u001b[0m         \u001b[39mor\u001b[39;00m _global_backward_pre_hooks \u001b[39mor\u001b[39;00m _global_backward_hooks\n\u001b[1;32m   1500\u001b[0m         \u001b[39mor\u001b[39;00m _global_forward_hooks \u001b[39mor\u001b[39;00m _global_forward_pre_hooks):\n\u001b[0;32m-> 1501\u001b[0m     \u001b[39mreturn\u001b[39;00m forward_call(\u001b[39m*\u001b[39;49margs, \u001b[39m*\u001b[39;49m\u001b[39m*\u001b[39;49mkwargs)\n\u001b[1;32m   1502\u001b[0m \u001b[39m# Do not call functions when jit is used\u001b[39;00m\n\u001b[1;32m   1503\u001b[0m full_backward_hooks, non_full_backward_hooks \u001b[39m=\u001b[39m [], []\n",
      "File \u001b[0;32m~/Projects/CommandsRecognizer/venv/lib/python3.11/site-packages/torch/nn/modules/conv.py:313\u001b[0m, in \u001b[0;36mConv1d.forward\u001b[0;34m(self, input)\u001b[0m\n\u001b[1;32m    312\u001b[0m \u001b[39mdef\u001b[39;00m \u001b[39mforward\u001b[39m(\u001b[39mself\u001b[39m, \u001b[39minput\u001b[39m: Tensor) \u001b[39m-\u001b[39m\u001b[39m>\u001b[39m Tensor:\n\u001b[0;32m--> 313\u001b[0m     \u001b[39mreturn\u001b[39;00m \u001b[39mself\u001b[39;49m\u001b[39m.\u001b[39;49m_conv_forward(\u001b[39minput\u001b[39;49m, \u001b[39mself\u001b[39;49m\u001b[39m.\u001b[39;49mweight, \u001b[39mself\u001b[39;49m\u001b[39m.\u001b[39;49mbias)\n",
      "File \u001b[0;32m~/Projects/CommandsRecognizer/venv/lib/python3.11/site-packages/torch/nn/modules/conv.py:309\u001b[0m, in \u001b[0;36mConv1d._conv_forward\u001b[0;34m(self, input, weight, bias)\u001b[0m\n\u001b[1;32m    305\u001b[0m \u001b[39mif\u001b[39;00m \u001b[39mself\u001b[39m\u001b[39m.\u001b[39mpadding_mode \u001b[39m!=\u001b[39m \u001b[39m'\u001b[39m\u001b[39mzeros\u001b[39m\u001b[39m'\u001b[39m:\n\u001b[1;32m    306\u001b[0m     \u001b[39mreturn\u001b[39;00m F\u001b[39m.\u001b[39mconv1d(F\u001b[39m.\u001b[39mpad(\u001b[39minput\u001b[39m, \u001b[39mself\u001b[39m\u001b[39m.\u001b[39m_reversed_padding_repeated_twice, mode\u001b[39m=\u001b[39m\u001b[39mself\u001b[39m\u001b[39m.\u001b[39mpadding_mode),\n\u001b[1;32m    307\u001b[0m                     weight, bias, \u001b[39mself\u001b[39m\u001b[39m.\u001b[39mstride,\n\u001b[1;32m    308\u001b[0m                     _single(\u001b[39m0\u001b[39m), \u001b[39mself\u001b[39m\u001b[39m.\u001b[39mdilation, \u001b[39mself\u001b[39m\u001b[39m.\u001b[39mgroups)\n\u001b[0;32m--> 309\u001b[0m \u001b[39mreturn\u001b[39;00m F\u001b[39m.\u001b[39;49mconv1d(\u001b[39minput\u001b[39;49m, weight, bias, \u001b[39mself\u001b[39;49m\u001b[39m.\u001b[39;49mstride,\n\u001b[1;32m    310\u001b[0m                 \u001b[39mself\u001b[39;49m\u001b[39m.\u001b[39;49mpadding, \u001b[39mself\u001b[39;49m\u001b[39m.\u001b[39;49mdilation, \u001b[39mself\u001b[39;49m\u001b[39m.\u001b[39;49mgroups)\n",
      "\u001b[0;31mRuntimeError\u001b[0m: Expected 2D (unbatched) or 3D (batched) input to conv1d, but got input of size: [1, 1, 1, 1250]"
     ]
    }
   ],
   "source": [
    "predict(torch.unsqueeze(torch.unsqueeze(waveform[0].to(device), 0), 0))"
   ]
  },
  {
   "cell_type": "code",
   "execution_count": null,
   "id": "ea346e7d-c39a-4255-81d2-efa5b4c9b1eb",
   "metadata": {},
   "outputs": [],
   "source": []
  }
 ],
 "metadata": {
  "kernelspec": {
   "display_name": "Python 3 (ipykernel)",
   "language": "python",
   "name": "python3"
  },
  "language_info": {
   "codemirror_mode": {
    "name": "ipython",
    "version": 3
   },
   "file_extension": ".py",
   "mimetype": "text/x-python",
   "name": "python",
   "nbconvert_exporter": "python",
   "pygments_lexer": "ipython3",
   "version": "3.11.3"
  }
 },
 "nbformat": 4,
 "nbformat_minor": 5
}
