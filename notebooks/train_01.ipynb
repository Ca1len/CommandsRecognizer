{
 "cells": [
  {
   "cell_type": "code",
   "execution_count": 1,
   "id": "4d3ef79d-9498-47a4-b7d7-ac86322c3e5d",
   "metadata": {},
   "outputs": [],
   "source": [
    "import torch\n",
    "import torch.nn as nn\n",
    "import torch.nn.functional as F\n",
    "import torch.optim as optim\n",
    "import torchaudio\n",
    "import sys\n",
    "\n",
    "import matplotlib.pyplot as plt\n",
    "import IPython.display as ipd\n",
    "\n",
    "from tqdm import tqdm\n",
    "\n",
    "\n",
    "from torchaudio.datasets import SPEECHCOMMANDS\n",
    "import os"
   ]
  },
  {
   "cell_type": "code",
   "execution_count": 2,
   "id": "ebd00a5a-f96a-4a58-946a-ab3b6e38f890",
   "metadata": {},
   "outputs": [
    {
     "data": {
      "text/plain": [
       "'cuda'"
      ]
     },
     "execution_count": 2,
     "metadata": {},
     "output_type": "execute_result"
    }
   ],
   "source": [
    "device = \"cuda\" if torch.cuda.is_available() else \"cpu\"\n",
    "device"
   ]
  },
  {
   "attachments": {},
   "cell_type": "markdown",
   "id": "065fe4ad-c3d9-40cf-9c12-73f1b14f2d4f",
   "metadata": {},
   "source": [
    "# DataSet creation"
   ]
  },
  {
   "cell_type": "code",
   "execution_count": 3,
   "id": "db631c6e-0a7f-4373-a51c-c695b7403e8f",
   "metadata": {},
   "outputs": [],
   "source": [
    "class SubsetSC(SPEECHCOMMANDS):\n",
    "    def __init__(self, subset: str = None):\n",
    "        super().__init__(\"./\", download=True)\n",
    "\n",
    "        def load_list(filename):\n",
    "            filepath = os.path.join(self._path, filename)\n",
    "            with open(filepath) as fileobj:\n",
    "                return [os.path.normpath(os.path.join(self._path, line.strip())) for line in fileobj]\n",
    "\n",
    "        if subset == \"validation\":\n",
    "            self._walker = load_list(\"validation_list.txt\")\n",
    "        elif subset == \"testing\":\n",
    "            self._walker = load_list(\"testing_list.txt\")\n",
    "        elif subset == \"training\":\n",
    "            excludes = load_list(\"validation_list.txt\") + load_list(\"testing_list.txt\")\n",
    "            excludes = set(excludes)\n",
    "            self._walker = [w for w in self._walker if w not in excludes]"
   ]
  },
  {
   "attachments": {},
   "cell_type": "markdown",
   "id": "ce8882cf-e09c-4c02-92b4-52369cad2269",
   "metadata": {},
   "source": [
    "## Create training and testing split of the data. We do not use validation in this tutorial."
   ]
  },
  {
   "cell_type": "code",
   "execution_count": 4,
   "id": "ca50417b-d88c-47b7-9d9e-c507a8f1be69",
   "metadata": {},
   "outputs": [],
   "source": [
    "train_set = SubsetSC(\"training\")\n",
    "test_set = SubsetSC(\"testing\")"
   ]
  },
  {
   "cell_type": "code",
   "execution_count": 5,
   "id": "2ea13b1a-0ebb-493e-ae8c-67ea40677184",
   "metadata": {},
   "outputs": [],
   "source": [
    "def cut_dataset(dataset, labels):\n",
    "    items_to_remove = []\n",
    "    for i, (_, _, label, *_) in enumerate(dataset):\n",
    "        if label not in labels:\n",
    "            items_to_remove.append(i)\n",
    "\n",
    "    for elem in sorted(items_to_remove, reverse=True):\n",
    "        dataset._walker.pop(elem)"
   ]
  },
  {
   "cell_type": "code",
   "execution_count": 6,
   "id": "d0321da8-8c2b-42c9-8efc-4425d09f486f",
   "metadata": {},
   "outputs": [],
   "source": [
    "commands = [\"forward\", \"backward\", \"left\", \"right\", \"stop\", \"on\", \"off\"]"
   ]
  },
  {
   "cell_type": "code",
   "execution_count": 7,
   "id": "ebe2398d-10d9-414c-af16-3992b998157b",
   "metadata": {},
   "outputs": [],
   "source": [
    "cut_dataset(train_set, commands)\n",
    "cut_dataset(test_set, commands)"
   ]
  },
  {
   "cell_type": "code",
   "execution_count": 8,
   "id": "097bc41a-ab1d-47c3-b49b-5f3985576e61",
   "metadata": {},
   "outputs": [
    {
     "name": "stdout",
     "output_type": "stream",
     "text": [
      "Shape of waveform: torch.Size([1, 16000])\n",
      "Sample rate of waveform: 16000\n"
     ]
    },
    {
     "data": {
      "image/png": "[encoded data removed]",
      "text/plain": [
       "<Figure size 640x480 with 1 Axes>"
      ]
     },
     "metadata": {},
     "output_type": "display_data"
    }
   ],
   "source": [
    "waveform, sample_rate, label, speaker_id, utterance_number = train_set[0]\n",
    "print(\"Shape of waveform: {}\".format(waveform.size()))\n",
    "print(\"Sample rate of waveform: {}\".format(sample_rate))\n",
    "plt.plot(waveform.t().numpy());"
   ]
  },
  {
   "cell_type": "code",
   "execution_count": 9,
   "id": "3b9be125-2027-4532-8176-53c5f62a7fac",
   "metadata": {},
   "outputs": [
    {
     "data": {
      "text/plain": [
       "['backward', 'forward', 'left', 'off', 'on', 'right', 'stop']"
      ]
     },
     "execution_count": 9,
     "metadata": {},
     "output_type": "execute_result"
    }
   ],
   "source": [
    "labels = sorted(list(set(datapoint[2] for datapoint in train_set)))\n",
    "labels"
   ]
  },
  {
   "cell_type": "code",
   "execution_count": 10,
   "id": "8d9b222b-ddfd-44ee-a3f2-ffbc16681182",
   "metadata": {},
   "outputs": [
    {
     "data": {
      "text/html": [
       "\n",
       "                <audio  controls=\"controls\" >\n",
       "                    <source src=\"data:audio/wav;base64,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\" type=\"audio/wav\" />\n",
       "                    Your browser does not support the audio element.\n",
       "                </audio>\n",
       "              "
      ],
      "text/plain": [
       "<IPython.lib.display.Audio object>"
      ]
     },
     "execution_count": 10,
     "metadata": {},
     "output_type": "execute_result"
    }
   ],
   "source": [
    "waveform_second, *_ = train_set[1]\n",
    "ipd.Audio(waveform_second.numpy(), rate=sample_rate)"
   ]
  },
  {
   "cell_type": "code",
   "execution_count": 11,
   "id": "3318ac0c-3bae-47dd-9544-1c3e819898e7",
   "metadata": {},
   "outputs": [
    {
     "data": {
      "text/html": [
       "\n",
       "                <audio  controls=\"controls\" >\n",
       "                    <source src=\"data:audio/wav;base64,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\" type=\"audio/wav\" />\n",
       "                    Your browser does not support the audio element.\n",
       "                </audio>\n",
       "              "
      ],
      "text/plain": [
       "<IPython.lib.display.Audio object>"
      ]
     },
     "execution_count": 11,
     "metadata": {},
     "output_type": "execute_result"
    }
   ],
   "source": [
    "new_sample_rate = 3500\n",
    "transform = torchaudio.transforms.Resample(orig_freq=sample_rate, new_freq=new_sample_rate)\n",
    "transformed = transform(waveform_second)\n",
    "\n",
    "ipd.Audio(transformed.numpy(), rate=new_sample_rate)"
   ]
  },
  {
   "cell_type": "code",
   "execution_count": 12,
   "id": "eec16654",
   "metadata": {},
   "outputs": [
    {
     "data": {
      "text/plain": [
       "torch.Size([1, 3500])"
      ]
     },
     "execution_count": 12,
     "metadata": {},
     "output_type": "execute_result"
    }
   ],
   "source": [
    "transformed.shape"
   ]
  },
  {
   "cell_type": "code",
   "execution_count": 13,
   "id": "6e8cbf4f-5174-4eb8-9650-d8feb445fef6",
   "metadata": {},
   "outputs": [
    {
     "name": "stdout",
     "output_type": "stream",
     "text": [
      "forward --> tensor(1) --> forward\n"
     ]
    }
   ],
   "source": [
    "def label_to_index(word):\n",
    "    # Return the position of the word in labels\n",
    "    return torch.tensor(labels.index(word))\n",
    "\n",
    "\n",
    "def index_to_label(index):\n",
    "    # Return the word corresponding to the index in labels\n",
    "    # This is the inverse of label_to_index\n",
    "    return labels[index]\n",
    "\n",
    "\n",
    "word_start = \"forward\"\n",
    "index = label_to_index(word_start)\n",
    "word_recovered = index_to_label(index)\n",
    "\n",
    "print(word_start, \"-->\", index, \"-->\", word_recovered)"
   ]
  },
  {
   "cell_type": "code",
   "execution_count": 14,
   "id": "c0c1486a-5b2d-42a3-b8d7-de48fc9f575f",
   "metadata": {},
   "outputs": [],
   "source": [
    "def pad_sequence(batch):\n",
    "    # Make all tensor in a batch the same length by padding with zeros\n",
    "    batch = [item.t() for item in batch]\n",
    "    batch = torch.nn.utils.rnn.pad_sequence(batch, batch_first=True, padding_value=0.)\n",
    "    return batch.permute(0, 2, 1)\n",
    "\n",
    "\n",
    "def collate_fn(batch):\n",
    "\n",
    "    # A data tuple has the form:\n",
    "    # waveform, sample_rate, label, speaker_id, utterance_number\n",
    "\n",
    "    tensors, targets = [], []\n",
    "\n",
    "    # Gather in lists, and encode labels as indices\n",
    "    for waveform, _, label, *_ in batch:\n",
    "        tensors += [waveform]\n",
    "        targets += [label_to_index(label)]\n",
    "\n",
    "    # Group the list of tensors into a batched tensor\n",
    "    tensors = pad_sequence(tensors)\n",
    "    targets = torch.stack(targets)\n",
    "\n",
    "    return tensors, targets\n",
    "\n",
    "\n",
    "batch_size = 256\n",
    "\n",
    "if device == \"cuda\":\n",
    "    num_workers = 1\n",
    "    pin_memory = True\n",
    "else:\n",
    "    num_workers = 0\n",
    "    pin_memory = False\n",
    "\n",
    "train_loader = torch.utils.data.DataLoader(\n",
    "    train_set,\n",
    "    batch_size=batch_size,\n",
    "    shuffle=True,\n",
    "    collate_fn=collate_fn,\n",
    "    num_workers=num_workers,\n",
    "    pin_memory=pin_memory,\n",
    ")\n",
    "test_loader = torch.utils.data.DataLoader(\n",
    "    test_set,\n",
    "    batch_size=batch_size,\n",
    "    shuffle=False,\n",
    "    drop_last=False,\n",
    "    collate_fn=collate_fn,\n",
    "    num_workers=num_workers,\n",
    "    pin_memory=pin_memory,\n",
    ")"
   ]
  },
  {
   "cell_type": "code",
   "execution_count": 15,
   "id": "ba8cc201",
   "metadata": {},
   "outputs": [
    {
     "data": {
      "text/plain": [
       "torch.Size([256, 1, 16000])"
      ]
     },
     "execution_count": 15,
     "metadata": {},
     "output_type": "execute_result"
    }
   ],
   "source": [
    "next(iter(train_loader))[0].shape"
   ]
  },
  {
   "attachments": {},
   "cell_type": "markdown",
   "id": "2ae593e4-3e69-4aec-adb9-fa0784fe4ea8",
   "metadata": {},
   "source": [
    "# Define the Network"
   ]
  },
  {
   "cell_type": "code",
   "execution_count": 16,
   "id": "0fe4cfa7-9f0f-4e15-9118-28db4bf84f0c",
   "metadata": {},
   "outputs": [
    {
     "name": "stdout",
     "output_type": "stream",
     "text": [
      "M4(\n",
      "  (conv1): Conv1d(1, 32, kernel_size=(80,), stride=(16,))\n",
      "  (bn1): BatchNorm1d(32, eps=1e-05, momentum=0.1, affine=True, track_running_stats=True)\n",
      "  (pool1): MaxPool1d(kernel_size=4, stride=4, padding=0, dilation=1, ceil_mode=False)\n",
      "  (conv2): Conv1d(32, 32, kernel_size=(3,), stride=(1,))\n",
      "  (bn2): BatchNorm1d(32, eps=1e-05, momentum=0.1, affine=True, track_running_stats=True)\n",
      "  (pool2): MaxPool1d(kernel_size=4, stride=4, padding=0, dilation=1, ceil_mode=False)\n",
      "  (conv3): Conv1d(32, 32, kernel_size=(3,), stride=(1,))\n",
      "  (bn3): BatchNorm1d(32, eps=1e-05, momentum=0.1, affine=True, track_running_stats=True)\n",
      "  (pool3): MaxPool1d(kernel_size=4, stride=4, padding=0, dilation=1, ceil_mode=False)\n",
      "  (fc1): Linear(in_features=32, out_features=7, bias=True)\n",
      ")\n",
      "Number of parameters: 9223\n"
     ]
    }
   ],
   "source": [
    "class M5(nn.Module):\n",
    "    def __init__(self, n_input=1, n_output=35, stride=16, n_channel=32):\n",
    "        super().__init__()\n",
    "        self.conv1 = nn.Conv1d(n_input, n_channel, kernel_size=80, stride=stride)\n",
    "        self.bn1 = nn.BatchNorm1d(n_channel)\n",
    "        self.pool1 = nn.MaxPool1d(4)\n",
    "        self.conv2 = nn.Conv1d(n_channel, n_channel, kernel_size=3)\n",
    "        self.bn2 = nn.BatchNorm1d(n_channel)\n",
    "        self.pool2 = nn.MaxPool1d(4)\n",
    "        self.conv3 = nn.Conv1d(n_channel, n_channel, kernel_size=3)\n",
    "        self.bn3 = nn.BatchNorm1d(n_channel)\n",
    "        self.pool3 = nn.MaxPool1d(4)\n",
    "        self.conv4 = nn.Conv1d(n_channel, n_channel, kernel_size=3)\n",
    "        self.bn4 = nn.BatchNorm1d(n_channel)\n",
    "        self.pool4 = nn.MaxPool1d(4)\n",
    "        self.fc1 = nn.Linear(2 * n_channel, n_output)\n",
    "\n",
    "    def forward(self, x):\n",
    "        x = self.conv1(x)\n",
    "        x = F.relu(self.bn1(x))\n",
    "        x = self.pool1(x)\n",
    "        x = self.conv2(x)\n",
    "        x = F.relu(self.bn2(x))\n",
    "        x = self.pool2(x)\n",
    "        x = self.conv3(x)\n",
    "        x = F.relu(self.bn3(x))\n",
    "        x = self.pool3(x)\n",
    "        x = self.conv4(x)\n",
    "        x = F.relu(self.bn4(x))\n",
    "        x = self.pool4(x)\n",
    "        x = F.avg_pool1d(x, x.shape[-1])\n",
    "        x = x.permute(0, 2, 1)\n",
    "        x = self.fc1(x)\n",
    "        return F.log_softmax(x, dim=2)\n",
    "\n",
    "class M4(nn.Module):\n",
    "    def __init__(self, n_input=1, n_output=35, stride=16, n_channel=32):\n",
    "        super().__init__()\n",
    "        self.conv1 = nn.Conv1d(n_input, n_channel, kernel_size=80, stride=stride)\n",
    "        self.bn1 = nn.BatchNorm1d(n_channel)\n",
    "        self.pool1 = nn.MaxPool1d(4)\n",
    "        self.conv2 = nn.Conv1d(n_channel, n_channel, kernel_size=3)\n",
    "        self.bn2 = nn.BatchNorm1d(n_channel)\n",
    "        self.pool2 = nn.MaxPool1d(4)\n",
    "        self.conv3 = nn.Conv1d(n_channel, n_channel, kernel_size=3)\n",
    "        self.bn3 = nn.BatchNorm1d(n_channel)\n",
    "        self.pool3 = nn.MaxPool1d(4)\n",
    "        self.fc1 = nn.Linear(n_channel, n_output)\n",
    "\n",
    "    def forward(self, x):\n",
    "        x = self.conv1(x)\n",
    "        x = F.relu(self.bn1(x))\n",
    "        x = self.pool1(x)\n",
    "        x = self.conv2(x)\n",
    "        x = F.relu(self.bn2(x))\n",
    "        x = self.pool2(x)\n",
    "        x = self.conv3(x)\n",
    "        x = F.relu(self.bn3(x))\n",
    "        x = self.pool3(x)\n",
    "        x = F.avg_pool1d(x, x.shape[-1])\n",
    "        x = x.permute(0, 2, 1)\n",
    "        x = self.fc1(x)\n",
    "        return F.log_softmax(x, dim=2)\n",
    "\n",
    "\n",
    "model = M4(n_input=transformed.shape[0], n_output=len(labels))\n",
    "model.to(device)\n",
    "print(model)\n",
    "\n",
    "\n",
    "def count_parameters(model):\n",
    "    return sum(p.numel() for p in model.parameters() if p.requires_grad)\n",
    "\n",
    "\n",
    "n = count_parameters(model)\n",
    "print(\"Number of parameters: %s\" % n)"
   ]
  },
  {
   "cell_type": "code",
   "execution_count": 17,
   "id": "06fc0d5a-7f9c-4f1e-89b9-11fdab16b068",
   "metadata": {},
   "outputs": [],
   "source": [
    "optimizer = optim.Adam(model.parameters(), lr=0.01, weight_decay=0.0001)\n",
    "scheduler = optim.lr_scheduler.StepLR(optimizer, step_size=20, gamma=0.1)  # reduce the learning after 20 epochs by a factor of 10"
   ]
  },
  {
   "attachments": {},
   "cell_type": "markdown",
   "id": "c293f08e-5a84-4789-abad-abaa3d097a1e",
   "metadata": {},
   "source": [
    "# Training and Testing the Network"
   ]
  },
  {
   "cell_type": "code",
   "execution_count": 18,
   "id": "f72ec8aa-333f-463e-a979-2f15a6b10d87",
   "metadata": {},
   "outputs": [],
   "source": [
    "def train(model, epoch, log_interval):\n",
    "    model.train()\n",
    "    for batch_idx, (data, target) in enumerate(train_loader):\n",
    "\n",
    "        data = data.to(device)\n",
    "        target = target.to(device)\n",
    "\n",
    "        # apply transform and model on whole batch directly on device\n",
    "        data = transform(data)\n",
    "        output = model(data)\n",
    "\n",
    "        # negative log-likelihood for a tensor of size (batch x 1 x n_output)\n",
    "        loss = F.nll_loss(output.squeeze(), target)\n",
    "\n",
    "        optimizer.zero_grad()\n",
    "        loss.backward()\n",
    "        optimizer.step()\n",
    "\n",
    "        # print training stats\n",
    "        if batch_idx % log_interval == 0:\n",
    "            print(f\"Train Epoch: {epoch} [{batch_idx * len(data)}/{len(train_loader.dataset)} ({100. * batch_idx / len(train_loader):.0f}%)]\\tLoss: {loss.item():.6f}\")\n",
    "\n",
    "        # update progress bar\n",
    "        pbar.update(pbar_update)\n",
    "        # record loss\n",
    "        losses.append(loss.item())\n",
    "\n",
    "def number_of_correct(pred, target):\n",
    "    # count number of correct predictions\n",
    "    return pred.squeeze().eq(target).sum().item()\n",
    "\n",
    "\n",
    "def get_likely_index(tensor):\n",
    "    # find most likely label index for each element in the batch\n",
    "    return tensor.argmax(dim=-1)\n",
    "\n",
    "\n",
    "def test(model, epoch):\n",
    "    model.eval()\n",
    "    correct = 0\n",
    "    for data, target in test_loader:\n",
    "\n",
    "        data = data.to(device)\n",
    "        target = target.to(device)\n",
    "\n",
    "        # apply transform and model on whole batch directly on device\n",
    "        data = transform(data)\n",
    "        output = model(data)\n",
    "\n",
    "        pred = get_likely_index(output)\n",
    "        correct += number_of_correct(pred, target)\n",
    "\n",
    "        # update progress bar\n",
    "        pbar.update(pbar_update)\n",
    "\n",
    "    print(f\"\\nTest Epoch: {epoch}\\tAccuracy: {correct}/{len(test_loader.dataset)} ({100. * correct / len(test_loader.dataset):.0f}%)\\n\")"
   ]
  },
  {
   "cell_type": "code",
   "execution_count": 19,
   "id": "060e41b6-0b0f-46e8-80d3-a5176ea710d5",
   "metadata": {
    "scrolled": true
   },
   "outputs": [
    {
     "name": "stderr",
     "output_type": "stream",
     "text": [
      "  0%|          | 0.11249999999999999/200 [00:00<10:52,  3.27s/it]"
     ]
    },
    {
     "name": "stdout",
     "output_type": "stream",
     "text": [
      "Train Epoch: 1 [0/17825 (0%)]\tLoss: 2.012500\n"
     ]
    },
    {
     "name": "stderr",
     "output_type": "stream",
     "text": [
      "  0%|          | 0.36250000000000016/200 [00:00<06:21,  1.91s/it]"
     ]
    },
    {
     "name": "stdout",
     "output_type": "stream",
     "text": [
      "Train Epoch: 1 [5120/17825 (29%)]\tLoss: 1.545873\n"
     ]
    },
    {
     "name": "stderr",
     "output_type": "stream",
     "text": [
      "  0%|          | 0.6249999999999998/200 [00:01<04:46,  1.44s/it] "
     ]
    },
    {
     "name": "stdout",
     "output_type": "stream",
     "text": [
      "Train Epoch: 1 [10240/17825 (57%)]\tLoss: 1.311219\n"
     ]
    },
    {
     "name": "stderr",
     "output_type": "stream",
     "text": [
      "  0%|          | 0.7999999999999992/200 [00:01<04:27,  1.34s/it]"
     ]
    },
    {
     "name": "stdout",
     "output_type": "stream",
     "text": [
      "Train Epoch: 1 [15360/17825 (86%)]\tLoss: 1.028082\n"
     ]
    },
    {
     "name": "stderr",
     "output_type": "stream",
     "text": [
      "  0%|          | 0.9874999999999985/200 [00:01<04:52,  1.47s/it]"
     ]
    },
    {
     "name": "stdout",
     "output_type": "stream",
     "text": [
      "\n",
      "Test Epoch: 1\tAccuracy: 1288/2337 (55%)\n",
      "\n"
     ]
    },
    {
     "name": "stderr",
     "output_type": "stream",
     "text": [
      "  1%|          | 1.0749999999999982/200 [00:01<05:28,  1.65s/it]"
     ]
    },
    {
     "name": "stdout",
     "output_type": "stream",
     "text": [
      "Train Epoch: 2 [0/17825 (0%)]\tLoss: 1.056756\n"
     ]
    },
    {
     "name": "stderr",
     "output_type": "stream",
     "text": [
      "  1%|          | 1.3374999999999972/200 [00:02<05:09,  1.56s/it]"
     ]
    },
    {
     "name": "stdout",
     "output_type": "stream",
     "text": [
      "Train Epoch: 2 [5120/17825 (29%)]\tLoss: 0.790725\n"
     ]
    },
    {
     "name": "stderr",
     "output_type": "stream",
     "text": [
      "  1%|          | 1.5999999999999963/200 [00:02<04:28,  1.35s/it]"
     ]
    },
    {
     "name": "stdout",
     "output_type": "stream",
     "text": [
      "Train Epoch: 2 [10240/17825 (57%)]\tLoss: 0.890435\n"
     ]
    },
    {
     "name": "stderr",
     "output_type": "stream",
     "text": [
      "  1%|          | 1.8624999999999954/200 [00:02<04:16,  1.29s/it]"
     ]
    },
    {
     "name": "stdout",
     "output_type": "stream",
     "text": [
      "Train Epoch: 2 [15360/17825 (86%)]\tLoss: 0.755569\n"
     ]
    },
    {
     "name": "stderr",
     "output_type": "stream",
     "text": [
      "  1%|          | 1.949999999999995/200 [00:03<05:04,  1.54s/it] "
     ]
    },
    {
     "name": "stdout",
     "output_type": "stream",
     "text": [
      "\n",
      "Test Epoch: 2\tAccuracy: 1680/2337 (72%)\n",
      "\n"
     ]
    },
    {
     "name": "stderr",
     "output_type": "stream",
     "text": [
      "  1%|          | 2.024999999999995/200 [00:03<05:45,  1.75s/it]"
     ]
    },
    {
     "name": "stdout",
     "output_type": "stream",
     "text": [
      "Train Epoch: 3 [0/17825 (0%)]\tLoss: 0.798755\n"
     ]
    },
    {
     "name": "stderr",
     "output_type": "stream",
     "text": [
      "  1%|          | 2.3374999999999995/200 [00:03<05:36,  1.70s/it]"
     ]
    },
    {
     "name": "stdout",
     "output_type": "stream",
     "text": [
      "Train Epoch: 3 [5120/17825 (29%)]\tLoss: 0.595045\n"
     ]
    },
    {
     "name": "stderr",
     "output_type": "stream",
     "text": [
      "  1%|▏         | 2.6750000000000043/200 [00:04<04:25,  1.35s/it]"
     ]
    },
    {
     "name": "stdout",
     "output_type": "stream",
     "text": [
      "Train Epoch: 3 [10240/17825 (57%)]\tLoss: 0.636047\n"
     ]
    },
    {
     "name": "stderr",
     "output_type": "stream",
     "text": [
      "  1%|▏         | 2.8500000000000068/200 [00:04<04:11,  1.27s/it]"
     ]
    },
    {
     "name": "stdout",
     "output_type": "stream",
     "text": [
      "Train Epoch: 3 [15360/17825 (86%)]\tLoss: 0.775639\n"
     ]
    },
    {
     "name": "stderr",
     "output_type": "stream",
     "text": [
      "  1%|▏         | 2.937500000000008/200 [00:04<05:03,  1.54s/it] "
     ]
    },
    {
     "name": "stdout",
     "output_type": "stream",
     "text": [
      "\n",
      "Test Epoch: 3\tAccuracy: 1754/2337 (75%)\n",
      "\n"
     ]
    },
    {
     "name": "stderr",
     "output_type": "stream",
     "text": [
      "  2%|▏         | 3.012500000000009/200 [00:04<05:49,  1.78s/it]"
     ]
    },
    {
     "name": "stdout",
     "output_type": "stream",
     "text": [
      "Train Epoch: 4 [0/17825 (0%)]\tLoss: 0.591176\n"
     ]
    },
    {
     "name": "stderr",
     "output_type": "stream",
     "text": [
      "  2%|▏         | 3.287500000000013/200 [00:05<04:32,  1.38s/it] "
     ]
    },
    {
     "name": "stdout",
     "output_type": "stream",
     "text": [
      "Train Epoch: 4 [5120/17825 (29%)]\tLoss: 0.650838\n"
     ]
    },
    {
     "name": "stderr",
     "output_type": "stream",
     "text": [
      "  2%|▏         | 3.637500000000018/200 [00:05<04:25,  1.35s/it] "
     ]
    },
    {
     "name": "stdout",
     "output_type": "stream",
     "text": [
      "Train Epoch: 4 [10240/17825 (57%)]\tLoss: 0.699637\n"
     ]
    },
    {
     "name": "stderr",
     "output_type": "stream",
     "text": [
      "  2%|▏         | 3.8125000000000204/200 [00:05<04:13,  1.29s/it]"
     ]
    },
    {
     "name": "stdout",
     "output_type": "stream",
     "text": [
      "Train Epoch: 4 [15360/17825 (86%)]\tLoss: 0.625323\n"
     ]
    },
    {
     "name": "stderr",
     "output_type": "stream",
     "text": [
      "  2%|▏         | 4.000000000000023/200 [00:06<04:30,  1.38s/it] "
     ]
    },
    {
     "name": "stdout",
     "output_type": "stream",
     "text": [
      "\n",
      "Test Epoch: 4\tAccuracy: 1706/2337 (73%)\n",
      "\n"
     ]
    },
    {
     "name": "stderr",
     "output_type": "stream",
     "text": [
      "  2%|▏         | 4.087500000000024/200 [00:06<05:21,  1.64s/it]"
     ]
    },
    {
     "name": "stdout",
     "output_type": "stream",
     "text": [
      "Train Epoch: 5 [0/17825 (0%)]\tLoss: 0.570300\n"
     ]
    },
    {
     "name": "stderr",
     "output_type": "stream",
     "text": [
      "  2%|▏         | 4.337500000000028/200 [00:06<05:14,  1.61s/it]"
     ]
    },
    {
     "name": "stdout",
     "output_type": "stream",
     "text": [
      "Train Epoch: 5 [5120/17825 (29%)]\tLoss: 0.548485\n"
     ]
    },
    {
     "name": "stderr",
     "output_type": "stream",
     "text": [
      "  2%|▏         | 4.600000000000032/200 [00:07<04:21,  1.34s/it]"
     ]
    },
    {
     "name": "stdout",
     "output_type": "stream",
     "text": [
      "Train Epoch: 5 [10240/17825 (57%)]\tLoss: 0.579964\n"
     ]
    },
    {
     "name": "stderr",
     "output_type": "stream",
     "text": [
      "  2%|▏         | 4.862500000000035/200 [00:07<04:04,  1.25s/it]"
     ]
    },
    {
     "name": "stdout",
     "output_type": "stream",
     "text": [
      "Train Epoch: 5 [15360/17825 (86%)]\tLoss: 0.563185\n"
     ]
    },
    {
     "name": "stderr",
     "output_type": "stream",
     "text": [
      "  2%|▏         | 4.950000000000037/200 [00:07<04:58,  1.53s/it]"
     ]
    },
    {
     "name": "stdout",
     "output_type": "stream",
     "text": [
      "\n",
      "Test Epoch: 5\tAccuracy: 1864/2337 (80%)\n",
      "\n"
     ]
    },
    {
     "name": "stderr",
     "output_type": "stream",
     "text": [
      "  3%|▎         | 5.025000000000038/200 [00:07<05:35,  1.72s/it]"
     ]
    },
    {
     "name": "stdout",
     "output_type": "stream",
     "text": [
      "Train Epoch: 6 [0/17825 (0%)]\tLoss: 0.508946\n"
     ]
    },
    {
     "name": "stderr",
     "output_type": "stream",
     "text": [
      "  3%|▎         | 5.375000000000043/200 [00:08<05:04,  1.56s/it]"
     ]
    },
    {
     "name": "stdout",
     "output_type": "stream",
     "text": [
      "Train Epoch: 6 [5120/17825 (29%)]\tLoss: 0.491231\n"
     ]
    },
    {
     "name": "stderr",
     "output_type": "stream",
     "text": [
      "  3%|▎         | 5.637500000000046/200 [00:08<04:21,  1.35s/it]"
     ]
    },
    {
     "name": "stdout",
     "output_type": "stream",
     "text": [
      "Train Epoch: 6 [10240/17825 (57%)]\tLoss: 0.484874\n"
     ]
    },
    {
     "name": "stderr",
     "output_type": "stream",
     "text": [
      "  3%|▎         | 5.812500000000049/200 [00:08<04:10,  1.29s/it]"
     ]
    },
    {
     "name": "stdout",
     "output_type": "stream",
     "text": [
      "Train Epoch: 6 [15360/17825 (86%)]\tLoss: 0.586932\n"
     ]
    },
    {
     "name": "stderr",
     "output_type": "stream",
     "text": [
      "  3%|▎         | 5.90000000000005/200 [00:08<05:05,  1.57s/it] "
     ]
    },
    {
     "name": "stdout",
     "output_type": "stream",
     "text": [
      "\n",
      "Test Epoch: 6\tAccuracy: 1797/2337 (77%)\n",
      "\n"
     ]
    },
    {
     "name": "stderr",
     "output_type": "stream",
     "text": [
      "  3%|▎         | 6.012500000000052/200 [00:09<05:30,  1.70s/it]"
     ]
    },
    {
     "name": "stdout",
     "output_type": "stream",
     "text": [
      "Train Epoch: 7 [0/17825 (0%)]\tLoss: 0.530606\n"
     ]
    },
    {
     "name": "stderr",
     "output_type": "stream",
     "text": [
      "  3%|▎         | 6.375000000000057/200 [00:09<04:58,  1.54s/it]"
     ]
    },
    {
     "name": "stdout",
     "output_type": "stream",
     "text": [
      "Train Epoch: 7 [5120/17825 (29%)]\tLoss: 0.508043\n"
     ]
    },
    {
     "name": "stderr",
     "output_type": "stream",
     "text": [
      "  3%|▎         | 6.637500000000061/200 [00:09<04:17,  1.33s/it]"
     ]
    },
    {
     "name": "stdout",
     "output_type": "stream",
     "text": [
      "Train Epoch: 7 [10240/17825 (57%)]\tLoss: 0.532528\n"
     ]
    },
    {
     "name": "stderr",
     "output_type": "stream",
     "text": [
      "  3%|▎         | 6.812500000000063/200 [00:10<04:06,  1.27s/it]"
     ]
    },
    {
     "name": "stdout",
     "output_type": "stream",
     "text": [
      "Train Epoch: 7 [15360/17825 (86%)]\tLoss: 0.583578\n"
     ]
    },
    {
     "name": "stderr",
     "output_type": "stream",
     "text": [
      "  3%|▎         | 6.9875000000000655/200 [00:10<04:37,  1.44s/it]"
     ]
    },
    {
     "name": "stdout",
     "output_type": "stream",
     "text": [
      "\n",
      "Test Epoch: 7\tAccuracy: 1907/2337 (82%)\n",
      "\n"
     ]
    },
    {
     "name": "stderr",
     "output_type": "stream",
     "text": [
      "  4%|▎         | 7.062500000000067/200 [00:10<05:17,  1.65s/it] "
     ]
    },
    {
     "name": "stdout",
     "output_type": "stream",
     "text": [
      "Train Epoch: 8 [0/17825 (0%)]\tLoss: 0.439109\n"
     ]
    },
    {
     "name": "stderr",
     "output_type": "stream",
     "text": [
      "  4%|▎         | 7.32500000000007/200 [00:10<05:08,  1.60s/it] "
     ]
    },
    {
     "name": "stdout",
     "output_type": "stream",
     "text": [
      "Train Epoch: 8 [5120/17825 (29%)]\tLoss: 0.397738\n"
     ]
    },
    {
     "name": "stderr",
     "output_type": "stream",
     "text": [
      "  4%|▍         | 7.675000000000075/200 [00:11<04:07,  1.29s/it]"
     ]
    },
    {
     "name": "stdout",
     "output_type": "stream",
     "text": [
      "Train Epoch: 8 [10240/17825 (57%)]\tLoss: 0.594474\n"
     ]
    },
    {
     "name": "stderr",
     "output_type": "stream",
     "text": [
      "  4%|▍         | 7.850000000000078/200 [00:11<03:57,  1.24s/it]"
     ]
    },
    {
     "name": "stdout",
     "output_type": "stream",
     "text": [
      "Train Epoch: 8 [15360/17825 (86%)]\tLoss: 0.371654\n"
     ]
    },
    {
     "name": "stderr",
     "output_type": "stream",
     "text": [
      "  4%|▍         | 7.937500000000079/200 [00:11<04:46,  1.49s/it]"
     ]
    },
    {
     "name": "stdout",
     "output_type": "stream",
     "text": [
      "\n",
      "Test Epoch: 8\tAccuracy: 1898/2337 (81%)\n",
      "\n"
     ]
    },
    {
     "name": "stderr",
     "output_type": "stream",
     "text": [
      "  4%|▍         | 8.01250000000008/200 [00:11<05:33,  1.74s/it] "
     ]
    },
    {
     "name": "stdout",
     "output_type": "stream",
     "text": [
      "Train Epoch: 9 [0/17825 (0%)]\tLoss: 0.434333\n"
     ]
    },
    {
     "name": "stderr",
     "output_type": "stream",
     "text": [
      "  4%|▍         | 8.375000000000059/200 [00:12<04:50,  1.52s/it]"
     ]
    },
    {
     "name": "stdout",
     "output_type": "stream",
     "text": [
      "Train Epoch: 9 [5120/17825 (29%)]\tLoss: 0.438975\n"
     ]
    },
    {
     "name": "stderr",
     "output_type": "stream",
     "text": [
      "  4%|▍         | 8.637500000000044/200 [00:12<04:09,  1.30s/it]"
     ]
    },
    {
     "name": "stdout",
     "output_type": "stream",
     "text": [
      "Train Epoch: 9 [10240/17825 (57%)]\tLoss: 0.497182\n"
     ]
    },
    {
     "name": "stderr",
     "output_type": "stream",
     "text": [
      "  4%|▍         | 8.812500000000034/200 [00:12<03:57,  1.24s/it]"
     ]
    },
    {
     "name": "stdout",
     "output_type": "stream",
     "text": [
      "Train Epoch: 9 [15360/17825 (86%)]\tLoss: 0.410527\n"
     ]
    },
    {
     "name": "stderr",
     "output_type": "stream",
     "text": [
      "  4%|▍         | 8.900000000000029/200 [00:13<04:52,  1.53s/it]"
     ]
    },
    {
     "name": "stdout",
     "output_type": "stream",
     "text": [
      "\n",
      "Test Epoch: 9\tAccuracy: 1938/2337 (83%)\n",
      "\n"
     ]
    },
    {
     "name": "stderr",
     "output_type": "stream",
     "text": [
      "  5%|▍         | 9.012500000000022/200 [00:13<05:22,  1.69s/it]"
     ]
    },
    {
     "name": "stdout",
     "output_type": "stream",
     "text": [
      "Train Epoch: 10 [0/17825 (0%)]\tLoss: 0.355402\n"
     ]
    },
    {
     "name": "stderr",
     "output_type": "stream",
     "text": [
      "  5%|▍         | 9.375000000000002/200 [00:13<04:44,  1.49s/it]"
     ]
    },
    {
     "name": "stdout",
     "output_type": "stream",
     "text": [
      "Train Epoch: 10 [5120/17825 (29%)]\tLoss: 0.393572\n"
     ]
    },
    {
     "name": "stderr",
     "output_type": "stream",
     "text": [
      "  5%|▍         | 9.637499999999987/200 [00:14<04:04,  1.29s/it]"
     ]
    },
    {
     "name": "stdout",
     "output_type": "stream",
     "text": [
      "Train Epoch: 10 [10240/17825 (57%)]\tLoss: 0.442495\n"
     ]
    },
    {
     "name": "stderr",
     "output_type": "stream",
     "text": [
      "  5%|▍         | 9.812499999999977/200 [00:14<03:52,  1.22s/it]"
     ]
    },
    {
     "name": "stdout",
     "output_type": "stream",
     "text": [
      "Train Epoch: 10 [15360/17825 (86%)]\tLoss: 0.385852\n"
     ]
    },
    {
     "name": "stderr",
     "output_type": "stream",
     "text": [
      "  5%|▍         | 9.987499999999967/200 [00:14<04:28,  1.42s/it]"
     ]
    },
    {
     "name": "stdout",
     "output_type": "stream",
     "text": [
      "\n",
      "Test Epoch: 10\tAccuracy: 1916/2337 (82%)\n",
      "\n"
     ]
    },
    {
     "name": "stderr",
     "output_type": "stream",
     "text": [
      "  5%|▌         | 10.074999999999962/200 [00:14<05:04,  1.61s/it]"
     ]
    },
    {
     "name": "stdout",
     "output_type": "stream",
     "text": [
      "Train Epoch: 11 [0/17825 (0%)]\tLoss: 0.360585\n"
     ]
    },
    {
     "name": "stderr",
     "output_type": "stream",
     "text": [
      "  5%|▌         | 10.337499999999947/200 [00:15<04:51,  1.54s/it]"
     ]
    },
    {
     "name": "stdout",
     "output_type": "stream",
     "text": [
      "Train Epoch: 11 [5120/17825 (29%)]\tLoss: 0.315173\n"
     ]
    },
    {
     "name": "stderr",
     "output_type": "stream",
     "text": [
      "  5%|▌         | 10.599999999999932/200 [00:15<04:11,  1.33s/it]"
     ]
    },
    {
     "name": "stdout",
     "output_type": "stream",
     "text": [
      "Train Epoch: 11 [10240/17825 (57%)]\tLoss: 0.378037\n"
     ]
    },
    {
     "name": "stderr",
     "output_type": "stream",
     "text": [
      "  5%|▌         | 10.862499999999917/200 [00:15<03:54,  1.24s/it]"
     ]
    },
    {
     "name": "stdout",
     "output_type": "stream",
     "text": [
      "Train Epoch: 11 [15360/17825 (86%)]\tLoss: 0.409656\n"
     ]
    },
    {
     "name": "stderr",
     "output_type": "stream",
     "text": [
      "  5%|▌         | 10.949999999999912/200 [00:16<04:46,  1.51s/it]"
     ]
    },
    {
     "name": "stdout",
     "output_type": "stream",
     "text": [
      "\n",
      "Test Epoch: 11\tAccuracy: 1930/2337 (83%)\n",
      "\n"
     ]
    },
    {
     "name": "stderr",
     "output_type": "stream",
     "text": [
      "  6%|▌         | 11.024999999999908/200 [00:16<05:24,  1.72s/it]"
     ]
    },
    {
     "name": "stdout",
     "output_type": "stream",
     "text": [
      "Train Epoch: 12 [0/17825 (0%)]\tLoss: 0.324273\n"
     ]
    },
    {
     "name": "stderr",
     "output_type": "stream",
     "text": [
      "  6%|▌         | 11.362499999999889/200 [00:16<05:03,  1.61s/it]"
     ]
    },
    {
     "name": "stdout",
     "output_type": "stream",
     "text": [
      "Train Epoch: 12 [5120/17825 (29%)]\tLoss: 0.339313\n"
     ]
    },
    {
     "name": "stderr",
     "output_type": "stream",
     "text": [
      "  6%|▌         | 11.624999999999874/200 [00:17<04:13,  1.35s/it]"
     ]
    },
    {
     "name": "stdout",
     "output_type": "stream",
     "text": [
      "Train Epoch: 12 [10240/17825 (57%)]\tLoss: 0.396926\n"
     ]
    },
    {
     "name": "stderr",
     "output_type": "stream",
     "text": [
      "  6%|▌         | 11.799999999999864/200 [00:17<04:00,  1.28s/it]"
     ]
    },
    {
     "name": "stdout",
     "output_type": "stream",
     "text": [
      "Train Epoch: 12 [15360/17825 (86%)]\tLoss: 0.409464\n"
     ]
    },
    {
     "name": "stderr",
     "output_type": "stream",
     "text": [
      "  6%|▌         | 11.987499999999853/200 [00:17<04:26,  1.42s/it]"
     ]
    },
    {
     "name": "stdout",
     "output_type": "stream",
     "text": [
      "\n",
      "Test Epoch: 12\tAccuracy: 1910/2337 (82%)\n",
      "\n"
     ]
    },
    {
     "name": "stderr",
     "output_type": "stream",
     "text": [
      "  6%|▌         | 12.074999999999848/200 [00:17<05:09,  1.65s/it]"
     ]
    },
    {
     "name": "stdout",
     "output_type": "stream",
     "text": [
      "Train Epoch: 13 [0/17825 (0%)]\tLoss: 0.402378\n"
     ]
    },
    {
     "name": "stderr",
     "output_type": "stream",
     "text": [
      "  6%|▌         | 12.324999999999834/200 [00:18<05:01,  1.61s/it]"
     ]
    },
    {
     "name": "stdout",
     "output_type": "stream",
     "text": [
      "Train Epoch: 13 [5120/17825 (29%)]\tLoss: 0.378877\n"
     ]
    },
    {
     "name": "stderr",
     "output_type": "stream",
     "text": [
      "  6%|▋         | 12.674999999999814/200 [00:18<04:09,  1.33s/it]"
     ]
    },
    {
     "name": "stdout",
     "output_type": "stream",
     "text": [
      "Train Epoch: 13 [10240/17825 (57%)]\tLoss: 0.418259\n"
     ]
    },
    {
     "name": "stderr",
     "output_type": "stream",
     "text": [
      "  6%|▋         | 12.849999999999804/200 [00:18<03:59,  1.28s/it]"
     ]
    },
    {
     "name": "stdout",
     "output_type": "stream",
     "text": [
      "Train Epoch: 13 [15360/17825 (86%)]\tLoss: 0.249638\n"
     ]
    },
    {
     "name": "stderr",
     "output_type": "stream",
     "text": [
      "  6%|▋         | 12.9374999999998/200 [00:18<04:49,  1.55s/it]  "
     ]
    },
    {
     "name": "stdout",
     "output_type": "stream",
     "text": [
      "\n",
      "Test Epoch: 13\tAccuracy: 1915/2337 (82%)\n",
      "\n"
     ]
    },
    {
     "name": "stderr",
     "output_type": "stream",
     "text": [
      "  7%|▋         | 13.012499999999795/200 [00:19<05:30,  1.77s/it]"
     ]
    },
    {
     "name": "stdout",
     "output_type": "stream",
     "text": [
      "Train Epoch: 14 [0/17825 (0%)]\tLoss: 0.401296\n"
     ]
    },
    {
     "name": "stderr",
     "output_type": "stream",
     "text": [
      "  7%|▋         | 13.374999999999774/200 [00:19<04:45,  1.53s/it]"
     ]
    },
    {
     "name": "stdout",
     "output_type": "stream",
     "text": [
      "Train Epoch: 14 [5120/17825 (29%)]\tLoss: 0.352539\n"
     ]
    },
    {
     "name": "stderr",
     "output_type": "stream",
     "text": [
      "  7%|▋         | 13.63749999999976/200 [00:19<04:06,  1.32s/it] "
     ]
    },
    {
     "name": "stdout",
     "output_type": "stream",
     "text": [
      "Train Epoch: 14 [10240/17825 (57%)]\tLoss: 0.336757\n"
     ]
    },
    {
     "name": "stderr",
     "output_type": "stream",
     "text": [
      "  7%|▋         | 13.81249999999975/200 [00:20<03:56,  1.27s/it] "
     ]
    },
    {
     "name": "stdout",
     "output_type": "stream",
     "text": [
      "Train Epoch: 14 [15360/17825 (86%)]\tLoss: 0.339071\n"
     ]
    },
    {
     "name": "stderr",
     "output_type": "stream",
     "text": [
      "  7%|▋         | 13.98749999999974/200 [00:20<04:26,  1.43s/it] "
     ]
    },
    {
     "name": "stdout",
     "output_type": "stream",
     "text": [
      "\n",
      "Test Epoch: 14\tAccuracy: 1900/2337 (81%)\n",
      "\n"
     ]
    },
    {
     "name": "stderr",
     "output_type": "stream",
     "text": [
      "  7%|▋         | 14.062499999999735/200 [00:20<05:07,  1.65s/it]"
     ]
    },
    {
     "name": "stdout",
     "output_type": "stream",
     "text": [
      "Train Epoch: 15 [0/17825 (0%)]\tLoss: 0.320449\n"
     ]
    },
    {
     "name": "stderr",
     "output_type": "stream",
     "text": [
      "  7%|▋         | 14.312499999999721/200 [00:21<04:58,  1.61s/it]"
     ]
    },
    {
     "name": "stdout",
     "output_type": "stream",
     "text": [
      "Train Epoch: 15 [5120/17825 (29%)]\tLoss: 0.325138\n"
     ]
    },
    {
     "name": "stderr",
     "output_type": "stream",
     "text": [
      "  7%|▋         | 14.662499999999701/200 [00:21<04:01,  1.30s/it]"
     ]
    },
    {
     "name": "stdout",
     "output_type": "stream",
     "text": [
      "Train Epoch: 15 [10240/17825 (57%)]\tLoss: 0.385958\n"
     ]
    },
    {
     "name": "stderr",
     "output_type": "stream",
     "text": [
      "  7%|▋         | 14.837499999999691/200 [00:21<03:56,  1.28s/it]"
     ]
    },
    {
     "name": "stdout",
     "output_type": "stream",
     "text": [
      "Train Epoch: 15 [15360/17825 (86%)]\tLoss: 0.325045\n"
     ]
    },
    {
     "name": "stderr",
     "output_type": "stream",
     "text": [
      "  7%|▋         | 14.924999999999686/200 [00:21<04:46,  1.55s/it]"
     ]
    },
    {
     "name": "stdout",
     "output_type": "stream",
     "text": [
      "\n",
      "Test Epoch: 15\tAccuracy: 1961/2337 (84%)\n",
      "\n"
     ]
    },
    {
     "name": "stderr",
     "output_type": "stream",
     "text": [
      "  8%|▊         | 15.012499999999681/200 [00:22<05:26,  1.76s/it]"
     ]
    },
    {
     "name": "stdout",
     "output_type": "stream",
     "text": [
      "Train Epoch: 16 [0/17825 (0%)]\tLoss: 0.330872\n"
     ]
    },
    {
     "name": "stderr",
     "output_type": "stream",
     "text": [
      "  8%|▊         | 15.37499999999966/200 [00:22<04:41,  1.53s/it] "
     ]
    },
    {
     "name": "stdout",
     "output_type": "stream",
     "text": [
      "Train Epoch: 16 [5120/17825 (29%)]\tLoss: 0.315903\n"
     ]
    },
    {
     "name": "stderr",
     "output_type": "stream",
     "text": [
      "  8%|▊         | 15.637499999999646/200 [00:22<04:01,  1.31s/it]"
     ]
    },
    {
     "name": "stdout",
     "output_type": "stream",
     "text": [
      "Train Epoch: 16 [10240/17825 (57%)]\tLoss: 0.325299\n"
     ]
    },
    {
     "name": "stderr",
     "output_type": "stream",
     "text": [
      "  8%|▊         | 15.812499999999636/200 [00:23<03:51,  1.26s/it]"
     ]
    },
    {
     "name": "stdout",
     "output_type": "stream",
     "text": [
      "Train Epoch: 16 [15360/17825 (86%)]\tLoss: 0.339793\n"
     ]
    },
    {
     "name": "stderr",
     "output_type": "stream",
     "text": [
      "  8%|▊         | 15.987499999999626/200 [00:23<04:27,  1.45s/it]"
     ]
    },
    {
     "name": "stdout",
     "output_type": "stream",
     "text": [
      "\n",
      "Test Epoch: 16\tAccuracy: 1882/2337 (81%)\n",
      "\n"
     ]
    },
    {
     "name": "stderr",
     "output_type": "stream",
     "text": [
      "  8%|▊         | 16.062499999999623/200 [00:23<05:07,  1.67s/it]"
     ]
    },
    {
     "name": "stdout",
     "output_type": "stream",
     "text": [
      "Train Epoch: 17 [0/17825 (0%)]\tLoss: 0.362396\n"
     ]
    },
    {
     "name": "stderr",
     "output_type": "stream",
     "text": [
      "  8%|▊         | 16.31249999999961/200 [00:23<04:58,  1.62s/it] "
     ]
    },
    {
     "name": "stdout",
     "output_type": "stream",
     "text": [
      "Train Epoch: 17 [5120/17825 (29%)]\tLoss: 0.308960\n"
     ]
    },
    {
     "name": "stderr",
     "output_type": "stream",
     "text": [
      "  8%|▊         | 16.66249999999959/200 [00:24<04:02,  1.32s/it] "
     ]
    },
    {
     "name": "stdout",
     "output_type": "stream",
     "text": [
      "Train Epoch: 17 [10240/17825 (57%)]\tLoss: 0.388124\n"
     ]
    },
    {
     "name": "stderr",
     "output_type": "stream",
     "text": [
      "  8%|▊         | 16.83749999999958/200 [00:24<03:54,  1.28s/it] "
     ]
    },
    {
     "name": "stdout",
     "output_type": "stream",
     "text": [
      "Train Epoch: 17 [15360/17825 (86%)]\tLoss: 0.376103\n"
     ]
    },
    {
     "name": "stderr",
     "output_type": "stream",
     "text": [
      "  8%|▊         | 16.924999999999574/200 [00:24<04:44,  1.56s/it]"
     ]
    },
    {
     "name": "stdout",
     "output_type": "stream",
     "text": [
      "\n",
      "Test Epoch: 17\tAccuracy: 1909/2337 (82%)\n",
      "\n"
     ]
    },
    {
     "name": "stderr",
     "output_type": "stream",
     "text": [
      "  9%|▊         | 17.01249999999957/200 [00:24<05:20,  1.75s/it] "
     ]
    },
    {
     "name": "stdout",
     "output_type": "stream",
     "text": [
      "Train Epoch: 18 [0/17825 (0%)]\tLoss: 0.230606\n"
     ]
    },
    {
     "name": "stderr",
     "output_type": "stream",
     "text": [
      "  9%|▊         | 17.37499999999955/200 [00:25<04:45,  1.57s/it] "
     ]
    },
    {
     "name": "stdout",
     "output_type": "stream",
     "text": [
      "Train Epoch: 18 [5120/17825 (29%)]\tLoss: 0.274604\n"
     ]
    },
    {
     "name": "stderr",
     "output_type": "stream",
     "text": [
      "  9%|▉         | 17.637499999999534/200 [00:25<04:06,  1.35s/it]"
     ]
    },
    {
     "name": "stdout",
     "output_type": "stream",
     "text": [
      "Train Epoch: 18 [10240/17825 (57%)]\tLoss: 0.273566\n"
     ]
    },
    {
     "name": "stderr",
     "output_type": "stream",
     "text": [
      "  9%|▉         | 17.812499999999524/200 [00:25<03:55,  1.29s/it]"
     ]
    },
    {
     "name": "stdout",
     "output_type": "stream",
     "text": [
      "Train Epoch: 18 [15360/17825 (86%)]\tLoss: 0.284770\n"
     ]
    },
    {
     "name": "stderr",
     "output_type": "stream",
     "text": [
      "  9%|▉         | 17.987499999999514/200 [00:26<04:24,  1.46s/it]"
     ]
    },
    {
     "name": "stdout",
     "output_type": "stream",
     "text": [
      "\n",
      "Test Epoch: 18\tAccuracy: 1867/2337 (80%)\n",
      "\n"
     ]
    },
    {
     "name": "stderr",
     "output_type": "stream",
     "text": [
      "  9%|▉         | 18.06249999999951/200 [00:26<05:03,  1.67s/it] "
     ]
    },
    {
     "name": "stdout",
     "output_type": "stream",
     "text": [
      "Train Epoch: 19 [0/17825 (0%)]\tLoss: 0.338487\n"
     ]
    },
    {
     "name": "stderr",
     "output_type": "stream",
     "text": [
      "  9%|▉         | 18.312499999999496/200 [00:26<04:56,  1.63s/it]"
     ]
    },
    {
     "name": "stdout",
     "output_type": "stream",
     "text": [
      "Train Epoch: 19 [5120/17825 (29%)]\tLoss: 0.327240\n"
     ]
    },
    {
     "name": "stderr",
     "output_type": "stream",
     "text": [
      "  9%|▉         | 18.662499999999476/200 [00:27<03:57,  1.31s/it]"
     ]
    },
    {
     "name": "stdout",
     "output_type": "stream",
     "text": [
      "Train Epoch: 19 [10240/17825 (57%)]\tLoss: 0.339404\n"
     ]
    },
    {
     "name": "stderr",
     "output_type": "stream",
     "text": [
      "  9%|▉         | 18.837499999999466/200 [00:27<03:49,  1.27s/it]"
     ]
    },
    {
     "name": "stdout",
     "output_type": "stream",
     "text": [
      "Train Epoch: 19 [15360/17825 (86%)]\tLoss: 0.230226\n"
     ]
    },
    {
     "name": "stderr",
     "output_type": "stream",
     "text": [
      "  9%|▉         | 18.92499999999946/200 [00:27<04:41,  1.55s/it] "
     ]
    },
    {
     "name": "stdout",
     "output_type": "stream",
     "text": [
      "\n",
      "Test Epoch: 19\tAccuracy: 1926/2337 (82%)\n",
      "\n"
     ]
    },
    {
     "name": "stderr",
     "output_type": "stream",
     "text": [
      " 10%|▉         | 19.012499999999456/200 [00:27<05:16,  1.75s/it]"
     ]
    },
    {
     "name": "stdout",
     "output_type": "stream",
     "text": [
      "Train Epoch: 20 [0/17825 (0%)]\tLoss: 0.344343\n"
     ]
    },
    {
     "name": "stderr",
     "output_type": "stream",
     "text": [
      " 10%|▉         | 19.28749999999944/200 [00:28<04:11,  1.39s/it] "
     ]
    },
    {
     "name": "stdout",
     "output_type": "stream",
     "text": [
      "Train Epoch: 20 [5120/17825 (29%)]\tLoss: 0.321098\n"
     ]
    },
    {
     "name": "stderr",
     "output_type": "stream",
     "text": [
      " 10%|▉         | 19.63749999999942/200 [00:28<04:02,  1.35s/it] "
     ]
    },
    {
     "name": "stdout",
     "output_type": "stream",
     "text": [
      "Train Epoch: 20 [10240/17825 (57%)]\tLoss: 0.326013\n"
     ]
    },
    {
     "name": "stderr",
     "output_type": "stream",
     "text": [
      " 10%|▉         | 19.81249999999941/200 [00:28<03:52,  1.29s/it] "
     ]
    },
    {
     "name": "stdout",
     "output_type": "stream",
     "text": [
      "Train Epoch: 20 [15360/17825 (86%)]\tLoss: 0.263498\n"
     ]
    },
    {
     "name": "stderr",
     "output_type": "stream",
     "text": [
      " 10%|▉         | 19.9874999999994/200 [00:29<04:21,  1.45s/it]  "
     ]
    },
    {
     "name": "stdout",
     "output_type": "stream",
     "text": [
      "\n",
      "Test Epoch: 20\tAccuracy: 1928/2337 (82%)\n",
      "\n"
     ]
    },
    {
     "name": "stderr",
     "output_type": "stream",
     "text": [
      " 10%|█         | 20.062499999999396/200 [00:29<04:59,  1.66s/it]"
     ]
    },
    {
     "name": "stdout",
     "output_type": "stream",
     "text": [
      "Train Epoch: 21 [0/17825 (0%)]\tLoss: 0.231698\n"
     ]
    },
    {
     "name": "stderr",
     "output_type": "stream",
     "text": [
      " 10%|█         | 20.312499999999382/200 [00:29<04:53,  1.63s/it]"
     ]
    },
    {
     "name": "stdout",
     "output_type": "stream",
     "text": [
      "Train Epoch: 21 [5120/17825 (29%)]\tLoss: 0.260837\n"
     ]
    },
    {
     "name": "stderr",
     "output_type": "stream",
     "text": [
      " 10%|█         | 20.662499999999362/200 [00:30<03:55,  1.31s/it]"
     ]
    },
    {
     "name": "stdout",
     "output_type": "stream",
     "text": [
      "Train Epoch: 21 [10240/17825 (57%)]\tLoss: 0.195411\n"
     ]
    },
    {
     "name": "stderr",
     "output_type": "stream",
     "text": [
      " 10%|█         | 20.837499999999352/200 [00:30<03:46,  1.27s/it]"
     ]
    },
    {
     "name": "stdout",
     "output_type": "stream",
     "text": [
      "Train Epoch: 21 [15360/17825 (86%)]\tLoss: 0.235848\n"
     ]
    },
    {
     "name": "stderr",
     "output_type": "stream",
     "text": [
      " 10%|█         | 20.924999999999347/200 [00:30<04:34,  1.53s/it]"
     ]
    },
    {
     "name": "stdout",
     "output_type": "stream",
     "text": [
      "\n",
      "Test Epoch: 21\tAccuracy: 1975/2337 (85%)\n",
      "\n"
     ]
    },
    {
     "name": "stderr",
     "output_type": "stream",
     "text": [
      " 11%|█         | 21.012499999999342/200 [00:30<05:14,  1.76s/it]"
     ]
    },
    {
     "name": "stdout",
     "output_type": "stream",
     "text": [
      "Train Epoch: 22 [0/17825 (0%)]\tLoss: 0.203589\n"
     ]
    },
    {
     "name": "stderr",
     "output_type": "stream",
     "text": [
      " 11%|█         | 21.37499999999932/200 [00:31<04:33,  1.53s/it] "
     ]
    },
    {
     "name": "stdout",
     "output_type": "stream",
     "text": [
      "Train Epoch: 22 [5120/17825 (29%)]\tLoss: 0.211807\n"
     ]
    },
    {
     "name": "stderr",
     "output_type": "stream",
     "text": [
      " 11%|█         | 21.637499999999307/200 [00:31<03:56,  1.33s/it]"
     ]
    },
    {
     "name": "stdout",
     "output_type": "stream",
     "text": [
      "Train Epoch: 22 [10240/17825 (57%)]\tLoss: 0.206539\n"
     ]
    },
    {
     "name": "stderr",
     "output_type": "stream",
     "text": [
      " 11%|█         | 21.812499999999297/200 [00:31<03:46,  1.27s/it]"
     ]
    },
    {
     "name": "stdout",
     "output_type": "stream",
     "text": [
      "Train Epoch: 22 [15360/17825 (86%)]\tLoss: 0.194942\n"
     ]
    },
    {
     "name": "stderr",
     "output_type": "stream",
     "text": [
      " 11%|█         | 21.89999999999929/200 [00:31<04:36,  1.55s/it] "
     ]
    },
    {
     "name": "stdout",
     "output_type": "stream",
     "text": [
      "\n",
      "Test Epoch: 22\tAccuracy: 1984/2337 (85%)\n",
      "\n"
     ]
    },
    {
     "name": "stderr",
     "output_type": "stream",
     "text": [
      " 11%|█         | 22.012499999999285/200 [00:32<05:01,  1.69s/it]"
     ]
    },
    {
     "name": "stdout",
     "output_type": "stream",
     "text": [
      "Train Epoch: 23 [0/17825 (0%)]\tLoss: 0.203105\n"
     ]
    },
    {
     "name": "stderr",
     "output_type": "stream",
     "text": [
      " 11%|█         | 22.374999999999265/200 [00:32<04:29,  1.52s/it]"
     ]
    },
    {
     "name": "stdout",
     "output_type": "stream",
     "text": [
      "Train Epoch: 23 [5120/17825 (29%)]\tLoss: 0.206501\n"
     ]
    },
    {
     "name": "stderr",
     "output_type": "stream",
     "text": [
      " 11%|█▏        | 22.63749999999925/200 [00:32<03:52,  1.31s/it] "
     ]
    },
    {
     "name": "stdout",
     "output_type": "stream",
     "text": [
      "Train Epoch: 23 [10240/17825 (57%)]\tLoss: 0.245106\n"
     ]
    },
    {
     "name": "stderr",
     "output_type": "stream",
     "text": [
      " 11%|█▏        | 22.81249999999924/200 [00:33<03:42,  1.26s/it] "
     ]
    },
    {
     "name": "stdout",
     "output_type": "stream",
     "text": [
      "Train Epoch: 23 [15360/17825 (86%)]\tLoss: 0.199178\n"
     ]
    },
    {
     "name": "stderr",
     "output_type": "stream",
     "text": [
      " 11%|█▏        | 22.98749999999923/200 [00:33<04:12,  1.42s/it] "
     ]
    },
    {
     "name": "stdout",
     "output_type": "stream",
     "text": [
      "\n",
      "Test Epoch: 23\tAccuracy: 1978/2337 (85%)\n",
      "\n"
     ]
    },
    {
     "name": "stderr",
     "output_type": "stream",
     "text": [
      " 12%|█▏        | 23.074999999999225/200 [00:33<04:52,  1.65s/it]"
     ]
    },
    {
     "name": "stdout",
     "output_type": "stream",
     "text": [
      "Train Epoch: 24 [0/17825 (0%)]\tLoss: 0.181953\n"
     ]
    },
    {
     "name": "stderr",
     "output_type": "stream",
     "text": [
      " 12%|█▏        | 23.32499999999921/200 [00:34<04:49,  1.64s/it] "
     ]
    },
    {
     "name": "stdout",
     "output_type": "stream",
     "text": [
      "Train Epoch: 24 [5120/17825 (29%)]\tLoss: 0.170252\n"
     ]
    },
    {
     "name": "stderr",
     "output_type": "stream",
     "text": [
      " 12%|█▏        | 23.67499999999919/200 [00:34<03:53,  1.33s/it] "
     ]
    },
    {
     "name": "stdout",
     "output_type": "stream",
     "text": [
      "Train Epoch: 24 [10240/17825 (57%)]\tLoss: 0.184355\n"
     ]
    },
    {
     "name": "stderr",
     "output_type": "stream",
     "text": [
      " 12%|█▏        | 23.84999999999918/200 [00:34<03:44,  1.28s/it] "
     ]
    },
    {
     "name": "stdout",
     "output_type": "stream",
     "text": [
      "Train Epoch: 24 [15360/17825 (86%)]\tLoss: 0.215573\n"
     ]
    },
    {
     "name": "stderr",
     "output_type": "stream",
     "text": [
      " 12%|█▏        | 23.937499999999176/200 [00:34<04:32,  1.55s/it]"
     ]
    },
    {
     "name": "stdout",
     "output_type": "stream",
     "text": [
      "\n",
      "Test Epoch: 24\tAccuracy: 1975/2337 (85%)\n",
      "\n"
     ]
    },
    {
     "name": "stderr",
     "output_type": "stream",
     "text": [
      " 12%|█▏        | 24.01249999999917/200 [00:35<05:13,  1.78s/it] "
     ]
    },
    {
     "name": "stdout",
     "output_type": "stream",
     "text": [
      "Train Epoch: 25 [0/17825 (0%)]\tLoss: 0.191264\n"
     ]
    },
    {
     "name": "stderr",
     "output_type": "stream",
     "text": [
      " 12%|█▏        | 24.37499999999915/200 [00:35<04:33,  1.55s/it] "
     ]
    },
    {
     "name": "stdout",
     "output_type": "stream",
     "text": [
      "Train Epoch: 25 [5120/17825 (29%)]\tLoss: 0.183986\n"
     ]
    },
    {
     "name": "stderr",
     "output_type": "stream",
     "text": [
      " 12%|█▏        | 24.637499999999136/200 [00:35<03:54,  1.34s/it]"
     ]
    },
    {
     "name": "stdout",
     "output_type": "stream",
     "text": [
      "Train Epoch: 25 [10240/17825 (57%)]\tLoss: 0.206127\n"
     ]
    },
    {
     "name": "stderr",
     "output_type": "stream",
     "text": [
      " 12%|█▏        | 24.812499999999126/200 [00:36<03:45,  1.29s/it]"
     ]
    },
    {
     "name": "stdout",
     "output_type": "stream",
     "text": [
      "Train Epoch: 25 [15360/17825 (86%)]\tLoss: 0.222353\n"
     ]
    },
    {
     "name": "stderr",
     "output_type": "stream",
     "text": [
      " 12%|█▏        | 24.987499999999116/200 [00:36<04:15,  1.46s/it]"
     ]
    },
    {
     "name": "stdout",
     "output_type": "stream",
     "text": [
      "\n",
      "Test Epoch: 25\tAccuracy: 1980/2337 (85%)\n",
      "\n"
     ]
    },
    {
     "name": "stderr",
     "output_type": "stream",
     "text": [
      " 13%|█▎        | 25.062499999999112/200 [00:36<04:51,  1.67s/it]"
     ]
    },
    {
     "name": "stdout",
     "output_type": "stream",
     "text": [
      "Train Epoch: 26 [0/17825 (0%)]\tLoss: 0.223558\n"
     ]
    },
    {
     "name": "stderr",
     "output_type": "stream",
     "text": [
      " 13%|█▎        | 25.2999999999991/200 [00:36<04:12,  1.45s/it]  "
     ]
    },
    {
     "name": "stdout",
     "output_type": "stream",
     "text": [
      "Train Epoch: 26 [5120/17825 (29%)]\tLoss: 0.148450\n"
     ]
    },
    {
     "name": "stderr",
     "output_type": "stream",
     "text": [
      " 13%|█▎        | 25.63749999999908/200 [00:37<04:03,  1.40s/it] "
     ]
    },
    {
     "name": "stdout",
     "output_type": "stream",
     "text": [
      "Train Epoch: 26 [10240/17825 (57%)]\tLoss: 0.214956\n"
     ]
    },
    {
     "name": "stderr",
     "output_type": "stream",
     "text": [
      " 13%|█▎        | 25.81249999999907/200 [00:37<03:48,  1.31s/it] "
     ]
    },
    {
     "name": "stdout",
     "output_type": "stream",
     "text": [
      "Train Epoch: 26 [15360/17825 (86%)]\tLoss: 0.244167\n"
     ]
    },
    {
     "name": "stderr",
     "output_type": "stream",
     "text": [
      " 13%|█▎        | 25.98749999999906/200 [00:37<04:13,  1.46s/it] "
     ]
    },
    {
     "name": "stdout",
     "output_type": "stream",
     "text": [
      "\n",
      "Test Epoch: 26\tAccuracy: 1977/2337 (85%)\n",
      "\n"
     ]
    },
    {
     "name": "stderr",
     "output_type": "stream",
     "text": [
      " 13%|█▎        | 26.062499999999055/200 [00:38<04:49,  1.66s/it]"
     ]
    },
    {
     "name": "stdout",
     "output_type": "stream",
     "text": [
      "Train Epoch: 27 [0/17825 (0%)]\tLoss: 0.251752\n"
     ]
    },
    {
     "name": "stderr",
     "output_type": "stream",
     "text": [
      " 13%|█▎        | 26.31249999999904/200 [00:38<04:38,  1.60s/it] "
     ]
    },
    {
     "name": "stdout",
     "output_type": "stream",
     "text": [
      "Train Epoch: 27 [5120/17825 (29%)]\tLoss: 0.130685\n"
     ]
    },
    {
     "name": "stderr",
     "output_type": "stream",
     "text": [
      " 13%|█▎        | 26.66249999999902/200 [00:38<03:39,  1.27s/it] "
     ]
    },
    {
     "name": "stdout",
     "output_type": "stream",
     "text": [
      "Train Epoch: 27 [10240/17825 (57%)]\tLoss: 0.205016\n"
     ]
    },
    {
     "name": "stderr",
     "output_type": "stream",
     "text": [
      " 13%|█▎        | 26.83749999999901/200 [00:39<03:30,  1.22s/it] "
     ]
    },
    {
     "name": "stdout",
     "output_type": "stream",
     "text": [
      "Train Epoch: 27 [15360/17825 (86%)]\tLoss: 0.193575\n"
     ]
    },
    {
     "name": "stderr",
     "output_type": "stream",
     "text": [
      " 13%|█▎        | 26.924999999999006/200 [00:39<04:18,  1.49s/it]"
     ]
    },
    {
     "name": "stdout",
     "output_type": "stream",
     "text": [
      "\n",
      "Test Epoch: 27\tAccuracy: 1979/2337 (85%)\n",
      "\n"
     ]
    },
    {
     "name": "stderr",
     "output_type": "stream",
     "text": [
      " 14%|█▎        | 27.012499999999/200 [00:39<04:56,  1.72s/it]   "
     ]
    },
    {
     "name": "stdout",
     "output_type": "stream",
     "text": [
      "Train Epoch: 28 [0/17825 (0%)]\tLoss: 0.205561\n"
     ]
    },
    {
     "name": "stderr",
     "output_type": "stream",
     "text": [
      " 14%|█▎        | 27.36249999999898/200 [00:39<04:34,  1.59s/it] "
     ]
    },
    {
     "name": "stdout",
     "output_type": "stream",
     "text": [
      "Train Epoch: 28 [5120/17825 (29%)]\tLoss: 0.215330\n"
     ]
    },
    {
     "name": "stderr",
     "output_type": "stream",
     "text": [
      " 14%|█▍        | 27.624999999998966/200 [00:40<03:49,  1.33s/it]"
     ]
    },
    {
     "name": "stdout",
     "output_type": "stream",
     "text": [
      "Train Epoch: 28 [10240/17825 (57%)]\tLoss: 0.144278\n"
     ]
    },
    {
     "name": "stderr",
     "output_type": "stream",
     "text": [
      " 14%|█▍        | 27.799999999998956/200 [00:40<03:39,  1.28s/it]"
     ]
    },
    {
     "name": "stdout",
     "output_type": "stream",
     "text": [
      "Train Epoch: 28 [15360/17825 (86%)]\tLoss: 0.202607\n"
     ]
    },
    {
     "name": "stderr",
     "output_type": "stream",
     "text": [
      " 14%|█▍        | 27.987499999998946/200 [00:40<04:00,  1.40s/it]"
     ]
    },
    {
     "name": "stdout",
     "output_type": "stream",
     "text": [
      "\n",
      "Test Epoch: 28\tAccuracy: 1981/2337 (85%)\n",
      "\n"
     ]
    },
    {
     "name": "stderr",
     "output_type": "stream",
     "text": [
      " 14%|█▍        | 28.07499999999894/200 [00:40<04:34,  1.59s/it] "
     ]
    },
    {
     "name": "stdout",
     "output_type": "stream",
     "text": [
      "Train Epoch: 29 [0/17825 (0%)]\tLoss: 0.209270\n"
     ]
    },
    {
     "name": "stderr",
     "output_type": "stream",
     "text": [
      " 14%|█▍        | 28.337499999998926/200 [00:41<04:23,  1.54s/it]"
     ]
    },
    {
     "name": "stdout",
     "output_type": "stream",
     "text": [
      "Train Epoch: 29 [5120/17825 (29%)]\tLoss: 0.138263\n"
     ]
    },
    {
     "name": "stderr",
     "output_type": "stream",
     "text": [
      " 14%|█▍        | 28.59999999999891/200 [00:41<03:44,  1.31s/it] "
     ]
    },
    {
     "name": "stdout",
     "output_type": "stream",
     "text": [
      "Train Epoch: 29 [10240/17825 (57%)]\tLoss: 0.221516\n"
     ]
    },
    {
     "name": "stderr",
     "output_type": "stream",
     "text": [
      " 14%|█▍        | 28.862499999998896/200 [00:41<03:32,  1.24s/it]"
     ]
    },
    {
     "name": "stdout",
     "output_type": "stream",
     "text": [
      "Train Epoch: 29 [15360/17825 (86%)]\tLoss: 0.163338\n"
     ]
    },
    {
     "name": "stderr",
     "output_type": "stream",
     "text": [
      " 14%|█▍        | 28.94999999999889/200 [00:42<04:19,  1.52s/it] "
     ]
    },
    {
     "name": "stdout",
     "output_type": "stream",
     "text": [
      "\n",
      "Test Epoch: 29\tAccuracy: 1976/2337 (85%)\n",
      "\n"
     ]
    },
    {
     "name": "stderr",
     "output_type": "stream",
     "text": [
      " 15%|█▍        | 29.024999999998887/200 [00:42<04:54,  1.72s/it]"
     ]
    },
    {
     "name": "stdout",
     "output_type": "stream",
     "text": [
      "Train Epoch: 30 [0/17825 (0%)]\tLoss: 0.177988\n"
     ]
    },
    {
     "name": "stderr",
     "output_type": "stream",
     "text": [
      " 15%|█▍        | 29.29999999999887/200 [00:42<03:52,  1.36s/it] "
     ]
    },
    {
     "name": "stdout",
     "output_type": "stream",
     "text": [
      "Train Epoch: 30 [5120/17825 (29%)]\tLoss: 0.170891\n"
     ]
    },
    {
     "name": "stderr",
     "output_type": "stream",
     "text": [
      " 15%|█▍        | 29.64999999999885/200 [00:43<03:46,  1.33s/it] "
     ]
    },
    {
     "name": "stdout",
     "output_type": "stream",
     "text": [
      "Train Epoch: 30 [10240/17825 (57%)]\tLoss: 0.142665\n"
     ]
    },
    {
     "name": "stderr",
     "output_type": "stream",
     "text": [
      " 15%|█▍        | 29.82499999999884/200 [00:43<03:36,  1.27s/it] "
     ]
    },
    {
     "name": "stdout",
     "output_type": "stream",
     "text": [
      "Train Epoch: 30 [15360/17825 (86%)]\tLoss: 0.166598\n"
     ]
    },
    {
     "name": "stderr",
     "output_type": "stream",
     "text": [
      " 15%|█▍        | 29.912499999998836/200 [00:43<04:17,  1.52s/it]"
     ]
    },
    {
     "name": "stdout",
     "output_type": "stream",
     "text": [
      "\n",
      "Test Epoch: 30\tAccuracy: 1981/2337 (85%)\n",
      "\n"
     ]
    },
    {
     "name": "stderr",
     "output_type": "stream",
     "text": [
      " 15%|█▌        | 30.01249999999883/200 [00:43<04:56,  1.74s/it] "
     ]
    },
    {
     "name": "stdout",
     "output_type": "stream",
     "text": [
      "Train Epoch: 31 [0/17825 (0%)]\tLoss: 0.180582\n"
     ]
    },
    {
     "name": "stderr",
     "output_type": "stream",
     "text": [
      " 15%|█▌        | 30.287499999998815/200 [00:44<03:53,  1.37s/it]"
     ]
    },
    {
     "name": "stdout",
     "output_type": "stream",
     "text": [
      "Train Epoch: 31 [5120/17825 (29%)]\tLoss: 0.205151\n"
     ]
    },
    {
     "name": "stderr",
     "output_type": "stream",
     "text": [
      " 15%|█▌        | 30.637499999998795/200 [00:44<03:47,  1.34s/it]"
     ]
    },
    {
     "name": "stdout",
     "output_type": "stream",
     "text": [
      "Train Epoch: 31 [10240/17825 (57%)]\tLoss: 0.206324\n"
     ]
    },
    {
     "name": "stderr",
     "output_type": "stream",
     "text": [
      " 15%|█▌        | 30.812499999998785/200 [00:44<03:39,  1.30s/it]"
     ]
    },
    {
     "name": "stdout",
     "output_type": "stream",
     "text": [
      "Train Epoch: 31 [15360/17825 (86%)]\tLoss: 0.188793\n"
     ]
    },
    {
     "name": "stderr",
     "output_type": "stream",
     "text": [
      " 15%|█▌        | 30.89999999999878/200 [00:44<04:25,  1.57s/it] "
     ]
    },
    {
     "name": "stdout",
     "output_type": "stream",
     "text": [
      "\n",
      "Test Epoch: 31\tAccuracy: 1978/2337 (85%)\n",
      "\n"
     ]
    },
    {
     "name": "stderr",
     "output_type": "stream",
     "text": [
      " 16%|█▌        | 31.012499999998774/200 [00:45<04:48,  1.71s/it]"
     ]
    },
    {
     "name": "stdout",
     "output_type": "stream",
     "text": [
      "Train Epoch: 32 [0/17825 (0%)]\tLoss: 0.145733\n"
     ]
    },
    {
     "name": "stderr",
     "output_type": "stream",
     "text": [
      " 16%|█▌        | 31.374999999998753/200 [00:45<04:15,  1.51s/it]"
     ]
    },
    {
     "name": "stdout",
     "output_type": "stream",
     "text": [
      "Train Epoch: 32 [5120/17825 (29%)]\tLoss: 0.172384\n"
     ]
    },
    {
     "name": "stderr",
     "output_type": "stream",
     "text": [
      " 16%|█▌        | 31.637499999998738/200 [00:45<03:40,  1.31s/it]"
     ]
    },
    {
     "name": "stdout",
     "output_type": "stream",
     "text": [
      "Train Epoch: 32 [10240/17825 (57%)]\tLoss: 0.197333\n"
     ]
    },
    {
     "name": "stderr",
     "output_type": "stream",
     "text": [
      " 16%|█▌        | 31.812499999998728/200 [00:46<03:32,  1.26s/it]"
     ]
    },
    {
     "name": "stdout",
     "output_type": "stream",
     "text": [
      "Train Epoch: 32 [15360/17825 (86%)]\tLoss: 0.152400\n"
     ]
    },
    {
     "name": "stderr",
     "output_type": "stream",
     "text": [
      " 16%|█▌        | 31.899999999998723/200 [00:46<04:20,  1.55s/it]"
     ]
    },
    {
     "name": "stdout",
     "output_type": "stream",
     "text": [
      "\n",
      "Test Epoch: 32\tAccuracy: 1974/2337 (84%)\n",
      "\n"
     ]
    },
    {
     "name": "stderr",
     "output_type": "stream",
     "text": [
      " 16%|█▌        | 32.01249999999872/200 [00:46<04:41,  1.68s/it] "
     ]
    },
    {
     "name": "stdout",
     "output_type": "stream",
     "text": [
      "Train Epoch: 33 [0/17825 (0%)]\tLoss: 0.132029\n"
     ]
    },
    {
     "name": "stderr",
     "output_type": "stream",
     "text": [
      " 16%|█▌        | 32.3749999999988/200 [00:47<04:18,  1.54s/it] "
     ]
    },
    {
     "name": "stdout",
     "output_type": "stream",
     "text": [
      "Train Epoch: 33 [5120/17825 (29%)]\tLoss: 0.170869\n"
     ]
    },
    {
     "name": "stderr",
     "output_type": "stream",
     "text": [
      " 16%|█▋        | 32.63749999999886/200 [00:47<03:38,  1.31s/it]"
     ]
    },
    {
     "name": "stdout",
     "output_type": "stream",
     "text": [
      "Train Epoch: 33 [10240/17825 (57%)]\tLoss: 0.188453\n"
     ]
    },
    {
     "name": "stderr",
     "output_type": "stream",
     "text": [
      " 16%|█▋        | 32.8124999999989/200 [00:47<03:28,  1.25s/it] "
     ]
    },
    {
     "name": "stdout",
     "output_type": "stream",
     "text": [
      "Train Epoch: 33 [15360/17825 (86%)]\tLoss: 0.188612\n"
     ]
    },
    {
     "name": "stderr",
     "output_type": "stream",
     "text": [
      " 16%|█▋        | 32.89999999999892/200 [00:47<04:15,  1.53s/it]"
     ]
    },
    {
     "name": "stdout",
     "output_type": "stream",
     "text": [
      "\n",
      "Test Epoch: 33\tAccuracy: 1969/2337 (84%)\n",
      "\n"
     ]
    },
    {
     "name": "stderr",
     "output_type": "stream",
     "text": [
      " 17%|█▋        | 33.012499999998944/200 [00:48<04:37,  1.66s/it]"
     ]
    },
    {
     "name": "stdout",
     "output_type": "stream",
     "text": [
      "Train Epoch: 34 [0/17825 (0%)]\tLoss: 0.143403\n"
     ]
    },
    {
     "name": "stderr",
     "output_type": "stream",
     "text": [
      " 17%|█▋        | 33.28749999999901/200 [00:48<03:50,  1.38s/it] "
     ]
    },
    {
     "name": "stdout",
     "output_type": "stream",
     "text": [
      "Train Epoch: 34 [5120/17825 (29%)]\tLoss: 0.127073\n"
     ]
    },
    {
     "name": "stderr",
     "output_type": "stream",
     "text": [
      " 17%|█▋        | 33.62499999999908/200 [00:48<03:50,  1.38s/it] "
     ]
    },
    {
     "name": "stdout",
     "output_type": "stream",
     "text": [
      "Train Epoch: 34 [10240/17825 (57%)]\tLoss: 0.140295\n"
     ]
    },
    {
     "name": "stderr",
     "output_type": "stream",
     "text": [
      " 17%|█▋        | 33.79999999999912/200 [00:49<03:41,  1.33s/it]"
     ]
    },
    {
     "name": "stdout",
     "output_type": "stream",
     "text": [
      "Train Epoch: 34 [15360/17825 (86%)]\tLoss: 0.202781\n"
     ]
    },
    {
     "name": "stderr",
     "output_type": "stream",
     "text": [
      " 17%|█▋        | 33.987499999999166/200 [00:49<04:01,  1.45s/it]"
     ]
    },
    {
     "name": "stdout",
     "output_type": "stream",
     "text": [
      "\n",
      "Test Epoch: 34\tAccuracy: 1961/2337 (84%)\n",
      "\n"
     ]
    },
    {
     "name": "stderr",
     "output_type": "stream",
     "text": [
      " 17%|█▋        | 34.06249999999918/200 [00:49<04:34,  1.66s/it] "
     ]
    },
    {
     "name": "stdout",
     "output_type": "stream",
     "text": [
      "Train Epoch: 35 [0/17825 (0%)]\tLoss: 0.173197\n"
     ]
    },
    {
     "name": "stderr",
     "output_type": "stream",
     "text": [
      " 17%|█▋        | 34.31249999999924/200 [00:49<04:25,  1.60s/it]"
     ]
    },
    {
     "name": "stdout",
     "output_type": "stream",
     "text": [
      "Train Epoch: 35 [5120/17825 (29%)]\tLoss: 0.190755\n"
     ]
    },
    {
     "name": "stderr",
     "output_type": "stream",
     "text": [
      " 17%|█▋        | 34.66249999999932/200 [00:50<03:35,  1.30s/it]"
     ]
    },
    {
     "name": "stdout",
     "output_type": "stream",
     "text": [
      "Train Epoch: 35 [10240/17825 (57%)]\tLoss: 0.153638\n"
     ]
    },
    {
     "name": "stderr",
     "output_type": "stream",
     "text": [
      " 17%|█▋        | 34.83749999999936/200 [00:50<03:28,  1.26s/it]"
     ]
    },
    {
     "name": "stdout",
     "output_type": "stream",
     "text": [
      "Train Epoch: 35 [15360/17825 (86%)]\tLoss: 0.145431\n"
     ]
    },
    {
     "name": "stderr",
     "output_type": "stream",
     "text": [
      " 17%|█▋        | 34.92499999999938/200 [00:50<04:08,  1.51s/it]"
     ]
    },
    {
     "name": "stdout",
     "output_type": "stream",
     "text": [
      "\n",
      "Test Epoch: 35\tAccuracy: 1980/2337 (85%)\n",
      "\n"
     ]
    },
    {
     "name": "stderr",
     "output_type": "stream",
     "text": [
      " 18%|█▊        | 35.0124999999994/200 [00:50<04:42,  1.71s/it] "
     ]
    },
    {
     "name": "stdout",
     "output_type": "stream",
     "text": [
      "Train Epoch: 36 [0/17825 (0%)]\tLoss: 0.142495\n"
     ]
    },
    {
     "name": "stderr",
     "output_type": "stream",
     "text": [
      " 18%|█▊        | 35.37499999999948/200 [00:51<04:07,  1.51s/it]"
     ]
    },
    {
     "name": "stdout",
     "output_type": "stream",
     "text": [
      "Train Epoch: 36 [5120/17825 (29%)]\tLoss: 0.168131\n"
     ]
    },
    {
     "name": "stderr",
     "output_type": "stream",
     "text": [
      " 18%|█▊        | 35.63749999999954/200 [00:51<03:32,  1.29s/it]"
     ]
    },
    {
     "name": "stdout",
     "output_type": "stream",
     "text": [
      "Train Epoch: 36 [10240/17825 (57%)]\tLoss: 0.164331\n"
     ]
    },
    {
     "name": "stderr",
     "output_type": "stream",
     "text": [
      " 18%|█▊        | 35.81249999999958/200 [00:51<03:22,  1.24s/it]"
     ]
    },
    {
     "name": "stdout",
     "output_type": "stream",
     "text": [
      "Train Epoch: 36 [15360/17825 (86%)]\tLoss: 0.235532\n"
     ]
    },
    {
     "name": "stderr",
     "output_type": "stream",
     "text": [
      " 18%|█▊        | 35.98749999999962/200 [00:52<03:50,  1.41s/it]"
     ]
    },
    {
     "name": "stdout",
     "output_type": "stream",
     "text": [
      "\n",
      "Test Epoch: 36\tAccuracy: 1969/2337 (84%)\n",
      "\n"
     ]
    },
    {
     "name": "stderr",
     "output_type": "stream",
     "text": [
      " 18%|█▊        | 36.07499999999964/200 [00:52<04:22,  1.60s/it]"
     ]
    },
    {
     "name": "stdout",
     "output_type": "stream",
     "text": [
      "Train Epoch: 37 [0/17825 (0%)]\tLoss: 0.176739\n"
     ]
    },
    {
     "name": "stderr",
     "output_type": "stream",
     "text": [
      " 18%|█▊        | 36.3249999999997/200 [00:52<04:20,  1.59s/it] "
     ]
    },
    {
     "name": "stdout",
     "output_type": "stream",
     "text": [
      "Train Epoch: 37 [5120/17825 (29%)]\tLoss: 0.183819\n"
     ]
    },
    {
     "name": "stderr",
     "output_type": "stream",
     "text": [
      " 18%|█▊        | 36.67499999999978/200 [00:53<03:33,  1.31s/it]"
     ]
    },
    {
     "name": "stdout",
     "output_type": "stream",
     "text": [
      "Train Epoch: 37 [10240/17825 (57%)]\tLoss: 0.136886\n"
     ]
    },
    {
     "name": "stderr",
     "output_type": "stream",
     "text": [
      " 18%|█▊        | 36.84999999999982/200 [00:53<03:25,  1.26s/it]"
     ]
    },
    {
     "name": "stdout",
     "output_type": "stream",
     "text": [
      "Train Epoch: 37 [15360/17825 (86%)]\tLoss: 0.176088\n"
     ]
    },
    {
     "name": "stderr",
     "output_type": "stream",
     "text": [
      " 18%|█▊        | 36.93749999999984/200 [00:53<04:06,  1.51s/it]"
     ]
    },
    {
     "name": "stdout",
     "output_type": "stream",
     "text": [
      "\n",
      "Test Epoch: 37\tAccuracy: 1976/2337 (85%)\n",
      "\n"
     ]
    },
    {
     "name": "stderr",
     "output_type": "stream",
     "text": [
      " 19%|█▊        | 37.012499999999854/200 [00:53<04:45,  1.75s/it]"
     ]
    },
    {
     "name": "stdout",
     "output_type": "stream",
     "text": [
      "Train Epoch: 38 [0/17825 (0%)]\tLoss: 0.169760\n"
     ]
    },
    {
     "name": "stderr",
     "output_type": "stream",
     "text": [
      " 19%|█▊        | 37.287499999999916/200 [00:54<03:38,  1.34s/it]"
     ]
    },
    {
     "name": "stdout",
     "output_type": "stream",
     "text": [
      "Train Epoch: 38 [5120/17825 (29%)]\tLoss: 0.166999\n"
     ]
    },
    {
     "name": "stderr",
     "output_type": "stream",
     "text": [
      " 19%|█▉        | 37.637499999999996/200 [00:54<03:40,  1.36s/it]"
     ]
    },
    {
     "name": "stdout",
     "output_type": "stream",
     "text": [
      "Train Epoch: 38 [10240/17825 (57%)]\tLoss: 0.148399\n"
     ]
    },
    {
     "name": "stderr",
     "output_type": "stream",
     "text": [
      " 19%|█▉        | 37.812500000000036/200 [00:54<03:38,  1.35s/it]"
     ]
    },
    {
     "name": "stdout",
     "output_type": "stream",
     "text": [
      "Train Epoch: 38 [15360/17825 (86%)]\tLoss: 0.111645\n"
     ]
    },
    {
     "name": "stderr",
     "output_type": "stream",
     "text": [
      " 19%|█▉        | 37.900000000000055/200 [00:55<04:22,  1.62s/it]"
     ]
    },
    {
     "name": "stdout",
     "output_type": "stream",
     "text": [
      "\n",
      "Test Epoch: 38\tAccuracy: 1960/2337 (84%)\n",
      "\n"
     ]
    },
    {
     "name": "stderr",
     "output_type": "stream",
     "text": [
      " 19%|█▉        | 38.01250000000008/200 [00:55<04:40,  1.73s/it] "
     ]
    },
    {
     "name": "stdout",
     "output_type": "stream",
     "text": [
      "Train Epoch: 39 [0/17825 (0%)]\tLoss: 0.173847\n"
     ]
    },
    {
     "name": "stderr",
     "output_type": "stream",
     "text": [
      " 19%|█▉        | 38.37500000000016/200 [00:55<04:04,  1.51s/it] "
     ]
    },
    {
     "name": "stdout",
     "output_type": "stream",
     "text": [
      "Train Epoch: 39 [5120/17825 (29%)]\tLoss: 0.144128\n"
     ]
    },
    {
     "name": "stderr",
     "output_type": "stream",
     "text": [
      " 19%|█▉        | 38.63750000000022/200 [00:56<03:28,  1.29s/it]"
     ]
    },
    {
     "name": "stdout",
     "output_type": "stream",
     "text": [
      "Train Epoch: 39 [10240/17825 (57%)]\tLoss: 0.173715\n"
     ]
    },
    {
     "name": "stderr",
     "output_type": "stream",
     "text": [
      " 19%|█▉        | 38.81250000000026/200 [00:56<03:18,  1.23s/it]"
     ]
    },
    {
     "name": "stdout",
     "output_type": "stream",
     "text": [
      "Train Epoch: 39 [15360/17825 (86%)]\tLoss: 0.119786\n"
     ]
    },
    {
     "name": "stderr",
     "output_type": "stream",
     "text": [
      " 19%|█▉        | 38.90000000000028/200 [00:56<04:03,  1.51s/it]"
     ]
    },
    {
     "name": "stdout",
     "output_type": "stream",
     "text": [
      "\n",
      "Test Epoch: 39\tAccuracy: 1967/2337 (84%)\n",
      "\n"
     ]
    },
    {
     "name": "stderr",
     "output_type": "stream",
     "text": [
      " 20%|█▉        | 39.01250000000031/200 [00:56<04:27,  1.66s/it]"
     ]
    },
    {
     "name": "stdout",
     "output_type": "stream",
     "text": [
      "Train Epoch: 40 [0/17825 (0%)]\tLoss: 0.152218\n"
     ]
    },
    {
     "name": "stderr",
     "output_type": "stream",
     "text": [
      " 20%|█▉        | 39.37500000000039/200 [00:57<04:08,  1.55s/it]"
     ]
    },
    {
     "name": "stdout",
     "output_type": "stream",
     "text": [
      "Train Epoch: 40 [5120/17825 (29%)]\tLoss: 0.167060\n"
     ]
    },
    {
     "name": "stderr",
     "output_type": "stream",
     "text": [
      " 20%|█▉        | 39.63750000000045/200 [00:57<03:34,  1.34s/it]"
     ]
    },
    {
     "name": "stdout",
     "output_type": "stream",
     "text": [
      "Train Epoch: 40 [10240/17825 (57%)]\tLoss: 0.194394\n"
     ]
    },
    {
     "name": "stderr",
     "output_type": "stream",
     "text": [
      " 20%|█▉        | 39.81250000000049/200 [00:57<03:25,  1.29s/it]"
     ]
    },
    {
     "name": "stdout",
     "output_type": "stream",
     "text": [
      "Train Epoch: 40 [15360/17825 (86%)]\tLoss: 0.148536\n"
     ]
    },
    {
     "name": "stderr",
     "output_type": "stream",
     "text": [
      " 20%|█▉        | 39.90000000000051/200 [00:57<04:11,  1.57s/it]"
     ]
    },
    {
     "name": "stdout",
     "output_type": "stream",
     "text": [
      "\n",
      "Test Epoch: 40\tAccuracy: 1956/2337 (84%)\n",
      "\n"
     ]
    },
    {
     "name": "stderr",
     "output_type": "stream",
     "text": [
      " 20%|██        | 40.012500000000536/200 [00:58<04:33,  1.71s/it]"
     ]
    },
    {
     "name": "stdout",
     "output_type": "stream",
     "text": [
      "Train Epoch: 41 [0/17825 (0%)]\tLoss: 0.165855\n"
     ]
    },
    {
     "name": "stderr",
     "output_type": "stream",
     "text": [
      " 20%|██        | 40.37500000000062/200 [00:58<04:05,  1.54s/it] "
     ]
    },
    {
     "name": "stdout",
     "output_type": "stream",
     "text": [
      "Train Epoch: 41 [5120/17825 (29%)]\tLoss: 0.205109\n"
     ]
    },
    {
     "name": "stderr",
     "output_type": "stream",
     "text": [
      " 20%|██        | 40.63750000000068/200 [00:58<03:32,  1.33s/it]"
     ]
    },
    {
     "name": "stdout",
     "output_type": "stream",
     "text": [
      "Train Epoch: 41 [10240/17825 (57%)]\tLoss: 0.148087\n"
     ]
    },
    {
     "name": "stderr",
     "output_type": "stream",
     "text": [
      " 20%|██        | 40.81250000000072/200 [00:59<03:23,  1.28s/it]"
     ]
    },
    {
     "name": "stdout",
     "output_type": "stream",
     "text": [
      "Train Epoch: 41 [15360/17825 (86%)]\tLoss: 0.131356\n"
     ]
    },
    {
     "name": "stderr",
     "output_type": "stream",
     "text": [
      " 20%|██        | 40.90000000000074/200 [00:59<04:09,  1.57s/it]"
     ]
    },
    {
     "name": "stdout",
     "output_type": "stream",
     "text": [
      "\n",
      "Test Epoch: 41\tAccuracy: 1967/2337 (84%)\n",
      "\n"
     ]
    },
    {
     "name": "stderr",
     "output_type": "stream",
     "text": [
      " 21%|██        | 41.01250000000076/200 [00:59<04:28,  1.69s/it]"
     ]
    },
    {
     "name": "stdout",
     "output_type": "stream",
     "text": [
      "Train Epoch: 42 [0/17825 (0%)]\tLoss: 0.160485\n"
     ]
    },
    {
     "name": "stderr",
     "output_type": "stream",
     "text": [
      " 21%|██        | 41.375000000000846/200 [01:00<04:05,  1.55s/it]"
     ]
    },
    {
     "name": "stdout",
     "output_type": "stream",
     "text": [
      "Train Epoch: 42 [5120/17825 (29%)]\tLoss: 0.176326\n"
     ]
    },
    {
     "name": "stderr",
     "output_type": "stream",
     "text": [
      " 21%|██        | 41.637500000000905/200 [01:00<03:29,  1.32s/it]"
     ]
    },
    {
     "name": "stdout",
     "output_type": "stream",
     "text": [
      "Train Epoch: 42 [10240/17825 (57%)]\tLoss: 0.168695\n"
     ]
    },
    {
     "name": "stderr",
     "output_type": "stream",
     "text": [
      " 21%|██        | 41.812500000000945/200 [01:00<03:19,  1.26s/it]"
     ]
    },
    {
     "name": "stdout",
     "output_type": "stream",
     "text": [
      "Train Epoch: 42 [15360/17825 (86%)]\tLoss: 0.113309\n"
     ]
    },
    {
     "name": "stderr",
     "output_type": "stream",
     "text": [
      " 21%|██        | 41.987500000000985/200 [01:00<03:47,  1.44s/it]"
     ]
    },
    {
     "name": "stdout",
     "output_type": "stream",
     "text": [
      "\n",
      "Test Epoch: 42\tAccuracy: 1969/2337 (84%)\n",
      "\n"
     ]
    },
    {
     "name": "stderr",
     "output_type": "stream",
     "text": [
      " 21%|██        | 42.062500000001/200 [01:01<04:22,  1.66s/it]   "
     ]
    },
    {
     "name": "stdout",
     "output_type": "stream",
     "text": [
      "Train Epoch: 43 [0/17825 (0%)]\tLoss: 0.126549\n"
     ]
    },
    {
     "name": "stderr",
     "output_type": "stream",
     "text": [
      " 21%|██        | 42.31250000000106/200 [01:01<04:19,  1.65s/it]"
     ]
    },
    {
     "name": "stdout",
     "output_type": "stream",
     "text": [
      "Train Epoch: 43 [5120/17825 (29%)]\tLoss: 0.165356\n"
     ]
    },
    {
     "name": "stderr",
     "output_type": "stream",
     "text": [
      " 21%|██▏       | 42.66250000000114/200 [01:01<03:28,  1.32s/it]"
     ]
    },
    {
     "name": "stdout",
     "output_type": "stream",
     "text": [
      "Train Epoch: 43 [10240/17825 (57%)]\tLoss: 0.172653\n"
     ]
    },
    {
     "name": "stderr",
     "output_type": "stream",
     "text": [
      " 21%|██▏       | 42.83750000000118/200 [01:02<03:21,  1.28s/it]"
     ]
    },
    {
     "name": "stdout",
     "output_type": "stream",
     "text": [
      "Train Epoch: 43 [15360/17825 (86%)]\tLoss: 0.147223\n"
     ]
    },
    {
     "name": "stderr",
     "output_type": "stream",
     "text": [
      " 21%|██▏       | 42.9250000000012/200 [01:02<03:59,  1.53s/it] "
     ]
    },
    {
     "name": "stdout",
     "output_type": "stream",
     "text": [
      "\n",
      "Test Epoch: 43\tAccuracy: 1967/2337 (84%)\n",
      "\n"
     ]
    },
    {
     "name": "stderr",
     "output_type": "stream",
     "text": [
      " 22%|██▏       | 43.01250000000122/200 [01:02<04:33,  1.74s/it]"
     ]
    },
    {
     "name": "stdout",
     "output_type": "stream",
     "text": [
      "Train Epoch: 44 [0/17825 (0%)]\tLoss: 0.219506\n"
     ]
    },
    {
     "name": "stderr",
     "output_type": "stream",
     "text": [
      " 22%|██▏       | 43.28750000000128/200 [01:02<03:37,  1.39s/it]"
     ]
    },
    {
     "name": "stdout",
     "output_type": "stream",
     "text": [
      "Train Epoch: 44 [5120/17825 (29%)]\tLoss: 0.138921\n"
     ]
    },
    {
     "name": "stderr",
     "output_type": "stream",
     "text": [
      " 22%|██▏       | 43.63750000000136/200 [01:03<03:31,  1.35s/it]"
     ]
    },
    {
     "name": "stdout",
     "output_type": "stream",
     "text": [
      "Train Epoch: 44 [10240/17825 (57%)]\tLoss: 0.128882\n"
     ]
    },
    {
     "name": "stderr",
     "output_type": "stream",
     "text": [
      " 22%|██▏       | 43.8125000000014/200 [01:03<03:21,  1.29s/it] "
     ]
    },
    {
     "name": "stdout",
     "output_type": "stream",
     "text": [
      "Train Epoch: 44 [15360/17825 (86%)]\tLoss: 0.132822\n"
     ]
    },
    {
     "name": "stderr",
     "output_type": "stream",
     "text": [
      " 22%|██▏       | 43.98750000000144/200 [01:03<03:45,  1.44s/it]"
     ]
    },
    {
     "name": "stdout",
     "output_type": "stream",
     "text": [
      "\n",
      "Test Epoch: 44\tAccuracy: 1967/2337 (84%)\n",
      "\n"
     ]
    },
    {
     "name": "stderr",
     "output_type": "stream",
     "text": [
      " 22%|██▏       | 44.06250000000146/200 [01:03<04:16,  1.65s/it]"
     ]
    },
    {
     "name": "stdout",
     "output_type": "stream",
     "text": [
      "Train Epoch: 45 [0/17825 (0%)]\tLoss: 0.124489\n"
     ]
    },
    {
     "name": "stderr",
     "output_type": "stream",
     "text": [
      " 22%|██▏       | 44.31250000000151/200 [01:04<04:11,  1.61s/it] "
     ]
    },
    {
     "name": "stdout",
     "output_type": "stream",
     "text": [
      "Train Epoch: 45 [5120/17825 (29%)]\tLoss: 0.106325\n"
     ]
    },
    {
     "name": "stderr",
     "output_type": "stream",
     "text": [
      " 22%|██▏       | 44.66250000000159/200 [01:04<03:26,  1.33s/it]"
     ]
    },
    {
     "name": "stdout",
     "output_type": "stream",
     "text": [
      "Train Epoch: 45 [10240/17825 (57%)]\tLoss: 0.146032\n"
     ]
    },
    {
     "name": "stderr",
     "output_type": "stream",
     "text": [
      " 22%|██▏       | 44.83750000000163/200 [01:05<03:17,  1.27s/it]"
     ]
    },
    {
     "name": "stdout",
     "output_type": "stream",
     "text": [
      "Train Epoch: 45 [15360/17825 (86%)]\tLoss: 0.161552\n"
     ]
    },
    {
     "name": "stderr",
     "output_type": "stream",
     "text": [
      " 22%|██▏       | 44.92500000000165/200 [01:05<04:01,  1.56s/it]"
     ]
    },
    {
     "name": "stdout",
     "output_type": "stream",
     "text": [
      "\n",
      "Test Epoch: 45\tAccuracy: 1967/2337 (84%)\n",
      "\n"
     ]
    },
    {
     "name": "stderr",
     "output_type": "stream",
     "text": [
      " 23%|██▎       | 45.01250000000167/200 [01:05<04:33,  1.77s/it]"
     ]
    },
    {
     "name": "stdout",
     "output_type": "stream",
     "text": [
      "Train Epoch: 46 [0/17825 (0%)]\tLoss: 0.182747\n"
     ]
    },
    {
     "name": "stderr",
     "output_type": "stream",
     "text": [
      " 23%|██▎       | 45.287500000001735/200 [01:05<03:35,  1.39s/it]"
     ]
    },
    {
     "name": "stdout",
     "output_type": "stream",
     "text": [
      "Train Epoch: 46 [5120/17825 (29%)]\tLoss: 0.114636\n"
     ]
    },
    {
     "name": "stderr",
     "output_type": "stream",
     "text": [
      " 23%|██▎       | 45.637500000001815/200 [01:06<03:29,  1.36s/it]"
     ]
    },
    {
     "name": "stdout",
     "output_type": "stream",
     "text": [
      "Train Epoch: 46 [10240/17825 (57%)]\tLoss: 0.130075\n"
     ]
    },
    {
     "name": "stderr",
     "output_type": "stream",
     "text": [
      " 23%|██▎       | 45.812500000001855/200 [01:06<03:21,  1.31s/it]"
     ]
    },
    {
     "name": "stdout",
     "output_type": "stream",
     "text": [
      "Train Epoch: 46 [15360/17825 (86%)]\tLoss: 0.153677\n"
     ]
    },
    {
     "name": "stderr",
     "output_type": "stream",
     "text": [
      " 23%|██▎       | 46.0000000000019/200 [01:06<03:33,  1.38s/it]  "
     ]
    },
    {
     "name": "stdout",
     "output_type": "stream",
     "text": [
      "\n",
      "Test Epoch: 46\tAccuracy: 1964/2337 (84%)\n",
      "\n"
     ]
    },
    {
     "name": "stderr",
     "output_type": "stream",
     "text": [
      " 23%|██▎       | 46.08750000000192/200 [01:06<04:11,  1.63s/it]"
     ]
    },
    {
     "name": "stdout",
     "output_type": "stream",
     "text": [
      "Train Epoch: 47 [0/17825 (0%)]\tLoss: 0.131879\n"
     ]
    },
    {
     "name": "stderr",
     "output_type": "stream",
     "text": [
      " 23%|██▎       | 46.337500000001974/200 [01:07<04:11,  1.63s/it]"
     ]
    },
    {
     "name": "stdout",
     "output_type": "stream",
     "text": [
      "Train Epoch: 47 [5120/17825 (29%)]\tLoss: 0.140677\n"
     ]
    },
    {
     "name": "stderr",
     "output_type": "stream",
     "text": [
      " 23%|██▎       | 46.600000000002034/200 [01:07<03:31,  1.38s/it]"
     ]
    },
    {
     "name": "stdout",
     "output_type": "stream",
     "text": [
      "Train Epoch: 47 [10240/17825 (57%)]\tLoss: 0.132006\n"
     ]
    },
    {
     "name": "stderr",
     "output_type": "stream",
     "text": [
      " 23%|██▎       | 46.86250000000209/200 [01:07<03:15,  1.28s/it] "
     ]
    },
    {
     "name": "stdout",
     "output_type": "stream",
     "text": [
      "Train Epoch: 47 [15360/17825 (86%)]\tLoss: 0.174826\n"
     ]
    },
    {
     "name": "stderr",
     "output_type": "stream",
     "text": [
      " 23%|██▎       | 46.95000000000211/200 [01:08<03:55,  1.54s/it]"
     ]
    },
    {
     "name": "stdout",
     "output_type": "stream",
     "text": [
      "\n",
      "Test Epoch: 47\tAccuracy: 1970/2337 (84%)\n",
      "\n"
     ]
    },
    {
     "name": "stderr",
     "output_type": "stream",
     "text": [
      " 24%|██▎       | 47.02500000000213/200 [01:08<04:26,  1.74s/it]"
     ]
    },
    {
     "name": "stdout",
     "output_type": "stream",
     "text": [
      "Train Epoch: 48 [0/17825 (0%)]\tLoss: 0.171882\n"
     ]
    },
    {
     "name": "stderr",
     "output_type": "stream",
     "text": [
      " 24%|██▎       | 47.36250000000221/200 [01:08<04:04,  1.60s/it]"
     ]
    },
    {
     "name": "stdout",
     "output_type": "stream",
     "text": [
      "Train Epoch: 48 [5120/17825 (29%)]\tLoss: 0.142019\n"
     ]
    },
    {
     "name": "stderr",
     "output_type": "stream",
     "text": [
      " 24%|██▍       | 47.62500000000227/200 [01:09<03:26,  1.35s/it]"
     ]
    },
    {
     "name": "stdout",
     "output_type": "stream",
     "text": [
      "Train Epoch: 48 [10240/17825 (57%)]\tLoss: 0.131806\n"
     ]
    },
    {
     "name": "stderr",
     "output_type": "stream",
     "text": [
      " 24%|██▍       | 47.800000000002306/200 [01:09<03:21,  1.32s/it]"
     ]
    },
    {
     "name": "stdout",
     "output_type": "stream",
     "text": [
      "Train Epoch: 48 [15360/17825 (86%)]\tLoss: 0.124108\n"
     ]
    },
    {
     "name": "stderr",
     "output_type": "stream",
     "text": [
      " 24%|██▍       | 47.98750000000235/200 [01:09<03:37,  1.43s/it] "
     ]
    },
    {
     "name": "stdout",
     "output_type": "stream",
     "text": [
      "\n",
      "Test Epoch: 48\tAccuracy: 1966/2337 (84%)\n",
      "\n"
     ]
    },
    {
     "name": "stderr",
     "output_type": "stream",
     "text": [
      " 24%|██▍       | 48.07500000000237/200 [01:09<04:11,  1.66s/it]"
     ]
    },
    {
     "name": "stdout",
     "output_type": "stream",
     "text": [
      "Train Epoch: 49 [0/17825 (0%)]\tLoss: 0.127086\n"
     ]
    },
    {
     "name": "stderr",
     "output_type": "stream",
     "text": [
      " 24%|██▍       | 48.325000000002426/200 [01:10<04:08,  1.64s/it]"
     ]
    },
    {
     "name": "stdout",
     "output_type": "stream",
     "text": [
      "Train Epoch: 49 [5120/17825 (29%)]\tLoss: 0.176933\n"
     ]
    },
    {
     "name": "stderr",
     "output_type": "stream",
     "text": [
      " 24%|██▍       | 48.675000000002505/200 [01:10<03:20,  1.33s/it]"
     ]
    },
    {
     "name": "stdout",
     "output_type": "stream",
     "text": [
      "Train Epoch: 49 [10240/17825 (57%)]\tLoss: 0.179089\n"
     ]
    },
    {
     "name": "stderr",
     "output_type": "stream",
     "text": [
      " 24%|██▍       | 48.850000000002545/200 [01:10<03:13,  1.28s/it]"
     ]
    },
    {
     "name": "stdout",
     "output_type": "stream",
     "text": [
      "Train Epoch: 49 [15360/17825 (86%)]\tLoss: 0.159256\n"
     ]
    },
    {
     "name": "stderr",
     "output_type": "stream",
     "text": [
      " 24%|██▍       | 48.937500000002565/200 [01:11<03:54,  1.55s/it]"
     ]
    },
    {
     "name": "stdout",
     "output_type": "stream",
     "text": [
      "\n",
      "Test Epoch: 49\tAccuracy: 1965/2337 (84%)\n",
      "\n"
     ]
    },
    {
     "name": "stderr",
     "output_type": "stream",
     "text": [
      " 25%|██▍       | 49.01250000000258/200 [01:11<04:32,  1.80s/it] "
     ]
    },
    {
     "name": "stdout",
     "output_type": "stream",
     "text": [
      "Train Epoch: 50 [0/17825 (0%)]\tLoss: 0.154141\n"
     ]
    },
    {
     "name": "stderr",
     "output_type": "stream",
     "text": [
      " 25%|██▍       | 49.375000000002665/200 [01:11<03:50,  1.53s/it]"
     ]
    },
    {
     "name": "stdout",
     "output_type": "stream",
     "text": [
      "Train Epoch: 50 [5120/17825 (29%)]\tLoss: 0.106171\n"
     ]
    },
    {
     "name": "stderr",
     "output_type": "stream",
     "text": [
      " 25%|██▍       | 49.637500000002724/200 [01:12<03:17,  1.31s/it]"
     ]
    },
    {
     "name": "stdout",
     "output_type": "stream",
     "text": [
      "Train Epoch: 50 [10240/17825 (57%)]\tLoss: 0.154568\n"
     ]
    },
    {
     "name": "stderr",
     "output_type": "stream",
     "text": [
      " 25%|██▍       | 49.812500000002764/200 [01:12<03:08,  1.26s/it]"
     ]
    },
    {
     "name": "stdout",
     "output_type": "stream",
     "text": [
      "Train Epoch: 50 [15360/17825 (86%)]\tLoss: 0.099338\n"
     ]
    },
    {
     "name": "stderr",
     "output_type": "stream",
     "text": [
      " 25%|██▍       | 49.987500000002804/200 [01:12<03:34,  1.43s/it]"
     ]
    },
    {
     "name": "stdout",
     "output_type": "stream",
     "text": [
      "\n",
      "Test Epoch: 50\tAccuracy: 1968/2337 (84%)\n",
      "\n"
     ]
    },
    {
     "name": "stderr",
     "output_type": "stream",
     "text": [
      " 25%|██▌       | 50.075000000002824/200 [01:12<04:03,  1.62s/it]"
     ]
    },
    {
     "name": "stdout",
     "output_type": "stream",
     "text": [
      "Train Epoch: 51 [0/17825 (0%)]\tLoss: 0.128240\n"
     ]
    },
    {
     "name": "stderr",
     "output_type": "stream",
     "text": [
      " 25%|██▌       | 50.32500000000288/200 [01:13<04:00,  1.61s/it] "
     ]
    },
    {
     "name": "stdout",
     "output_type": "stream",
     "text": [
      "Train Epoch: 51 [5120/17825 (29%)]\tLoss: 0.121009\n"
     ]
    },
    {
     "name": "stderr",
     "output_type": "stream",
     "text": [
      " 25%|██▌       | 50.58750000000294/200 [01:13<03:26,  1.38s/it]"
     ]
    },
    {
     "name": "stdout",
     "output_type": "stream",
     "text": [
      "Train Epoch: 51 [10240/17825 (57%)]\tLoss: 0.121385\n"
     ]
    },
    {
     "name": "stderr",
     "output_type": "stream",
     "text": [
      " 25%|██▌       | 50.850000000003/200 [01:13<03:13,  1.30s/it]  "
     ]
    },
    {
     "name": "stdout",
     "output_type": "stream",
     "text": [
      "Train Epoch: 51 [15360/17825 (86%)]\tLoss: 0.149411\n"
     ]
    },
    {
     "name": "stderr",
     "output_type": "stream",
     "text": [
      " 25%|██▌       | 50.93750000000302/200 [01:13<03:49,  1.54s/it]"
     ]
    },
    {
     "name": "stdout",
     "output_type": "stream",
     "text": [
      "\n",
      "Test Epoch: 51\tAccuracy: 1964/2337 (84%)\n",
      "\n"
     ]
    },
    {
     "name": "stderr",
     "output_type": "stream",
     "text": [
      " 26%|██▌       | 51.01250000000304/200 [01:14<04:25,  1.79s/it]"
     ]
    },
    {
     "name": "stdout",
     "output_type": "stream",
     "text": [
      "Train Epoch: 52 [0/17825 (0%)]\tLoss: 0.200982\n"
     ]
    },
    {
     "name": "stderr",
     "output_type": "stream",
     "text": [
      " 26%|██▌       | 51.3000000000031/200 [01:14<03:19,  1.34s/it] "
     ]
    },
    {
     "name": "stdout",
     "output_type": "stream",
     "text": [
      "Train Epoch: 52 [5120/17825 (29%)]\tLoss: 0.143652\n"
     ]
    },
    {
     "name": "stderr",
     "output_type": "stream",
     "text": [
      " 26%|██▌       | 51.65000000000318/200 [01:14<03:17,  1.33s/it]"
     ]
    },
    {
     "name": "stdout",
     "output_type": "stream",
     "text": [
      "Train Epoch: 52 [10240/17825 (57%)]\tLoss: 0.128363\n"
     ]
    },
    {
     "name": "stderr",
     "output_type": "stream",
     "text": [
      " 26%|██▌       | 51.82500000000322/200 [01:15<03:08,  1.27s/it]"
     ]
    },
    {
     "name": "stdout",
     "output_type": "stream",
     "text": [
      "Train Epoch: 52 [15360/17825 (86%)]\tLoss: 0.167504\n"
     ]
    },
    {
     "name": "stderr",
     "output_type": "stream",
     "text": [
      " 26%|██▌       | 51.91250000000324/200 [01:15<03:44,  1.51s/it]"
     ]
    },
    {
     "name": "stdout",
     "output_type": "stream",
     "text": [
      "\n",
      "Test Epoch: 52\tAccuracy: 1963/2337 (84%)\n",
      "\n"
     ]
    },
    {
     "name": "stderr",
     "output_type": "stream",
     "text": [
      " 26%|██▌       | 52.012500000003264/200 [01:15<04:14,  1.72s/it]"
     ]
    },
    {
     "name": "stdout",
     "output_type": "stream",
     "text": [
      "Train Epoch: 53 [0/17825 (0%)]\tLoss: 0.103643\n"
     ]
    },
    {
     "name": "stderr",
     "output_type": "stream",
     "text": [
      " 26%|██▌       | 52.37500000000335/200 [01:16<03:45,  1.53s/it] "
     ]
    },
    {
     "name": "stdout",
     "output_type": "stream",
     "text": [
      "Train Epoch: 53 [5120/17825 (29%)]\tLoss: 0.138421\n"
     ]
    },
    {
     "name": "stderr",
     "output_type": "stream",
     "text": [
      " 26%|██▋       | 52.637500000003406/200 [01:16<03:14,  1.32s/it]"
     ]
    },
    {
     "name": "stdout",
     "output_type": "stream",
     "text": [
      "Train Epoch: 53 [10240/17825 (57%)]\tLoss: 0.160607\n"
     ]
    },
    {
     "name": "stderr",
     "output_type": "stream",
     "text": [
      " 26%|██▋       | 52.812500000003446/200 [01:16<03:06,  1.26s/it]"
     ]
    },
    {
     "name": "stdout",
     "output_type": "stream",
     "text": [
      "Train Epoch: 53 [15360/17825 (86%)]\tLoss: 0.150821\n"
     ]
    },
    {
     "name": "stderr",
     "output_type": "stream",
     "text": [
      " 27%|██▋       | 53.00000000000349/200 [01:16<03:21,  1.37s/it] "
     ]
    },
    {
     "name": "stdout",
     "output_type": "stream",
     "text": [
      "\n",
      "Test Epoch: 53\tAccuracy: 1962/2337 (84%)\n",
      "\n"
     ]
    },
    {
     "name": "stderr",
     "output_type": "stream",
     "text": [
      " 27%|██▋       | 53.08750000000351/200 [01:17<03:58,  1.62s/it]"
     ]
    },
    {
     "name": "stdout",
     "output_type": "stream",
     "text": [
      "Train Epoch: 54 [0/17825 (0%)]\tLoss: 0.096277\n"
     ]
    },
    {
     "name": "stderr",
     "output_type": "stream",
     "text": [
      " 27%|██▋       | 53.35000000000357/200 [01:17<03:53,  1.59s/it]"
     ]
    },
    {
     "name": "stdout",
     "output_type": "stream",
     "text": [
      "Train Epoch: 54 [5120/17825 (29%)]\tLoss: 0.130007\n"
     ]
    },
    {
     "name": "stderr",
     "output_type": "stream",
     "text": [
      " 27%|██▋       | 53.61250000000363/200 [01:17<03:19,  1.37s/it]"
     ]
    },
    {
     "name": "stdout",
     "output_type": "stream",
     "text": [
      "Train Epoch: 54 [10240/17825 (57%)]\tLoss: 0.142757\n"
     ]
    },
    {
     "name": "stderr",
     "output_type": "stream",
     "text": [
      " 27%|██▋       | 53.87500000000369/200 [01:18<03:05,  1.27s/it]"
     ]
    },
    {
     "name": "stdout",
     "output_type": "stream",
     "text": [
      "Train Epoch: 54 [15360/17825 (86%)]\tLoss: 0.146622\n"
     ]
    },
    {
     "name": "stderr",
     "output_type": "stream",
     "text": [
      " 27%|██▋       | 53.96250000000371/200 [01:18<03:48,  1.57s/it]"
     ]
    },
    {
     "name": "stdout",
     "output_type": "stream",
     "text": [
      "\n",
      "Test Epoch: 54\tAccuracy: 1966/2337 (84%)\n",
      "\n"
     ]
    },
    {
     "name": "stderr",
     "output_type": "stream",
     "text": [
      " 27%|██▋       | 54.037500000003725/200 [01:18<04:14,  1.74s/it]"
     ]
    },
    {
     "name": "stdout",
     "output_type": "stream",
     "text": [
      "Train Epoch: 55 [0/17825 (0%)]\tLoss: 0.145798\n"
     ]
    },
    {
     "name": "stderr",
     "output_type": "stream",
     "text": [
      " 27%|██▋       | 54.3750000000038/200 [01:18<03:50,  1.59s/it]  "
     ]
    },
    {
     "name": "stdout",
     "output_type": "stream",
     "text": [
      "Train Epoch: 55 [5120/17825 (29%)]\tLoss: 0.110682\n"
     ]
    },
    {
     "name": "stderr",
     "output_type": "stream",
     "text": [
      " 27%|██▋       | 54.63750000000386/200 [01:19<03:15,  1.35s/it]"
     ]
    },
    {
     "name": "stdout",
     "output_type": "stream",
     "text": [
      "Train Epoch: 55 [10240/17825 (57%)]\tLoss: 0.124365\n"
     ]
    },
    {
     "name": "stderr",
     "output_type": "stream",
     "text": [
      " 27%|██▋       | 54.8125000000039/200 [01:19<03:07,  1.29s/it] "
     ]
    },
    {
     "name": "stdout",
     "output_type": "stream",
     "text": [
      "Train Epoch: 55 [15360/17825 (86%)]\tLoss: 0.148251\n"
     ]
    },
    {
     "name": "stderr",
     "output_type": "stream",
     "text": [
      " 27%|██▋       | 54.98750000000394/200 [01:19<03:32,  1.47s/it]"
     ]
    },
    {
     "name": "stdout",
     "output_type": "stream",
     "text": [
      "\n",
      "Test Epoch: 55\tAccuracy: 1968/2337 (84%)\n",
      "\n"
     ]
    },
    {
     "name": "stderr",
     "output_type": "stream",
     "text": [
      " 28%|██▊       | 55.06250000000396/200 [01:19<04:03,  1.68s/it]"
     ]
    },
    {
     "name": "stdout",
     "output_type": "stream",
     "text": [
      "Train Epoch: 56 [0/17825 (0%)]\tLoss: 0.177093\n"
     ]
    },
    {
     "name": "stderr",
     "output_type": "stream",
     "text": [
      " 28%|██▊       | 55.312500000004015/200 [01:20<03:58,  1.65s/it]"
     ]
    },
    {
     "name": "stdout",
     "output_type": "stream",
     "text": [
      "Train Epoch: 56 [5120/17825 (29%)]\tLoss: 0.122489\n"
     ]
    },
    {
     "name": "stderr",
     "output_type": "stream",
     "text": [
      " 28%|██▊       | 55.662500000004094/200 [01:20<03:15,  1.35s/it]"
     ]
    },
    {
     "name": "stdout",
     "output_type": "stream",
     "text": [
      "Train Epoch: 56 [10240/17825 (57%)]\tLoss: 0.124336\n"
     ]
    },
    {
     "name": "stderr",
     "output_type": "stream",
     "text": [
      " 28%|██▊       | 55.837500000004134/200 [01:21<03:13,  1.35s/it]"
     ]
    },
    {
     "name": "stdout",
     "output_type": "stream",
     "text": [
      "Train Epoch: 56 [15360/17825 (86%)]\tLoss: 0.159399\n"
     ]
    },
    {
     "name": "stderr",
     "output_type": "stream",
     "text": [
      " 28%|██▊       | 55.925000000004154/200 [01:21<03:49,  1.59s/it]"
     ]
    },
    {
     "name": "stdout",
     "output_type": "stream",
     "text": [
      "\n",
      "Test Epoch: 56\tAccuracy: 1969/2337 (84%)\n",
      "\n"
     ]
    },
    {
     "name": "stderr",
     "output_type": "stream",
     "text": [
      " 28%|██▊       | 56.012500000004174/200 [01:21<04:20,  1.81s/it]"
     ]
    },
    {
     "name": "stdout",
     "output_type": "stream",
     "text": [
      "Train Epoch: 57 [0/17825 (0%)]\tLoss: 0.154987\n"
     ]
    },
    {
     "name": "stderr",
     "output_type": "stream",
     "text": [
      " 28%|██▊       | 56.375000000004256/200 [01:21<03:40,  1.53s/it]"
     ]
    },
    {
     "name": "stdout",
     "output_type": "stream",
     "text": [
      "Train Epoch: 57 [5120/17825 (29%)]\tLoss: 0.145806\n"
     ]
    },
    {
     "name": "stderr",
     "output_type": "stream",
     "text": [
      " 28%|██▊       | 56.637500000004316/200 [01:22<03:08,  1.31s/it]"
     ]
    },
    {
     "name": "stdout",
     "output_type": "stream",
     "text": [
      "Train Epoch: 57 [10240/17825 (57%)]\tLoss: 0.133820\n"
     ]
    },
    {
     "name": "stderr",
     "output_type": "stream",
     "text": [
      " 28%|██▊       | 56.812500000004356/200 [01:22<03:00,  1.26s/it]"
     ]
    },
    {
     "name": "stdout",
     "output_type": "stream",
     "text": [
      "Train Epoch: 57 [15360/17825 (86%)]\tLoss: 0.202249\n"
     ]
    },
    {
     "name": "stderr",
     "output_type": "stream",
     "text": [
      " 29%|██▊       | 57.0000000000044/200 [01:22<03:16,  1.37s/it]  "
     ]
    },
    {
     "name": "stdout",
     "output_type": "stream",
     "text": [
      "\n",
      "Test Epoch: 57\tAccuracy: 1963/2337 (84%)\n",
      "\n"
     ]
    },
    {
     "name": "stderr",
     "output_type": "stream",
     "text": [
      " 29%|██▊       | 57.08750000000442/200 [01:22<03:56,  1.65s/it]"
     ]
    },
    {
     "name": "stdout",
     "output_type": "stream",
     "text": [
      "Train Epoch: 58 [0/17825 (0%)]\tLoss: 0.158944\n"
     ]
    },
    {
     "name": "stderr",
     "output_type": "stream",
     "text": [
      " 29%|██▊       | 57.32500000000447/200 [01:23<04:01,  1.69s/it] "
     ]
    },
    {
     "name": "stdout",
     "output_type": "stream",
     "text": [
      "Train Epoch: 58 [5120/17825 (29%)]\tLoss: 0.162325\n"
     ]
    },
    {
     "name": "stderr",
     "output_type": "stream",
     "text": [
      " 29%|██▉       | 57.67500000000455/200 [01:23<03:12,  1.35s/it]"
     ]
    },
    {
     "name": "stdout",
     "output_type": "stream",
     "text": [
      "Train Epoch: 58 [10240/17825 (57%)]\tLoss: 0.149203\n"
     ]
    },
    {
     "name": "stderr",
     "output_type": "stream",
     "text": [
      " 29%|██▉       | 57.85000000000459/200 [01:23<03:04,  1.30s/it]"
     ]
    },
    {
     "name": "stdout",
     "output_type": "stream",
     "text": [
      "Train Epoch: 58 [15360/17825 (86%)]\tLoss: 0.169035\n"
     ]
    },
    {
     "name": "stderr",
     "output_type": "stream",
     "text": [
      " 29%|██▉       | 57.93750000000461/200 [01:24<03:39,  1.55s/it]"
     ]
    },
    {
     "name": "stdout",
     "output_type": "stream",
     "text": [
      "\n",
      "Test Epoch: 58\tAccuracy: 1964/2337 (84%)\n",
      "\n"
     ]
    },
    {
     "name": "stderr",
     "output_type": "stream",
     "text": [
      " 29%|██▉       | 58.01250000000463/200 [01:24<04:14,  1.80s/it]"
     ]
    },
    {
     "name": "stdout",
     "output_type": "stream",
     "text": [
      "Train Epoch: 59 [0/17825 (0%)]\tLoss: 0.148509\n"
     ]
    },
    {
     "name": "stderr",
     "output_type": "stream",
     "text": [
      " 29%|██▉       | 58.37500000000471/200 [01:24<03:41,  1.56s/it]"
     ]
    },
    {
     "name": "stdout",
     "output_type": "stream",
     "text": [
      "Train Epoch: 59 [5120/17825 (29%)]\tLoss: 0.138869\n"
     ]
    },
    {
     "name": "stderr",
     "output_type": "stream",
     "text": [
      " 29%|██▉       | 58.63750000000477/200 [01:25<03:08,  1.33s/it]"
     ]
    },
    {
     "name": "stdout",
     "output_type": "stream",
     "text": [
      "Train Epoch: 59 [10240/17825 (57%)]\tLoss: 0.154493\n"
     ]
    },
    {
     "name": "stderr",
     "output_type": "stream",
     "text": [
      " 29%|██▉       | 58.81250000000481/200 [01:25<02:59,  1.27s/it]"
     ]
    },
    {
     "name": "stdout",
     "output_type": "stream",
     "text": [
      "Train Epoch: 59 [15360/17825 (86%)]\tLoss: 0.140411\n"
     ]
    },
    {
     "name": "stderr",
     "output_type": "stream",
     "text": [
      " 29%|██▉       | 58.90000000000483/200 [01:25<03:39,  1.55s/it]"
     ]
    },
    {
     "name": "stdout",
     "output_type": "stream",
     "text": [
      "\n",
      "Test Epoch: 59\tAccuracy: 1966/2337 (84%)\n",
      "\n"
     ]
    },
    {
     "name": "stderr",
     "output_type": "stream",
     "text": [
      " 30%|██▉       | 59.012500000004856/200 [01:25<03:58,  1.69s/it]"
     ]
    },
    {
     "name": "stdout",
     "output_type": "stream",
     "text": [
      "Train Epoch: 60 [0/17825 (0%)]\tLoss: 0.153841\n"
     ]
    },
    {
     "name": "stderr",
     "output_type": "stream",
     "text": [
      " 30%|██▉       | 59.28750000000492/200 [01:26<03:13,  1.38s/it] "
     ]
    },
    {
     "name": "stdout",
     "output_type": "stream",
     "text": [
      "Train Epoch: 60 [5120/17825 (29%)]\tLoss: 0.167438\n"
     ]
    },
    {
     "name": "stderr",
     "output_type": "stream",
     "text": [
      " 30%|██▉       | 59.637500000005/200 [01:26<03:11,  1.37s/it]  "
     ]
    },
    {
     "name": "stdout",
     "output_type": "stream",
     "text": [
      "Train Epoch: 60 [10240/17825 (57%)]\tLoss: 0.126111\n"
     ]
    },
    {
     "name": "stderr",
     "output_type": "stream",
     "text": [
      " 30%|██▉       | 59.81250000000504/200 [01:26<03:03,  1.31s/it]"
     ]
    },
    {
     "name": "stdout",
     "output_type": "stream",
     "text": [
      "Train Epoch: 60 [15360/17825 (86%)]\tLoss: 0.158193\n"
     ]
    },
    {
     "name": "stderr",
     "output_type": "stream",
     "text": [
      " 30%|██▉       | 59.90000000000506/200 [01:27<03:40,  1.58s/it]"
     ]
    },
    {
     "name": "stdout",
     "output_type": "stream",
     "text": [
      "\n",
      "Test Epoch: 60\tAccuracy: 1963/2337 (84%)\n",
      "\n"
     ]
    },
    {
     "name": "stderr",
     "output_type": "stream",
     "text": [
      " 30%|███       | 60.01250000000508/200 [01:27<03:58,  1.70s/it]"
     ]
    },
    {
     "name": "stdout",
     "output_type": "stream",
     "text": [
      "Train Epoch: 61 [0/17825 (0%)]\tLoss: 0.175473\n"
     ]
    },
    {
     "name": "stderr",
     "output_type": "stream",
     "text": [
      " 30%|███       | 60.287500000005146/200 [01:27<03:11,  1.37s/it]"
     ]
    },
    {
     "name": "stdout",
     "output_type": "stream",
     "text": [
      "Train Epoch: 61 [5120/17825 (29%)]\tLoss: 0.140914\n"
     ]
    },
    {
     "name": "stderr",
     "output_type": "stream",
     "text": [
      " 30%|███       | 60.637500000005225/200 [01:28<03:06,  1.34s/it]"
     ]
    },
    {
     "name": "stdout",
     "output_type": "stream",
     "text": [
      "Train Epoch: 61 [10240/17825 (57%)]\tLoss: 0.172494\n"
     ]
    },
    {
     "name": "stderr",
     "output_type": "stream",
     "text": [
      " 30%|███       | 60.812500000005265/200 [01:28<02:58,  1.28s/it]"
     ]
    },
    {
     "name": "stdout",
     "output_type": "stream",
     "text": [
      "Train Epoch: 61 [15360/17825 (86%)]\tLoss: 0.164874\n"
     ]
    },
    {
     "name": "stderr",
     "output_type": "stream",
     "text": [
      " 30%|███       | 60.987500000005305/200 [01:28<03:22,  1.45s/it]"
     ]
    },
    {
     "name": "stdout",
     "output_type": "stream",
     "text": [
      "\n",
      "Test Epoch: 61\tAccuracy: 1966/2337 (84%)\n",
      "\n"
     ]
    },
    {
     "name": "stderr",
     "output_type": "stream",
     "text": [
      " 31%|███       | 61.06250000000532/200 [01:28<03:49,  1.65s/it] "
     ]
    },
    {
     "name": "stdout",
     "output_type": "stream",
     "text": [
      "Train Epoch: 62 [0/17825 (0%)]\tLoss: 0.143033\n"
     ]
    },
    {
     "name": "stderr",
     "output_type": "stream",
     "text": [
      " 31%|███       | 61.31250000000538/200 [01:29<03:47,  1.64s/it]"
     ]
    },
    {
     "name": "stdout",
     "output_type": "stream",
     "text": [
      "Train Epoch: 62 [5120/17825 (29%)]\tLoss: 0.123338\n"
     ]
    },
    {
     "name": "stderr",
     "output_type": "stream",
     "text": [
      " 31%|███       | 61.66250000000546/200 [01:29<03:05,  1.34s/it]"
     ]
    },
    {
     "name": "stdout",
     "output_type": "stream",
     "text": [
      "Train Epoch: 62 [10240/17825 (57%)]\tLoss: 0.154043\n"
     ]
    },
    {
     "name": "stderr",
     "output_type": "stream",
     "text": [
      " 31%|███       | 61.8375000000055/200 [01:29<02:59,  1.30s/it] "
     ]
    },
    {
     "name": "stdout",
     "output_type": "stream",
     "text": [
      "Train Epoch: 62 [15360/17825 (86%)]\tLoss: 0.168783\n"
     ]
    },
    {
     "name": "stderr",
     "output_type": "stream",
     "text": [
      " 31%|███       | 61.92500000000552/200 [01:29<03:33,  1.55s/it]"
     ]
    },
    {
     "name": "stdout",
     "output_type": "stream",
     "text": [
      "\n",
      "Test Epoch: 62\tAccuracy: 1966/2337 (84%)\n",
      "\n"
     ]
    },
    {
     "name": "stderr",
     "output_type": "stream",
     "text": [
      " 31%|███       | 62.01250000000554/200 [01:30<04:01,  1.75s/it]"
     ]
    },
    {
     "name": "stdout",
     "output_type": "stream",
     "text": [
      "Train Epoch: 63 [0/17825 (0%)]\tLoss: 0.151129\n"
     ]
    },
    {
     "name": "stderr",
     "output_type": "stream",
     "text": [
      " 31%|███       | 62.2875000000056/200 [01:30<03:11,  1.39s/it] "
     ]
    },
    {
     "name": "stdout",
     "output_type": "stream",
     "text": [
      "Train Epoch: 63 [5120/17825 (29%)]\tLoss: 0.170410\n"
     ]
    },
    {
     "name": "stderr",
     "output_type": "stream",
     "text": [
      " 31%|███▏      | 62.63750000000568/200 [01:31<03:04,  1.35s/it]"
     ]
    },
    {
     "name": "stdout",
     "output_type": "stream",
     "text": [
      "Train Epoch: 63 [10240/17825 (57%)]\tLoss: 0.134596\n"
     ]
    },
    {
     "name": "stderr",
     "output_type": "stream",
     "text": [
      " 31%|███▏      | 62.81250000000572/200 [01:31<02:57,  1.29s/it]"
     ]
    },
    {
     "name": "stdout",
     "output_type": "stream",
     "text": [
      "Train Epoch: 63 [15360/17825 (86%)]\tLoss: 0.172399\n"
     ]
    },
    {
     "name": "stderr",
     "output_type": "stream",
     "text": [
      " 31%|███▏      | 62.98750000000576/200 [01:31<03:18,  1.45s/it]"
     ]
    },
    {
     "name": "stdout",
     "output_type": "stream",
     "text": [
      "\n",
      "Test Epoch: 63\tAccuracy: 1964/2337 (84%)\n",
      "\n"
     ]
    },
    {
     "name": "stderr",
     "output_type": "stream",
     "text": [
      " 32%|███▏      | 63.06250000000578/200 [01:31<03:47,  1.66s/it]"
     ]
    },
    {
     "name": "stdout",
     "output_type": "stream",
     "text": [
      "Train Epoch: 64 [0/17825 (0%)]\tLoss: 0.190620\n"
     ]
    },
    {
     "name": "stderr",
     "output_type": "stream",
     "text": [
      " 32%|███▏      | 63.312500000005834/200 [01:32<03:37,  1.59s/it]"
     ]
    },
    {
     "name": "stdout",
     "output_type": "stream",
     "text": [
      "Train Epoch: 64 [5120/17825 (29%)]\tLoss: 0.155334\n"
     ]
    },
    {
     "name": "stderr",
     "output_type": "stream",
     "text": [
      " 32%|███▏      | 63.66250000000591/200 [01:32<02:57,  1.30s/it] "
     ]
    },
    {
     "name": "stdout",
     "output_type": "stream",
     "text": [
      "Train Epoch: 64 [10240/17825 (57%)]\tLoss: 0.174741\n"
     ]
    },
    {
     "name": "stderr",
     "output_type": "stream",
     "text": [
      " 32%|███▏      | 63.83750000000595/200 [01:32<02:51,  1.26s/it]"
     ]
    },
    {
     "name": "stdout",
     "output_type": "stream",
     "text": [
      "Train Epoch: 64 [15360/17825 (86%)]\tLoss: 0.149512\n"
     ]
    },
    {
     "name": "stderr",
     "output_type": "stream",
     "text": [
      " 32%|███▏      | 63.92500000000597/200 [01:32<03:26,  1.52s/it]"
     ]
    },
    {
     "name": "stdout",
     "output_type": "stream",
     "text": [
      "\n",
      "Test Epoch: 64\tAccuracy: 1962/2337 (84%)\n",
      "\n"
     ]
    },
    {
     "name": "stderr",
     "output_type": "stream",
     "text": [
      " 32%|███▏      | 64.01250000000599/200 [01:33<03:56,  1.74s/it]"
     ]
    },
    {
     "name": "stdout",
     "output_type": "stream",
     "text": [
      "Train Epoch: 65 [0/17825 (0%)]\tLoss: 0.133039\n"
     ]
    },
    {
     "name": "stderr",
     "output_type": "stream",
     "text": [
      " 32%|███▏      | 64.36250000000607/200 [01:33<03:33,  1.58s/it]"
     ]
    },
    {
     "name": "stdout",
     "output_type": "stream",
     "text": [
      "Train Epoch: 65 [5120/17825 (29%)]\tLoss: 0.130582\n"
     ]
    },
    {
     "name": "stderr",
     "output_type": "stream",
     "text": [
      " 32%|███▏      | 64.62500000000612/200 [01:33<03:02,  1.35s/it]"
     ]
    },
    {
     "name": "stdout",
     "output_type": "stream",
     "text": [
      "Train Epoch: 65 [10240/17825 (57%)]\tLoss: 0.140782\n"
     ]
    },
    {
     "name": "stderr",
     "output_type": "stream",
     "text": [
      " 32%|███▏      | 64.80000000000616/200 [01:34<02:53,  1.29s/it]"
     ]
    },
    {
     "name": "stdout",
     "output_type": "stream",
     "text": [
      "Train Epoch: 65 [15360/17825 (86%)]\tLoss: 0.137824\n"
     ]
    },
    {
     "name": "stderr",
     "output_type": "stream",
     "text": [
      " 32%|███▏      | 64.98750000000621/200 [01:34<03:10,  1.41s/it]"
     ]
    },
    {
     "name": "stdout",
     "output_type": "stream",
     "text": [
      "\n",
      "Test Epoch: 65\tAccuracy: 1970/2337 (84%)\n",
      "\n"
     ]
    },
    {
     "name": "stderr",
     "output_type": "stream",
     "text": [
      " 33%|███▎      | 65.07500000000623/200 [01:34<03:37,  1.61s/it]"
     ]
    },
    {
     "name": "stdout",
     "output_type": "stream",
     "text": [
      "Train Epoch: 66 [0/17825 (0%)]\tLoss: 0.179295\n"
     ]
    },
    {
     "name": "stderr",
     "output_type": "stream",
     "text": [
      " 33%|███▎      | 65.32500000000628/200 [01:34<03:37,  1.62s/it]"
     ]
    },
    {
     "name": "stdout",
     "output_type": "stream",
     "text": [
      "Train Epoch: 66 [5120/17825 (29%)]\tLoss: 0.113708\n"
     ]
    },
    {
     "name": "stderr",
     "output_type": "stream",
     "text": [
      " 33%|███▎      | 65.58750000000634/200 [01:35<03:04,  1.38s/it]"
     ]
    },
    {
     "name": "stdout",
     "output_type": "stream",
     "text": [
      "Train Epoch: 66 [10240/17825 (57%)]\tLoss: 0.162206\n"
     ]
    },
    {
     "name": "stderr",
     "output_type": "stream",
     "text": [
      " 33%|███▎      | 65.8500000000064/200 [01:35<02:53,  1.29s/it] "
     ]
    },
    {
     "name": "stdout",
     "output_type": "stream",
     "text": [
      "Train Epoch: 66 [15360/17825 (86%)]\tLoss: 0.146589\n"
     ]
    },
    {
     "name": "stderr",
     "output_type": "stream",
     "text": [
      " 33%|███▎      | 65.93750000000642/200 [01:35<03:27,  1.55s/it]"
     ]
    },
    {
     "name": "stdout",
     "output_type": "stream",
     "text": [
      "\n",
      "Test Epoch: 66\tAccuracy: 1965/2337 (84%)\n",
      "\n"
     ]
    },
    {
     "name": "stderr",
     "output_type": "stream",
     "text": [
      " 33%|███▎      | 66.01250000000644/200 [01:35<03:58,  1.78s/it]"
     ]
    },
    {
     "name": "stdout",
     "output_type": "stream",
     "text": [
      "Train Epoch: 67 [0/17825 (0%)]\tLoss: 0.114229\n"
     ]
    },
    {
     "name": "stderr",
     "output_type": "stream",
     "text": [
      " 33%|███▎      | 66.37500000000652/200 [01:36<03:29,  1.57s/it]"
     ]
    },
    {
     "name": "stdout",
     "output_type": "stream",
     "text": [
      "Train Epoch: 67 [5120/17825 (29%)]\tLoss: 0.195102\n"
     ]
    },
    {
     "name": "stderr",
     "output_type": "stream",
     "text": [
      " 33%|███▎      | 66.63750000000658/200 [01:36<02:57,  1.33s/it]"
     ]
    },
    {
     "name": "stdout",
     "output_type": "stream",
     "text": [
      "Train Epoch: 67 [10240/17825 (57%)]\tLoss: 0.161969\n"
     ]
    },
    {
     "name": "stderr",
     "output_type": "stream",
     "text": [
      " 33%|███▎      | 66.81250000000662/200 [01:37<02:48,  1.27s/it]"
     ]
    },
    {
     "name": "stdout",
     "output_type": "stream",
     "text": [
      "Train Epoch: 67 [15360/17825 (86%)]\tLoss: 0.184743\n"
     ]
    },
    {
     "name": "stderr",
     "output_type": "stream",
     "text": [
      " 33%|███▎      | 66.98750000000666/200 [01:37<03:14,  1.47s/it]"
     ]
    },
    {
     "name": "stdout",
     "output_type": "stream",
     "text": [
      "\n",
      "Test Epoch: 67\tAccuracy: 1966/2337 (84%)\n",
      "\n"
     ]
    },
    {
     "name": "stderr",
     "output_type": "stream",
     "text": [
      " 34%|███▎      | 67.06250000000668/200 [01:37<03:42,  1.67s/it]"
     ]
    },
    {
     "name": "stdout",
     "output_type": "stream",
     "text": [
      "Train Epoch: 68 [0/17825 (0%)]\tLoss: 0.142192\n"
     ]
    },
    {
     "name": "stderr",
     "output_type": "stream",
     "text": [
      " 34%|███▎      | 67.31250000000674/200 [01:37<03:37,  1.64s/it]"
     ]
    },
    {
     "name": "stdout",
     "output_type": "stream",
     "text": [
      "Train Epoch: 68 [5120/17825 (29%)]\tLoss: 0.156615\n"
     ]
    },
    {
     "name": "stderr",
     "output_type": "stream",
     "text": [
      " 34%|███▍      | 67.66250000000682/200 [01:38<02:54,  1.32s/it]"
     ]
    },
    {
     "name": "stdout",
     "output_type": "stream",
     "text": [
      "Train Epoch: 68 [10240/17825 (57%)]\tLoss: 0.207836\n"
     ]
    },
    {
     "name": "stderr",
     "output_type": "stream",
     "text": [
      " 34%|███▍      | 67.83750000000686/200 [01:38<02:49,  1.28s/it]"
     ]
    },
    {
     "name": "stdout",
     "output_type": "stream",
     "text": [
      "Train Epoch: 68 [15360/17825 (86%)]\tLoss: 0.162476\n"
     ]
    },
    {
     "name": "stderr",
     "output_type": "stream",
     "text": [
      " 34%|███▍      | 67.92500000000688/200 [01:38<03:24,  1.54s/it]"
     ]
    },
    {
     "name": "stdout",
     "output_type": "stream",
     "text": [
      "\n",
      "Test Epoch: 68\tAccuracy: 1959/2337 (84%)\n",
      "\n"
     ]
    },
    {
     "name": "stderr",
     "output_type": "stream",
     "text": [
      " 34%|███▍      | 68.0125000000069/200 [01:38<03:52,  1.76s/it] "
     ]
    },
    {
     "name": "stdout",
     "output_type": "stream",
     "text": [
      "Train Epoch: 69 [0/17825 (0%)]\tLoss: 0.127035\n"
     ]
    },
    {
     "name": "stderr",
     "output_type": "stream",
     "text": [
      " 34%|███▍      | 68.35000000000697/200 [01:39<03:36,  1.65s/it]"
     ]
    },
    {
     "name": "stdout",
     "output_type": "stream",
     "text": [
      "Train Epoch: 69 [5120/17825 (29%)]\tLoss: 0.120301\n"
     ]
    },
    {
     "name": "stderr",
     "output_type": "stream",
     "text": [
      " 34%|███▍      | 68.61250000000703/200 [01:39<03:02,  1.39s/it]"
     ]
    },
    {
     "name": "stdout",
     "output_type": "stream",
     "text": [
      "Train Epoch: 69 [10240/17825 (57%)]\tLoss: 0.129410\n"
     ]
    },
    {
     "name": "stderr",
     "output_type": "stream",
     "text": [
      " 34%|███▍      | 68.87500000000709/200 [01:40<02:51,  1.30s/it]"
     ]
    },
    {
     "name": "stdout",
     "output_type": "stream",
     "text": [
      "Train Epoch: 69 [15360/17825 (86%)]\tLoss: 0.156058\n"
     ]
    },
    {
     "name": "stderr",
     "output_type": "stream",
     "text": [
      " 34%|███▍      | 68.96250000000711/200 [01:40<03:26,  1.58s/it]"
     ]
    },
    {
     "name": "stdout",
     "output_type": "stream",
     "text": [
      "\n",
      "Test Epoch: 69\tAccuracy: 1962/2337 (84%)\n",
      "\n"
     ]
    },
    {
     "name": "stderr",
     "output_type": "stream",
     "text": [
      " 35%|███▍      | 69.03750000000713/200 [01:40<03:49,  1.76s/it]"
     ]
    },
    {
     "name": "stdout",
     "output_type": "stream",
     "text": [
      "Train Epoch: 70 [0/17825 (0%)]\tLoss: 0.118346\n"
     ]
    },
    {
     "name": "stderr",
     "output_type": "stream",
     "text": [
      " 35%|███▍      | 69.3625000000072/200 [01:40<03:33,  1.63s/it] "
     ]
    },
    {
     "name": "stdout",
     "output_type": "stream",
     "text": [
      "Train Epoch: 70 [5120/17825 (29%)]\tLoss: 0.128702\n"
     ]
    },
    {
     "name": "stderr",
     "output_type": "stream",
     "text": [
      " 35%|███▍      | 69.62500000000726/200 [01:41<02:59,  1.38s/it]"
     ]
    },
    {
     "name": "stdout",
     "output_type": "stream",
     "text": [
      "Train Epoch: 70 [10240/17825 (57%)]\tLoss: 0.133988\n"
     ]
    },
    {
     "name": "stderr",
     "output_type": "stream",
     "text": [
      " 35%|███▍      | 69.8000000000073/200 [01:41<02:52,  1.32s/it] "
     ]
    },
    {
     "name": "stdout",
     "output_type": "stream",
     "text": [
      "Train Epoch: 70 [15360/17825 (86%)]\tLoss: 0.138814\n"
     ]
    },
    {
     "name": "stderr",
     "output_type": "stream",
     "text": [
      " 35%|███▍      | 69.98750000000734/200 [01:41<03:10,  1.46s/it]"
     ]
    },
    {
     "name": "stdout",
     "output_type": "stream",
     "text": [
      "\n",
      "Test Epoch: 70\tAccuracy: 1962/2337 (84%)\n",
      "\n"
     ]
    },
    {
     "name": "stderr",
     "output_type": "stream",
     "text": [
      " 35%|███▌      | 70.06250000000736/200 [01:41<03:35,  1.66s/it]"
     ]
    },
    {
     "name": "stdout",
     "output_type": "stream",
     "text": [
      "Train Epoch: 71 [0/17825 (0%)]\tLoss: 0.122363\n"
     ]
    },
    {
     "name": "stderr",
     "output_type": "stream",
     "text": [
      " 35%|███▌      | 70.31250000000742/200 [01:42<03:31,  1.63s/it]"
     ]
    },
    {
     "name": "stdout",
     "output_type": "stream",
     "text": [
      "Train Epoch: 71 [5120/17825 (29%)]\tLoss: 0.134239\n"
     ]
    },
    {
     "name": "stderr",
     "output_type": "stream",
     "text": [
      " 35%|███▌      | 70.6625000000075/200 [01:42<02:52,  1.33s/it] "
     ]
    },
    {
     "name": "stdout",
     "output_type": "stream",
     "text": [
      "Train Epoch: 71 [10240/17825 (57%)]\tLoss: 0.143078\n"
     ]
    },
    {
     "name": "stderr",
     "output_type": "stream",
     "text": [
      " 35%|███▌      | 70.83750000000754/200 [01:42<02:44,  1.27s/it]"
     ]
    },
    {
     "name": "stdout",
     "output_type": "stream",
     "text": [
      "Train Epoch: 71 [15360/17825 (86%)]\tLoss: 0.132313\n"
     ]
    },
    {
     "name": "stderr",
     "output_type": "stream",
     "text": [
      " 35%|███▌      | 70.92500000000756/200 [01:43<03:18,  1.54s/it]"
     ]
    },
    {
     "name": "stdout",
     "output_type": "stream",
     "text": [
      "\n",
      "Test Epoch: 71\tAccuracy: 1961/2337 (84%)\n",
      "\n"
     ]
    },
    {
     "name": "stderr",
     "output_type": "stream",
     "text": [
      " 36%|███▌      | 71.01250000000758/200 [01:43<03:45,  1.75s/it]"
     ]
    },
    {
     "name": "stdout",
     "output_type": "stream",
     "text": [
      "Train Epoch: 72 [0/17825 (0%)]\tLoss: 0.143092\n"
     ]
    },
    {
     "name": "stderr",
     "output_type": "stream",
     "text": [
      " 36%|███▌      | 71.37500000000766/200 [01:43<03:15,  1.52s/it]"
     ]
    },
    {
     "name": "stdout",
     "output_type": "stream",
     "text": [
      "Train Epoch: 72 [5120/17825 (29%)]\tLoss: 0.112727\n"
     ]
    },
    {
     "name": "stderr",
     "output_type": "stream",
     "text": [
      " 36%|███▌      | 71.63750000000772/200 [01:44<02:48,  1.31s/it]"
     ]
    },
    {
     "name": "stdout",
     "output_type": "stream",
     "text": [
      "Train Epoch: 72 [10240/17825 (57%)]\tLoss: 0.150115\n"
     ]
    },
    {
     "name": "stderr",
     "output_type": "stream",
     "text": [
      " 36%|███▌      | 71.81250000000776/200 [01:44<02:40,  1.25s/it]"
     ]
    },
    {
     "name": "stdout",
     "output_type": "stream",
     "text": [
      "Train Epoch: 72 [15360/17825 (86%)]\tLoss: 0.139591\n"
     ]
    },
    {
     "name": "stderr",
     "output_type": "stream",
     "text": [
      " 36%|███▌      | 71.90000000000778/200 [01:44<03:17,  1.54s/it]"
     ]
    },
    {
     "name": "stdout",
     "output_type": "stream",
     "text": [
      "\n",
      "Test Epoch: 72\tAccuracy: 1967/2337 (84%)\n",
      "\n"
     ]
    },
    {
     "name": "stderr",
     "output_type": "stream",
     "text": [
      " 36%|███▌      | 72.0125000000078/200 [01:44<03:35,  1.68s/it] "
     ]
    },
    {
     "name": "stdout",
     "output_type": "stream",
     "text": [
      "Train Epoch: 73 [0/17825 (0%)]\tLoss: 0.158809\n"
     ]
    },
    {
     "name": "stderr",
     "output_type": "stream",
     "text": [
      " 36%|███▌      | 72.37500000000789/200 [01:45<03:14,  1.52s/it]"
     ]
    },
    {
     "name": "stdout",
     "output_type": "stream",
     "text": [
      "Train Epoch: 73 [5120/17825 (29%)]\tLoss: 0.141610\n"
     ]
    },
    {
     "name": "stderr",
     "output_type": "stream",
     "text": [
      " 36%|███▋      | 72.63750000000795/200 [01:45<02:47,  1.32s/it]"
     ]
    },
    {
     "name": "stdout",
     "output_type": "stream",
     "text": [
      "Train Epoch: 73 [10240/17825 (57%)]\tLoss: 0.170062\n"
     ]
    },
    {
     "name": "stderr",
     "output_type": "stream",
     "text": [
      " 36%|███▋      | 72.81250000000799/200 [01:45<02:40,  1.26s/it]"
     ]
    },
    {
     "name": "stdout",
     "output_type": "stream",
     "text": [
      "Train Epoch: 73 [15360/17825 (86%)]\tLoss: 0.127206\n"
     ]
    },
    {
     "name": "stderr",
     "output_type": "stream",
     "text": [
      " 36%|███▋      | 72.900000000008/200 [01:45<03:17,  1.55s/it]  "
     ]
    },
    {
     "name": "stdout",
     "output_type": "stream",
     "text": [
      "\n",
      "Test Epoch: 73\tAccuracy: 1966/2337 (84%)\n",
      "\n"
     ]
    },
    {
     "name": "stderr",
     "output_type": "stream",
     "text": [
      " 37%|███▋      | 73.01250000000803/200 [01:46<03:33,  1.68s/it]"
     ]
    },
    {
     "name": "stdout",
     "output_type": "stream",
     "text": [
      "Train Epoch: 74 [0/17825 (0%)]\tLoss: 0.144430\n"
     ]
    },
    {
     "name": "stderr",
     "output_type": "stream",
     "text": [
      " 37%|███▋      | 73.2875000000081/200 [01:46<02:55,  1.39s/it] "
     ]
    },
    {
     "name": "stdout",
     "output_type": "stream",
     "text": [
      "Train Epoch: 74 [5120/17825 (29%)]\tLoss: 0.132167\n"
     ]
    },
    {
     "name": "stderr",
     "output_type": "stream",
     "text": [
      " 37%|███▋      | 73.63750000000817/200 [01:47<02:53,  1.37s/it]"
     ]
    },
    {
     "name": "stdout",
     "output_type": "stream",
     "text": [
      "Train Epoch: 74 [10240/17825 (57%)]\tLoss: 0.175137\n"
     ]
    },
    {
     "name": "stderr",
     "output_type": "stream",
     "text": [
      " 37%|███▋      | 73.81250000000821/200 [01:47<02:49,  1.35s/it]"
     ]
    },
    {
     "name": "stdout",
     "output_type": "stream",
     "text": [
      "Train Epoch: 74 [15360/17825 (86%)]\tLoss: 0.136947\n"
     ]
    },
    {
     "name": "stderr",
     "output_type": "stream",
     "text": [
      " 37%|███▋      | 73.98750000000825/200 [01:47<03:09,  1.50s/it]"
     ]
    },
    {
     "name": "stdout",
     "output_type": "stream",
     "text": [
      "\n",
      "Test Epoch: 74\tAccuracy: 1967/2337 (84%)\n",
      "\n"
     ]
    },
    {
     "name": "stderr",
     "output_type": "stream",
     "text": [
      " 37%|███▋      | 74.06250000000827/200 [01:47<03:34,  1.70s/it]"
     ]
    },
    {
     "name": "stdout",
     "output_type": "stream",
     "text": [
      "Train Epoch: 75 [0/17825 (0%)]\tLoss: 0.187626\n"
     ]
    },
    {
     "name": "stderr",
     "output_type": "stream",
     "text": [
      " 37%|███▋      | 74.31250000000833/200 [01:48<03:25,  1.63s/it]"
     ]
    },
    {
     "name": "stdout",
     "output_type": "stream",
     "text": [
      "Train Epoch: 75 [5120/17825 (29%)]\tLoss: 0.138651\n"
     ]
    },
    {
     "name": "stderr",
     "output_type": "stream",
     "text": [
      " 37%|███▋      | 74.6500000000084/200 [01:48<02:48,  1.34s/it] "
     ]
    },
    {
     "name": "stdout",
     "output_type": "stream",
     "text": [
      "Train Epoch: 75 [10240/17825 (57%)]\tLoss: 0.129083\n"
     ]
    },
    {
     "name": "stderr",
     "output_type": "stream",
     "text": [
      " 37%|███▋      | 74.82500000000844/200 [01:48<02:40,  1.28s/it]"
     ]
    },
    {
     "name": "stdout",
     "output_type": "stream",
     "text": [
      "Train Epoch: 75 [15360/17825 (86%)]\tLoss: 0.159419\n"
     ]
    },
    {
     "name": "stderr",
     "output_type": "stream",
     "text": [
      " 37%|███▋      | 74.91250000000846/200 [01:48<03:13,  1.54s/it]"
     ]
    },
    {
     "name": "stdout",
     "output_type": "stream",
     "text": [
      "\n",
      "Test Epoch: 75\tAccuracy: 1967/2337 (84%)\n",
      "\n"
     ]
    },
    {
     "name": "stderr",
     "output_type": "stream",
     "text": [
      " 38%|███▊      | 75.01250000000849/200 [01:49<03:39,  1.75s/it]"
     ]
    },
    {
     "name": "stdout",
     "output_type": "stream",
     "text": [
      "Train Epoch: 76 [0/17825 (0%)]\tLoss: 0.133513\n"
     ]
    },
    {
     "name": "stderr",
     "output_type": "stream",
     "text": [
      " 38%|███▊      | 75.37500000000857/200 [01:49<03:12,  1.55s/it]"
     ]
    },
    {
     "name": "stdout",
     "output_type": "stream",
     "text": [
      "Train Epoch: 76 [5120/17825 (29%)]\tLoss: 0.152427\n"
     ]
    },
    {
     "name": "stderr",
     "output_type": "stream",
     "text": [
      " 38%|███▊      | 75.63750000000863/200 [01:49<02:42,  1.31s/it]"
     ]
    },
    {
     "name": "stdout",
     "output_type": "stream",
     "text": [
      "Train Epoch: 76 [10240/17825 (57%)]\tLoss: 0.139717\n"
     ]
    },
    {
     "name": "stderr",
     "output_type": "stream",
     "text": [
      " 38%|███▊      | 75.81250000000867/200 [01:50<02:35,  1.25s/it]"
     ]
    },
    {
     "name": "stdout",
     "output_type": "stream",
     "text": [
      "Train Epoch: 76 [15360/17825 (86%)]\tLoss: 0.111544\n"
     ]
    },
    {
     "name": "stderr",
     "output_type": "stream",
     "text": [
      " 38%|███▊      | 75.90000000000869/200 [01:50<03:09,  1.53s/it]"
     ]
    },
    {
     "name": "stdout",
     "output_type": "stream",
     "text": [
      "\n",
      "Test Epoch: 76\tAccuracy: 1955/2337 (84%)\n",
      "\n"
     ]
    },
    {
     "name": "stderr",
     "output_type": "stream",
     "text": [
      " 38%|███▊      | 76.01250000000871/200 [01:50<03:27,  1.68s/it]"
     ]
    },
    {
     "name": "stdout",
     "output_type": "stream",
     "text": [
      "Train Epoch: 77 [0/17825 (0%)]\tLoss: 0.105325\n"
     ]
    },
    {
     "name": "stderr",
     "output_type": "stream",
     "text": [
      " 38%|███▊      | 76.28750000000878/200 [01:50<02:46,  1.34s/it]"
     ]
    },
    {
     "name": "stdout",
     "output_type": "stream",
     "text": [
      "Train Epoch: 77 [5120/17825 (29%)]\tLoss: 0.167774\n"
     ]
    },
    {
     "name": "stderr",
     "output_type": "stream",
     "text": [
      " 38%|███▊      | 76.63750000000886/200 [01:51<02:44,  1.33s/it]"
     ]
    },
    {
     "name": "stdout",
     "output_type": "stream",
     "text": [
      "Train Epoch: 77 [10240/17825 (57%)]\tLoss: 0.166668\n"
     ]
    },
    {
     "name": "stderr",
     "output_type": "stream",
     "text": [
      " 38%|███▊      | 76.8125000000089/200 [01:51<02:36,  1.27s/it] "
     ]
    },
    {
     "name": "stdout",
     "output_type": "stream",
     "text": [
      "Train Epoch: 77 [15360/17825 (86%)]\tLoss: 0.186734\n"
     ]
    },
    {
     "name": "stderr",
     "output_type": "stream",
     "text": [
      " 38%|███▊      | 76.98750000000894/200 [01:51<02:58,  1.45s/it]"
     ]
    },
    {
     "name": "stdout",
     "output_type": "stream",
     "text": [
      "\n",
      "Test Epoch: 77\tAccuracy: 1965/2337 (84%)\n",
      "\n"
     ]
    },
    {
     "name": "stderr",
     "output_type": "stream",
     "text": [
      " 39%|███▊      | 77.06250000000895/200 [01:52<03:23,  1.66s/it]"
     ]
    },
    {
     "name": "stdout",
     "output_type": "stream",
     "text": [
      "Train Epoch: 78 [0/17825 (0%)]\tLoss: 0.177889\n"
     ]
    },
    {
     "name": "stderr",
     "output_type": "stream",
     "text": [
      " 39%|███▊      | 77.31250000000901/200 [01:52<03:23,  1.66s/it]"
     ]
    },
    {
     "name": "stdout",
     "output_type": "stream",
     "text": [
      "Train Epoch: 78 [5120/17825 (29%)]\tLoss: 0.132418\n"
     ]
    },
    {
     "name": "stderr",
     "output_type": "stream",
     "text": [
      " 39%|███▉      | 77.66250000000909/200 [01:52<02:46,  1.36s/it]"
     ]
    },
    {
     "name": "stdout",
     "output_type": "stream",
     "text": [
      "Train Epoch: 78 [10240/17825 (57%)]\tLoss: 0.129920\n"
     ]
    },
    {
     "name": "stderr",
     "output_type": "stream",
     "text": [
      " 39%|███▉      | 77.83750000000913/200 [01:53<02:40,  1.31s/it]"
     ]
    },
    {
     "name": "stdout",
     "output_type": "stream",
     "text": [
      "Train Epoch: 78 [15360/17825 (86%)]\tLoss: 0.195398\n"
     ]
    },
    {
     "name": "stderr",
     "output_type": "stream",
     "text": [
      " 39%|███▉      | 77.92500000000915/200 [01:53<03:13,  1.58s/it]"
     ]
    },
    {
     "name": "stdout",
     "output_type": "stream",
     "text": [
      "\n",
      "Test Epoch: 78\tAccuracy: 1966/2337 (84%)\n",
      "\n"
     ]
    },
    {
     "name": "stderr",
     "output_type": "stream",
     "text": [
      " 39%|███▉      | 78.01250000000917/200 [01:53<03:37,  1.79s/it]"
     ]
    },
    {
     "name": "stdout",
     "output_type": "stream",
     "text": [
      "Train Epoch: 79 [0/17825 (0%)]\tLoss: 0.115258\n"
     ]
    },
    {
     "name": "stderr",
     "output_type": "stream",
     "text": [
      " 39%|███▉      | 78.36250000000925/200 [01:54<03:17,  1.62s/it]"
     ]
    },
    {
     "name": "stdout",
     "output_type": "stream",
     "text": [
      "Train Epoch: 79 [5120/17825 (29%)]\tLoss: 0.075799\n"
     ]
    },
    {
     "name": "stderr",
     "output_type": "stream",
     "text": [
      " 39%|███▉      | 78.62500000000931/200 [01:54<02:47,  1.38s/it]"
     ]
    },
    {
     "name": "stdout",
     "output_type": "stream",
     "text": [
      "Train Epoch: 79 [10240/17825 (57%)]\tLoss: 0.195963\n"
     ]
    },
    {
     "name": "stderr",
     "output_type": "stream",
     "text": [
      " 39%|███▉      | 78.80000000000935/200 [01:54<02:37,  1.30s/it]"
     ]
    },
    {
     "name": "stdout",
     "output_type": "stream",
     "text": [
      "Train Epoch: 79 [15360/17825 (86%)]\tLoss: 0.136114\n"
     ]
    },
    {
     "name": "stderr",
     "output_type": "stream",
     "text": [
      " 39%|███▉      | 78.98750000000939/200 [01:54<02:53,  1.43s/it]"
     ]
    },
    {
     "name": "stdout",
     "output_type": "stream",
     "text": [
      "\n",
      "Test Epoch: 79\tAccuracy: 1963/2337 (84%)\n",
      "\n"
     ]
    },
    {
     "name": "stderr",
     "output_type": "stream",
     "text": [
      " 40%|███▉      | 79.07500000000941/200 [01:55<03:16,  1.63s/it]"
     ]
    },
    {
     "name": "stdout",
     "output_type": "stream",
     "text": [
      "Train Epoch: 80 [0/17825 (0%)]\tLoss: 0.156424\n"
     ]
    },
    {
     "name": "stderr",
     "output_type": "stream",
     "text": [
      " 40%|███▉      | 79.32500000000947/200 [01:55<03:15,  1.62s/it]"
     ]
    },
    {
     "name": "stdout",
     "output_type": "stream",
     "text": [
      "Train Epoch: 80 [5120/17825 (29%)]\tLoss: 0.162611\n"
     ]
    },
    {
     "name": "stderr",
     "output_type": "stream",
     "text": [
      " 40%|███▉      | 79.67500000000955/200 [01:55<02:39,  1.32s/it]"
     ]
    },
    {
     "name": "stdout",
     "output_type": "stream",
     "text": [
      "Train Epoch: 80 [10240/17825 (57%)]\tLoss: 0.137046\n"
     ]
    },
    {
     "name": "stderr",
     "output_type": "stream",
     "text": [
      " 40%|███▉      | 79.85000000000959/200 [01:56<02:35,  1.29s/it]"
     ]
    },
    {
     "name": "stdout",
     "output_type": "stream",
     "text": [
      "Train Epoch: 80 [15360/17825 (86%)]\tLoss: 0.130914\n"
     ]
    },
    {
     "name": "stderr",
     "output_type": "stream",
     "text": [
      " 40%|███▉      | 79.9375000000096/200 [01:56<03:05,  1.54s/it] "
     ]
    },
    {
     "name": "stdout",
     "output_type": "stream",
     "text": [
      "\n",
      "Test Epoch: 80\tAccuracy: 1961/2337 (84%)\n",
      "\n"
     ]
    },
    {
     "name": "stderr",
     "output_type": "stream",
     "text": [
      " 40%|████      | 80.01250000000962/200 [01:56<03:32,  1.77s/it]"
     ]
    },
    {
     "name": "stdout",
     "output_type": "stream",
     "text": [
      "Train Epoch: 81 [0/17825 (0%)]\tLoss: 0.140360\n"
     ]
    },
    {
     "name": "stderr",
     "output_type": "stream",
     "text": [
      " 40%|████      | 80.3625000000097/200 [01:56<03:10,  1.59s/it] "
     ]
    },
    {
     "name": "stdout",
     "output_type": "stream",
     "text": [
      "Train Epoch: 81 [5120/17825 (29%)]\tLoss: 0.160471\n"
     ]
    },
    {
     "name": "stderr",
     "output_type": "stream",
     "text": [
      " 40%|████      | 80.62500000000976/200 [01:57<02:43,  1.37s/it]"
     ]
    },
    {
     "name": "stdout",
     "output_type": "stream",
     "text": [
      "Train Epoch: 81 [10240/17825 (57%)]\tLoss: 0.155589\n"
     ]
    },
    {
     "name": "stderr",
     "output_type": "stream",
     "text": [
      " 40%|████      | 80.8000000000098/200 [01:57<02:36,  1.31s/it] "
     ]
    },
    {
     "name": "stdout",
     "output_type": "stream",
     "text": [
      "Train Epoch: 81 [15360/17825 (86%)]\tLoss: 0.118631\n"
     ]
    },
    {
     "name": "stderr",
     "output_type": "stream",
     "text": [
      " 40%|████      | 80.98750000000985/200 [01:57<02:50,  1.43s/it]"
     ]
    },
    {
     "name": "stdout",
     "output_type": "stream",
     "text": [
      "\n",
      "Test Epoch: 81\tAccuracy: 1962/2337 (84%)\n",
      "\n"
     ]
    },
    {
     "name": "stderr",
     "output_type": "stream",
     "text": [
      " 41%|████      | 81.07500000000987/200 [01:58<03:14,  1.63s/it]"
     ]
    },
    {
     "name": "stdout",
     "output_type": "stream",
     "text": [
      "Train Epoch: 82 [0/17825 (0%)]\tLoss: 0.115840\n"
     ]
    },
    {
     "name": "stderr",
     "output_type": "stream",
     "text": [
      " 41%|████      | 81.32500000000992/200 [01:58<03:12,  1.62s/it]"
     ]
    },
    {
     "name": "stdout",
     "output_type": "stream",
     "text": [
      "Train Epoch: 82 [5120/17825 (29%)]\tLoss: 0.084409\n"
     ]
    },
    {
     "name": "stderr",
     "output_type": "stream",
     "text": [
      " 41%|████      | 81.58750000000998/200 [01:58<02:42,  1.38s/it]"
     ]
    },
    {
     "name": "stdout",
     "output_type": "stream",
     "text": [
      "Train Epoch: 82 [10240/17825 (57%)]\tLoss: 0.163734\n"
     ]
    },
    {
     "name": "stderr",
     "output_type": "stream",
     "text": [
      " 41%|████      | 81.85000000001004/200 [01:59<02:33,  1.30s/it]"
     ]
    },
    {
     "name": "stdout",
     "output_type": "stream",
     "text": [
      "Train Epoch: 82 [15360/17825 (86%)]\tLoss: 0.151263\n"
     ]
    },
    {
     "name": "stderr",
     "output_type": "stream",
     "text": [
      " 41%|████      | 81.93750000001006/200 [01:59<03:02,  1.54s/it]"
     ]
    },
    {
     "name": "stdout",
     "output_type": "stream",
     "text": [
      "\n",
      "Test Epoch: 82\tAccuracy: 1968/2337 (84%)\n",
      "\n"
     ]
    },
    {
     "name": "stderr",
     "output_type": "stream",
     "text": [
      " 41%|████      | 82.01250000001008/200 [01:59<03:30,  1.78s/it]"
     ]
    },
    {
     "name": "stdout",
     "output_type": "stream",
     "text": [
      "Train Epoch: 83 [0/17825 (0%)]\tLoss: 0.122329\n"
     ]
    },
    {
     "name": "stderr",
     "output_type": "stream",
     "text": [
      " 41%|████      | 82.36250000001016/200 [01:59<03:06,  1.59s/it]"
     ]
    },
    {
     "name": "stdout",
     "output_type": "stream",
     "text": [
      "Train Epoch: 83 [5120/17825 (29%)]\tLoss: 0.146478\n"
     ]
    },
    {
     "name": "stderr",
     "output_type": "stream",
     "text": [
      " 41%|████▏     | 82.62500000001022/200 [02:00<02:38,  1.35s/it]"
     ]
    },
    {
     "name": "stdout",
     "output_type": "stream",
     "text": [
      "Train Epoch: 83 [10240/17825 (57%)]\tLoss: 0.185590\n"
     ]
    },
    {
     "name": "stderr",
     "output_type": "stream",
     "text": [
      " 41%|████▏     | 82.80000000001026/200 [02:00<02:30,  1.29s/it]"
     ]
    },
    {
     "name": "stdout",
     "output_type": "stream",
     "text": [
      "Train Epoch: 83 [15360/17825 (86%)]\tLoss: 0.134661\n"
     ]
    },
    {
     "name": "stderr",
     "output_type": "stream",
     "text": [
      " 41%|████▏     | 82.9875000000103/200 [02:00<02:45,  1.42s/it] "
     ]
    },
    {
     "name": "stdout",
     "output_type": "stream",
     "text": [
      "\n",
      "Test Epoch: 83\tAccuracy: 1964/2337 (84%)\n",
      "\n"
     ]
    },
    {
     "name": "stderr",
     "output_type": "stream",
     "text": [
      " 42%|████▏     | 83.07500000001032/200 [02:00<03:08,  1.62s/it]"
     ]
    },
    {
     "name": "stdout",
     "output_type": "stream",
     "text": [
      "Train Epoch: 84 [0/17825 (0%)]\tLoss: 0.107108\n"
     ]
    },
    {
     "name": "stderr",
     "output_type": "stream",
     "text": [
      " 42%|████▏     | 83.32500000001038/200 [02:01<03:06,  1.60s/it]"
     ]
    },
    {
     "name": "stdout",
     "output_type": "stream",
     "text": [
      "Train Epoch: 84 [5120/17825 (29%)]\tLoss: 0.122953\n"
     ]
    },
    {
     "name": "stderr",
     "output_type": "stream",
     "text": [
      " 42%|████▏     | 83.67500000001046/200 [02:01<02:32,  1.31s/it]"
     ]
    },
    {
     "name": "stdout",
     "output_type": "stream",
     "text": [
      "Train Epoch: 84 [10240/17825 (57%)]\tLoss: 0.182962\n"
     ]
    },
    {
     "name": "stderr",
     "output_type": "stream",
     "text": [
      " 42%|████▏     | 83.8500000000105/200 [02:01<02:27,  1.27s/it] "
     ]
    },
    {
     "name": "stdout",
     "output_type": "stream",
     "text": [
      "Train Epoch: 84 [15360/17825 (86%)]\tLoss: 0.133004\n"
     ]
    },
    {
     "name": "stderr",
     "output_type": "stream",
     "text": [
      " 42%|████▏     | 83.93750000001052/200 [02:02<02:58,  1.54s/it]"
     ]
    },
    {
     "name": "stdout",
     "output_type": "stream",
     "text": [
      "\n",
      "Test Epoch: 84\tAccuracy: 1961/2337 (84%)\n",
      "\n"
     ]
    },
    {
     "name": "stderr",
     "output_type": "stream",
     "text": [
      " 42%|████▏     | 84.01250000001053/200 [02:02<03:26,  1.78s/it]"
     ]
    },
    {
     "name": "stdout",
     "output_type": "stream",
     "text": [
      "Train Epoch: 85 [0/17825 (0%)]\tLoss: 0.155624\n"
     ]
    },
    {
     "name": "stderr",
     "output_type": "stream",
     "text": [
      " 42%|████▏     | 84.2875000000106/200 [02:02<02:40,  1.39s/it] "
     ]
    },
    {
     "name": "stdout",
     "output_type": "stream",
     "text": [
      "Train Epoch: 85 [5120/17825 (29%)]\tLoss: 0.100867\n"
     ]
    },
    {
     "name": "stderr",
     "output_type": "stream",
     "text": [
      " 42%|████▏     | 84.63750000001068/200 [02:03<02:38,  1.37s/it]"
     ]
    },
    {
     "name": "stdout",
     "output_type": "stream",
     "text": [
      "Train Epoch: 85 [10240/17825 (57%)]\tLoss: 0.177570\n"
     ]
    },
    {
     "name": "stderr",
     "output_type": "stream",
     "text": [
      " 42%|████▏     | 84.81250000001071/200 [02:03<02:30,  1.31s/it]"
     ]
    },
    {
     "name": "stdout",
     "output_type": "stream",
     "text": [
      "Train Epoch: 85 [15360/17825 (86%)]\tLoss: 0.173972\n"
     ]
    },
    {
     "name": "stderr",
     "output_type": "stream",
     "text": [
      " 43%|████▎     | 85.00000000001076/200 [02:03<02:40,  1.39s/it]"
     ]
    },
    {
     "name": "stdout",
     "output_type": "stream",
     "text": [
      "\n",
      "Test Epoch: 85\tAccuracy: 1966/2337 (84%)\n",
      "\n"
     ]
    },
    {
     "name": "stderr",
     "output_type": "stream",
     "text": [
      " 43%|████▎     | 85.08750000001078/200 [02:03<03:11,  1.67s/it]"
     ]
    },
    {
     "name": "stdout",
     "output_type": "stream",
     "text": [
      "Train Epoch: 86 [0/17825 (0%)]\tLoss: 0.099586\n"
     ]
    },
    {
     "name": "stderr",
     "output_type": "stream",
     "text": [
      " 43%|████▎     | 85.33750000001083/200 [02:04<03:05,  1.62s/it]"
     ]
    },
    {
     "name": "stdout",
     "output_type": "stream",
     "text": [
      "Train Epoch: 86 [5120/17825 (29%)]\tLoss: 0.134692\n"
     ]
    },
    {
     "name": "stderr",
     "output_type": "stream",
     "text": [
      " 43%|████▎     | 85.6000000000109/200 [02:04<02:37,  1.38s/it] "
     ]
    },
    {
     "name": "stdout",
     "output_type": "stream",
     "text": [
      "Train Epoch: 86 [10240/17825 (57%)]\tLoss: 0.147402\n"
     ]
    },
    {
     "name": "stderr",
     "output_type": "stream",
     "text": [
      " 43%|████▎     | 85.86250000001095/200 [02:04<02:27,  1.29s/it]"
     ]
    },
    {
     "name": "stdout",
     "output_type": "stream",
     "text": [
      "Train Epoch: 86 [15360/17825 (86%)]\tLoss: 0.134746\n"
     ]
    },
    {
     "name": "stderr",
     "output_type": "stream",
     "text": [
      " 43%|████▎     | 85.95000000001097/200 [02:05<02:56,  1.55s/it]"
     ]
    },
    {
     "name": "stdout",
     "output_type": "stream",
     "text": [
      "\n",
      "Test Epoch: 86\tAccuracy: 1964/2337 (84%)\n",
      "\n"
     ]
    },
    {
     "name": "stderr",
     "output_type": "stream",
     "text": [
      " 43%|████▎     | 86.02500000001099/200 [02:05<03:20,  1.76s/it]"
     ]
    },
    {
     "name": "stdout",
     "output_type": "stream",
     "text": [
      "Train Epoch: 87 [0/17825 (0%)]\tLoss: 0.130376\n"
     ]
    },
    {
     "name": "stderr",
     "output_type": "stream",
     "text": [
      " 43%|████▎     | 86.36250000001107/200 [02:05<03:00,  1.59s/it]"
     ]
    },
    {
     "name": "stdout",
     "output_type": "stream",
     "text": [
      "Train Epoch: 87 [5120/17825 (29%)]\tLoss: 0.144183\n"
     ]
    },
    {
     "name": "stderr",
     "output_type": "stream",
     "text": [
      " 43%|████▎     | 86.62500000001113/200 [02:06<02:32,  1.35s/it]"
     ]
    },
    {
     "name": "stdout",
     "output_type": "stream",
     "text": [
      "Train Epoch: 87 [10240/17825 (57%)]\tLoss: 0.142177\n"
     ]
    },
    {
     "name": "stderr",
     "output_type": "stream",
     "text": [
      " 43%|████▎     | 86.80000000001117/200 [02:06<02:26,  1.29s/it]"
     ]
    },
    {
     "name": "stdout",
     "output_type": "stream",
     "text": [
      "Train Epoch: 87 [15360/17825 (86%)]\tLoss: 0.133888\n"
     ]
    },
    {
     "name": "stderr",
     "output_type": "stream",
     "text": [
      " 43%|████▎     | 86.98750000001121/200 [02:06<02:40,  1.42s/it]"
     ]
    },
    {
     "name": "stdout",
     "output_type": "stream",
     "text": [
      "\n",
      "Test Epoch: 87\tAccuracy: 1964/2337 (84%)\n",
      "\n"
     ]
    },
    {
     "name": "stderr",
     "output_type": "stream",
     "text": [
      " 44%|████▎     | 87.07500000001123/200 [02:06<03:03,  1.62s/it]"
     ]
    },
    {
     "name": "stdout",
     "output_type": "stream",
     "text": [
      "Train Epoch: 88 [0/17825 (0%)]\tLoss: 0.180524\n"
     ]
    },
    {
     "name": "stderr",
     "output_type": "stream",
     "text": [
      " 44%|████▎     | 87.32500000001129/200 [02:07<03:00,  1.60s/it]"
     ]
    },
    {
     "name": "stdout",
     "output_type": "stream",
     "text": [
      "Train Epoch: 88 [5120/17825 (29%)]\tLoss: 0.148555\n"
     ]
    },
    {
     "name": "stderr",
     "output_type": "stream",
     "text": [
      " 44%|████▍     | 87.67500000001137/200 [02:07<02:28,  1.33s/it]"
     ]
    },
    {
     "name": "stdout",
     "output_type": "stream",
     "text": [
      "Train Epoch: 88 [10240/17825 (57%)]\tLoss: 0.123181\n"
     ]
    },
    {
     "name": "stderr",
     "output_type": "stream",
     "text": [
      " 44%|████▍     | 87.8500000000114/200 [02:07<02:24,  1.29s/it] "
     ]
    },
    {
     "name": "stdout",
     "output_type": "stream",
     "text": [
      "Train Epoch: 88 [15360/17825 (86%)]\tLoss: 0.141681\n"
     ]
    },
    {
     "name": "stderr",
     "output_type": "stream",
     "text": [
      " 44%|████▍     | 87.93750000001143/200 [02:07<02:54,  1.55s/it]"
     ]
    },
    {
     "name": "stdout",
     "output_type": "stream",
     "text": [
      "\n",
      "Test Epoch: 88\tAccuracy: 1959/2337 (84%)\n",
      "\n"
     ]
    },
    {
     "name": "stderr",
     "output_type": "stream",
     "text": [
      " 44%|████▍     | 88.01250000001144/200 [02:08<03:20,  1.79s/it]"
     ]
    },
    {
     "name": "stdout",
     "output_type": "stream",
     "text": [
      "Train Epoch: 89 [0/17825 (0%)]\tLoss: 0.180609\n"
     ]
    },
    {
     "name": "stderr",
     "output_type": "stream",
     "text": [
      " 44%|████▍     | 88.37500000001153/200 [02:08<02:48,  1.51s/it]"
     ]
    },
    {
     "name": "stdout",
     "output_type": "stream",
     "text": [
      "Train Epoch: 89 [5120/17825 (29%)]\tLoss: 0.177776\n"
     ]
    },
    {
     "name": "stderr",
     "output_type": "stream",
     "text": [
      " 44%|████▍     | 88.63750000001158/200 [02:08<02:25,  1.30s/it]"
     ]
    },
    {
     "name": "stdout",
     "output_type": "stream",
     "text": [
      "Train Epoch: 89 [10240/17825 (57%)]\tLoss: 0.130327\n"
     ]
    },
    {
     "name": "stderr",
     "output_type": "stream",
     "text": [
      " 44%|████▍     | 88.81250000001162/200 [02:09<02:17,  1.24s/it]"
     ]
    },
    {
     "name": "stdout",
     "output_type": "stream",
     "text": [
      "Train Epoch: 89 [15360/17825 (86%)]\tLoss: 0.159035\n"
     ]
    },
    {
     "name": "stderr",
     "output_type": "stream",
     "text": [
      " 44%|████▍     | 88.90000000001164/200 [02:09<02:49,  1.53s/it]"
     ]
    },
    {
     "name": "stdout",
     "output_type": "stream",
     "text": [
      "\n",
      "Test Epoch: 89\tAccuracy: 1966/2337 (84%)\n",
      "\n"
     ]
    },
    {
     "name": "stderr",
     "output_type": "stream",
     "text": [
      " 45%|████▍     | 89.01250000001167/200 [02:09<03:04,  1.66s/it]"
     ]
    },
    {
     "name": "stdout",
     "output_type": "stream",
     "text": [
      "Train Epoch: 90 [0/17825 (0%)]\tLoss: 0.164124\n"
     ]
    },
    {
     "name": "stderr",
     "output_type": "stream",
     "text": [
      " 45%|████▍     | 89.28750000001173/200 [02:09<02:31,  1.37s/it]"
     ]
    },
    {
     "name": "stdout",
     "output_type": "stream",
     "text": [
      "Train Epoch: 90 [5120/17825 (29%)]\tLoss: 0.128938\n"
     ]
    },
    {
     "name": "stderr",
     "output_type": "stream",
     "text": [
      " 45%|████▍     | 89.63750000001181/200 [02:10<02:28,  1.35s/it]"
     ]
    },
    {
     "name": "stdout",
     "output_type": "stream",
     "text": [
      "Train Epoch: 90 [10240/17825 (57%)]\tLoss: 0.206422\n"
     ]
    },
    {
     "name": "stderr",
     "output_type": "stream",
     "text": [
      " 45%|████▍     | 89.81250000001185/200 [02:10<02:22,  1.29s/it]"
     ]
    },
    {
     "name": "stdout",
     "output_type": "stream",
     "text": [
      "Train Epoch: 90 [15360/17825 (86%)]\tLoss: 0.121150\n"
     ]
    },
    {
     "name": "stderr",
     "output_type": "stream",
     "text": [
      " 45%|████▍     | 89.90000000001187/200 [02:10<02:51,  1.56s/it]"
     ]
    },
    {
     "name": "stdout",
     "output_type": "stream",
     "text": [
      "\n",
      "Test Epoch: 90\tAccuracy: 1966/2337 (84%)\n",
      "\n"
     ]
    },
    {
     "name": "stderr",
     "output_type": "stream",
     "text": [
      " 45%|████▌     | 90.0125000000119/200 [02:11<03:06,  1.70s/it] "
     ]
    },
    {
     "name": "stdout",
     "output_type": "stream",
     "text": [
      "Train Epoch: 91 [0/17825 (0%)]\tLoss: 0.142661\n"
     ]
    },
    {
     "name": "stderr",
     "output_type": "stream",
     "text": [
      " 45%|████▌     | 90.28750000001196/200 [02:11<02:28,  1.36s/it]"
     ]
    },
    {
     "name": "stdout",
     "output_type": "stream",
     "text": [
      "Train Epoch: 91 [5120/17825 (29%)]\tLoss: 0.157036\n"
     ]
    },
    {
     "name": "stderr",
     "output_type": "stream",
     "text": [
      " 45%|████▌     | 90.63750000001204/200 [02:11<02:25,  1.33s/it]"
     ]
    },
    {
     "name": "stdout",
     "output_type": "stream",
     "text": [
      "Train Epoch: 91 [10240/17825 (57%)]\tLoss: 0.179842\n"
     ]
    },
    {
     "name": "stderr",
     "output_type": "stream",
     "text": [
      " 45%|████▌     | 90.81250000001208/200 [02:12<02:19,  1.28s/it]"
     ]
    },
    {
     "name": "stdout",
     "output_type": "stream",
     "text": [
      "Train Epoch: 91 [15360/17825 (86%)]\tLoss: 0.159468\n"
     ]
    },
    {
     "name": "stderr",
     "output_type": "stream",
     "text": [
      " 46%|████▌     | 91.00000000001212/200 [02:12<02:29,  1.37s/it]"
     ]
    },
    {
     "name": "stdout",
     "output_type": "stream",
     "text": [
      "\n",
      "Test Epoch: 91\tAccuracy: 1962/2337 (84%)\n",
      "\n"
     ]
    },
    {
     "name": "stderr",
     "output_type": "stream",
     "text": [
      " 46%|████▌     | 91.08750000001214/200 [02:12<02:55,  1.61s/it]"
     ]
    },
    {
     "name": "stdout",
     "output_type": "stream",
     "text": [
      "Train Epoch: 92 [0/17825 (0%)]\tLoss: 0.148058\n"
     ]
    },
    {
     "name": "stderr",
     "output_type": "stream",
     "text": [
      " 46%|████▌     | 91.3500000000122/200 [02:12<02:50,  1.57s/it] "
     ]
    },
    {
     "name": "stdout",
     "output_type": "stream",
     "text": [
      "Train Epoch: 92 [5120/17825 (29%)]\tLoss: 0.192362\n"
     ]
    },
    {
     "name": "stderr",
     "output_type": "stream",
     "text": [
      " 46%|████▌     | 91.61250000001226/200 [02:13<02:26,  1.35s/it]"
     ]
    },
    {
     "name": "stdout",
     "output_type": "stream",
     "text": [
      "Train Epoch: 92 [10240/17825 (57%)]\tLoss: 0.151032\n"
     ]
    },
    {
     "name": "stderr",
     "output_type": "stream",
     "text": [
      " 46%|████▌     | 91.7875000000123/200 [02:13<02:18,  1.28s/it] "
     ]
    },
    {
     "name": "stdout",
     "output_type": "stream",
     "text": [
      "Train Epoch: 92 [15360/17825 (86%)]\tLoss: 0.149980\n"
     ]
    },
    {
     "name": "stderr",
     "output_type": "stream",
     "text": [
      " 46%|████▌     | 91.98750000001235/200 [02:13<02:33,  1.42s/it]"
     ]
    },
    {
     "name": "stdout",
     "output_type": "stream",
     "text": [
      "\n",
      "Test Epoch: 92\tAccuracy: 1962/2337 (84%)\n",
      "\n"
     ]
    },
    {
     "name": "stderr",
     "output_type": "stream",
     "text": [
      " 46%|████▌     | 92.07500000001237/200 [02:13<02:54,  1.62s/it]"
     ]
    },
    {
     "name": "stdout",
     "output_type": "stream",
     "text": [
      "Train Epoch: 93 [0/17825 (0%)]\tLoss: 0.137375\n"
     ]
    },
    {
     "name": "stderr",
     "output_type": "stream",
     "text": [
      " 46%|████▌     | 92.32500000001242/200 [02:14<02:54,  1.62s/it]"
     ]
    },
    {
     "name": "stdout",
     "output_type": "stream",
     "text": [
      "Train Epoch: 93 [5120/17825 (29%)]\tLoss: 0.131755\n"
     ]
    },
    {
     "name": "stderr",
     "output_type": "stream",
     "text": [
      " 46%|████▋     | 92.6750000000125/200 [02:14<02:22,  1.32s/it] "
     ]
    },
    {
     "name": "stdout",
     "output_type": "stream",
     "text": [
      "Train Epoch: 93 [10240/17825 (57%)]\tLoss: 0.136416\n"
     ]
    },
    {
     "name": "stderr",
     "output_type": "stream",
     "text": [
      " 46%|████▋     | 92.85000000001254/200 [02:15<02:18,  1.29s/it]"
     ]
    },
    {
     "name": "stdout",
     "output_type": "stream",
     "text": [
      "Train Epoch: 93 [15360/17825 (86%)]\tLoss: 0.207006\n"
     ]
    },
    {
     "name": "stderr",
     "output_type": "stream",
     "text": [
      " 46%|████▋     | 92.93750000001256/200 [02:15<02:45,  1.54s/it]"
     ]
    },
    {
     "name": "stdout",
     "output_type": "stream",
     "text": [
      "\n",
      "Test Epoch: 93\tAccuracy: 1962/2337 (84%)\n",
      "\n"
     ]
    },
    {
     "name": "stderr",
     "output_type": "stream",
     "text": [
      " 47%|████▋     | 93.01250000001258/200 [02:15<03:11,  1.79s/it]"
     ]
    },
    {
     "name": "stdout",
     "output_type": "stream",
     "text": [
      "Train Epoch: 94 [0/17825 (0%)]\tLoss: 0.143309\n"
     ]
    },
    {
     "name": "stderr",
     "output_type": "stream",
     "text": [
      " 47%|████▋     | 93.37500000001266/200 [02:15<02:44,  1.54s/it]"
     ]
    },
    {
     "name": "stdout",
     "output_type": "stream",
     "text": [
      "Train Epoch: 94 [5120/17825 (29%)]\tLoss: 0.101786\n"
     ]
    },
    {
     "name": "stderr",
     "output_type": "stream",
     "text": [
      " 47%|████▋     | 93.63750000001272/200 [02:16<02:24,  1.36s/it]"
     ]
    },
    {
     "name": "stdout",
     "output_type": "stream",
     "text": [
      "Train Epoch: 94 [10240/17825 (57%)]\tLoss: 0.186942\n"
     ]
    },
    {
     "name": "stderr",
     "output_type": "stream",
     "text": [
      " 47%|████▋     | 93.81250000001276/200 [02:16<02:19,  1.32s/it]"
     ]
    },
    {
     "name": "stdout",
     "output_type": "stream",
     "text": [
      "Train Epoch: 94 [15360/17825 (86%)]\tLoss: 0.173367\n"
     ]
    },
    {
     "name": "stderr",
     "output_type": "stream",
     "text": [
      " 47%|████▋     | 93.90000000001278/200 [02:16<02:47,  1.58s/it]"
     ]
    },
    {
     "name": "stdout",
     "output_type": "stream",
     "text": [
      "\n",
      "Test Epoch: 94\tAccuracy: 1968/2337 (84%)\n",
      "\n"
     ]
    },
    {
     "name": "stderr",
     "output_type": "stream",
     "text": [
      " 47%|████▋     | 94.0125000000128/200 [02:16<03:01,  1.71s/it] "
     ]
    },
    {
     "name": "stdout",
     "output_type": "stream",
     "text": [
      "Train Epoch: 95 [0/17825 (0%)]\tLoss: 0.157793\n"
     ]
    },
    {
     "name": "stderr",
     "output_type": "stream",
     "text": [
      " 47%|████▋     | 94.28750000001287/200 [02:17<02:26,  1.39s/it]"
     ]
    },
    {
     "name": "stdout",
     "output_type": "stream",
     "text": [
      "Train Epoch: 95 [5120/17825 (29%)]\tLoss: 0.127245\n"
     ]
    },
    {
     "name": "stderr",
     "output_type": "stream",
     "text": [
      " 47%|████▋     | 94.63750000001295/200 [02:17<02:25,  1.38s/it]"
     ]
    },
    {
     "name": "stdout",
     "output_type": "stream",
     "text": [
      "Train Epoch: 95 [10240/17825 (57%)]\tLoss: 0.159231\n"
     ]
    },
    {
     "name": "stderr",
     "output_type": "stream",
     "text": [
      " 47%|████▋     | 94.81250000001299/200 [02:17<02:16,  1.29s/it]"
     ]
    },
    {
     "name": "stdout",
     "output_type": "stream",
     "text": [
      "Train Epoch: 95 [15360/17825 (86%)]\tLoss: 0.103096\n"
     ]
    },
    {
     "name": "stderr",
     "output_type": "stream",
     "text": [
      " 47%|████▋     | 94.98750000001303/200 [02:18<02:32,  1.45s/it]"
     ]
    },
    {
     "name": "stdout",
     "output_type": "stream",
     "text": [
      "\n",
      "Test Epoch: 95\tAccuracy: 1962/2337 (84%)\n",
      "\n"
     ]
    },
    {
     "name": "stderr",
     "output_type": "stream",
     "text": [
      " 48%|████▊     | 95.06250000001305/200 [02:18<02:52,  1.65s/it]"
     ]
    },
    {
     "name": "stdout",
     "output_type": "stream",
     "text": [
      "Train Epoch: 96 [0/17825 (0%)]\tLoss: 0.143672\n"
     ]
    },
    {
     "name": "stderr",
     "output_type": "stream",
     "text": [
      " 48%|████▊     | 95.3125000000131/200 [02:18<02:47,  1.60s/it] "
     ]
    },
    {
     "name": "stdout",
     "output_type": "stream",
     "text": [
      "Train Epoch: 96 [5120/17825 (29%)]\tLoss: 0.196904\n"
     ]
    },
    {
     "name": "stderr",
     "output_type": "stream",
     "text": [
      " 48%|████▊     | 95.66250000001318/200 [02:19<02:16,  1.31s/it]"
     ]
    },
    {
     "name": "stdout",
     "output_type": "stream",
     "text": [
      "Train Epoch: 96 [10240/17825 (57%)]\tLoss: 0.198444\n"
     ]
    },
    {
     "name": "stderr",
     "output_type": "stream",
     "text": [
      " 48%|████▊     | 95.83750000001322/200 [02:19<02:11,  1.26s/it]"
     ]
    },
    {
     "name": "stdout",
     "output_type": "stream",
     "text": [
      "Train Epoch: 96 [15360/17825 (86%)]\tLoss: 0.110631\n"
     ]
    },
    {
     "name": "stderr",
     "output_type": "stream",
     "text": [
      " 48%|████▊     | 95.92500000001324/200 [02:19<02:40,  1.54s/it]"
     ]
    },
    {
     "name": "stdout",
     "output_type": "stream",
     "text": [
      "\n",
      "Test Epoch: 96\tAccuracy: 1962/2337 (84%)\n",
      "\n"
     ]
    },
    {
     "name": "stderr",
     "output_type": "stream",
     "text": [
      " 48%|████▊     | 96.01250000001326/200 [02:19<03:03,  1.77s/it]"
     ]
    },
    {
     "name": "stdout",
     "output_type": "stream",
     "text": [
      "Train Epoch: 97 [0/17825 (0%)]\tLoss: 0.157229\n"
     ]
    },
    {
     "name": "stderr",
     "output_type": "stream",
     "text": [
      " 48%|████▊     | 96.37500000001334/200 [02:20<02:40,  1.55s/it]"
     ]
    },
    {
     "name": "stdout",
     "output_type": "stream",
     "text": [
      "Train Epoch: 97 [5120/17825 (29%)]\tLoss: 0.089054\n"
     ]
    },
    {
     "name": "stderr",
     "output_type": "stream",
     "text": [
      " 48%|████▊     | 96.6375000000134/200 [02:20<02:18,  1.34s/it] "
     ]
    },
    {
     "name": "stdout",
     "output_type": "stream",
     "text": [
      "Train Epoch: 97 [10240/17825 (57%)]\tLoss: 0.149098\n"
     ]
    },
    {
     "name": "stderr",
     "output_type": "stream",
     "text": [
      " 48%|████▊     | 96.81250000001344/200 [02:20<02:13,  1.29s/it]"
     ]
    },
    {
     "name": "stdout",
     "output_type": "stream",
     "text": [
      "Train Epoch: 97 [15360/17825 (86%)]\tLoss: 0.125612\n"
     ]
    },
    {
     "name": "stderr",
     "output_type": "stream",
     "text": [
      " 48%|████▊     | 96.98750000001348/200 [02:21<02:29,  1.45s/it]"
     ]
    },
    {
     "name": "stdout",
     "output_type": "stream",
     "text": [
      "\n",
      "Test Epoch: 97\tAccuracy: 1963/2337 (84%)\n",
      "\n"
     ]
    },
    {
     "name": "stderr",
     "output_type": "stream",
     "text": [
      " 49%|████▊     | 97.0625000000135/200 [02:21<02:52,  1.68s/it] "
     ]
    },
    {
     "name": "stdout",
     "output_type": "stream",
     "text": [
      "Train Epoch: 98 [0/17825 (0%)]\tLoss: 0.138955\n"
     ]
    },
    {
     "name": "stderr",
     "output_type": "stream",
     "text": [
      " 49%|████▊     | 97.31250000001356/200 [02:21<02:43,  1.59s/it]"
     ]
    },
    {
     "name": "stdout",
     "output_type": "stream",
     "text": [
      "Train Epoch: 98 [5120/17825 (29%)]\tLoss: 0.133686\n"
     ]
    },
    {
     "name": "stderr",
     "output_type": "stream",
     "text": [
      " 49%|████▉     | 97.66250000001364/200 [02:22<02:11,  1.29s/it]"
     ]
    },
    {
     "name": "stdout",
     "output_type": "stream",
     "text": [
      "Train Epoch: 98 [10240/17825 (57%)]\tLoss: 0.136886\n"
     ]
    },
    {
     "name": "stderr",
     "output_type": "stream",
     "text": [
      " 49%|████▉     | 97.83750000001368/200 [02:22<02:08,  1.26s/it]"
     ]
    },
    {
     "name": "stdout",
     "output_type": "stream",
     "text": [
      "Train Epoch: 98 [15360/17825 (86%)]\tLoss: 0.113872\n"
     ]
    },
    {
     "name": "stderr",
     "output_type": "stream",
     "text": [
      " 49%|████▉     | 97.9250000000137/200 [02:22<02:35,  1.52s/it] "
     ]
    },
    {
     "name": "stdout",
     "output_type": "stream",
     "text": [
      "\n",
      "Test Epoch: 98\tAccuracy: 1964/2337 (84%)\n",
      "\n"
     ]
    },
    {
     "name": "stderr",
     "output_type": "stream",
     "text": [
      " 49%|████▉     | 98.01250000001372/200 [02:22<02:59,  1.76s/it]"
     ]
    },
    {
     "name": "stdout",
     "output_type": "stream",
     "text": [
      "Train Epoch: 99 [0/17825 (0%)]\tLoss: 0.173926\n"
     ]
    },
    {
     "name": "stderr",
     "output_type": "stream",
     "text": [
      " 49%|████▉     | 98.28750000001378/200 [02:22<02:20,  1.38s/it]"
     ]
    },
    {
     "name": "stdout",
     "output_type": "stream",
     "text": [
      "Train Epoch: 99 [5120/17825 (29%)]\tLoss: 0.138552\n"
     ]
    },
    {
     "name": "stderr",
     "output_type": "stream",
     "text": [
      " 49%|████▉     | 98.63750000001386/200 [02:23<02:16,  1.35s/it]"
     ]
    },
    {
     "name": "stdout",
     "output_type": "stream",
     "text": [
      "Train Epoch: 99 [10240/17825 (57%)]\tLoss: 0.156161\n"
     ]
    },
    {
     "name": "stderr",
     "output_type": "stream",
     "text": [
      " 49%|████▉     | 98.8125000000139/200 [02:23<02:11,  1.30s/it] "
     ]
    },
    {
     "name": "stdout",
     "output_type": "stream",
     "text": [
      "Train Epoch: 99 [15360/17825 (86%)]\tLoss: 0.129048\n"
     ]
    },
    {
     "name": "stderr",
     "output_type": "stream",
     "text": [
      " 49%|████▉     | 98.90000000001392/200 [02:23<02:40,  1.59s/it]"
     ]
    },
    {
     "name": "stdout",
     "output_type": "stream",
     "text": [
      "\n",
      "Test Epoch: 99\tAccuracy: 1961/2337 (84%)\n",
      "\n"
     ]
    },
    {
     "name": "stderr",
     "output_type": "stream",
     "text": [
      " 50%|████▉     | 99.01250000001394/200 [02:24<02:52,  1.71s/it]"
     ]
    },
    {
     "name": "stdout",
     "output_type": "stream",
     "text": [
      "Train Epoch: 100 [0/17825 (0%)]\tLoss: 0.132600\n"
     ]
    },
    {
     "name": "stderr",
     "output_type": "stream",
     "text": [
      " 50%|████▉     | 99.37500000001403/200 [02:24<02:36,  1.56s/it]"
     ]
    },
    {
     "name": "stdout",
     "output_type": "stream",
     "text": [
      "Train Epoch: 100 [5120/17825 (29%)]\tLoss: 0.198417\n"
     ]
    },
    {
     "name": "stderr",
     "output_type": "stream",
     "text": [
      " 50%|████▉     | 99.63750000001409/200 [02:24<02:15,  1.35s/it]"
     ]
    },
    {
     "name": "stdout",
     "output_type": "stream",
     "text": [
      "Train Epoch: 100 [10240/17825 (57%)]\tLoss: 0.136534\n"
     ]
    },
    {
     "name": "stderr",
     "output_type": "stream",
     "text": [
      " 50%|████▉     | 99.81250000001413/200 [02:25<02:09,  1.29s/it]"
     ]
    },
    {
     "name": "stdout",
     "output_type": "stream",
     "text": [
      "Train Epoch: 100 [15360/17825 (86%)]\tLoss: 0.164792\n"
     ]
    },
    {
     "name": "stderr",
     "output_type": "stream",
     "text": [
      " 50%|████▉     | 99.90000000001415/200 [02:25<02:37,  1.57s/it]"
     ]
    },
    {
     "name": "stdout",
     "output_type": "stream",
     "text": [
      "\n",
      "Test Epoch: 100\tAccuracy: 1962/2337 (84%)\n",
      "\n"
     ]
    },
    {
     "name": "stderr",
     "output_type": "stream",
     "text": [
      " 50%|█████     | 100.01250000001417/200 [02:25<02:51,  1.71s/it]"
     ]
    },
    {
     "name": "stdout",
     "output_type": "stream",
     "text": [
      "Train Epoch: 101 [0/17825 (0%)]\tLoss: 0.139907\n"
     ]
    },
    {
     "name": "stderr",
     "output_type": "stream",
     "text": [
      " 50%|█████     | 100.36250000001425/200 [02:26<02:37,  1.58s/it]"
     ]
    },
    {
     "name": "stdout",
     "output_type": "stream",
     "text": [
      "Train Epoch: 101 [5120/17825 (29%)]\tLoss: 0.167867\n"
     ]
    },
    {
     "name": "stderr",
     "output_type": "stream",
     "text": [
      " 50%|█████     | 100.62500000001431/200 [02:26<02:14,  1.35s/it]"
     ]
    },
    {
     "name": "stdout",
     "output_type": "stream",
     "text": [
      "Train Epoch: 101 [10240/17825 (57%)]\tLoss: 0.141341\n"
     ]
    },
    {
     "name": "stderr",
     "output_type": "stream",
     "text": [
      " 50%|█████     | 100.80000000001435/200 [02:26<02:07,  1.29s/it]"
     ]
    },
    {
     "name": "stdout",
     "output_type": "stream",
     "text": [
      "Train Epoch: 101 [15360/17825 (86%)]\tLoss: 0.099073\n"
     ]
    },
    {
     "name": "stderr",
     "output_type": "stream",
     "text": [
      " 50%|█████     | 100.98750000001439/200 [02:26<02:19,  1.41s/it]"
     ]
    },
    {
     "name": "stdout",
     "output_type": "stream",
     "text": [
      "\n",
      "Test Epoch: 101\tAccuracy: 1962/2337 (84%)\n",
      "\n"
     ]
    },
    {
     "name": "stderr",
     "output_type": "stream",
     "text": [
      " 51%|█████     | 101.07500000001441/200 [02:27<02:38,  1.60s/it]"
     ]
    },
    {
     "name": "stdout",
     "output_type": "stream",
     "text": [
      "Train Epoch: 102 [0/17825 (0%)]\tLoss: 0.132803\n"
     ]
    },
    {
     "name": "stderr",
     "output_type": "stream",
     "text": [
      " 51%|█████     | 101.32500000001447/200 [02:27<02:39,  1.62s/it]"
     ]
    },
    {
     "name": "stdout",
     "output_type": "stream",
     "text": [
      "Train Epoch: 102 [5120/17825 (29%)]\tLoss: 0.130866\n"
     ]
    },
    {
     "name": "stderr",
     "output_type": "stream",
     "text": [
      " 51%|█████     | 101.67500000001455/200 [02:27<02:11,  1.34s/it]"
     ]
    },
    {
     "name": "stdout",
     "output_type": "stream",
     "text": [
      "Train Epoch: 102 [10240/17825 (57%)]\tLoss: 0.143196\n"
     ]
    },
    {
     "name": "stderr",
     "output_type": "stream",
     "text": [
      " 51%|█████     | 101.85000000001459/200 [02:28<02:07,  1.30s/it]"
     ]
    },
    {
     "name": "stdout",
     "output_type": "stream",
     "text": [
      "Train Epoch: 102 [15360/17825 (86%)]\tLoss: 0.133808\n"
     ]
    },
    {
     "name": "stderr",
     "output_type": "stream",
     "text": [
      " 51%|█████     | 101.93750000001461/200 [02:28<02:32,  1.55s/it]"
     ]
    },
    {
     "name": "stdout",
     "output_type": "stream",
     "text": [
      "\n",
      "Test Epoch: 102\tAccuracy: 1963/2337 (84%)\n",
      "\n"
     ]
    },
    {
     "name": "stderr",
     "output_type": "stream",
     "text": [
      " 51%|█████     | 102.01250000001463/200 [02:28<02:56,  1.80s/it]"
     ]
    },
    {
     "name": "stdout",
     "output_type": "stream",
     "text": [
      "Train Epoch: 103 [0/17825 (0%)]\tLoss: 0.120413\n"
     ]
    },
    {
     "name": "stderr",
     "output_type": "stream",
     "text": [
      " 51%|█████     | 102.3625000000147/200 [02:28<02:35,  1.60s/it] "
     ]
    },
    {
     "name": "stdout",
     "output_type": "stream",
     "text": [
      "Train Epoch: 103 [5120/17825 (29%)]\tLoss: 0.135029\n"
     ]
    },
    {
     "name": "stderr",
     "output_type": "stream",
     "text": [
      " 51%|█████▏    | 102.62500000001477/200 [02:29<02:13,  1.37s/it]"
     ]
    },
    {
     "name": "stdout",
     "output_type": "stream",
     "text": [
      "Train Epoch: 103 [10240/17825 (57%)]\tLoss: 0.122652\n"
     ]
    },
    {
     "name": "stderr",
     "output_type": "stream",
     "text": [
      " 51%|█████▏    | 102.87500000001482/200 [02:29<02:08,  1.33s/it]"
     ]
    },
    {
     "name": "stdout",
     "output_type": "stream",
     "text": [
      "Train Epoch: 103 [15360/17825 (86%)]\tLoss: 0.137213\n"
     ]
    },
    {
     "name": "stderr",
     "output_type": "stream",
     "text": [
      " 51%|█████▏    | 102.96250000001484/200 [02:29<02:34,  1.60s/it]"
     ]
    },
    {
     "name": "stdout",
     "output_type": "stream",
     "text": [
      "\n",
      "Test Epoch: 103\tAccuracy: 1961/2337 (84%)\n",
      "\n"
     ]
    },
    {
     "name": "stderr",
     "output_type": "stream",
     "text": [
      " 52%|█████▏    | 103.03750000001486/200 [02:30<02:51,  1.77s/it]"
     ]
    },
    {
     "name": "stdout",
     "output_type": "stream",
     "text": [
      "Train Epoch: 104 [0/17825 (0%)]\tLoss: 0.135738\n"
     ]
    },
    {
     "name": "stderr",
     "output_type": "stream",
     "text": [
      " 52%|█████▏    | 103.36250000001493/200 [02:30<02:39,  1.65s/it]"
     ]
    },
    {
     "name": "stdout",
     "output_type": "stream",
     "text": [
      "Train Epoch: 104 [5120/17825 (29%)]\tLoss: 0.129586\n"
     ]
    },
    {
     "name": "stderr",
     "output_type": "stream",
     "text": [
      " 52%|█████▏    | 103.62500000001499/200 [02:30<02:13,  1.39s/it]"
     ]
    },
    {
     "name": "stdout",
     "output_type": "stream",
     "text": [
      "Train Epoch: 104 [10240/17825 (57%)]\tLoss: 0.130294\n"
     ]
    },
    {
     "name": "stderr",
     "output_type": "stream",
     "text": [
      " 52%|█████▏    | 103.80000000001503/200 [02:31<02:07,  1.33s/it]"
     ]
    },
    {
     "name": "stdout",
     "output_type": "stream",
     "text": [
      "Train Epoch: 104 [15360/17825 (86%)]\tLoss: 0.089274\n"
     ]
    },
    {
     "name": "stderr",
     "output_type": "stream",
     "text": [
      " 52%|█████▏    | 103.98750000001507/200 [02:31<02:20,  1.46s/it]"
     ]
    },
    {
     "name": "stdout",
     "output_type": "stream",
     "text": [
      "\n",
      "Test Epoch: 104\tAccuracy: 1967/2337 (84%)\n",
      "\n"
     ]
    },
    {
     "name": "stderr",
     "output_type": "stream",
     "text": [
      " 52%|█████▏    | 104.06250000001509/200 [02:31<02:40,  1.67s/it]"
     ]
    },
    {
     "name": "stdout",
     "output_type": "stream",
     "text": [
      "Train Epoch: 105 [0/17825 (0%)]\tLoss: 0.142314\n"
     ]
    },
    {
     "name": "stderr",
     "output_type": "stream",
     "text": [
      " 52%|█████▏    | 104.31250000001515/200 [02:31<02:32,  1.59s/it]"
     ]
    },
    {
     "name": "stdout",
     "output_type": "stream",
     "text": [
      "Train Epoch: 105 [5120/17825 (29%)]\tLoss: 0.159065\n"
     ]
    },
    {
     "name": "stderr",
     "output_type": "stream",
     "text": [
      " 52%|█████▏    | 104.66250000001523/200 [02:32<02:02,  1.28s/it]"
     ]
    },
    {
     "name": "stdout",
     "output_type": "stream",
     "text": [
      "Train Epoch: 105 [10240/17825 (57%)]\tLoss: 0.147112\n"
     ]
    },
    {
     "name": "stderr",
     "output_type": "stream",
     "text": [
      " 52%|█████▏    | 104.83750000001527/200 [02:32<01:57,  1.23s/it]"
     ]
    },
    {
     "name": "stdout",
     "output_type": "stream",
     "text": [
      "Train Epoch: 105 [15360/17825 (86%)]\tLoss: 0.110646\n"
     ]
    },
    {
     "name": "stderr",
     "output_type": "stream",
     "text": [
      " 52%|█████▏    | 104.92500000001529/200 [02:32<02:22,  1.50s/it]"
     ]
    },
    {
     "name": "stdout",
     "output_type": "stream",
     "text": [
      "\n",
      "Test Epoch: 105\tAccuracy: 1969/2337 (84%)\n",
      "\n"
     ]
    },
    {
     "name": "stderr",
     "output_type": "stream",
     "text": [
      " 53%|█████▎    | 105.01250000001531/200 [02:32<02:43,  1.72s/it]"
     ]
    },
    {
     "name": "stdout",
     "output_type": "stream",
     "text": [
      "Train Epoch: 106 [0/17825 (0%)]\tLoss: 0.135066\n"
     ]
    },
    {
     "name": "stderr",
     "output_type": "stream",
     "text": [
      " 53%|█████▎    | 105.32500000001538/200 [02:33<02:39,  1.68s/it]"
     ]
    },
    {
     "name": "stdout",
     "output_type": "stream",
     "text": [
      "Train Epoch: 106 [5120/17825 (29%)]\tLoss: 0.112200\n"
     ]
    },
    {
     "name": "stderr",
     "output_type": "stream",
     "text": [
      " 53%|█████▎    | 105.67500000001546/200 [02:33<02:06,  1.34s/it]"
     ]
    },
    {
     "name": "stdout",
     "output_type": "stream",
     "text": [
      "Train Epoch: 106 [10240/17825 (57%)]\tLoss: 0.112594\n"
     ]
    },
    {
     "name": "stderr",
     "output_type": "stream",
     "text": [
      " 53%|█████▎    | 105.8500000000155/200 [02:34<02:02,  1.30s/it] "
     ]
    },
    {
     "name": "stdout",
     "output_type": "stream",
     "text": [
      "Train Epoch: 106 [15360/17825 (86%)]\tLoss: 0.143192\n"
     ]
    },
    {
     "name": "stderr",
     "output_type": "stream",
     "text": [
      " 53%|█████▎    | 105.93750000001552/200 [02:34<02:26,  1.55s/it]"
     ]
    },
    {
     "name": "stdout",
     "output_type": "stream",
     "text": [
      "\n",
      "Test Epoch: 106\tAccuracy: 1967/2337 (84%)\n",
      "\n"
     ]
    },
    {
     "name": "stderr",
     "output_type": "stream",
     "text": [
      " 53%|█████▎    | 106.01250000001554/200 [02:34<02:48,  1.79s/it]"
     ]
    },
    {
     "name": "stdout",
     "output_type": "stream",
     "text": [
      "Train Epoch: 107 [0/17825 (0%)]\tLoss: 0.164383\n"
     ]
    },
    {
     "name": "stderr",
     "output_type": "stream",
     "text": [
      " 53%|█████▎    | 106.36250000001561/200 [02:34<02:31,  1.61s/it]"
     ]
    },
    {
     "name": "stdout",
     "output_type": "stream",
     "text": [
      "Train Epoch: 107 [5120/17825 (29%)]\tLoss: 0.172454\n"
     ]
    },
    {
     "name": "stderr",
     "output_type": "stream",
     "text": [
      " 53%|█████▎    | 106.62500000001567/200 [02:35<02:08,  1.38s/it]"
     ]
    },
    {
     "name": "stdout",
     "output_type": "stream",
     "text": [
      "Train Epoch: 107 [10240/17825 (57%)]\tLoss: 0.124638\n"
     ]
    },
    {
     "name": "stderr",
     "output_type": "stream",
     "text": [
      " 53%|█████▎    | 106.80000000001571/200 [02:35<02:02,  1.31s/it]"
     ]
    },
    {
     "name": "stdout",
     "output_type": "stream",
     "text": [
      "Train Epoch: 107 [15360/17825 (86%)]\tLoss: 0.147159\n"
     ]
    },
    {
     "name": "stderr",
     "output_type": "stream",
     "text": [
      " 53%|█████▎    | 106.98750000001576/200 [02:35<02:14,  1.44s/it]"
     ]
    },
    {
     "name": "stdout",
     "output_type": "stream",
     "text": [
      "\n",
      "Test Epoch: 107\tAccuracy: 1965/2337 (84%)\n",
      "\n"
     ]
    },
    {
     "name": "stderr",
     "output_type": "stream",
     "text": [
      " 54%|█████▎    | 107.06250000001577/200 [02:35<02:32,  1.64s/it]"
     ]
    },
    {
     "name": "stdout",
     "output_type": "stream",
     "text": [
      "Train Epoch: 108 [0/17825 (0%)]\tLoss: 0.181663\n"
     ]
    },
    {
     "name": "stderr",
     "output_type": "stream",
     "text": [
      " 54%|█████▎    | 107.31250000001583/200 [02:36<02:34,  1.67s/it]"
     ]
    },
    {
     "name": "stdout",
     "output_type": "stream",
     "text": [
      "Train Epoch: 108 [5120/17825 (29%)]\tLoss: 0.129528\n"
     ]
    },
    {
     "name": "stderr",
     "output_type": "stream",
     "text": [
      " 54%|█████▍    | 107.66250000001591/200 [02:36<02:04,  1.35s/it]"
     ]
    },
    {
     "name": "stdout",
     "output_type": "stream",
     "text": [
      "Train Epoch: 108 [10240/17825 (57%)]\tLoss: 0.155036\n"
     ]
    },
    {
     "name": "stderr",
     "output_type": "stream",
     "text": [
      " 54%|█████▍    | 107.83750000001595/200 [02:36<01:59,  1.30s/it]"
     ]
    },
    {
     "name": "stdout",
     "output_type": "stream",
     "text": [
      "Train Epoch: 108 [15360/17825 (86%)]\tLoss: 0.191839\n"
     ]
    },
    {
     "name": "stderr",
     "output_type": "stream",
     "text": [
      " 54%|█████▍    | 107.92500000001597/200 [02:37<02:24,  1.57s/it]"
     ]
    },
    {
     "name": "stdout",
     "output_type": "stream",
     "text": [
      "\n",
      "Test Epoch: 108\tAccuracy: 1960/2337 (84%)\n",
      "\n"
     ]
    },
    {
     "name": "stderr",
     "output_type": "stream",
     "text": [
      " 54%|█████▍    | 108.01250000001599/200 [02:37<02:43,  1.78s/it]"
     ]
    },
    {
     "name": "stdout",
     "output_type": "stream",
     "text": [
      "Train Epoch: 109 [0/17825 (0%)]\tLoss: 0.137518\n"
     ]
    },
    {
     "name": "stderr",
     "output_type": "stream",
     "text": [
      " 54%|█████▍    | 108.28750000001605/200 [02:37<02:06,  1.38s/it]"
     ]
    },
    {
     "name": "stdout",
     "output_type": "stream",
     "text": [
      "Train Epoch: 109 [5120/17825 (29%)]\tLoss: 0.117379\n"
     ]
    },
    {
     "name": "stderr",
     "output_type": "stream",
     "text": [
      " 54%|█████▍    | 108.63750000001613/200 [02:38<02:01,  1.33s/it]"
     ]
    },
    {
     "name": "stdout",
     "output_type": "stream",
     "text": [
      "Train Epoch: 109 [10240/17825 (57%)]\tLoss: 0.113601\n"
     ]
    },
    {
     "name": "stderr",
     "output_type": "stream",
     "text": [
      " 54%|█████▍    | 108.81250000001617/200 [02:38<01:56,  1.28s/it]"
     ]
    },
    {
     "name": "stdout",
     "output_type": "stream",
     "text": [
      "Train Epoch: 109 [15360/17825 (86%)]\tLoss: 0.153481\n"
     ]
    },
    {
     "name": "stderr",
     "output_type": "stream",
     "text": [
      " 54%|█████▍    | 108.90000000001619/200 [02:38<02:22,  1.56s/it]"
     ]
    },
    {
     "name": "stdout",
     "output_type": "stream",
     "text": [
      "\n",
      "Test Epoch: 109\tAccuracy: 1963/2337 (84%)\n",
      "\n"
     ]
    },
    {
     "name": "stderr",
     "output_type": "stream",
     "text": [
      " 55%|█████▍    | 109.01250000001622/200 [02:38<02:34,  1.69s/it]"
     ]
    },
    {
     "name": "stdout",
     "output_type": "stream",
     "text": [
      "Train Epoch: 110 [0/17825 (0%)]\tLoss: 0.116512\n"
     ]
    },
    {
     "name": "stderr",
     "output_type": "stream",
     "text": [
      " 55%|█████▍    | 109.3625000000163/200 [02:39<02:25,  1.60s/it] "
     ]
    },
    {
     "name": "stdout",
     "output_type": "stream",
     "text": [
      "Train Epoch: 110 [5120/17825 (29%)]\tLoss: 0.122864\n"
     ]
    },
    {
     "name": "stderr",
     "output_type": "stream",
     "text": [
      " 55%|█████▍    | 109.62500000001636/200 [02:39<02:02,  1.36s/it]"
     ]
    },
    {
     "name": "stdout",
     "output_type": "stream",
     "text": [
      "Train Epoch: 110 [10240/17825 (57%)]\tLoss: 0.128422\n"
     ]
    },
    {
     "name": "stderr",
     "output_type": "stream",
     "text": [
      " 55%|█████▍    | 109.8000000000164/200 [02:39<01:57,  1.31s/it] "
     ]
    },
    {
     "name": "stdout",
     "output_type": "stream",
     "text": [
      "Train Epoch: 110 [15360/17825 (86%)]\tLoss: 0.094557\n"
     ]
    },
    {
     "name": "stderr",
     "output_type": "stream",
     "text": [
      " 55%|█████▍    | 109.98750000001644/200 [02:40<02:08,  1.43s/it]"
     ]
    },
    {
     "name": "stdout",
     "output_type": "stream",
     "text": [
      "\n",
      "Test Epoch: 110\tAccuracy: 1963/2337 (84%)\n",
      "\n"
     ]
    },
    {
     "name": "stderr",
     "output_type": "stream",
     "text": [
      " 55%|█████▌    | 110.07500000001646/200 [02:40<02:25,  1.62s/it]"
     ]
    },
    {
     "name": "stdout",
     "output_type": "stream",
     "text": [
      "Train Epoch: 111 [0/17825 (0%)]\tLoss: 0.196499\n"
     ]
    },
    {
     "name": "stderr",
     "output_type": "stream",
     "text": [
      " 55%|█████▌    | 110.33750000001652/200 [02:40<02:19,  1.55s/it]"
     ]
    },
    {
     "name": "stdout",
     "output_type": "stream",
     "text": [
      "Train Epoch: 111 [5120/17825 (29%)]\tLoss: 0.139499\n"
     ]
    },
    {
     "name": "stderr",
     "output_type": "stream",
     "text": [
      " 55%|█████▌    | 110.61250000001658/200 [02:41<01:56,  1.30s/it]"
     ]
    },
    {
     "name": "stdout",
     "output_type": "stream",
     "text": [
      "Train Epoch: 111 [10240/17825 (57%)]\tLoss: 0.154048\n"
     ]
    },
    {
     "name": "stderr",
     "output_type": "stream",
     "text": [
      " 55%|█████▌    | 110.87500000001664/200 [02:41<01:53,  1.27s/it]"
     ]
    },
    {
     "name": "stdout",
     "output_type": "stream",
     "text": [
      "Train Epoch: 111 [15360/17825 (86%)]\tLoss: 0.165980\n"
     ]
    },
    {
     "name": "stderr",
     "output_type": "stream",
     "text": [
      " 55%|█████▌    | 110.96250000001666/200 [02:41<02:17,  1.55s/it]"
     ]
    },
    {
     "name": "stdout",
     "output_type": "stream",
     "text": [
      "\n",
      "Test Epoch: 111\tAccuracy: 1962/2337 (84%)\n",
      "\n"
     ]
    },
    {
     "name": "stderr",
     "output_type": "stream",
     "text": [
      " 56%|█████▌    | 111.03750000001668/200 [02:41<02:35,  1.75s/it]"
     ]
    },
    {
     "name": "stdout",
     "output_type": "stream",
     "text": [
      "Train Epoch: 112 [0/17825 (0%)]\tLoss: 0.114016\n"
     ]
    },
    {
     "name": "stderr",
     "output_type": "stream",
     "text": [
      " 56%|█████▌    | 111.36250000001675/200 [02:42<02:23,  1.61s/it]"
     ]
    },
    {
     "name": "stdout",
     "output_type": "stream",
     "text": [
      "Train Epoch: 112 [5120/17825 (29%)]\tLoss: 0.145905\n"
     ]
    },
    {
     "name": "stderr",
     "output_type": "stream",
     "text": [
      " 56%|█████▌    | 111.62500000001681/200 [02:42<01:58,  1.35s/it]"
     ]
    },
    {
     "name": "stdout",
     "output_type": "stream",
     "text": [
      "Train Epoch: 112 [10240/17825 (57%)]\tLoss: 0.155253\n"
     ]
    },
    {
     "name": "stderr",
     "output_type": "stream",
     "text": [
      " 56%|█████▌    | 111.80000000001685/200 [02:42<01:52,  1.27s/it]"
     ]
    },
    {
     "name": "stdout",
     "output_type": "stream",
     "text": [
      "Train Epoch: 112 [15360/17825 (86%)]\tLoss: 0.155847\n"
     ]
    },
    {
     "name": "stderr",
     "output_type": "stream",
     "text": [
      " 56%|█████▌    | 111.9875000000169/200 [02:43<02:02,  1.39s/it] "
     ]
    },
    {
     "name": "stdout",
     "output_type": "stream",
     "text": [
      "\n",
      "Test Epoch: 112\tAccuracy: 1963/2337 (84%)\n",
      "\n"
     ]
    },
    {
     "name": "stderr",
     "output_type": "stream",
     "text": [
      " 56%|█████▌    | 112.07500000001691/200 [02:43<02:20,  1.60s/it]"
     ]
    },
    {
     "name": "stdout",
     "output_type": "stream",
     "text": [
      "Train Epoch: 113 [0/17825 (0%)]\tLoss: 0.180213\n"
     ]
    },
    {
     "name": "stderr",
     "output_type": "stream",
     "text": [
      " 56%|█████▌    | 112.32500000001697/200 [02:43<02:22,  1.62s/it]"
     ]
    },
    {
     "name": "stdout",
     "output_type": "stream",
     "text": [
      "Train Epoch: 113 [5120/17825 (29%)]\tLoss: 0.094216\n"
     ]
    },
    {
     "name": "stderr",
     "output_type": "stream",
     "text": [
      " 56%|█████▋    | 112.67500000001705/200 [02:44<01:56,  1.33s/it]"
     ]
    },
    {
     "name": "stdout",
     "output_type": "stream",
     "text": [
      "Train Epoch: 113 [10240/17825 (57%)]\tLoss: 0.198853\n"
     ]
    },
    {
     "name": "stderr",
     "output_type": "stream",
     "text": [
      " 56%|█████▋    | 112.85000000001709/200 [02:44<01:51,  1.28s/it]"
     ]
    },
    {
     "name": "stdout",
     "output_type": "stream",
     "text": [
      "Train Epoch: 113 [15360/17825 (86%)]\tLoss: 0.147521\n"
     ]
    },
    {
     "name": "stderr",
     "output_type": "stream",
     "text": [
      " 56%|█████▋    | 112.93750000001711/200 [02:44<02:15,  1.56s/it]"
     ]
    },
    {
     "name": "stdout",
     "output_type": "stream",
     "text": [
      "\n",
      "Test Epoch: 113\tAccuracy: 1962/2337 (84%)\n",
      "\n"
     ]
    },
    {
     "name": "stderr",
     "output_type": "stream",
     "text": [
      " 57%|█████▋    | 113.01250000001713/200 [02:44<02:36,  1.80s/it]"
     ]
    },
    {
     "name": "stdout",
     "output_type": "stream",
     "text": [
      "Train Epoch: 114 [0/17825 (0%)]\tLoss: 0.124808\n"
     ]
    },
    {
     "name": "stderr",
     "output_type": "stream",
     "text": [
      " 57%|█████▋    | 113.37500000001721/200 [02:45<02:12,  1.53s/it]"
     ]
    },
    {
     "name": "stdout",
     "output_type": "stream",
     "text": [
      "Train Epoch: 114 [5120/17825 (29%)]\tLoss: 0.115926\n"
     ]
    },
    {
     "name": "stderr",
     "output_type": "stream",
     "text": [
      " 57%|█████▋    | 113.63750000001727/200 [02:45<01:52,  1.30s/it]"
     ]
    },
    {
     "name": "stdout",
     "output_type": "stream",
     "text": [
      "Train Epoch: 114 [10240/17825 (57%)]\tLoss: 0.137391\n"
     ]
    },
    {
     "name": "stderr",
     "output_type": "stream",
     "text": [
      " 57%|█████▋    | 113.81250000001731/200 [02:45<01:47,  1.25s/it]"
     ]
    },
    {
     "name": "stdout",
     "output_type": "stream",
     "text": [
      "Train Epoch: 114 [15360/17825 (86%)]\tLoss: 0.151949\n"
     ]
    },
    {
     "name": "stderr",
     "output_type": "stream",
     "text": [
      " 57%|█████▋    | 113.98750000001735/200 [02:45<02:03,  1.43s/it]"
     ]
    },
    {
     "name": "stdout",
     "output_type": "stream",
     "text": [
      "\n",
      "Test Epoch: 114\tAccuracy: 1964/2337 (84%)\n",
      "\n"
     ]
    },
    {
     "name": "stderr",
     "output_type": "stream",
     "text": [
      " 57%|█████▋    | 114.07500000001737/200 [02:46<02:18,  1.62s/it]"
     ]
    },
    {
     "name": "stdout",
     "output_type": "stream",
     "text": [
      "Train Epoch: 115 [0/17825 (0%)]\tLoss: 0.114171\n"
     ]
    },
    {
     "name": "stderr",
     "output_type": "stream",
     "text": [
      " 57%|█████▋    | 114.32500000001743/200 [02:46<02:22,  1.67s/it]"
     ]
    },
    {
     "name": "stdout",
     "output_type": "stream",
     "text": [
      "Train Epoch: 115 [5120/17825 (29%)]\tLoss: 0.139484\n"
     ]
    },
    {
     "name": "stderr",
     "output_type": "stream",
     "text": [
      " 57%|█████▋    | 114.58750000001749/200 [02:46<02:00,  1.41s/it]"
     ]
    },
    {
     "name": "stdout",
     "output_type": "stream",
     "text": [
      "Train Epoch: 115 [10240/17825 (57%)]\tLoss: 0.131713\n"
     ]
    },
    {
     "name": "stderr",
     "output_type": "stream",
     "text": [
      " 57%|█████▋    | 114.85000000001754/200 [02:47<01:53,  1.33s/it]"
     ]
    },
    {
     "name": "stdout",
     "output_type": "stream",
     "text": [
      "Train Epoch: 115 [15360/17825 (86%)]\tLoss: 0.173583\n"
     ]
    },
    {
     "name": "stderr",
     "output_type": "stream",
     "text": [
      " 57%|█████▋    | 114.93750000001756/200 [02:47<02:12,  1.56s/it]"
     ]
    },
    {
     "name": "stdout",
     "output_type": "stream",
     "text": [
      "\n",
      "Test Epoch: 115\tAccuracy: 1962/2337 (84%)\n",
      "\n"
     ]
    },
    {
     "name": "stderr",
     "output_type": "stream",
     "text": [
      " 58%|█████▊    | 115.01250000001758/200 [02:47<02:32,  1.79s/it]"
     ]
    },
    {
     "name": "stdout",
     "output_type": "stream",
     "text": [
      "Train Epoch: 116 [0/17825 (0%)]\tLoss: 0.128744\n"
     ]
    },
    {
     "name": "stderr",
     "output_type": "stream",
     "text": [
      " 58%|█████▊    | 115.36250000001766/200 [02:48<02:13,  1.58s/it]"
     ]
    },
    {
     "name": "stdout",
     "output_type": "stream",
     "text": [
      "Train Epoch: 116 [5120/17825 (29%)]\tLoss: 0.173081\n"
     ]
    },
    {
     "name": "stderr",
     "output_type": "stream",
     "text": [
      " 58%|█████▊    | 115.62500000001772/200 [02:48<01:53,  1.34s/it]"
     ]
    },
    {
     "name": "stdout",
     "output_type": "stream",
     "text": [
      "Train Epoch: 116 [10240/17825 (57%)]\tLoss: 0.105257\n"
     ]
    },
    {
     "name": "stderr",
     "output_type": "stream",
     "text": [
      " 58%|█████▊    | 115.80000000001776/200 [02:48<01:47,  1.27s/it]"
     ]
    },
    {
     "name": "stdout",
     "output_type": "stream",
     "text": [
      "Train Epoch: 116 [15360/17825 (86%)]\tLoss: 0.119836\n"
     ]
    },
    {
     "name": "stderr",
     "output_type": "stream",
     "text": [
      " 58%|█████▊    | 115.9875000000178/200 [02:48<01:59,  1.43s/it] "
     ]
    },
    {
     "name": "stdout",
     "output_type": "stream",
     "text": [
      "\n",
      "Test Epoch: 116\tAccuracy: 1962/2337 (84%)\n",
      "\n"
     ]
    },
    {
     "name": "stderr",
     "output_type": "stream",
     "text": [
      " 58%|█████▊    | 116.07500000001782/200 [02:49<02:16,  1.62s/it]"
     ]
    },
    {
     "name": "stdout",
     "output_type": "stream",
     "text": [
      "Train Epoch: 117 [0/17825 (0%)]\tLoss: 0.143131\n"
     ]
    },
    {
     "name": "stderr",
     "output_type": "stream",
     "text": [
      " 58%|█████▊    | 116.33750000001788/200 [02:49<02:12,  1.58s/it]"
     ]
    },
    {
     "name": "stdout",
     "output_type": "stream",
     "text": [
      "Train Epoch: 117 [5120/17825 (29%)]\tLoss: 0.146144\n"
     ]
    },
    {
     "name": "stderr",
     "output_type": "stream",
     "text": [
      " 58%|█████▊    | 116.60000000001794/200 [02:49<01:51,  1.33s/it]"
     ]
    },
    {
     "name": "stdout",
     "output_type": "stream",
     "text": [
      "Train Epoch: 117 [10240/17825 (57%)]\tLoss: 0.120180\n"
     ]
    },
    {
     "name": "stderr",
     "output_type": "stream",
     "text": [
      " 58%|█████▊    | 116.862500000018/200 [02:50<01:45,  1.27s/it]  "
     ]
    },
    {
     "name": "stdout",
     "output_type": "stream",
     "text": [
      "Train Epoch: 117 [15360/17825 (86%)]\tLoss: 0.146675\n"
     ]
    },
    {
     "name": "stderr",
     "output_type": "stream",
     "text": [
      " 58%|█████▊    | 116.95000000001802/200 [02:50<02:06,  1.52s/it]"
     ]
    },
    {
     "name": "stdout",
     "output_type": "stream",
     "text": [
      "\n",
      "Test Epoch: 117\tAccuracy: 1963/2337 (84%)\n",
      "\n"
     ]
    },
    {
     "name": "stderr",
     "output_type": "stream",
     "text": [
      " 59%|█████▊    | 117.02500000001804/200 [02:50<02:22,  1.72s/it]"
     ]
    },
    {
     "name": "stdout",
     "output_type": "stream",
     "text": [
      "Train Epoch: 118 [0/17825 (0%)]\tLoss: 0.163146\n"
     ]
    },
    {
     "name": "stderr",
     "output_type": "stream",
     "text": [
      " 59%|█████▊    | 117.36250000001812/200 [02:50<02:12,  1.61s/it]"
     ]
    },
    {
     "name": "stdout",
     "output_type": "stream",
     "text": [
      "Train Epoch: 118 [5120/17825 (29%)]\tLoss: 0.134216\n"
     ]
    },
    {
     "name": "stderr",
     "output_type": "stream",
     "text": [
      " 59%|█████▉    | 117.62500000001818/200 [02:51<01:52,  1.36s/it]"
     ]
    },
    {
     "name": "stdout",
     "output_type": "stream",
     "text": [
      "Train Epoch: 118 [10240/17825 (57%)]\tLoss: 0.169868\n"
     ]
    },
    {
     "name": "stderr",
     "output_type": "stream",
     "text": [
      " 59%|█████▉    | 117.80000000001822/200 [02:51<01:45,  1.29s/it]"
     ]
    },
    {
     "name": "stdout",
     "output_type": "stream",
     "text": [
      "Train Epoch: 118 [15360/17825 (86%)]\tLoss: 0.152976\n"
     ]
    },
    {
     "name": "stderr",
     "output_type": "stream",
     "text": [
      " 59%|█████▉    | 117.98750000001826/200 [02:51<01:55,  1.41s/it]"
     ]
    },
    {
     "name": "stdout",
     "output_type": "stream",
     "text": [
      "\n",
      "Test Epoch: 118\tAccuracy: 1960/2337 (84%)\n",
      "\n"
     ]
    },
    {
     "name": "stderr",
     "output_type": "stream",
     "text": [
      " 59%|█████▉    | 118.07500000001828/200 [02:51<02:10,  1.60s/it]"
     ]
    },
    {
     "name": "stdout",
     "output_type": "stream",
     "text": [
      "Train Epoch: 119 [0/17825 (0%)]\tLoss: 0.126744\n"
     ]
    },
    {
     "name": "stderr",
     "output_type": "stream",
     "text": [
      " 59%|█████▉    | 118.33750000001834/200 [02:52<02:08,  1.57s/it]"
     ]
    },
    {
     "name": "stdout",
     "output_type": "stream",
     "text": [
      "Train Epoch: 119 [5120/17825 (29%)]\tLoss: 0.206672\n"
     ]
    },
    {
     "name": "stderr",
     "output_type": "stream",
     "text": [
      " 59%|█████▉    | 118.6000000000184/200 [02:52<01:49,  1.34s/it] "
     ]
    },
    {
     "name": "stdout",
     "output_type": "stream",
     "text": [
      "Train Epoch: 119 [10240/17825 (57%)]\tLoss: 0.152346\n"
     ]
    },
    {
     "name": "stderr",
     "output_type": "stream",
     "text": [
      " 59%|█████▉    | 118.86250000001846/200 [02:52<01:42,  1.26s/it]"
     ]
    },
    {
     "name": "stdout",
     "output_type": "stream",
     "text": [
      "Train Epoch: 119 [15360/17825 (86%)]\tLoss: 0.163241\n"
     ]
    },
    {
     "name": "stderr",
     "output_type": "stream",
     "text": [
      " 59%|█████▉    | 118.95000000001848/200 [02:53<02:03,  1.52s/it]"
     ]
    },
    {
     "name": "stdout",
     "output_type": "stream",
     "text": [
      "\n",
      "Test Epoch: 119\tAccuracy: 1966/2337 (84%)\n",
      "\n"
     ]
    },
    {
     "name": "stderr",
     "output_type": "stream",
     "text": [
      " 60%|█████▉    | 119.0250000000185/200 [02:53<02:21,  1.75s/it] "
     ]
    },
    {
     "name": "stdout",
     "output_type": "stream",
     "text": [
      "Train Epoch: 120 [0/17825 (0%)]\tLoss: 0.107271\n"
     ]
    },
    {
     "name": "stderr",
     "output_type": "stream",
     "text": [
      " 60%|█████▉    | 119.36250000001857/200 [02:53<02:11,  1.63s/it]"
     ]
    },
    {
     "name": "stdout",
     "output_type": "stream",
     "text": [
      "Train Epoch: 120 [5120/17825 (29%)]\tLoss: 0.159558\n"
     ]
    },
    {
     "name": "stderr",
     "output_type": "stream",
     "text": [
      " 60%|█████▉    | 119.62500000001863/200 [02:54<01:51,  1.39s/it]"
     ]
    },
    {
     "name": "stdout",
     "output_type": "stream",
     "text": [
      "Train Epoch: 120 [10240/17825 (57%)]\tLoss: 0.161366\n"
     ]
    },
    {
     "name": "stderr",
     "output_type": "stream",
     "text": [
      " 60%|█████▉    | 119.80000000001867/200 [02:54<01:46,  1.32s/it]"
     ]
    },
    {
     "name": "stdout",
     "output_type": "stream",
     "text": [
      "Train Epoch: 120 [15360/17825 (86%)]\tLoss: 0.167294\n"
     ]
    },
    {
     "name": "stderr",
     "output_type": "stream",
     "text": [
      " 60%|█████▉    | 119.98750000001871/200 [02:54<01:56,  1.46s/it]"
     ]
    },
    {
     "name": "stdout",
     "output_type": "stream",
     "text": [
      "\n",
      "Test Epoch: 120\tAccuracy: 1964/2337 (84%)\n",
      "\n"
     ]
    },
    {
     "name": "stderr",
     "output_type": "stream",
     "text": [
      " 60%|██████    | 120.06250000001873/200 [02:54<02:11,  1.65s/it]"
     ]
    },
    {
     "name": "stdout",
     "output_type": "stream",
     "text": [
      "Train Epoch: 121 [0/17825 (0%)]\tLoss: 0.158441\n"
     ]
    },
    {
     "name": "stderr",
     "output_type": "stream",
     "text": [
      " 60%|██████    | 120.32500000001879/200 [02:55<02:04,  1.56s/it]"
     ]
    },
    {
     "name": "stdout",
     "output_type": "stream",
     "text": [
      "Train Epoch: 121 [5120/17825 (29%)]\tLoss: 0.156147\n"
     ]
    },
    {
     "name": "stderr",
     "output_type": "stream",
     "text": [
      " 60%|██████    | 120.67500000001887/200 [02:55<01:41,  1.28s/it]"
     ]
    },
    {
     "name": "stdout",
     "output_type": "stream",
     "text": [
      "Train Epoch: 121 [10240/17825 (57%)]\tLoss: 0.102737\n"
     ]
    },
    {
     "name": "stderr",
     "output_type": "stream",
     "text": [
      " 60%|██████    | 120.85000000001891/200 [02:55<01:41,  1.28s/it]"
     ]
    },
    {
     "name": "stdout",
     "output_type": "stream",
     "text": [
      "Train Epoch: 121 [15360/17825 (86%)]\tLoss: 0.125930\n"
     ]
    },
    {
     "name": "stderr",
     "output_type": "stream",
     "text": [
      " 60%|██████    | 120.93750000001893/200 [02:56<02:00,  1.52s/it]"
     ]
    },
    {
     "name": "stdout",
     "output_type": "stream",
     "text": [
      "\n",
      "Test Epoch: 121\tAccuracy: 1968/2337 (84%)\n",
      "\n"
     ]
    },
    {
     "name": "stderr",
     "output_type": "stream",
     "text": [
      " 61%|██████    | 121.01250000001895/200 [02:56<02:18,  1.76s/it]"
     ]
    },
    {
     "name": "stdout",
     "output_type": "stream",
     "text": [
      "Train Epoch: 122 [0/17825 (0%)]\tLoss: 0.117093\n"
     ]
    },
    {
     "name": "stderr",
     "output_type": "stream",
     "text": [
      " 61%|██████    | 121.37500000001903/200 [02:56<01:59,  1.52s/it]"
     ]
    },
    {
     "name": "stdout",
     "output_type": "stream",
     "text": [
      "Train Epoch: 122 [5120/17825 (29%)]\tLoss: 0.124212\n"
     ]
    },
    {
     "name": "stderr",
     "output_type": "stream",
     "text": [
      " 61%|██████    | 121.63750000001909/200 [02:57<01:42,  1.31s/it]"
     ]
    },
    {
     "name": "stdout",
     "output_type": "stream",
     "text": [
      "Train Epoch: 122 [10240/17825 (57%)]\tLoss: 0.105633\n"
     ]
    },
    {
     "name": "stderr",
     "output_type": "stream",
     "text": [
      " 61%|██████    | 121.81250000001913/200 [02:57<01:38,  1.26s/it]"
     ]
    },
    {
     "name": "stdout",
     "output_type": "stream",
     "text": [
      "Train Epoch: 122 [15360/17825 (86%)]\tLoss: 0.180393\n"
     ]
    },
    {
     "name": "stderr",
     "output_type": "stream",
     "text": [
      " 61%|██████    | 121.98750000001917/200 [02:57<01:50,  1.42s/it]"
     ]
    },
    {
     "name": "stdout",
     "output_type": "stream",
     "text": [
      "\n",
      "Test Epoch: 122\tAccuracy: 1969/2337 (84%)\n",
      "\n"
     ]
    },
    {
     "name": "stderr",
     "output_type": "stream",
     "text": [
      " 61%|██████    | 122.07500000001919/200 [02:57<02:07,  1.63s/it]"
     ]
    },
    {
     "name": "stdout",
     "output_type": "stream",
     "text": [
      "Train Epoch: 123 [0/17825 (0%)]\tLoss: 0.174502\n"
     ]
    },
    {
     "name": "stderr",
     "output_type": "stream",
     "text": [
      " 61%|██████    | 122.32500000001924/200 [02:58<02:07,  1.65s/it]"
     ]
    },
    {
     "name": "stdout",
     "output_type": "stream",
     "text": [
      "Train Epoch: 123 [5120/17825 (29%)]\tLoss: 0.124796\n"
     ]
    },
    {
     "name": "stderr",
     "output_type": "stream",
     "text": [
      " 61%|██████▏   | 122.67500000001932/200 [02:58<01:43,  1.34s/it]"
     ]
    },
    {
     "name": "stdout",
     "output_type": "stream",
     "text": [
      "Train Epoch: 123 [10240/17825 (57%)]\tLoss: 0.112693\n"
     ]
    },
    {
     "name": "stderr",
     "output_type": "stream",
     "text": [
      " 61%|██████▏   | 122.85000000001936/200 [02:58<01:39,  1.29s/it]"
     ]
    },
    {
     "name": "stdout",
     "output_type": "stream",
     "text": [
      "Train Epoch: 123 [15360/17825 (86%)]\tLoss: 0.136516\n"
     ]
    },
    {
     "name": "stderr",
     "output_type": "stream",
     "text": [
      " 61%|██████▏   | 122.93750000001938/200 [02:58<02:00,  1.57s/it]"
     ]
    },
    {
     "name": "stdout",
     "output_type": "stream",
     "text": [
      "\n",
      "Test Epoch: 123\tAccuracy: 1961/2337 (84%)\n",
      "\n"
     ]
    },
    {
     "name": "stderr",
     "output_type": "stream",
     "text": [
      " 62%|██████▏   | 123.0125000000194/200 [02:59<02:19,  1.81s/it] "
     ]
    },
    {
     "name": "stdout",
     "output_type": "stream",
     "text": [
      "Train Epoch: 124 [0/17825 (0%)]\tLoss: 0.172692\n"
     ]
    },
    {
     "name": "stderr",
     "output_type": "stream",
     "text": [
      " 62%|██████▏   | 123.28750000001946/200 [02:59<01:46,  1.39s/it]"
     ]
    },
    {
     "name": "stdout",
     "output_type": "stream",
     "text": [
      "Train Epoch: 124 [5120/17825 (29%)]\tLoss: 0.180342\n"
     ]
    },
    {
     "name": "stderr",
     "output_type": "stream",
     "text": [
      " 62%|██████▏   | 123.63750000001954/200 [02:59<01:44,  1.36s/it]"
     ]
    },
    {
     "name": "stdout",
     "output_type": "stream",
     "text": [
      "Train Epoch: 124 [10240/17825 (57%)]\tLoss: 0.126355\n"
     ]
    },
    {
     "name": "stderr",
     "output_type": "stream",
     "text": [
      " 62%|██████▏   | 123.81250000001958/200 [03:00<01:42,  1.34s/it]"
     ]
    },
    {
     "name": "stdout",
     "output_type": "stream",
     "text": [
      "Train Epoch: 124 [15360/17825 (86%)]\tLoss: 0.150032\n"
     ]
    },
    {
     "name": "stderr",
     "output_type": "stream",
     "text": [
      " 62%|██████▏   | 123.98750000001962/200 [03:00<01:53,  1.49s/it]"
     ]
    },
    {
     "name": "stdout",
     "output_type": "stream",
     "text": [
      "\n",
      "Test Epoch: 124\tAccuracy: 1969/2337 (84%)\n",
      "\n"
     ]
    },
    {
     "name": "stderr",
     "output_type": "stream",
     "text": [
      " 62%|██████▏   | 124.06250000001964/200 [03:00<02:09,  1.70s/it]"
     ]
    },
    {
     "name": "stdout",
     "output_type": "stream",
     "text": [
      "Train Epoch: 125 [0/17825 (0%)]\tLoss: 0.143368\n"
     ]
    },
    {
     "name": "stderr",
     "output_type": "stream",
     "text": [
      " 62%|██████▏   | 124.3125000000197/200 [03:01<02:04,  1.64s/it] "
     ]
    },
    {
     "name": "stdout",
     "output_type": "stream",
     "text": [
      "Train Epoch: 125 [5120/17825 (29%)]\tLoss: 0.089680\n"
     ]
    },
    {
     "name": "stderr",
     "output_type": "stream",
     "text": [
      " 62%|██████▏   | 124.66250000001978/200 [03:01<01:39,  1.32s/it]"
     ]
    },
    {
     "name": "stdout",
     "output_type": "stream",
     "text": [
      "Train Epoch: 125 [10240/17825 (57%)]\tLoss: 0.147363\n"
     ]
    },
    {
     "name": "stderr",
     "output_type": "stream",
     "text": [
      " 62%|██████▏   | 124.83750000001982/200 [03:01<01:35,  1.27s/it]"
     ]
    },
    {
     "name": "stdout",
     "output_type": "stream",
     "text": [
      "Train Epoch: 125 [15360/17825 (86%)]\tLoss: 0.138055\n"
     ]
    },
    {
     "name": "stderr",
     "output_type": "stream",
     "text": [
      " 62%|██████▏   | 124.92500000001984/200 [03:01<01:55,  1.54s/it]"
     ]
    },
    {
     "name": "stdout",
     "output_type": "stream",
     "text": [
      "\n",
      "Test Epoch: 125\tAccuracy: 1965/2337 (84%)\n",
      "\n"
     ]
    },
    {
     "name": "stderr",
     "output_type": "stream",
     "text": [
      " 63%|██████▎   | 125.01250000001986/200 [03:02<02:11,  1.76s/it]"
     ]
    },
    {
     "name": "stdout",
     "output_type": "stream",
     "text": [
      "Train Epoch: 126 [0/17825 (0%)]\tLoss: 0.140520\n"
     ]
    },
    {
     "name": "stderr",
     "output_type": "stream",
     "text": [
      " 63%|██████▎   | 125.28750000001992/200 [03:02<01:43,  1.39s/it]"
     ]
    },
    {
     "name": "stdout",
     "output_type": "stream",
     "text": [
      "Train Epoch: 126 [5120/17825 (29%)]\tLoss: 0.160449\n"
     ]
    },
    {
     "name": "stderr",
     "output_type": "stream",
     "text": [
      " 63%|██████▎   | 125.63750000002/200 [03:02<01:39,  1.34s/it]   "
     ]
    },
    {
     "name": "stdout",
     "output_type": "stream",
     "text": [
      "Train Epoch: 126 [10240/17825 (57%)]\tLoss: 0.155464\n"
     ]
    },
    {
     "name": "stderr",
     "output_type": "stream",
     "text": [
      " 63%|██████▎   | 125.81250000002004/200 [03:03<01:34,  1.28s/it]"
     ]
    },
    {
     "name": "stdout",
     "output_type": "stream",
     "text": [
      "Train Epoch: 126 [15360/17825 (86%)]\tLoss: 0.121722\n"
     ]
    },
    {
     "name": "stderr",
     "output_type": "stream",
     "text": [
      " 63%|██████▎   | 125.98750000002008/200 [03:03<01:47,  1.46s/it]"
     ]
    },
    {
     "name": "stdout",
     "output_type": "stream",
     "text": [
      "\n",
      "Test Epoch: 126\tAccuracy: 1962/2337 (84%)\n",
      "\n"
     ]
    },
    {
     "name": "stderr",
     "output_type": "stream",
     "text": [
      " 63%|██████▎   | 126.0625000000201/200 [03:03<02:03,  1.67s/it] "
     ]
    },
    {
     "name": "stdout",
     "output_type": "stream",
     "text": [
      "Train Epoch: 127 [0/17825 (0%)]\tLoss: 0.123431\n"
     ]
    },
    {
     "name": "stderr",
     "output_type": "stream",
     "text": [
      " 63%|██████▎   | 126.31250000002015/200 [03:03<02:00,  1.64s/it]"
     ]
    },
    {
     "name": "stdout",
     "output_type": "stream",
     "text": [
      "Train Epoch: 127 [5120/17825 (29%)]\tLoss: 0.135779\n"
     ]
    },
    {
     "name": "stderr",
     "output_type": "stream",
     "text": [
      " 63%|██████▎   | 126.66250000002023/200 [03:04<01:37,  1.33s/it]"
     ]
    },
    {
     "name": "stdout",
     "output_type": "stream",
     "text": [
      "Train Epoch: 127 [10240/17825 (57%)]\tLoss: 0.150504\n"
     ]
    },
    {
     "name": "stderr",
     "output_type": "stream",
     "text": [
      " 63%|██████▎   | 126.83750000002027/200 [03:04<01:34,  1.30s/it]"
     ]
    },
    {
     "name": "stdout",
     "output_type": "stream",
     "text": [
      "Train Epoch: 127 [15360/17825 (86%)]\tLoss: 0.085568\n"
     ]
    },
    {
     "name": "stderr",
     "output_type": "stream",
     "text": [
      " 63%|██████▎   | 126.92500000002029/200 [03:04<01:54,  1.57s/it]"
     ]
    },
    {
     "name": "stdout",
     "output_type": "stream",
     "text": [
      "\n",
      "Test Epoch: 127\tAccuracy: 1967/2337 (84%)\n",
      "\n"
     ]
    },
    {
     "name": "stderr",
     "output_type": "stream",
     "text": [
      " 64%|██████▎   | 127.01250000002031/200 [03:05<02:12,  1.81s/it]"
     ]
    },
    {
     "name": "stdout",
     "output_type": "stream",
     "text": [
      "Train Epoch: 128 [0/17825 (0%)]\tLoss: 0.148444\n"
     ]
    },
    {
     "name": "stderr",
     "output_type": "stream",
     "text": [
      " 64%|██████▎   | 127.28750000002037/200 [03:05<01:41,  1.40s/it]"
     ]
    },
    {
     "name": "stdout",
     "output_type": "stream",
     "text": [
      "Train Epoch: 128 [5120/17825 (29%)]\tLoss: 0.123893\n"
     ]
    },
    {
     "name": "stderr",
     "output_type": "stream",
     "text": [
      " 64%|██████▍   | 127.63750000002045/200 [03:05<01:37,  1.34s/it]"
     ]
    },
    {
     "name": "stdout",
     "output_type": "stream",
     "text": [
      "Train Epoch: 128 [10240/17825 (57%)]\tLoss: 0.111619\n"
     ]
    },
    {
     "name": "stderr",
     "output_type": "stream",
     "text": [
      " 64%|██████▍   | 127.81250000002049/200 [03:06<01:32,  1.28s/it]"
     ]
    },
    {
     "name": "stdout",
     "output_type": "stream",
     "text": [
      "Train Epoch: 128 [15360/17825 (86%)]\tLoss: 0.182223\n"
     ]
    },
    {
     "name": "stderr",
     "output_type": "stream",
     "text": [
      " 64%|██████▍   | 127.98750000002053/200 [03:06<01:44,  1.45s/it]"
     ]
    },
    {
     "name": "stdout",
     "output_type": "stream",
     "text": [
      "\n",
      "Test Epoch: 128\tAccuracy: 1964/2337 (84%)\n",
      "\n"
     ]
    },
    {
     "name": "stderr",
     "output_type": "stream",
     "text": [
      " 64%|██████▍   | 128.06250000002046/200 [03:06<01:59,  1.66s/it]"
     ]
    },
    {
     "name": "stdout",
     "output_type": "stream",
     "text": [
      "Train Epoch: 129 [0/17825 (0%)]\tLoss: 0.155034\n"
     ]
    },
    {
     "name": "stderr",
     "output_type": "stream",
     "text": [
      " 64%|██████▍   | 128.31250000002024/200 [03:06<01:57,  1.65s/it]"
     ]
    },
    {
     "name": "stdout",
     "output_type": "stream",
     "text": [
      "Train Epoch: 129 [5120/17825 (29%)]\tLoss: 0.163105\n"
     ]
    },
    {
     "name": "stderr",
     "output_type": "stream",
     "text": [
      " 64%|██████▍   | 128.66250000001992/200 [03:07<01:35,  1.34s/it]"
     ]
    },
    {
     "name": "stdout",
     "output_type": "stream",
     "text": [
      "Train Epoch: 129 [10240/17825 (57%)]\tLoss: 0.132639\n"
     ]
    },
    {
     "name": "stderr",
     "output_type": "stream",
     "text": [
      " 64%|██████▍   | 128.83750000001976/200 [03:07<01:32,  1.29s/it]"
     ]
    },
    {
     "name": "stdout",
     "output_type": "stream",
     "text": [
      "Train Epoch: 129 [15360/17825 (86%)]\tLoss: 0.181614\n"
     ]
    },
    {
     "name": "stderr",
     "output_type": "stream",
     "text": [
      " 64%|██████▍   | 128.92500000001968/200 [03:07<01:50,  1.56s/it]"
     ]
    },
    {
     "name": "stdout",
     "output_type": "stream",
     "text": [
      "\n",
      "Test Epoch: 129\tAccuracy: 1957/2337 (84%)\n",
      "\n"
     ]
    },
    {
     "name": "stderr",
     "output_type": "stream",
     "text": [
      " 65%|██████▍   | 129.0125000000196/200 [03:07<02:06,  1.78s/it] "
     ]
    },
    {
     "name": "stdout",
     "output_type": "stream",
     "text": [
      "Train Epoch: 130 [0/17825 (0%)]\tLoss: 0.116573\n"
     ]
    },
    {
     "name": "stderr",
     "output_type": "stream",
     "text": [
      " 65%|██████▍   | 129.28750000001935/200 [03:08<01:38,  1.39s/it]"
     ]
    },
    {
     "name": "stdout",
     "output_type": "stream",
     "text": [
      "Train Epoch: 130 [5120/17825 (29%)]\tLoss: 0.100459\n"
     ]
    },
    {
     "name": "stderr",
     "output_type": "stream",
     "text": [
      " 65%|██████▍   | 129.63750000001903/200 [03:08<01:34,  1.34s/it]"
     ]
    },
    {
     "name": "stdout",
     "output_type": "stream",
     "text": [
      "Train Epoch: 130 [10240/17825 (57%)]\tLoss: 0.130647\n"
     ]
    },
    {
     "name": "stderr",
     "output_type": "stream",
     "text": [
      " 65%|██████▍   | 129.81250000001887/200 [03:08<01:29,  1.28s/it]"
     ]
    },
    {
     "name": "stdout",
     "output_type": "stream",
     "text": [
      "Train Epoch: 130 [15360/17825 (86%)]\tLoss: 0.165283\n"
     ]
    },
    {
     "name": "stderr",
     "output_type": "stream",
     "text": [
      " 65%|██████▍   | 129.9875000000187/200 [03:09<01:42,  1.46s/it] "
     ]
    },
    {
     "name": "stdout",
     "output_type": "stream",
     "text": [
      "\n",
      "Test Epoch: 130\tAccuracy: 1966/2337 (84%)\n",
      "\n"
     ]
    },
    {
     "name": "stderr",
     "output_type": "stream",
     "text": [
      " 65%|██████▌   | 130.06250000001864/200 [03:09<01:56,  1.66s/it]"
     ]
    },
    {
     "name": "stdout",
     "output_type": "stream",
     "text": [
      "Train Epoch: 131 [0/17825 (0%)]\tLoss: 0.179685\n"
     ]
    },
    {
     "name": "stderr",
     "output_type": "stream",
     "text": [
      " 65%|██████▌   | 130.31250000001842/200 [03:09<01:50,  1.58s/it]"
     ]
    },
    {
     "name": "stdout",
     "output_type": "stream",
     "text": [
      "Train Epoch: 131 [5120/17825 (29%)]\tLoss: 0.152193\n"
     ]
    },
    {
     "name": "stderr",
     "output_type": "stream",
     "text": [
      " 65%|██████▌   | 130.6625000000181/200 [03:10<01:28,  1.28s/it] "
     ]
    },
    {
     "name": "stdout",
     "output_type": "stream",
     "text": [
      "Train Epoch: 131 [10240/17825 (57%)]\tLoss: 0.132626\n"
     ]
    },
    {
     "name": "stderr",
     "output_type": "stream",
     "text": [
      " 65%|██████▌   | 130.83750000001794/200 [03:10<01:25,  1.23s/it]"
     ]
    },
    {
     "name": "stdout",
     "output_type": "stream",
     "text": [
      "Train Epoch: 131 [15360/17825 (86%)]\tLoss: 0.121573\n"
     ]
    },
    {
     "name": "stderr",
     "output_type": "stream",
     "text": [
      " 65%|██████▌   | 130.92500000001786/200 [03:10<01:45,  1.53s/it]"
     ]
    },
    {
     "name": "stdout",
     "output_type": "stream",
     "text": [
      "\n",
      "Test Epoch: 131\tAccuracy: 1959/2337 (84%)\n",
      "\n"
     ]
    },
    {
     "name": "stderr",
     "output_type": "stream",
     "text": [
      " 66%|██████▌   | 131.01250000001778/200 [03:10<02:01,  1.76s/it]"
     ]
    },
    {
     "name": "stdout",
     "output_type": "stream",
     "text": [
      "Train Epoch: 132 [0/17825 (0%)]\tLoss: 0.133211\n"
     ]
    },
    {
     "name": "stderr",
     "output_type": "stream",
     "text": [
      " 66%|██████▌   | 131.28750000001753/200 [03:11<01:36,  1.40s/it]"
     ]
    },
    {
     "name": "stdout",
     "output_type": "stream",
     "text": [
      "Train Epoch: 132 [5120/17825 (29%)]\tLoss: 0.133810\n"
     ]
    },
    {
     "name": "stderr",
     "output_type": "stream",
     "text": [
      " 66%|██████▌   | 131.6375000000172/200 [03:11<01:34,  1.38s/it] "
     ]
    },
    {
     "name": "stdout",
     "output_type": "stream",
     "text": [
      "Train Epoch: 132 [10240/17825 (57%)]\tLoss: 0.184117\n"
     ]
    },
    {
     "name": "stderr",
     "output_type": "stream",
     "text": [
      " 66%|██████▌   | 131.81250000001705/200 [03:11<01:29,  1.32s/it]"
     ]
    },
    {
     "name": "stdout",
     "output_type": "stream",
     "text": [
      "Train Epoch: 132 [15360/17825 (86%)]\tLoss: 0.155794\n"
     ]
    },
    {
     "name": "stderr",
     "output_type": "stream",
     "text": [
      " 66%|██████▌   | 131.9875000000169/200 [03:12<01:40,  1.47s/it] "
     ]
    },
    {
     "name": "stdout",
     "output_type": "stream",
     "text": [
      "\n",
      "Test Epoch: 132\tAccuracy: 1963/2337 (84%)\n",
      "\n"
     ]
    },
    {
     "name": "stderr",
     "output_type": "stream",
     "text": [
      " 66%|██████▌   | 132.06250000001683/200 [03:12<01:53,  1.67s/it]"
     ]
    },
    {
     "name": "stdout",
     "output_type": "stream",
     "text": [
      "Train Epoch: 133 [0/17825 (0%)]\tLoss: 0.174470\n"
     ]
    },
    {
     "name": "stderr",
     "output_type": "stream",
     "text": [
      " 66%|██████▌   | 132.3125000000166/200 [03:12<01:50,  1.63s/it] "
     ]
    },
    {
     "name": "stdout",
     "output_type": "stream",
     "text": [
      "Train Epoch: 133 [5120/17825 (29%)]\tLoss: 0.137959\n"
     ]
    },
    {
     "name": "stderr",
     "output_type": "stream",
     "text": [
      " 66%|██████▋   | 132.66250000001628/200 [03:13<01:27,  1.31s/it]"
     ]
    },
    {
     "name": "stdout",
     "output_type": "stream",
     "text": [
      "Train Epoch: 133 [10240/17825 (57%)]\tLoss: 0.203999\n"
     ]
    },
    {
     "name": "stderr",
     "output_type": "stream",
     "text": [
      " 66%|██████▋   | 132.83750000001612/200 [03:13<01:24,  1.26s/it]"
     ]
    },
    {
     "name": "stdout",
     "output_type": "stream",
     "text": [
      "Train Epoch: 133 [15360/17825 (86%)]\tLoss: 0.159934\n"
     ]
    },
    {
     "name": "stderr",
     "output_type": "stream",
     "text": [
      " 66%|██████▋   | 132.92500000001604/200 [03:13<01:43,  1.55s/it]"
     ]
    },
    {
     "name": "stdout",
     "output_type": "stream",
     "text": [
      "\n",
      "Test Epoch: 133\tAccuracy: 1961/2337 (84%)\n",
      "\n"
     ]
    },
    {
     "name": "stderr",
     "output_type": "stream",
     "text": [
      " 67%|██████▋   | 133.01250000001596/200 [03:13<01:59,  1.79s/it]"
     ]
    },
    {
     "name": "stdout",
     "output_type": "stream",
     "text": [
      "Train Epoch: 134 [0/17825 (0%)]\tLoss: 0.148067\n"
     ]
    },
    {
     "name": "stderr",
     "output_type": "stream",
     "text": [
      " 67%|██████▋   | 133.2875000000157/200 [03:14<01:32,  1.38s/it] "
     ]
    },
    {
     "name": "stdout",
     "output_type": "stream",
     "text": [
      "Train Epoch: 134 [5120/17825 (29%)]\tLoss: 0.145745\n"
     ]
    },
    {
     "name": "stderr",
     "output_type": "stream",
     "text": [
      " 67%|██████▋   | 133.6375000000154/200 [03:14<01:28,  1.34s/it] "
     ]
    },
    {
     "name": "stdout",
     "output_type": "stream",
     "text": [
      "Train Epoch: 134 [10240/17825 (57%)]\tLoss: 0.184355\n"
     ]
    },
    {
     "name": "stderr",
     "output_type": "stream",
     "text": [
      " 67%|██████▋   | 133.81250000001523/200 [03:14<01:24,  1.28s/it]"
     ]
    },
    {
     "name": "stdout",
     "output_type": "stream",
     "text": [
      "Train Epoch: 134 [15360/17825 (86%)]\tLoss: 0.133666\n"
     ]
    },
    {
     "name": "stderr",
     "output_type": "stream",
     "text": [
      " 67%|██████▋   | 133.90000000001515/200 [03:15<01:42,  1.55s/it]"
     ]
    },
    {
     "name": "stdout",
     "output_type": "stream",
     "text": [
      "\n",
      "Test Epoch: 134\tAccuracy: 1965/2337 (84%)\n",
      "\n"
     ]
    },
    {
     "name": "stderr",
     "output_type": "stream",
     "text": [
      " 67%|██████▋   | 134.01250000001505/200 [03:15<01:51,  1.69s/it]"
     ]
    },
    {
     "name": "stdout",
     "output_type": "stream",
     "text": [
      "Train Epoch: 135 [0/17825 (0%)]\tLoss: 0.186407\n"
     ]
    },
    {
     "name": "stderr",
     "output_type": "stream",
     "text": [
      " 67%|██████▋   | 134.2875000000148/200 [03:15<01:31,  1.40s/it] "
     ]
    },
    {
     "name": "stdout",
     "output_type": "stream",
     "text": [
      "Train Epoch: 135 [5120/17825 (29%)]\tLoss: 0.098316\n"
     ]
    },
    {
     "name": "stderr",
     "output_type": "stream",
     "text": [
      " 67%|██████▋   | 134.63750000001448/200 [03:16<01:30,  1.38s/it]"
     ]
    },
    {
     "name": "stdout",
     "output_type": "stream",
     "text": [
      "Train Epoch: 135 [10240/17825 (57%)]\tLoss: 0.141960\n"
     ]
    },
    {
     "name": "stderr",
     "output_type": "stream",
     "text": [
      " 67%|██████▋   | 134.81250000001432/200 [03:16<01:25,  1.31s/it]"
     ]
    },
    {
     "name": "stdout",
     "output_type": "stream",
     "text": [
      "Train Epoch: 135 [15360/17825 (86%)]\tLoss: 0.100766\n"
     ]
    },
    {
     "name": "stderr",
     "output_type": "stream",
     "text": [
      " 67%|██████▋   | 134.98750000001417/200 [03:16<01:34,  1.46s/it]"
     ]
    },
    {
     "name": "stdout",
     "output_type": "stream",
     "text": [
      "\n",
      "Test Epoch: 135\tAccuracy: 1967/2337 (84%)\n",
      "\n"
     ]
    },
    {
     "name": "stderr",
     "output_type": "stream",
     "text": [
      " 68%|██████▊   | 135.0625000000141/200 [03:16<01:49,  1.69s/it] "
     ]
    },
    {
     "name": "stdout",
     "output_type": "stream",
     "text": [
      "Train Epoch: 136 [0/17825 (0%)]\tLoss: 0.145262\n"
     ]
    },
    {
     "name": "stderr",
     "output_type": "stream",
     "text": [
      " 68%|██████▊   | 135.31250000001387/200 [03:17<01:44,  1.62s/it]"
     ]
    },
    {
     "name": "stdout",
     "output_type": "stream",
     "text": [
      "Train Epoch: 136 [5120/17825 (29%)]\tLoss: 0.120202\n"
     ]
    },
    {
     "name": "stderr",
     "output_type": "stream",
     "text": [
      " 68%|██████▊   | 135.66250000001355/200 [03:17<01:24,  1.32s/it]"
     ]
    },
    {
     "name": "stdout",
     "output_type": "stream",
     "text": [
      "Train Epoch: 136 [10240/17825 (57%)]\tLoss: 0.083614\n"
     ]
    },
    {
     "name": "stderr",
     "output_type": "stream",
     "text": [
      " 68%|██████▊   | 135.8375000000134/200 [03:17<01:21,  1.27s/it] "
     ]
    },
    {
     "name": "stdout",
     "output_type": "stream",
     "text": [
      "Train Epoch: 136 [15360/17825 (86%)]\tLoss: 0.124724\n"
     ]
    },
    {
     "name": "stderr",
     "output_type": "stream",
     "text": [
      " 68%|██████▊   | 135.9250000000133/200 [03:17<01:37,  1.52s/it]"
     ]
    },
    {
     "name": "stdout",
     "output_type": "stream",
     "text": [
      "\n",
      "Test Epoch: 136\tAccuracy: 1962/2337 (84%)\n",
      "\n"
     ]
    },
    {
     "name": "stderr",
     "output_type": "stream",
     "text": [
      " 68%|██████▊   | 136.01250000001323/200 [03:18<01:52,  1.76s/it]"
     ]
    },
    {
     "name": "stdout",
     "output_type": "stream",
     "text": [
      "Train Epoch: 137 [0/17825 (0%)]\tLoss: 0.177848\n"
     ]
    },
    {
     "name": "stderr",
     "output_type": "stream",
     "text": [
      " 68%|██████▊   | 136.35000000001293/200 [03:18<01:42,  1.62s/it]"
     ]
    },
    {
     "name": "stdout",
     "output_type": "stream",
     "text": [
      "Train Epoch: 137 [5120/17825 (29%)]\tLoss: 0.155720\n"
     ]
    },
    {
     "name": "stderr",
     "output_type": "stream",
     "text": [
      " 68%|██████▊   | 136.6125000000127/200 [03:18<01:27,  1.38s/it] "
     ]
    },
    {
     "name": "stdout",
     "output_type": "stream",
     "text": [
      "Train Epoch: 137 [10240/17825 (57%)]\tLoss: 0.180326\n"
     ]
    },
    {
     "name": "stderr",
     "output_type": "stream",
     "text": [
      " 68%|██████▊   | 136.87500000001245/200 [03:19<01:21,  1.29s/it]"
     ]
    },
    {
     "name": "stdout",
     "output_type": "stream",
     "text": [
      "Train Epoch: 137 [15360/17825 (86%)]\tLoss: 0.174520\n"
     ]
    },
    {
     "name": "stderr",
     "output_type": "stream",
     "text": [
      " 68%|██████▊   | 136.96250000001237/200 [03:19<01:38,  1.56s/it]"
     ]
    },
    {
     "name": "stdout",
     "output_type": "stream",
     "text": [
      "\n",
      "Test Epoch: 137\tAccuracy: 1960/2337 (84%)\n",
      "\n"
     ]
    },
    {
     "name": "stderr",
     "output_type": "stream",
     "text": [
      " 69%|██████▊   | 137.0375000000123/200 [03:19<01:49,  1.74s/it] "
     ]
    },
    {
     "name": "stdout",
     "output_type": "stream",
     "text": [
      "Train Epoch: 138 [0/17825 (0%)]\tLoss: 0.166108\n"
     ]
    },
    {
     "name": "stderr",
     "output_type": "stream",
     "text": [
      " 69%|██████▊   | 137.362500000012/200 [03:20<01:42,  1.64s/it]  "
     ]
    },
    {
     "name": "stdout",
     "output_type": "stream",
     "text": [
      "Train Epoch: 138 [5120/17825 (29%)]\tLoss: 0.119599\n"
     ]
    },
    {
     "name": "stderr",
     "output_type": "stream",
     "text": [
      " 69%|██████▉   | 137.62500000001177/200 [03:20<01:24,  1.36s/it]"
     ]
    },
    {
     "name": "stdout",
     "output_type": "stream",
     "text": [
      "Train Epoch: 138 [10240/17825 (57%)]\tLoss: 0.170418\n"
     ]
    },
    {
     "name": "stderr",
     "output_type": "stream",
     "text": [
      " 69%|██████▉   | 137.8000000000116/200 [03:20<01:19,  1.28s/it] "
     ]
    },
    {
     "name": "stdout",
     "output_type": "stream",
     "text": [
      "Train Epoch: 138 [15360/17825 (86%)]\tLoss: 0.127771\n"
     ]
    },
    {
     "name": "stderr",
     "output_type": "stream",
     "text": [
      " 69%|██████▉   | 137.98750000001144/200 [03:20<01:28,  1.42s/it]"
     ]
    },
    {
     "name": "stdout",
     "output_type": "stream",
     "text": [
      "\n",
      "Test Epoch: 138\tAccuracy: 1960/2337 (84%)\n",
      "\n"
     ]
    },
    {
     "name": "stderr",
     "output_type": "stream",
     "text": [
      " 69%|██████▉   | 138.07500000001136/200 [03:21<01:40,  1.62s/it]"
     ]
    },
    {
     "name": "stdout",
     "output_type": "stream",
     "text": [
      "Train Epoch: 139 [0/17825 (0%)]\tLoss: 0.122640\n"
     ]
    },
    {
     "name": "stderr",
     "output_type": "stream",
     "text": [
      " 69%|██████▉   | 138.32500000001113/200 [03:21<01:39,  1.61s/it]"
     ]
    },
    {
     "name": "stdout",
     "output_type": "stream",
     "text": [
      "Train Epoch: 139 [5120/17825 (29%)]\tLoss: 0.138096\n"
     ]
    },
    {
     "name": "stderr",
     "output_type": "stream",
     "text": [
      " 69%|██████▉   | 138.6750000000108/200 [03:21<01:20,  1.31s/it] "
     ]
    },
    {
     "name": "stdout",
     "output_type": "stream",
     "text": [
      "Train Epoch: 139 [10240/17825 (57%)]\tLoss: 0.165122\n"
     ]
    },
    {
     "name": "stderr",
     "output_type": "stream",
     "text": [
      " 69%|██████▉   | 138.85000000001065/200 [03:22<01:17,  1.26s/it]"
     ]
    },
    {
     "name": "stdout",
     "output_type": "stream",
     "text": [
      "Train Epoch: 139 [15360/17825 (86%)]\tLoss: 0.117352\n"
     ]
    },
    {
     "name": "stderr",
     "output_type": "stream",
     "text": [
      " 69%|██████▉   | 138.93750000001057/200 [03:22<01:33,  1.53s/it]"
     ]
    },
    {
     "name": "stdout",
     "output_type": "stream",
     "text": [
      "\n",
      "Test Epoch: 139\tAccuracy: 1968/2337 (84%)\n",
      "\n"
     ]
    },
    {
     "name": "stderr",
     "output_type": "stream",
     "text": [
      " 70%|██████▉   | 139.0125000000105/200 [03:22<01:47,  1.76s/it] "
     ]
    },
    {
     "name": "stdout",
     "output_type": "stream",
     "text": [
      "Train Epoch: 140 [0/17825 (0%)]\tLoss: 0.138853\n"
     ]
    },
    {
     "name": "stderr",
     "output_type": "stream",
     "text": [
      " 70%|██████▉   | 139.37500000001017/200 [03:23<01:33,  1.54s/it]"
     ]
    },
    {
     "name": "stdout",
     "output_type": "stream",
     "text": [
      "Train Epoch: 140 [5120/17825 (29%)]\tLoss: 0.187572\n"
     ]
    },
    {
     "name": "stderr",
     "output_type": "stream",
     "text": [
      " 70%|██████▉   | 139.63750000000994/200 [03:23<01:20,  1.33s/it]"
     ]
    },
    {
     "name": "stdout",
     "output_type": "stream",
     "text": [
      "Train Epoch: 140 [10240/17825 (57%)]\tLoss: 0.156625\n"
     ]
    },
    {
     "name": "stderr",
     "output_type": "stream",
     "text": [
      " 70%|██████▉   | 139.81250000000978/200 [03:23<01:17,  1.29s/it]"
     ]
    },
    {
     "name": "stdout",
     "output_type": "stream",
     "text": [
      "Train Epoch: 140 [15360/17825 (86%)]\tLoss: 0.154392\n"
     ]
    },
    {
     "name": "stderr",
     "output_type": "stream",
     "text": [
      " 70%|██████▉   | 139.9000000000097/200 [03:23<01:35,  1.58s/it] "
     ]
    },
    {
     "name": "stdout",
     "output_type": "stream",
     "text": [
      "\n",
      "Test Epoch: 140\tAccuracy: 1967/2337 (84%)\n",
      "\n"
     ]
    },
    {
     "name": "stderr",
     "output_type": "stream",
     "text": [
      " 70%|███████   | 140.0125000000096/200 [03:23<01:41,  1.70s/it]"
     ]
    },
    {
     "name": "stdout",
     "output_type": "stream",
     "text": [
      "Train Epoch: 141 [0/17825 (0%)]\tLoss: 0.158192\n"
     ]
    },
    {
     "name": "stderr",
     "output_type": "stream",
     "text": [
      " 70%|███████   | 140.28750000000935/200 [03:24<01:22,  1.39s/it]"
     ]
    },
    {
     "name": "stdout",
     "output_type": "stream",
     "text": [
      "Train Epoch: 141 [5120/17825 (29%)]\tLoss: 0.131796\n"
     ]
    },
    {
     "name": "stderr",
     "output_type": "stream",
     "text": [
      " 70%|███████   | 140.63750000000903/200 [03:24<01:21,  1.37s/it]"
     ]
    },
    {
     "name": "stdout",
     "output_type": "stream",
     "text": [
      "Train Epoch: 141 [10240/17825 (57%)]\tLoss: 0.098801\n"
     ]
    },
    {
     "name": "stderr",
     "output_type": "stream",
     "text": [
      " 70%|███████   | 140.81250000000887/200 [03:25<01:17,  1.31s/it]"
     ]
    },
    {
     "name": "stdout",
     "output_type": "stream",
     "text": [
      "Train Epoch: 141 [15360/17825 (86%)]\tLoss: 0.096854\n"
     ]
    },
    {
     "name": "stderr",
     "output_type": "stream",
     "text": [
      " 70%|███████   | 140.9875000000087/200 [03:25<01:25,  1.45s/it] "
     ]
    },
    {
     "name": "stdout",
     "output_type": "stream",
     "text": [
      "\n",
      "Test Epoch: 141\tAccuracy: 1966/2337 (84%)\n",
      "\n"
     ]
    },
    {
     "name": "stderr",
     "output_type": "stream",
     "text": [
      " 71%|███████   | 141.06250000000864/200 [03:25<01:37,  1.66s/it]"
     ]
    },
    {
     "name": "stdout",
     "output_type": "stream",
     "text": [
      "Train Epoch: 142 [0/17825 (0%)]\tLoss: 0.163372\n"
     ]
    },
    {
     "name": "stderr",
     "output_type": "stream",
     "text": [
      " 71%|███████   | 141.3125000000084/200 [03:25<01:35,  1.63s/it] "
     ]
    },
    {
     "name": "stdout",
     "output_type": "stream",
     "text": [
      "Train Epoch: 142 [5120/17825 (29%)]\tLoss: 0.133202\n"
     ]
    },
    {
     "name": "stderr",
     "output_type": "stream",
     "text": [
      " 71%|███████   | 141.6625000000081/200 [03:26<01:17,  1.33s/it] "
     ]
    },
    {
     "name": "stdout",
     "output_type": "stream",
     "text": [
      "Train Epoch: 142 [10240/17825 (57%)]\tLoss: 0.140851\n"
     ]
    },
    {
     "name": "stderr",
     "output_type": "stream",
     "text": [
      " 71%|███████   | 141.83750000000794/200 [03:26<01:14,  1.27s/it]"
     ]
    },
    {
     "name": "stdout",
     "output_type": "stream",
     "text": [
      "Train Epoch: 142 [15360/17825 (86%)]\tLoss: 0.169685\n"
     ]
    },
    {
     "name": "stderr",
     "output_type": "stream",
     "text": [
      " 71%|███████   | 141.92500000000786/200 [03:26<01:28,  1.53s/it]"
     ]
    },
    {
     "name": "stdout",
     "output_type": "stream",
     "text": [
      "\n",
      "Test Epoch: 142\tAccuracy: 1968/2337 (84%)\n",
      "\n"
     ]
    },
    {
     "name": "stderr",
     "output_type": "stream",
     "text": [
      " 71%|███████   | 142.01250000000778/200 [03:26<01:42,  1.77s/it]"
     ]
    },
    {
     "name": "stdout",
     "output_type": "stream",
     "text": [
      "Train Epoch: 143 [0/17825 (0%)]\tLoss: 0.109985\n"
     ]
    },
    {
     "name": "stderr",
     "output_type": "stream",
     "text": [
      " 71%|███████   | 142.28750000000753/200 [03:27<01:20,  1.39s/it]"
     ]
    },
    {
     "name": "stdout",
     "output_type": "stream",
     "text": [
      "Train Epoch: 143 [5120/17825 (29%)]\tLoss: 0.148204\n"
     ]
    },
    {
     "name": "stderr",
     "output_type": "stream",
     "text": [
      " 71%|███████▏  | 142.6375000000072/200 [03:27<01:17,  1.35s/it] "
     ]
    },
    {
     "name": "stdout",
     "output_type": "stream",
     "text": [
      "Train Epoch: 143 [10240/17825 (57%)]\tLoss: 0.128660\n"
     ]
    },
    {
     "name": "stderr",
     "output_type": "stream",
     "text": [
      " 71%|███████▏  | 142.81250000000705/200 [03:27<01:13,  1.28s/it]"
     ]
    },
    {
     "name": "stdout",
     "output_type": "stream",
     "text": [
      "Train Epoch: 143 [15360/17825 (86%)]\tLoss: 0.154993\n"
     ]
    },
    {
     "name": "stderr",
     "output_type": "stream",
     "text": [
      " 71%|███████▏  | 142.9875000000069/200 [03:28<01:22,  1.44s/it] "
     ]
    },
    {
     "name": "stdout",
     "output_type": "stream",
     "text": [
      "\n",
      "Test Epoch: 143\tAccuracy: 1966/2337 (84%)\n",
      "\n"
     ]
    },
    {
     "name": "stderr",
     "output_type": "stream",
     "text": [
      " 72%|███████▏  | 143.06250000000682/200 [03:28<01:34,  1.66s/it]"
     ]
    },
    {
     "name": "stdout",
     "output_type": "stream",
     "text": [
      "Train Epoch: 144 [0/17825 (0%)]\tLoss: 0.140856\n"
     ]
    },
    {
     "name": "stderr",
     "output_type": "stream",
     "text": [
      " 72%|███████▏  | 143.3125000000066/200 [03:28<01:31,  1.61s/it] "
     ]
    },
    {
     "name": "stdout",
     "output_type": "stream",
     "text": [
      "Train Epoch: 144 [5120/17825 (29%)]\tLoss: 0.180998\n"
     ]
    },
    {
     "name": "stderr",
     "output_type": "stream",
     "text": [
      " 72%|███████▏  | 143.66250000000628/200 [03:29<01:13,  1.31s/it]"
     ]
    },
    {
     "name": "stdout",
     "output_type": "stream",
     "text": [
      "Train Epoch: 144 [10240/17825 (57%)]\tLoss: 0.123745\n"
     ]
    },
    {
     "name": "stderr",
     "output_type": "stream",
     "text": [
      " 72%|███████▏  | 143.83750000000612/200 [03:29<01:11,  1.27s/it]"
     ]
    },
    {
     "name": "stdout",
     "output_type": "stream",
     "text": [
      "Train Epoch: 144 [15360/17825 (86%)]\tLoss: 0.103603\n"
     ]
    },
    {
     "name": "stderr",
     "output_type": "stream",
     "text": [
      " 72%|███████▏  | 143.92500000000604/200 [03:29<01:25,  1.52s/it]"
     ]
    },
    {
     "name": "stdout",
     "output_type": "stream",
     "text": [
      "\n",
      "Test Epoch: 144\tAccuracy: 1962/2337 (84%)\n",
      "\n"
     ]
    },
    {
     "name": "stderr",
     "output_type": "stream",
     "text": [
      " 72%|███████▏  | 144.01250000000596/200 [03:29<01:37,  1.74s/it]"
     ]
    },
    {
     "name": "stdout",
     "output_type": "stream",
     "text": [
      "Train Epoch: 145 [0/17825 (0%)]\tLoss: 0.151207\n"
     ]
    },
    {
     "name": "stderr",
     "output_type": "stream",
     "text": [
      " 72%|███████▏  | 144.2875000000057/200 [03:30<01:16,  1.38s/it] "
     ]
    },
    {
     "name": "stdout",
     "output_type": "stream",
     "text": [
      "Train Epoch: 145 [5120/17825 (29%)]\tLoss: 0.205501\n"
     ]
    },
    {
     "name": "stderr",
     "output_type": "stream",
     "text": [
      " 72%|███████▏  | 144.6375000000054/200 [03:30<01:14,  1.35s/it] "
     ]
    },
    {
     "name": "stdout",
     "output_type": "stream",
     "text": [
      "Train Epoch: 145 [10240/17825 (57%)]\tLoss: 0.153556\n"
     ]
    },
    {
     "name": "stderr",
     "output_type": "stream",
     "text": [
      " 72%|███████▏  | 144.81250000000523/200 [03:30<01:11,  1.29s/it]"
     ]
    },
    {
     "name": "stdout",
     "output_type": "stream",
     "text": [
      "Train Epoch: 145 [15360/17825 (86%)]\tLoss: 0.148252\n"
     ]
    },
    {
     "name": "stderr",
     "output_type": "stream",
     "text": [
      " 72%|███████▏  | 144.98750000000507/200 [03:31<01:21,  1.48s/it]"
     ]
    },
    {
     "name": "stdout",
     "output_type": "stream",
     "text": [
      "\n",
      "Test Epoch: 145\tAccuracy: 1967/2337 (84%)\n",
      "\n"
     ]
    },
    {
     "name": "stderr",
     "output_type": "stream",
     "text": [
      " 73%|███████▎  | 145.062500000005/200 [03:31<01:32,  1.68s/it]  "
     ]
    },
    {
     "name": "stdout",
     "output_type": "stream",
     "text": [
      "Train Epoch: 146 [0/17825 (0%)]\tLoss: 0.169096\n"
     ]
    },
    {
     "name": "stderr",
     "output_type": "stream",
     "text": [
      " 73%|███████▎  | 145.31250000000477/200 [03:31<01:29,  1.63s/it]"
     ]
    },
    {
     "name": "stdout",
     "output_type": "stream",
     "text": [
      "Train Epoch: 146 [5120/17825 (29%)]\tLoss: 0.176143\n"
     ]
    },
    {
     "name": "stderr",
     "output_type": "stream",
     "text": [
      " 73%|███████▎  | 145.66250000000446/200 [03:32<01:12,  1.34s/it]"
     ]
    },
    {
     "name": "stdout",
     "output_type": "stream",
     "text": [
      "Train Epoch: 146 [10240/17825 (57%)]\tLoss: 0.136293\n"
     ]
    },
    {
     "name": "stderr",
     "output_type": "stream",
     "text": [
      " 73%|███████▎  | 145.8375000000043/200 [03:32<01:09,  1.29s/it] "
     ]
    },
    {
     "name": "stdout",
     "output_type": "stream",
     "text": [
      "Train Epoch: 146 [15360/17825 (86%)]\tLoss: 0.177615\n"
     ]
    },
    {
     "name": "stderr",
     "output_type": "stream",
     "text": [
      " 73%|███████▎  | 145.92500000000422/200 [03:32<01:24,  1.55s/it]"
     ]
    },
    {
     "name": "stdout",
     "output_type": "stream",
     "text": [
      "\n",
      "Test Epoch: 146\tAccuracy: 1959/2337 (84%)\n",
      "\n"
     ]
    },
    {
     "name": "stderr",
     "output_type": "stream",
     "text": [
      " 73%|███████▎  | 146.01250000000414/200 [03:32<01:35,  1.77s/it]"
     ]
    },
    {
     "name": "stdout",
     "output_type": "stream",
     "text": [
      "Train Epoch: 147 [0/17825 (0%)]\tLoss: 0.109888\n"
     ]
    },
    {
     "name": "stderr",
     "output_type": "stream",
     "text": [
      " 73%|███████▎  | 146.2875000000039/200 [03:33<01:15,  1.40s/it] "
     ]
    },
    {
     "name": "stdout",
     "output_type": "stream",
     "text": [
      "Train Epoch: 147 [5120/17825 (29%)]\tLoss: 0.180680\n"
     ]
    },
    {
     "name": "stderr",
     "output_type": "stream",
     "text": [
      " 73%|███████▎  | 146.63750000000357/200 [03:33<01:11,  1.35s/it]"
     ]
    },
    {
     "name": "stdout",
     "output_type": "stream",
     "text": [
      "Train Epoch: 147 [10240/17825 (57%)]\tLoss: 0.182032\n"
     ]
    },
    {
     "name": "stderr",
     "output_type": "stream",
     "text": [
      " 73%|███████▎  | 146.8125000000034/200 [03:33<01:08,  1.28s/it] "
     ]
    },
    {
     "name": "stdout",
     "output_type": "stream",
     "text": [
      "Train Epoch: 147 [15360/17825 (86%)]\tLoss: 0.170189\n"
     ]
    },
    {
     "name": "stderr",
     "output_type": "stream",
     "text": [
      " 74%|███████▎  | 147.00000000000324/200 [03:34<01:13,  1.38s/it]"
     ]
    },
    {
     "name": "stdout",
     "output_type": "stream",
     "text": [
      "\n",
      "Test Epoch: 147\tAccuracy: 1964/2337 (84%)\n",
      "\n"
     ]
    },
    {
     "name": "stderr",
     "output_type": "stream",
     "text": [
      " 74%|███████▎  | 147.08750000000316/200 [03:34<01:26,  1.64s/it]"
     ]
    },
    {
     "name": "stdout",
     "output_type": "stream",
     "text": [
      "Train Epoch: 148 [0/17825 (0%)]\tLoss: 0.139435\n"
     ]
    },
    {
     "name": "stderr",
     "output_type": "stream",
     "text": [
      " 74%|███████▎  | 147.33750000000293/200 [03:34<01:23,  1.58s/it]"
     ]
    },
    {
     "name": "stdout",
     "output_type": "stream",
     "text": [
      "Train Epoch: 148 [5120/17825 (29%)]\tLoss: 0.122926\n"
     ]
    },
    {
     "name": "stderr",
     "output_type": "stream",
     "text": [
      " 74%|███████▍  | 147.6000000000027/200 [03:34<01:09,  1.32s/it] "
     ]
    },
    {
     "name": "stdout",
     "output_type": "stream",
     "text": [
      "Train Epoch: 148 [10240/17825 (57%)]\tLoss: 0.127766\n"
     ]
    },
    {
     "name": "stderr",
     "output_type": "stream",
     "text": [
      " 74%|███████▍  | 147.86250000000246/200 [03:35<01:05,  1.25s/it]"
     ]
    },
    {
     "name": "stdout",
     "output_type": "stream",
     "text": [
      "Train Epoch: 148 [15360/17825 (86%)]\tLoss: 0.145666\n"
     ]
    },
    {
     "name": "stderr",
     "output_type": "stream",
     "text": [
      " 74%|███████▍  | 147.95000000000238/200 [03:35<01:18,  1.51s/it]"
     ]
    },
    {
     "name": "stdout",
     "output_type": "stream",
     "text": [
      "\n",
      "Test Epoch: 148\tAccuracy: 1963/2337 (84%)\n",
      "\n"
     ]
    },
    {
     "name": "stderr",
     "output_type": "stream",
     "text": [
      " 74%|███████▍  | 148.0250000000023/200 [03:35<01:29,  1.73s/it] "
     ]
    },
    {
     "name": "stdout",
     "output_type": "stream",
     "text": [
      "Train Epoch: 149 [0/17825 (0%)]\tLoss: 0.139611\n"
     ]
    },
    {
     "name": "stderr",
     "output_type": "stream",
     "text": [
      " 74%|███████▍  | 148.362500000002/200 [03:36<01:22,  1.60s/it]  "
     ]
    },
    {
     "name": "stdout",
     "output_type": "stream",
     "text": [
      "Train Epoch: 149 [5120/17825 (29%)]\tLoss: 0.116410\n"
     ]
    },
    {
     "name": "stderr",
     "output_type": "stream",
     "text": [
      " 74%|███████▍  | 148.62500000000176/200 [03:36<01:09,  1.36s/it]"
     ]
    },
    {
     "name": "stdout",
     "output_type": "stream",
     "text": [
      "Train Epoch: 149 [10240/17825 (57%)]\tLoss: 0.158845\n"
     ]
    },
    {
     "name": "stderr",
     "output_type": "stream",
     "text": [
      " 74%|███████▍  | 148.8000000000016/200 [03:36<01:06,  1.29s/it] "
     ]
    },
    {
     "name": "stdout",
     "output_type": "stream",
     "text": [
      "Train Epoch: 149 [15360/17825 (86%)]\tLoss: 0.188792\n"
     ]
    },
    {
     "name": "stderr",
     "output_type": "stream",
     "text": [
      " 74%|███████▍  | 148.98750000000143/200 [03:36<01:12,  1.42s/it]"
     ]
    },
    {
     "name": "stdout",
     "output_type": "stream",
     "text": [
      "\n",
      "Test Epoch: 149\tAccuracy: 1966/2337 (84%)\n",
      "\n"
     ]
    },
    {
     "name": "stderr",
     "output_type": "stream",
     "text": [
      " 75%|███████▍  | 149.07500000000135/200 [03:37<01:21,  1.60s/it]"
     ]
    },
    {
     "name": "stdout",
     "output_type": "stream",
     "text": [
      "Train Epoch: 150 [0/17825 (0%)]\tLoss: 0.143600\n"
     ]
    },
    {
     "name": "stderr",
     "output_type": "stream",
     "text": [
      " 75%|███████▍  | 149.32500000000113/200 [03:37<01:21,  1.61s/it]"
     ]
    },
    {
     "name": "stdout",
     "output_type": "stream",
     "text": [
      "Train Epoch: 150 [5120/17825 (29%)]\tLoss: 0.127262\n"
     ]
    },
    {
     "name": "stderr",
     "output_type": "stream",
     "text": [
      " 75%|███████▍  | 149.66250000000082/200 [03:37<01:09,  1.38s/it]"
     ]
    },
    {
     "name": "stdout",
     "output_type": "stream",
     "text": [
      "Train Epoch: 150 [10240/17825 (57%)]\tLoss: 0.108691\n"
     ]
    },
    {
     "name": "stderr",
     "output_type": "stream",
     "text": [
      " 75%|███████▍  | 149.82500000000067/200 [03:38<01:08,  1.36s/it]"
     ]
    },
    {
     "name": "stdout",
     "output_type": "stream",
     "text": [
      "Train Epoch: 150 [15360/17825 (86%)]\tLoss: 0.150017\n"
     ]
    },
    {
     "name": "stderr",
     "output_type": "stream",
     "text": [
      " 75%|███████▍  | 149.98750000000052/200 [03:38<01:15,  1.51s/it]"
     ]
    },
    {
     "name": "stdout",
     "output_type": "stream",
     "text": [
      "\n",
      "Test Epoch: 150\tAccuracy: 1968/2337 (84%)\n",
      "\n"
     ]
    },
    {
     "name": "stderr",
     "output_type": "stream",
     "text": [
      " 75%|███████▌  | 150.06250000000045/200 [03:38<01:26,  1.73s/it]"
     ]
    },
    {
     "name": "stdout",
     "output_type": "stream",
     "text": [
      "Train Epoch: 151 [0/17825 (0%)]\tLoss: 0.151735\n"
     ]
    },
    {
     "name": "stderr",
     "output_type": "stream",
     "text": [
      " 75%|███████▌  | 150.31250000000023/200 [03:39<01:20,  1.61s/it]"
     ]
    },
    {
     "name": "stdout",
     "output_type": "stream",
     "text": [
      "Train Epoch: 151 [5120/17825 (29%)]\tLoss: 0.168135\n"
     ]
    },
    {
     "name": "stderr",
     "output_type": "stream",
     "text": [
      " 75%|███████▌  | 150.6624999999999/200 [03:39<01:02,  1.27s/it] "
     ]
    },
    {
     "name": "stdout",
     "output_type": "stream",
     "text": [
      "Train Epoch: 151 [10240/17825 (57%)]\tLoss: 0.125789\n"
     ]
    },
    {
     "name": "stderr",
     "output_type": "stream",
     "text": [
      " 75%|███████▌  | 150.83749999999975/200 [03:39<00:59,  1.22s/it]"
     ]
    },
    {
     "name": "stdout",
     "output_type": "stream",
     "text": [
      "Train Epoch: 151 [15360/17825 (86%)]\tLoss: 0.149097\n"
     ]
    },
    {
     "name": "stderr",
     "output_type": "stream",
     "text": [
      " 75%|███████▌  | 150.92499999999967/200 [03:39<01:13,  1.50s/it]"
     ]
    },
    {
     "name": "stdout",
     "output_type": "stream",
     "text": [
      "\n",
      "Test Epoch: 151\tAccuracy: 1959/2337 (84%)\n",
      "\n"
     ]
    },
    {
     "name": "stderr",
     "output_type": "stream",
     "text": [
      " 76%|███████▌  | 151.0124999999996/200 [03:39<01:23,  1.70s/it] "
     ]
    },
    {
     "name": "stdout",
     "output_type": "stream",
     "text": [
      "Train Epoch: 152 [0/17825 (0%)]\tLoss: 0.123648\n"
     ]
    },
    {
     "name": "stderr",
     "output_type": "stream",
     "text": [
      " 76%|███████▌  | 151.28749999999934/200 [03:40<01:07,  1.39s/it]"
     ]
    },
    {
     "name": "stdout",
     "output_type": "stream",
     "text": [
      "Train Epoch: 152 [5120/17825 (29%)]\tLoss: 0.119176\n"
     ]
    },
    {
     "name": "stderr",
     "output_type": "stream",
     "text": [
      " 76%|███████▌  | 151.63749999999902/200 [03:40<01:07,  1.39s/it]"
     ]
    },
    {
     "name": "stdout",
     "output_type": "stream",
     "text": [
      "Train Epoch: 152 [10240/17825 (57%)]\tLoss: 0.091155\n"
     ]
    },
    {
     "name": "stderr",
     "output_type": "stream",
     "text": [
      " 76%|███████▌  | 151.81249999999886/200 [03:41<01:04,  1.33s/it]"
     ]
    },
    {
     "name": "stdout",
     "output_type": "stream",
     "text": [
      "Train Epoch: 152 [15360/17825 (86%)]\tLoss: 0.164449\n"
     ]
    },
    {
     "name": "stderr",
     "output_type": "stream",
     "text": [
      " 76%|███████▌  | 151.9874999999987/200 [03:41<01:10,  1.48s/it] "
     ]
    },
    {
     "name": "stdout",
     "output_type": "stream",
     "text": [
      "\n",
      "Test Epoch: 152\tAccuracy: 1963/2337 (84%)\n",
      "\n"
     ]
    },
    {
     "name": "stderr",
     "output_type": "stream",
     "text": [
      " 76%|███████▌  | 152.06249999999864/200 [03:41<01:21,  1.69s/it]"
     ]
    },
    {
     "name": "stdout",
     "output_type": "stream",
     "text": [
      "Train Epoch: 153 [0/17825 (0%)]\tLoss: 0.170370\n"
     ]
    },
    {
     "name": "stderr",
     "output_type": "stream",
     "text": [
      " 76%|███████▌  | 152.3124999999984/200 [03:41<01:17,  1.63s/it] "
     ]
    },
    {
     "name": "stdout",
     "output_type": "stream",
     "text": [
      "Train Epoch: 153 [5120/17825 (29%)]\tLoss: 0.124645\n"
     ]
    },
    {
     "name": "stderr",
     "output_type": "stream",
     "text": [
      " 76%|███████▋  | 152.6624999999981/200 [03:42<01:02,  1.32s/it] "
     ]
    },
    {
     "name": "stdout",
     "output_type": "stream",
     "text": [
      "Train Epoch: 153 [10240/17825 (57%)]\tLoss: 0.161416\n"
     ]
    },
    {
     "name": "stderr",
     "output_type": "stream",
     "text": [
      " 76%|███████▋  | 152.83749999999793/200 [03:42<00:59,  1.27s/it]"
     ]
    },
    {
     "name": "stdout",
     "output_type": "stream",
     "text": [
      "Train Epoch: 153 [15360/17825 (86%)]\tLoss: 0.126580\n"
     ]
    },
    {
     "name": "stderr",
     "output_type": "stream",
     "text": [
      " 76%|███████▋  | 152.92499999999785/200 [03:42<01:11,  1.53s/it]"
     ]
    },
    {
     "name": "stdout",
     "output_type": "stream",
     "text": [
      "\n",
      "Test Epoch: 153\tAccuracy: 1968/2337 (84%)\n",
      "\n"
     ]
    },
    {
     "name": "stderr",
     "output_type": "stream",
     "text": [
      " 77%|███████▋  | 153.01249999999777/200 [03:42<01:21,  1.74s/it]"
     ]
    },
    {
     "name": "stdout",
     "output_type": "stream",
     "text": [
      "Train Epoch: 154 [0/17825 (0%)]\tLoss: 0.148423\n"
     ]
    },
    {
     "name": "stderr",
     "output_type": "stream",
     "text": [
      " 77%|███████▋  | 153.37499999999744/200 [03:43<01:11,  1.53s/it]"
     ]
    },
    {
     "name": "stdout",
     "output_type": "stream",
     "text": [
      "Train Epoch: 154 [5120/17825 (29%)]\tLoss: 0.164922\n"
     ]
    },
    {
     "name": "stderr",
     "output_type": "stream",
     "text": [
      " 77%|███████▋  | 153.6374999999972/200 [03:43<01:01,  1.32s/it] "
     ]
    },
    {
     "name": "stdout",
     "output_type": "stream",
     "text": [
      "Train Epoch: 154 [10240/17825 (57%)]\tLoss: 0.140227\n"
     ]
    },
    {
     "name": "stderr",
     "output_type": "stream",
     "text": [
      " 77%|███████▋  | 153.81249999999704/200 [03:43<00:58,  1.26s/it]"
     ]
    },
    {
     "name": "stdout",
     "output_type": "stream",
     "text": [
      "Train Epoch: 154 [15360/17825 (86%)]\tLoss: 0.127752\n"
     ]
    },
    {
     "name": "stderr",
     "output_type": "stream",
     "text": [
      " 77%|███████▋  | 153.98749999999688/200 [03:44<01:06,  1.44s/it]"
     ]
    },
    {
     "name": "stdout",
     "output_type": "stream",
     "text": [
      "\n",
      "Test Epoch: 154\tAccuracy: 1961/2337 (84%)\n",
      "\n"
     ]
    },
    {
     "name": "stderr",
     "output_type": "stream",
     "text": [
      " 77%|███████▋  | 154.06249999999682/200 [03:44<01:15,  1.64s/it]"
     ]
    },
    {
     "name": "stdout",
     "output_type": "stream",
     "text": [
      "Train Epoch: 155 [0/17825 (0%)]\tLoss: 0.132860\n"
     ]
    },
    {
     "name": "stderr",
     "output_type": "stream",
     "text": [
      " 77%|███████▋  | 154.3124999999966/200 [03:44<01:14,  1.62s/it] "
     ]
    },
    {
     "name": "stdout",
     "output_type": "stream",
     "text": [
      "Train Epoch: 155 [5120/17825 (29%)]\tLoss: 0.136888\n"
     ]
    },
    {
     "name": "stderr",
     "output_type": "stream",
     "text": [
      " 77%|███████▋  | 154.66249999999627/200 [03:45<01:00,  1.34s/it]"
     ]
    },
    {
     "name": "stdout",
     "output_type": "stream",
     "text": [
      "Train Epoch: 155 [10240/17825 (57%)]\tLoss: 0.187814\n"
     ]
    },
    {
     "name": "stderr",
     "output_type": "stream",
     "text": [
      " 77%|███████▋  | 154.8374999999961/200 [03:45<00:57,  1.27s/it] "
     ]
    },
    {
     "name": "stdout",
     "output_type": "stream",
     "text": [
      "Train Epoch: 155 [15360/17825 (86%)]\tLoss: 0.165429\n"
     ]
    },
    {
     "name": "stderr",
     "output_type": "stream",
     "text": [
      " 77%|███████▋  | 154.92499999999603/200 [03:45<01:09,  1.54s/it]"
     ]
    },
    {
     "name": "stdout",
     "output_type": "stream",
     "text": [
      "\n",
      "Test Epoch: 155\tAccuracy: 1969/2337 (84%)\n",
      "\n"
     ]
    },
    {
     "name": "stderr",
     "output_type": "stream",
     "text": [
      " 78%|███████▊  | 155.01249999999595/200 [03:45<01:19,  1.76s/it]"
     ]
    },
    {
     "name": "stdout",
     "output_type": "stream",
     "text": [
      "Train Epoch: 156 [0/17825 (0%)]\tLoss: 0.152875\n"
     ]
    },
    {
     "name": "stderr",
     "output_type": "stream",
     "text": [
      " 78%|███████▊  | 155.37499999999562/200 [03:46<01:09,  1.55s/it]"
     ]
    },
    {
     "name": "stdout",
     "output_type": "stream",
     "text": [
      "Train Epoch: 156 [5120/17825 (29%)]\tLoss: 0.148641\n"
     ]
    },
    {
     "name": "stderr",
     "output_type": "stream",
     "text": [
      " 78%|███████▊  | 155.63749999999538/200 [03:46<00:59,  1.34s/it]"
     ]
    },
    {
     "name": "stdout",
     "output_type": "stream",
     "text": [
      "Train Epoch: 156 [10240/17825 (57%)]\tLoss: 0.142389\n"
     ]
    },
    {
     "name": "stderr",
     "output_type": "stream",
     "text": [
      " 78%|███████▊  | 155.81249999999523/200 [03:46<00:56,  1.28s/it]"
     ]
    },
    {
     "name": "stdout",
     "output_type": "stream",
     "text": [
      "Train Epoch: 156 [15360/17825 (86%)]\tLoss: 0.103333\n"
     ]
    },
    {
     "name": "stderr",
     "output_type": "stream",
     "text": [
      " 78%|███████▊  | 155.98749999999507/200 [03:47<01:03,  1.45s/it]"
     ]
    },
    {
     "name": "stdout",
     "output_type": "stream",
     "text": [
      "\n",
      "Test Epoch: 156\tAccuracy: 1964/2337 (84%)\n",
      "\n"
     ]
    },
    {
     "name": "stderr",
     "output_type": "stream",
     "text": [
      " 78%|███████▊  | 156.062499999995/200 [03:47<01:13,  1.66s/it]  "
     ]
    },
    {
     "name": "stdout",
     "output_type": "stream",
     "text": [
      "Train Epoch: 157 [0/17825 (0%)]\tLoss: 0.177380\n"
     ]
    },
    {
     "name": "stderr",
     "output_type": "stream",
     "text": [
      " 78%|███████▊  | 156.31249999999477/200 [03:47<01:11,  1.64s/it]"
     ]
    },
    {
     "name": "stdout",
     "output_type": "stream",
     "text": [
      "Train Epoch: 157 [5120/17825 (29%)]\tLoss: 0.223830\n"
     ]
    },
    {
     "name": "stderr",
     "output_type": "stream",
     "text": [
      " 78%|███████▊  | 156.66249999999445/200 [03:48<00:57,  1.33s/it]"
     ]
    },
    {
     "name": "stdout",
     "output_type": "stream",
     "text": [
      "Train Epoch: 157 [10240/17825 (57%)]\tLoss: 0.178163\n"
     ]
    },
    {
     "name": "stderr",
     "output_type": "stream",
     "text": [
      " 78%|███████▊  | 156.8374999999943/200 [03:48<00:54,  1.27s/it] "
     ]
    },
    {
     "name": "stdout",
     "output_type": "stream",
     "text": [
      "Train Epoch: 157 [15360/17825 (86%)]\tLoss: 0.145881\n"
     ]
    },
    {
     "name": "stderr",
     "output_type": "stream",
     "text": [
      " 78%|███████▊  | 156.9249999999942/200 [03:48<01:06,  1.54s/it]"
     ]
    },
    {
     "name": "stdout",
     "output_type": "stream",
     "text": [
      "\n",
      "Test Epoch: 157\tAccuracy: 1962/2337 (84%)\n",
      "\n"
     ]
    },
    {
     "name": "stderr",
     "output_type": "stream",
     "text": [
      " 79%|███████▊  | 157.01249999999413/200 [03:48<01:15,  1.76s/it]"
     ]
    },
    {
     "name": "stdout",
     "output_type": "stream",
     "text": [
      "Train Epoch: 158 [0/17825 (0%)]\tLoss: 0.167310\n"
     ]
    },
    {
     "name": "stderr",
     "output_type": "stream",
     "text": [
      " 79%|███████▊  | 157.28749999999388/200 [03:49<00:58,  1.38s/it]"
     ]
    },
    {
     "name": "stdout",
     "output_type": "stream",
     "text": [
      "Train Epoch: 158 [5120/17825 (29%)]\tLoss: 0.143153\n"
     ]
    },
    {
     "name": "stderr",
     "output_type": "stream",
     "text": [
      " 79%|███████▉  | 157.63749999999357/200 [03:49<00:56,  1.34s/it]"
     ]
    },
    {
     "name": "stdout",
     "output_type": "stream",
     "text": [
      "Train Epoch: 158 [10240/17825 (57%)]\tLoss: 0.131373\n"
     ]
    },
    {
     "name": "stderr",
     "output_type": "stream",
     "text": [
      " 79%|███████▉  | 157.8124999999934/200 [03:49<00:53,  1.28s/it] "
     ]
    },
    {
     "name": "stdout",
     "output_type": "stream",
     "text": [
      "Train Epoch: 158 [15360/17825 (86%)]\tLoss: 0.143587\n"
     ]
    },
    {
     "name": "stderr",
     "output_type": "stream",
     "text": [
      " 79%|███████▉  | 157.99999999999324/200 [03:50<00:57,  1.38s/it]"
     ]
    },
    {
     "name": "stdout",
     "output_type": "stream",
     "text": [
      "\n",
      "Test Epoch: 158\tAccuracy: 1965/2337 (84%)\n",
      "\n"
     ]
    },
    {
     "name": "stderr",
     "output_type": "stream",
     "text": [
      " 79%|███████▉  | 158.08749999999316/200 [03:50<01:08,  1.64s/it]"
     ]
    },
    {
     "name": "stdout",
     "output_type": "stream",
     "text": [
      "Train Epoch: 159 [0/17825 (0%)]\tLoss: 0.112837\n"
     ]
    },
    {
     "name": "stderr",
     "output_type": "stream",
     "text": [
      " 79%|███████▉  | 158.33749999999293/200 [03:50<01:07,  1.62s/it]"
     ]
    },
    {
     "name": "stdout",
     "output_type": "stream",
     "text": [
      "Train Epoch: 159 [5120/17825 (29%)]\tLoss: 0.214844\n"
     ]
    },
    {
     "name": "stderr",
     "output_type": "stream",
     "text": [
      " 79%|███████▉  | 158.5999999999927/200 [03:50<00:56,  1.36s/it] "
     ]
    },
    {
     "name": "stdout",
     "output_type": "stream",
     "text": [
      "Train Epoch: 159 [10240/17825 (57%)]\tLoss: 0.134268\n"
     ]
    },
    {
     "name": "stderr",
     "output_type": "stream",
     "text": [
      " 79%|███████▉  | 158.86249999999245/200 [03:51<00:52,  1.27s/it]"
     ]
    },
    {
     "name": "stdout",
     "output_type": "stream",
     "text": [
      "Train Epoch: 159 [15360/17825 (86%)]\tLoss: 0.196527\n"
     ]
    },
    {
     "name": "stderr",
     "output_type": "stream",
     "text": [
      " 79%|███████▉  | 158.94999999999237/200 [03:51<01:03,  1.55s/it]"
     ]
    },
    {
     "name": "stdout",
     "output_type": "stream",
     "text": [
      "\n",
      "Test Epoch: 159\tAccuracy: 1963/2337 (84%)\n",
      "\n"
     ]
    },
    {
     "name": "stderr",
     "output_type": "stream",
     "text": [
      " 80%|███████▉  | 159.0249999999923/200 [03:51<01:11,  1.76s/it] "
     ]
    },
    {
     "name": "stdout",
     "output_type": "stream",
     "text": [
      "Train Epoch: 160 [0/17825 (0%)]\tLoss: 0.165237\n"
     ]
    },
    {
     "name": "stderr",
     "output_type": "stream",
     "text": [
      " 80%|███████▉  | 159.362499999992/200 [03:52<01:05,  1.61s/it]  "
     ]
    },
    {
     "name": "stdout",
     "output_type": "stream",
     "text": [
      "Train Epoch: 160 [5120/17825 (29%)]\tLoss: 0.116676\n"
     ]
    },
    {
     "name": "stderr",
     "output_type": "stream",
     "text": [
      " 80%|███████▉  | 159.62499999999176/200 [03:52<00:55,  1.38s/it]"
     ]
    },
    {
     "name": "stdout",
     "output_type": "stream",
     "text": [
      "Train Epoch: 160 [10240/17825 (57%)]\tLoss: 0.162755\n"
     ]
    },
    {
     "name": "stderr",
     "output_type": "stream",
     "text": [
      " 80%|███████▉  | 159.7999999999916/200 [03:52<00:52,  1.32s/it] "
     ]
    },
    {
     "name": "stdout",
     "output_type": "stream",
     "text": [
      "Train Epoch: 160 [15360/17825 (86%)]\tLoss: 0.137751\n"
     ]
    },
    {
     "name": "stderr",
     "output_type": "stream",
     "text": [
      " 80%|███████▉  | 159.98749999999143/200 [03:53<00:57,  1.43s/it]"
     ]
    },
    {
     "name": "stdout",
     "output_type": "stream",
     "text": [
      "\n",
      "Test Epoch: 160\tAccuracy: 1966/2337 (84%)\n",
      "\n"
     ]
    },
    {
     "name": "stderr",
     "output_type": "stream",
     "text": [
      " 80%|████████  | 160.07499999999135/200 [03:53<01:05,  1.64s/it]"
     ]
    },
    {
     "name": "stdout",
     "output_type": "stream",
     "text": [
      "Train Epoch: 161 [0/17825 (0%)]\tLoss: 0.125212\n"
     ]
    },
    {
     "name": "stderr",
     "output_type": "stream",
     "text": [
      " 80%|████████  | 160.32499999999112/200 [03:53<01:04,  1.62s/it]"
     ]
    },
    {
     "name": "stdout",
     "output_type": "stream",
     "text": [
      "Train Epoch: 161 [5120/17825 (29%)]\tLoss: 0.158008\n"
     ]
    },
    {
     "name": "stderr",
     "output_type": "stream",
     "text": [
      " 80%|████████  | 160.6749999999908/200 [03:54<00:52,  1.33s/it] "
     ]
    },
    {
     "name": "stdout",
     "output_type": "stream",
     "text": [
      "Train Epoch: 161 [10240/17825 (57%)]\tLoss: 0.156443\n"
     ]
    },
    {
     "name": "stderr",
     "output_type": "stream",
     "text": [
      " 80%|████████  | 160.84999999999064/200 [03:54<00:50,  1.29s/it]"
     ]
    },
    {
     "name": "stdout",
     "output_type": "stream",
     "text": [
      "Train Epoch: 161 [15360/17825 (86%)]\tLoss: 0.161481\n"
     ]
    },
    {
     "name": "stderr",
     "output_type": "stream",
     "text": [
      " 80%|████████  | 160.93749999999056/200 [03:54<01:00,  1.56s/it]"
     ]
    },
    {
     "name": "stdout",
     "output_type": "stream",
     "text": [
      "\n",
      "Test Epoch: 161\tAccuracy: 1962/2337 (84%)\n",
      "\n"
     ]
    },
    {
     "name": "stderr",
     "output_type": "stream",
     "text": [
      " 81%|████████  | 161.0124999999905/200 [03:54<01:10,  1.80s/it] "
     ]
    },
    {
     "name": "stdout",
     "output_type": "stream",
     "text": [
      "Train Epoch: 162 [0/17825 (0%)]\tLoss: 0.162029\n"
     ]
    },
    {
     "name": "stderr",
     "output_type": "stream",
     "text": [
      " 81%|████████  | 161.37499999999017/200 [03:55<00:59,  1.54s/it]"
     ]
    },
    {
     "name": "stdout",
     "output_type": "stream",
     "text": [
      "Train Epoch: 162 [5120/17825 (29%)]\tLoss: 0.129375\n"
     ]
    },
    {
     "name": "stderr",
     "output_type": "stream",
     "text": [
      " 81%|████████  | 161.63749999998993/200 [03:55<00:51,  1.35s/it]"
     ]
    },
    {
     "name": "stdout",
     "output_type": "stream",
     "text": [
      "Train Epoch: 162 [10240/17825 (57%)]\tLoss: 0.122790\n"
     ]
    },
    {
     "name": "stderr",
     "output_type": "stream",
     "text": [
      " 81%|████████  | 161.81249999998977/200 [03:55<00:49,  1.29s/it]"
     ]
    },
    {
     "name": "stdout",
     "output_type": "stream",
     "text": [
      "Train Epoch: 162 [15360/17825 (86%)]\tLoss: 0.178845\n"
     ]
    },
    {
     "name": "stderr",
     "output_type": "stream",
     "text": [
      " 81%|████████  | 161.9874999999896/200 [03:55<00:55,  1.45s/it] "
     ]
    },
    {
     "name": "stdout",
     "output_type": "stream",
     "text": [
      "\n",
      "Test Epoch: 162\tAccuracy: 1964/2337 (84%)\n",
      "\n"
     ]
    },
    {
     "name": "stderr",
     "output_type": "stream",
     "text": [
      " 81%|████████  | 162.06249999998954/200 [03:56<01:02,  1.65s/it]"
     ]
    },
    {
     "name": "stdout",
     "output_type": "stream",
     "text": [
      "Train Epoch: 163 [0/17825 (0%)]\tLoss: 0.141451\n"
     ]
    },
    {
     "name": "stderr",
     "output_type": "stream",
     "text": [
      " 81%|████████  | 162.29999999998932/200 [03:56<01:02,  1.67s/it]"
     ]
    },
    {
     "name": "stdout",
     "output_type": "stream",
     "text": [
      "Train Epoch: 163 [5120/17825 (29%)]\tLoss: 0.091389\n"
     ]
    },
    {
     "name": "stderr",
     "output_type": "stream",
     "text": [
      " 81%|████████▏ | 162.649999999989/200 [03:56<00:50,  1.35s/it]  "
     ]
    },
    {
     "name": "stdout",
     "output_type": "stream",
     "text": [
      "Train Epoch: 163 [10240/17825 (57%)]\tLoss: 0.145050\n"
     ]
    },
    {
     "name": "stderr",
     "output_type": "stream",
     "text": [
      " 81%|████████▏ | 162.82499999998885/200 [03:57<00:48,  1.30s/it]"
     ]
    },
    {
     "name": "stdout",
     "output_type": "stream",
     "text": [
      "Train Epoch: 163 [15360/17825 (86%)]\tLoss: 0.137213\n"
     ]
    },
    {
     "name": "stderr",
     "output_type": "stream",
     "text": [
      " 81%|████████▏ | 162.91249999998877/200 [03:57<00:57,  1.54s/it]"
     ]
    },
    {
     "name": "stdout",
     "output_type": "stream",
     "text": [
      "\n",
      "Test Epoch: 163\tAccuracy: 1962/2337 (84%)\n",
      "\n"
     ]
    },
    {
     "name": "stderr",
     "output_type": "stream",
     "text": [
      " 82%|████████▏ | 163.01249999998868/200 [03:57<01:04,  1.75s/it]"
     ]
    },
    {
     "name": "stdout",
     "output_type": "stream",
     "text": [
      "Train Epoch: 164 [0/17825 (0%)]\tLoss: 0.145972\n"
     ]
    },
    {
     "name": "stderr",
     "output_type": "stream",
     "text": [
      " 82%|████████▏ | 163.37499999998835/200 [03:58<00:56,  1.53s/it]"
     ]
    },
    {
     "name": "stdout",
     "output_type": "stream",
     "text": [
      "Train Epoch: 164 [5120/17825 (29%)]\tLoss: 0.148631\n"
     ]
    },
    {
     "name": "stderr",
     "output_type": "stream",
     "text": [
      " 82%|████████▏ | 163.6374999999881/200 [03:58<00:47,  1.31s/it] "
     ]
    },
    {
     "name": "stdout",
     "output_type": "stream",
     "text": [
      "Train Epoch: 164 [10240/17825 (57%)]\tLoss: 0.153423\n"
     ]
    },
    {
     "name": "stderr",
     "output_type": "stream",
     "text": [
      " 82%|████████▏ | 163.81249999998795/200 [03:58<00:45,  1.25s/it]"
     ]
    },
    {
     "name": "stdout",
     "output_type": "stream",
     "text": [
      "Train Epoch: 164 [15360/17825 (86%)]\tLoss: 0.152732\n"
     ]
    },
    {
     "name": "stderr",
     "output_type": "stream",
     "text": [
      " 82%|████████▏ | 163.89999999998787/200 [03:58<00:55,  1.53s/it]"
     ]
    },
    {
     "name": "stdout",
     "output_type": "stream",
     "text": [
      "\n",
      "Test Epoch: 164\tAccuracy: 1961/2337 (84%)\n",
      "\n"
     ]
    },
    {
     "name": "stderr",
     "output_type": "stream",
     "text": [
      " 82%|████████▏ | 164.01249999998777/200 [03:58<01:00,  1.68s/it]"
     ]
    },
    {
     "name": "stdout",
     "output_type": "stream",
     "text": [
      "Train Epoch: 165 [0/17825 (0%)]\tLoss: 0.145856\n"
     ]
    },
    {
     "name": "stderr",
     "output_type": "stream",
     "text": [
      " 82%|████████▏ | 164.37499999998744/200 [03:59<00:53,  1.51s/it]"
     ]
    },
    {
     "name": "stdout",
     "output_type": "stream",
     "text": [
      "Train Epoch: 165 [5120/17825 (29%)]\tLoss: 0.115868\n"
     ]
    },
    {
     "name": "stderr",
     "output_type": "stream",
     "text": [
      " 82%|████████▏ | 164.6374999999872/200 [03:59<00:46,  1.33s/it] "
     ]
    },
    {
     "name": "stdout",
     "output_type": "stream",
     "text": [
      "Train Epoch: 165 [10240/17825 (57%)]\tLoss: 0.143435\n"
     ]
    },
    {
     "name": "stderr",
     "output_type": "stream",
     "text": [
      " 82%|████████▏ | 164.81249999998704/200 [03:59<00:45,  1.29s/it]"
     ]
    },
    {
     "name": "stdout",
     "output_type": "stream",
     "text": [
      "Train Epoch: 165 [15360/17825 (86%)]\tLoss: 0.132819\n"
     ]
    },
    {
     "name": "stderr",
     "output_type": "stream",
     "text": [
      " 82%|████████▏ | 164.99999999998687/200 [04:00<00:48,  1.38s/it]"
     ]
    },
    {
     "name": "stdout",
     "output_type": "stream",
     "text": [
      "\n",
      "Test Epoch: 165\tAccuracy: 1962/2337 (84%)\n",
      "\n"
     ]
    },
    {
     "name": "stderr",
     "output_type": "stream",
     "text": [
      " 83%|████████▎ | 165.0874999999868/200 [04:00<00:56,  1.62s/it] "
     ]
    },
    {
     "name": "stdout",
     "output_type": "stream",
     "text": [
      "Train Epoch: 166 [0/17825 (0%)]\tLoss: 0.148727\n"
     ]
    },
    {
     "name": "stderr",
     "output_type": "stream",
     "text": [
      " 83%|████████▎ | 165.33749999998656/200 [04:00<00:56,  1.62s/it]"
     ]
    },
    {
     "name": "stdout",
     "output_type": "stream",
     "text": [
      "Train Epoch: 166 [5120/17825 (29%)]\tLoss: 0.112998\n"
     ]
    },
    {
     "name": "stderr",
     "output_type": "stream",
     "text": [
      " 83%|████████▎ | 165.59999999998632/200 [04:01<00:47,  1.37s/it]"
     ]
    },
    {
     "name": "stdout",
     "output_type": "stream",
     "text": [
      "Train Epoch: 166 [10240/17825 (57%)]\tLoss: 0.186267\n"
     ]
    },
    {
     "name": "stderr",
     "output_type": "stream",
     "text": [
      " 83%|████████▎ | 165.86249999998608/200 [04:01<00:43,  1.28s/it]"
     ]
    },
    {
     "name": "stdout",
     "output_type": "stream",
     "text": [
      "Train Epoch: 166 [15360/17825 (86%)]\tLoss: 0.137835\n"
     ]
    },
    {
     "name": "stderr",
     "output_type": "stream",
     "text": [
      " 83%|████████▎ | 165.949999999986/200 [04:01<00:52,  1.55s/it]  "
     ]
    },
    {
     "name": "stdout",
     "output_type": "stream",
     "text": [
      "\n",
      "Test Epoch: 166\tAccuracy: 1968/2337 (84%)\n",
      "\n"
     ]
    },
    {
     "name": "stderr",
     "output_type": "stream",
     "text": [
      " 83%|████████▎ | 166.02499999998594/200 [04:01<00:59,  1.76s/it]"
     ]
    },
    {
     "name": "stdout",
     "output_type": "stream",
     "text": [
      "Train Epoch: 167 [0/17825 (0%)]\tLoss: 0.100867\n"
     ]
    },
    {
     "name": "stderr",
     "output_type": "stream",
     "text": [
      " 83%|████████▎ | 166.2874999999857/200 [04:02<00:55,  1.66s/it] "
     ]
    },
    {
     "name": "stdout",
     "output_type": "stream",
     "text": [
      "Train Epoch: 167 [5120/17825 (29%)]\tLoss: 0.153495\n"
     ]
    },
    {
     "name": "stderr",
     "output_type": "stream",
     "text": [
      " 83%|████████▎ | 166.63749999998538/200 [04:02<00:44,  1.34s/it]"
     ]
    },
    {
     "name": "stdout",
     "output_type": "stream",
     "text": [
      "Train Epoch: 167 [10240/17825 (57%)]\tLoss: 0.135943\n"
     ]
    },
    {
     "name": "stderr",
     "output_type": "stream",
     "text": [
      " 83%|████████▎ | 166.81249999998522/200 [04:02<00:43,  1.30s/it]"
     ]
    },
    {
     "name": "stdout",
     "output_type": "stream",
     "text": [
      "Train Epoch: 167 [15360/17825 (86%)]\tLoss: 0.145136\n"
     ]
    },
    {
     "name": "stderr",
     "output_type": "stream",
     "text": [
      " 83%|████████▎ | 166.98749999998506/200 [04:03<00:48,  1.47s/it]"
     ]
    },
    {
     "name": "stdout",
     "output_type": "stream",
     "text": [
      "\n",
      "Test Epoch: 167\tAccuracy: 1969/2337 (84%)\n",
      "\n"
     ]
    },
    {
     "name": "stderr",
     "output_type": "stream",
     "text": [
      " 84%|████████▎ | 167.062499999985/200 [04:03<00:54,  1.67s/it]  "
     ]
    },
    {
     "name": "stdout",
     "output_type": "stream",
     "text": [
      "Train Epoch: 168 [0/17825 (0%)]\tLoss: 0.151728\n"
     ]
    },
    {
     "name": "stderr",
     "output_type": "stream",
     "text": [
      " 84%|████████▎ | 167.31249999998477/200 [04:03<00:53,  1.65s/it]"
     ]
    },
    {
     "name": "stdout",
     "output_type": "stream",
     "text": [
      "Train Epoch: 168 [5120/17825 (29%)]\tLoss: 0.167924\n"
     ]
    },
    {
     "name": "stderr",
     "output_type": "stream",
     "text": [
      " 84%|████████▍ | 167.66249999998445/200 [04:04<00:43,  1.34s/it]"
     ]
    },
    {
     "name": "stdout",
     "output_type": "stream",
     "text": [
      "Train Epoch: 168 [10240/17825 (57%)]\tLoss: 0.139491\n"
     ]
    },
    {
     "name": "stderr",
     "output_type": "stream",
     "text": [
      " 84%|████████▍ | 167.8374999999843/200 [04:04<00:42,  1.31s/it] "
     ]
    },
    {
     "name": "stdout",
     "output_type": "stream",
     "text": [
      "Train Epoch: 168 [15360/17825 (86%)]\tLoss: 0.126359\n"
     ]
    },
    {
     "name": "stderr",
     "output_type": "stream",
     "text": [
      " 84%|████████▍ | 167.9249999999842/200 [04:04<00:50,  1.56s/it]"
     ]
    },
    {
     "name": "stdout",
     "output_type": "stream",
     "text": [
      "\n",
      "Test Epoch: 168\tAccuracy: 1962/2337 (84%)\n",
      "\n"
     ]
    },
    {
     "name": "stderr",
     "output_type": "stream",
     "text": [
      " 84%|████████▍ | 168.01249999998413/200 [04:04<00:57,  1.80s/it]"
     ]
    },
    {
     "name": "stdout",
     "output_type": "stream",
     "text": [
      "Train Epoch: 169 [0/17825 (0%)]\tLoss: 0.130357\n"
     ]
    },
    {
     "name": "stderr",
     "output_type": "stream",
     "text": [
      " 84%|████████▍ | 168.3749999999838/200 [04:05<00:48,  1.54s/it] "
     ]
    },
    {
     "name": "stdout",
     "output_type": "stream",
     "text": [
      "Train Epoch: 169 [5120/17825 (29%)]\tLoss: 0.143999\n"
     ]
    },
    {
     "name": "stderr",
     "output_type": "stream",
     "text": [
      " 84%|████████▍ | 168.63749999998356/200 [04:05<00:42,  1.36s/it]"
     ]
    },
    {
     "name": "stdout",
     "output_type": "stream",
     "text": [
      "Train Epoch: 169 [10240/17825 (57%)]\tLoss: 0.118387\n"
     ]
    },
    {
     "name": "stderr",
     "output_type": "stream",
     "text": [
      " 84%|████████▍ | 168.8124999999834/200 [04:05<00:40,  1.31s/it] "
     ]
    },
    {
     "name": "stdout",
     "output_type": "stream",
     "text": [
      "Train Epoch: 169 [15360/17825 (86%)]\tLoss: 0.132932\n"
     ]
    },
    {
     "name": "stderr",
     "output_type": "stream",
     "text": [
      " 84%|████████▍ | 168.89999999998332/200 [04:06<00:49,  1.58s/it]"
     ]
    },
    {
     "name": "stdout",
     "output_type": "stream",
     "text": [
      "\n",
      "Test Epoch: 169\tAccuracy: 1964/2337 (84%)\n",
      "\n"
     ]
    },
    {
     "name": "stderr",
     "output_type": "stream",
     "text": [
      " 85%|████████▍ | 169.01249999998322/200 [04:06<00:53,  1.72s/it]"
     ]
    },
    {
     "name": "stdout",
     "output_type": "stream",
     "text": [
      "Train Epoch: 170 [0/17825 (0%)]\tLoss: 0.167411\n"
     ]
    },
    {
     "name": "stderr",
     "output_type": "stream",
     "text": [
      " 85%|████████▍ | 169.28749999998297/200 [04:06<00:42,  1.38s/it]"
     ]
    },
    {
     "name": "stdout",
     "output_type": "stream",
     "text": [
      "Train Epoch: 170 [5120/17825 (29%)]\tLoss: 0.194176\n"
     ]
    },
    {
     "name": "stderr",
     "output_type": "stream",
     "text": [
      " 85%|████████▍ | 169.63749999998265/200 [04:07<00:40,  1.35s/it]"
     ]
    },
    {
     "name": "stdout",
     "output_type": "stream",
     "text": [
      "Train Epoch: 170 [10240/17825 (57%)]\tLoss: 0.145189\n"
     ]
    },
    {
     "name": "stderr",
     "output_type": "stream",
     "text": [
      " 85%|████████▍ | 169.8124999999825/200 [04:07<00:38,  1.28s/it] "
     ]
    },
    {
     "name": "stdout",
     "output_type": "stream",
     "text": [
      "Train Epoch: 170 [15360/17825 (86%)]\tLoss: 0.129750\n"
     ]
    },
    {
     "name": "stderr",
     "output_type": "stream",
     "text": [
      " 85%|████████▍ | 169.98749999998233/200 [04:07<00:43,  1.47s/it]"
     ]
    },
    {
     "name": "stdout",
     "output_type": "stream",
     "text": [
      "\n",
      "Test Epoch: 170\tAccuracy: 1964/2337 (84%)\n",
      "\n"
     ]
    },
    {
     "name": "stderr",
     "output_type": "stream",
     "text": [
      " 85%|████████▌ | 170.06249999998226/200 [04:07<00:49,  1.67s/it]"
     ]
    },
    {
     "name": "stdout",
     "output_type": "stream",
     "text": [
      "Train Epoch: 171 [0/17825 (0%)]\tLoss: 0.141687\n"
     ]
    },
    {
     "name": "stderr",
     "output_type": "stream",
     "text": [
      " 85%|████████▌ | 170.31249999998204/200 [04:08<00:49,  1.66s/it]"
     ]
    },
    {
     "name": "stdout",
     "output_type": "stream",
     "text": [
      "Train Epoch: 171 [5120/17825 (29%)]\tLoss: 0.148106\n"
     ]
    },
    {
     "name": "stderr",
     "output_type": "stream",
     "text": [
      " 85%|████████▌ | 170.66249999998172/200 [04:08<00:39,  1.36s/it]"
     ]
    },
    {
     "name": "stdout",
     "output_type": "stream",
     "text": [
      "Train Epoch: 171 [10240/17825 (57%)]\tLoss: 0.173966\n"
     ]
    },
    {
     "name": "stderr",
     "output_type": "stream",
     "text": [
      " 85%|████████▌ | 170.83749999998156/200 [04:08<00:37,  1.29s/it]"
     ]
    },
    {
     "name": "stdout",
     "output_type": "stream",
     "text": [
      "Train Epoch: 171 [15360/17825 (86%)]\tLoss: 0.126872\n"
     ]
    },
    {
     "name": "stderr",
     "output_type": "stream",
     "text": [
      " 85%|████████▌ | 170.92499999998148/200 [04:08<00:45,  1.57s/it]"
     ]
    },
    {
     "name": "stdout",
     "output_type": "stream",
     "text": [
      "\n",
      "Test Epoch: 171\tAccuracy: 1964/2337 (84%)\n",
      "\n"
     ]
    },
    {
     "name": "stderr",
     "output_type": "stream",
     "text": [
      " 86%|████████▌ | 171.0124999999814/200 [04:09<00:51,  1.77s/it] "
     ]
    },
    {
     "name": "stdout",
     "output_type": "stream",
     "text": [
      "Train Epoch: 172 [0/17825 (0%)]\tLoss: 0.196299\n"
     ]
    },
    {
     "name": "stderr",
     "output_type": "stream",
     "text": [
      " 86%|████████▌ | 171.36249999998108/200 [04:09<00:46,  1.62s/it]"
     ]
    },
    {
     "name": "stdout",
     "output_type": "stream",
     "text": [
      "Train Epoch: 172 [5120/17825 (29%)]\tLoss: 0.167632\n"
     ]
    },
    {
     "name": "stderr",
     "output_type": "stream",
     "text": [
      " 86%|████████▌ | 171.62499999998084/200 [04:10<00:39,  1.39s/it]"
     ]
    },
    {
     "name": "stdout",
     "output_type": "stream",
     "text": [
      "Train Epoch: 172 [10240/17825 (57%)]\tLoss: 0.191156\n"
     ]
    },
    {
     "name": "stderr",
     "output_type": "stream",
     "text": [
      " 86%|████████▌ | 171.79999999998068/200 [04:10<00:37,  1.32s/it]"
     ]
    },
    {
     "name": "stdout",
     "output_type": "stream",
     "text": [
      "Train Epoch: 172 [15360/17825 (86%)]\tLoss: 0.146317\n"
     ]
    },
    {
     "name": "stderr",
     "output_type": "stream",
     "text": [
      " 86%|████████▌ | 171.9874999999805/200 [04:10<00:40,  1.45s/it] "
     ]
    },
    {
     "name": "stdout",
     "output_type": "stream",
     "text": [
      "\n",
      "Test Epoch: 172\tAccuracy: 1967/2337 (84%)\n",
      "\n"
     ]
    },
    {
     "name": "stderr",
     "output_type": "stream",
     "text": [
      " 86%|████████▌ | 172.07499999998043/200 [04:10<00:44,  1.61s/it]"
     ]
    },
    {
     "name": "stdout",
     "output_type": "stream",
     "text": [
      "Train Epoch: 173 [0/17825 (0%)]\tLoss: 0.129081\n"
     ]
    },
    {
     "name": "stderr",
     "output_type": "stream",
     "text": [
      " 86%|████████▌ | 172.3374999999802/200 [04:11<00:44,  1.60s/it] "
     ]
    },
    {
     "name": "stdout",
     "output_type": "stream",
     "text": [
      "Train Epoch: 173 [5120/17825 (29%)]\tLoss: 0.191966\n"
     ]
    },
    {
     "name": "stderr",
     "output_type": "stream",
     "text": [
      " 86%|████████▋ | 172.61249999997995/200 [04:11<00:36,  1.34s/it]"
     ]
    },
    {
     "name": "stdout",
     "output_type": "stream",
     "text": [
      "Train Epoch: 173 [10240/17825 (57%)]\tLoss: 0.121304\n"
     ]
    },
    {
     "name": "stderr",
     "output_type": "stream",
     "text": [
      " 86%|████████▋ | 172.8749999999797/200 [04:11<00:33,  1.25s/it] "
     ]
    },
    {
     "name": "stdout",
     "output_type": "stream",
     "text": [
      "Train Epoch: 173 [15360/17825 (86%)]\tLoss: 0.149372\n"
     ]
    },
    {
     "name": "stderr",
     "output_type": "stream",
     "text": [
      " 86%|████████▋ | 172.96249999997963/200 [04:11<00:41,  1.54s/it]"
     ]
    },
    {
     "name": "stdout",
     "output_type": "stream",
     "text": [
      "\n",
      "Test Epoch: 173\tAccuracy: 1966/2337 (84%)\n",
      "\n"
     ]
    },
    {
     "name": "stderr",
     "output_type": "stream",
     "text": [
      " 87%|████████▋ | 173.03749999997956/200 [04:12<00:47,  1.74s/it]"
     ]
    },
    {
     "name": "stdout",
     "output_type": "stream",
     "text": [
      "Train Epoch: 174 [0/17825 (0%)]\tLoss: 0.145603\n"
     ]
    },
    {
     "name": "stderr",
     "output_type": "stream",
     "text": [
      " 87%|████████▋ | 173.29999999997932/200 [04:12<00:44,  1.66s/it]"
     ]
    },
    {
     "name": "stdout",
     "output_type": "stream",
     "text": [
      "Train Epoch: 174 [5120/17825 (29%)]\tLoss: 0.154778\n"
     ]
    },
    {
     "name": "stderr",
     "output_type": "stream",
     "text": [
      " 87%|████████▋ | 173.649999999979/200 [04:12<00:35,  1.36s/it]  "
     ]
    },
    {
     "name": "stdout",
     "output_type": "stream",
     "text": [
      "Train Epoch: 174 [10240/17825 (57%)]\tLoss: 0.128767\n"
     ]
    },
    {
     "name": "stderr",
     "output_type": "stream",
     "text": [
      " 87%|████████▋ | 173.82499999997884/200 [04:13<00:34,  1.32s/it]"
     ]
    },
    {
     "name": "stdout",
     "output_type": "stream",
     "text": [
      "Train Epoch: 174 [15360/17825 (86%)]\tLoss: 0.144691\n"
     ]
    },
    {
     "name": "stderr",
     "output_type": "stream",
     "text": [
      " 87%|████████▋ | 173.91249999997876/200 [04:13<00:40,  1.55s/it]"
     ]
    },
    {
     "name": "stdout",
     "output_type": "stream",
     "text": [
      "\n",
      "Test Epoch: 174\tAccuracy: 1966/2337 (84%)\n",
      "\n"
     ]
    },
    {
     "name": "stderr",
     "output_type": "stream",
     "text": [
      " 87%|████████▋ | 174.01249999997867/200 [04:13<00:45,  1.76s/it]"
     ]
    },
    {
     "name": "stdout",
     "output_type": "stream",
     "text": [
      "Train Epoch: 175 [0/17825 (0%)]\tLoss: 0.166461\n"
     ]
    },
    {
     "name": "stderr",
     "output_type": "stream",
     "text": [
      " 87%|████████▋ | 174.37499999997834/200 [04:14<00:38,  1.49s/it]"
     ]
    },
    {
     "name": "stdout",
     "output_type": "stream",
     "text": [
      "Train Epoch: 175 [5120/17825 (29%)]\tLoss: 0.156515\n"
     ]
    },
    {
     "name": "stderr",
     "output_type": "stream",
     "text": [
      " 87%|████████▋ | 174.62499999997812/200 [04:14<00:34,  1.35s/it]"
     ]
    },
    {
     "name": "stdout",
     "output_type": "stream",
     "text": [
      "Train Epoch: 175 [10240/17825 (57%)]\tLoss: 0.184737\n"
     ]
    },
    {
     "name": "stderr",
     "output_type": "stream",
     "text": [
      " 87%|████████▋ | 174.79999999997796/200 [04:14<00:32,  1.29s/it]"
     ]
    },
    {
     "name": "stdout",
     "output_type": "stream",
     "text": [
      "Train Epoch: 175 [15360/17825 (86%)]\tLoss: 0.138130\n"
     ]
    },
    {
     "name": "stderr",
     "output_type": "stream",
     "text": [
      " 87%|████████▋ | 174.98749999997779/200 [04:14<00:35,  1.42s/it]"
     ]
    },
    {
     "name": "stdout",
     "output_type": "stream",
     "text": [
      "\n",
      "Test Epoch: 175\tAccuracy: 1964/2337 (84%)\n",
      "\n"
     ]
    },
    {
     "name": "stderr",
     "output_type": "stream",
     "text": [
      " 88%|████████▊ | 175.0749999999777/200 [04:15<00:40,  1.61s/it] "
     ]
    },
    {
     "name": "stdout",
     "output_type": "stream",
     "text": [
      "Train Epoch: 176 [0/17825 (0%)]\tLoss: 0.171475\n"
     ]
    },
    {
     "name": "stderr",
     "output_type": "stream",
     "text": [
      " 88%|████████▊ | 175.32499999997748/200 [04:15<00:40,  1.66s/it]"
     ]
    },
    {
     "name": "stdout",
     "output_type": "stream",
     "text": [
      "Train Epoch: 176 [5120/17825 (29%)]\tLoss: 0.126639\n"
     ]
    },
    {
     "name": "stderr",
     "output_type": "stream",
     "text": [
      " 88%|████████▊ | 175.58749999997724/200 [04:15<00:34,  1.41s/it]"
     ]
    },
    {
     "name": "stdout",
     "output_type": "stream",
     "text": [
      "Train Epoch: 176 [10240/17825 (57%)]\tLoss: 0.121326\n"
     ]
    },
    {
     "name": "stderr",
     "output_type": "stream",
     "text": [
      " 88%|████████▊ | 175.849999999977/200 [04:16<00:31,  1.31s/it]  "
     ]
    },
    {
     "name": "stdout",
     "output_type": "stream",
     "text": [
      "Train Epoch: 176 [15360/17825 (86%)]\tLoss: 0.159486\n"
     ]
    },
    {
     "name": "stderr",
     "output_type": "stream",
     "text": [
      " 88%|████████▊ | 175.93749999997692/200 [04:16<00:37,  1.56s/it]"
     ]
    },
    {
     "name": "stdout",
     "output_type": "stream",
     "text": [
      "\n",
      "Test Epoch: 176\tAccuracy: 1969/2337 (84%)\n",
      "\n"
     ]
    },
    {
     "name": "stderr",
     "output_type": "stream",
     "text": [
      " 88%|████████▊ | 176.01249999997685/200 [04:16<00:43,  1.80s/it]"
     ]
    },
    {
     "name": "stdout",
     "output_type": "stream",
     "text": [
      "Train Epoch: 177 [0/17825 (0%)]\tLoss: 0.181854\n"
     ]
    },
    {
     "name": "stderr",
     "output_type": "stream",
     "text": [
      " 88%|████████▊ | 176.36249999997654/200 [04:17<00:37,  1.61s/it]"
     ]
    },
    {
     "name": "stdout",
     "output_type": "stream",
     "text": [
      "Train Epoch: 177 [5120/17825 (29%)]\tLoss: 0.134076\n"
     ]
    },
    {
     "name": "stderr",
     "output_type": "stream",
     "text": [
      " 88%|████████▊ | 176.6249999999763/200 [04:17<00:31,  1.37s/it] "
     ]
    },
    {
     "name": "stdout",
     "output_type": "stream",
     "text": [
      "Train Epoch: 177 [10240/17825 (57%)]\tLoss: 0.169728\n"
     ]
    },
    {
     "name": "stderr",
     "output_type": "stream",
     "text": [
      " 88%|████████▊ | 176.79999999997614/200 [04:17<00:30,  1.31s/it]"
     ]
    },
    {
     "name": "stdout",
     "output_type": "stream",
     "text": [
      "Train Epoch: 177 [15360/17825 (86%)]\tLoss: 0.139721\n"
     ]
    },
    {
     "name": "stderr",
     "output_type": "stream",
     "text": [
      " 88%|████████▊ | 176.98749999997597/200 [04:17<00:33,  1.44s/it]"
     ]
    },
    {
     "name": "stdout",
     "output_type": "stream",
     "text": [
      "\n",
      "Test Epoch: 177\tAccuracy: 1961/2337 (84%)\n",
      "\n"
     ]
    },
    {
     "name": "stderr",
     "output_type": "stream",
     "text": [
      " 89%|████████▊ | 177.0749999999759/200 [04:18<00:37,  1.64s/it] "
     ]
    },
    {
     "name": "stdout",
     "output_type": "stream",
     "text": [
      "Train Epoch: 178 [0/17825 (0%)]\tLoss: 0.142402\n"
     ]
    },
    {
     "name": "stderr",
     "output_type": "stream",
     "text": [
      " 89%|████████▊ | 177.32499999997566/200 [04:18<00:36,  1.62s/it]"
     ]
    },
    {
     "name": "stdout",
     "output_type": "stream",
     "text": [
      "Train Epoch: 178 [5120/17825 (29%)]\tLoss: 0.190752\n"
     ]
    },
    {
     "name": "stderr",
     "output_type": "stream",
     "text": [
      " 89%|████████▉ | 177.67499999997534/200 [04:18<00:29,  1.32s/it]"
     ]
    },
    {
     "name": "stdout",
     "output_type": "stream",
     "text": [
      "Train Epoch: 178 [10240/17825 (57%)]\tLoss: 0.122572\n"
     ]
    },
    {
     "name": "stderr",
     "output_type": "stream",
     "text": [
      " 89%|████████▉ | 177.84999999997518/200 [04:19<00:27,  1.26s/it]"
     ]
    },
    {
     "name": "stdout",
     "output_type": "stream",
     "text": [
      "Train Epoch: 178 [15360/17825 (86%)]\tLoss: 0.142660\n"
     ]
    },
    {
     "name": "stderr",
     "output_type": "stream",
     "text": [
      " 89%|████████▉ | 177.9374999999751/200 [04:19<00:33,  1.53s/it] "
     ]
    },
    {
     "name": "stdout",
     "output_type": "stream",
     "text": [
      "\n",
      "Test Epoch: 178\tAccuracy: 1966/2337 (84%)\n",
      "\n"
     ]
    },
    {
     "name": "stderr",
     "output_type": "stream",
     "text": [
      " 89%|████████▉ | 178.01249999997503/200 [04:19<00:38,  1.77s/it]"
     ]
    },
    {
     "name": "stdout",
     "output_type": "stream",
     "text": [
      "Train Epoch: 179 [0/17825 (0%)]\tLoss: 0.166807\n"
     ]
    },
    {
     "name": "stderr",
     "output_type": "stream",
     "text": [
      " 89%|████████▉ | 178.28749999997478/200 [04:19<00:35,  1.62s/it]"
     ]
    },
    {
     "name": "stdout",
     "output_type": "stream",
     "text": [
      "Train Epoch: 179 [5120/17825 (29%)]\tLoss: 0.118434\n"
     ]
    },
    {
     "name": "stderr",
     "output_type": "stream",
     "text": [
      " 89%|████████▉ | 178.63749999997447/200 [04:20<00:28,  1.34s/it]"
     ]
    },
    {
     "name": "stdout",
     "output_type": "stream",
     "text": [
      "Train Epoch: 179 [10240/17825 (57%)]\tLoss: 0.132364\n"
     ]
    },
    {
     "name": "stderr",
     "output_type": "stream",
     "text": [
      " 89%|████████▉ | 178.8124999999743/200 [04:20<00:27,  1.30s/it] "
     ]
    },
    {
     "name": "stdout",
     "output_type": "stream",
     "text": [
      "Train Epoch: 179 [15360/17825 (86%)]\tLoss: 0.129624\n"
     ]
    },
    {
     "name": "stderr",
     "output_type": "stream",
     "text": [
      " 89%|████████▉ | 178.89999999997423/200 [04:20<00:33,  1.58s/it]"
     ]
    },
    {
     "name": "stdout",
     "output_type": "stream",
     "text": [
      "\n",
      "Test Epoch: 179\tAccuracy: 1963/2337 (84%)\n",
      "\n"
     ]
    },
    {
     "name": "stderr",
     "output_type": "stream",
     "text": [
      " 90%|████████▉ | 179.01249999997412/200 [04:20<00:35,  1.71s/it]"
     ]
    },
    {
     "name": "stdout",
     "output_type": "stream",
     "text": [
      "Train Epoch: 180 [0/17825 (0%)]\tLoss: 0.127545\n"
     ]
    },
    {
     "name": "stderr",
     "output_type": "stream",
     "text": [
      " 90%|████████▉ | 179.3749999999738/200 [04:21<00:31,  1.55s/it] "
     ]
    },
    {
     "name": "stdout",
     "output_type": "stream",
     "text": [
      "Train Epoch: 180 [5120/17825 (29%)]\tLoss: 0.190611\n"
     ]
    },
    {
     "name": "stderr",
     "output_type": "stream",
     "text": [
      " 90%|████████▉ | 179.63749999997356/200 [04:21<00:26,  1.33s/it]"
     ]
    },
    {
     "name": "stdout",
     "output_type": "stream",
     "text": [
      "Train Epoch: 180 [10240/17825 (57%)]\tLoss: 0.205713\n"
     ]
    },
    {
     "name": "stderr",
     "output_type": "stream",
     "text": [
      " 90%|████████▉ | 179.8124999999734/200 [04:21<00:25,  1.27s/it] "
     ]
    },
    {
     "name": "stdout",
     "output_type": "stream",
     "text": [
      "Train Epoch: 180 [15360/17825 (86%)]\tLoss: 0.158591\n"
     ]
    },
    {
     "name": "stderr",
     "output_type": "stream",
     "text": [
      " 90%|████████▉ | 179.89999999997332/200 [04:22<00:31,  1.56s/it]"
     ]
    },
    {
     "name": "stdout",
     "output_type": "stream",
     "text": [
      "\n",
      "Test Epoch: 180\tAccuracy: 1963/2337 (84%)\n",
      "\n"
     ]
    },
    {
     "name": "stderr",
     "output_type": "stream",
     "text": [
      " 90%|█████████ | 180.01249999997322/200 [04:22<00:34,  1.70s/it]"
     ]
    },
    {
     "name": "stdout",
     "output_type": "stream",
     "text": [
      "Train Epoch: 181 [0/17825 (0%)]\tLoss: 0.117341\n"
     ]
    },
    {
     "name": "stderr",
     "output_type": "stream",
     "text": [
      " 90%|█████████ | 180.37499999997289/200 [04:22<00:30,  1.55s/it]"
     ]
    },
    {
     "name": "stdout",
     "output_type": "stream",
     "text": [
      "Train Epoch: 181 [5120/17825 (29%)]\tLoss: 0.148553\n"
     ]
    },
    {
     "name": "stderr",
     "output_type": "stream",
     "text": [
      " 90%|█████████ | 180.63749999997265/200 [04:23<00:26,  1.35s/it]"
     ]
    },
    {
     "name": "stdout",
     "output_type": "stream",
     "text": [
      "Train Epoch: 181 [10240/17825 (57%)]\tLoss: 0.126455\n"
     ]
    },
    {
     "name": "stderr",
     "output_type": "stream",
     "text": [
      " 90%|█████████ | 180.8124999999725/200 [04:23<00:24,  1.30s/it] "
     ]
    },
    {
     "name": "stdout",
     "output_type": "stream",
     "text": [
      "Train Epoch: 181 [15360/17825 (86%)]\tLoss: 0.187908\n"
     ]
    },
    {
     "name": "stderr",
     "output_type": "stream",
     "text": [
      " 90%|█████████ | 180.98749999997233/200 [04:23<00:27,  1.46s/it]"
     ]
    },
    {
     "name": "stdout",
     "output_type": "stream",
     "text": [
      "\n",
      "Test Epoch: 181\tAccuracy: 1970/2337 (84%)\n",
      "\n"
     ]
    },
    {
     "name": "stderr",
     "output_type": "stream",
     "text": [
      " 91%|█████████ | 181.06249999997226/200 [04:23<00:31,  1.66s/it]"
     ]
    },
    {
     "name": "stdout",
     "output_type": "stream",
     "text": [
      "Train Epoch: 182 [0/17825 (0%)]\tLoss: 0.161890\n"
     ]
    },
    {
     "name": "stderr",
     "output_type": "stream",
     "text": [
      " 91%|█████████ | 181.31249999997203/200 [04:24<00:30,  1.61s/it]"
     ]
    },
    {
     "name": "stdout",
     "output_type": "stream",
     "text": [
      "Train Epoch: 182 [5120/17825 (29%)]\tLoss: 0.125345\n"
     ]
    },
    {
     "name": "stderr",
     "output_type": "stream",
     "text": [
      " 91%|█████████ | 181.66249999997171/200 [04:24<00:23,  1.29s/it]"
     ]
    },
    {
     "name": "stdout",
     "output_type": "stream",
     "text": [
      "Train Epoch: 182 [10240/17825 (57%)]\tLoss: 0.160816\n"
     ]
    },
    {
     "name": "stderr",
     "output_type": "stream",
     "text": [
      " 91%|█████████ | 181.83749999997156/200 [04:24<00:22,  1.25s/it]"
     ]
    },
    {
     "name": "stdout",
     "output_type": "stream",
     "text": [
      "Train Epoch: 182 [15360/17825 (86%)]\tLoss: 0.181459\n"
     ]
    },
    {
     "name": "stderr",
     "output_type": "stream",
     "text": [
      " 91%|█████████ | 181.92499999997148/200 [04:25<00:27,  1.51s/it]"
     ]
    },
    {
     "name": "stdout",
     "output_type": "stream",
     "text": [
      "\n",
      "Test Epoch: 182\tAccuracy: 1968/2337 (84%)\n",
      "\n"
     ]
    },
    {
     "name": "stderr",
     "output_type": "stream",
     "text": [
      " 91%|█████████ | 182.0124999999714/200 [04:25<00:31,  1.73s/it] "
     ]
    },
    {
     "name": "stdout",
     "output_type": "stream",
     "text": [
      "Train Epoch: 183 [0/17825 (0%)]\tLoss: 0.142507\n"
     ]
    },
    {
     "name": "stderr",
     "output_type": "stream",
     "text": [
      " 91%|█████████ | 182.37499999997107/200 [04:25<00:26,  1.48s/it]"
     ]
    },
    {
     "name": "stdout",
     "output_type": "stream",
     "text": [
      "Train Epoch: 183 [5120/17825 (29%)]\tLoss: 0.155330\n"
     ]
    },
    {
     "name": "stderr",
     "output_type": "stream",
     "text": [
      " 91%|█████████▏| 182.63749999997083/200 [04:26<00:22,  1.31s/it]"
     ]
    },
    {
     "name": "stdout",
     "output_type": "stream",
     "text": [
      "Train Epoch: 183 [10240/17825 (57%)]\tLoss: 0.169722\n"
     ]
    },
    {
     "name": "stderr",
     "output_type": "stream",
     "text": [
      " 91%|█████████▏| 182.81249999997067/200 [04:26<00:21,  1.26s/it]"
     ]
    },
    {
     "name": "stdout",
     "output_type": "stream",
     "text": [
      "Train Epoch: 183 [15360/17825 (86%)]\tLoss: 0.170716\n"
     ]
    },
    {
     "name": "stderr",
     "output_type": "stream",
     "text": [
      " 91%|█████████▏| 182.9874999999705/200 [04:26<00:24,  1.43s/it] "
     ]
    },
    {
     "name": "stdout",
     "output_type": "stream",
     "text": [
      "\n",
      "Test Epoch: 183\tAccuracy: 1962/2337 (84%)\n",
      "\n"
     ]
    },
    {
     "name": "stderr",
     "output_type": "stream",
     "text": [
      " 92%|█████████▏| 183.06249999997044/200 [04:26<00:28,  1.67s/it]"
     ]
    },
    {
     "name": "stdout",
     "output_type": "stream",
     "text": [
      "Train Epoch: 184 [0/17825 (0%)]\tLoss: 0.158714\n"
     ]
    },
    {
     "name": "stderr",
     "output_type": "stream",
     "text": [
      " 92%|█████████▏| 183.36249999997017/200 [04:27<00:27,  1.67s/it]"
     ]
    },
    {
     "name": "stdout",
     "output_type": "stream",
     "text": [
      "Train Epoch: 184 [5120/17825 (29%)]\tLoss: 0.178973\n"
     ]
    },
    {
     "name": "stderr",
     "output_type": "stream",
     "text": [
      " 92%|█████████▏| 183.62499999996993/200 [04:27<00:22,  1.37s/it]"
     ]
    },
    {
     "name": "stdout",
     "output_type": "stream",
     "text": [
      "Train Epoch: 184 [10240/17825 (57%)]\tLoss: 0.144726\n"
     ]
    },
    {
     "name": "stderr",
     "output_type": "stream",
     "text": [
      " 92%|█████████▏| 183.79999999996977/200 [04:27<00:21,  1.30s/it]"
     ]
    },
    {
     "name": "stdout",
     "output_type": "stream",
     "text": [
      "Train Epoch: 184 [15360/17825 (86%)]\tLoss: 0.127237\n"
     ]
    },
    {
     "name": "stderr",
     "output_type": "stream",
     "text": [
      " 92%|█████████▏| 183.9874999999696/200 [04:28<00:22,  1.43s/it] "
     ]
    },
    {
     "name": "stdout",
     "output_type": "stream",
     "text": [
      "\n",
      "Test Epoch: 184\tAccuracy: 1969/2337 (84%)\n",
      "\n"
     ]
    },
    {
     "name": "stderr",
     "output_type": "stream",
     "text": [
      " 92%|█████████▏| 184.07499999996952/200 [04:28<00:26,  1.65s/it]"
     ]
    },
    {
     "name": "stdout",
     "output_type": "stream",
     "text": [
      "Train Epoch: 185 [0/17825 (0%)]\tLoss: 0.145236\n"
     ]
    },
    {
     "name": "stderr",
     "output_type": "stream",
     "text": [
      " 92%|█████████▏| 184.3249999999693/200 [04:28<00:25,  1.60s/it] "
     ]
    },
    {
     "name": "stdout",
     "output_type": "stream",
     "text": [
      "Train Epoch: 185 [5120/17825 (29%)]\tLoss: 0.175175\n"
     ]
    },
    {
     "name": "stderr",
     "output_type": "stream",
     "text": [
      " 92%|█████████▏| 184.67499999996897/200 [04:29<00:19,  1.30s/it]"
     ]
    },
    {
     "name": "stdout",
     "output_type": "stream",
     "text": [
      "Train Epoch: 185 [10240/17825 (57%)]\tLoss: 0.147617\n"
     ]
    },
    {
     "name": "stderr",
     "output_type": "stream",
     "text": [
      " 92%|█████████▏| 184.84999999996882/200 [04:29<00:19,  1.26s/it]"
     ]
    },
    {
     "name": "stdout",
     "output_type": "stream",
     "text": [
      "Train Epoch: 185 [15360/17825 (86%)]\tLoss: 0.138607\n"
     ]
    },
    {
     "name": "stderr",
     "output_type": "stream",
     "text": [
      " 92%|█████████▏| 184.93749999996874/200 [04:29<00:22,  1.52s/it]"
     ]
    },
    {
     "name": "stdout",
     "output_type": "stream",
     "text": [
      "\n",
      "Test Epoch: 185\tAccuracy: 1961/2337 (84%)\n",
      "\n"
     ]
    },
    {
     "name": "stderr",
     "output_type": "stream",
     "text": [
      " 93%|█████████▎| 185.01249999996867/200 [04:29<00:26,  1.76s/it]"
     ]
    },
    {
     "name": "stdout",
     "output_type": "stream",
     "text": [
      "Train Epoch: 186 [0/17825 (0%)]\tLoss: 0.194497\n"
     ]
    },
    {
     "name": "stderr",
     "output_type": "stream",
     "text": [
      " 93%|█████████▎| 185.37499999996834/200 [04:30<00:21,  1.49s/it]"
     ]
    },
    {
     "name": "stdout",
     "output_type": "stream",
     "text": [
      "Train Epoch: 186 [5120/17825 (29%)]\tLoss: 0.117354\n"
     ]
    },
    {
     "name": "stderr",
     "output_type": "stream",
     "text": [
      " 93%|█████████▎| 185.6374999999681/200 [04:30<00:18,  1.31s/it] "
     ]
    },
    {
     "name": "stdout",
     "output_type": "stream",
     "text": [
      "Train Epoch: 186 [10240/17825 (57%)]\tLoss: 0.114892\n"
     ]
    },
    {
     "name": "stderr",
     "output_type": "stream",
     "text": [
      " 93%|█████████▎| 185.81249999996794/200 [04:30<00:17,  1.26s/it]"
     ]
    },
    {
     "name": "stdout",
     "output_type": "stream",
     "text": [
      "Train Epoch: 186 [15360/17825 (86%)]\tLoss: 0.128679\n"
     ]
    },
    {
     "name": "stderr",
     "output_type": "stream",
     "text": [
      " 93%|█████████▎| 185.98749999996778/200 [04:30<00:20,  1.44s/it]"
     ]
    },
    {
     "name": "stdout",
     "output_type": "stream",
     "text": [
      "\n",
      "Test Epoch: 186\tAccuracy: 1966/2337 (84%)\n",
      "\n"
     ]
    },
    {
     "name": "stderr",
     "output_type": "stream",
     "text": [
      " 93%|█████████▎| 186.0624999999677/200 [04:31<00:23,  1.66s/it] "
     ]
    },
    {
     "name": "stdout",
     "output_type": "stream",
     "text": [
      "Train Epoch: 187 [0/17825 (0%)]\tLoss: 0.154936\n"
     ]
    },
    {
     "name": "stderr",
     "output_type": "stream",
     "text": [
      " 93%|█████████▎| 186.32499999996747/200 [04:31<00:21,  1.58s/it]"
     ]
    },
    {
     "name": "stdout",
     "output_type": "stream",
     "text": [
      "Train Epoch: 187 [5120/17825 (29%)]\tLoss: 0.156510\n"
     ]
    },
    {
     "name": "stderr",
     "output_type": "stream",
     "text": [
      " 93%|█████████▎| 186.67499999996716/200 [04:31<00:17,  1.30s/it]"
     ]
    },
    {
     "name": "stdout",
     "output_type": "stream",
     "text": [
      "Train Epoch: 187 [10240/17825 (57%)]\tLoss: 0.097596\n"
     ]
    },
    {
     "name": "stderr",
     "output_type": "stream",
     "text": [
      " 93%|█████████▎| 186.849999999967/200 [04:32<00:16,  1.26s/it]  "
     ]
    },
    {
     "name": "stdout",
     "output_type": "stream",
     "text": [
      "Train Epoch: 187 [15360/17825 (86%)]\tLoss: 0.121552\n"
     ]
    },
    {
     "name": "stderr",
     "output_type": "stream",
     "text": [
      " 93%|█████████▎| 186.93749999996692/200 [04:32<00:19,  1.53s/it]"
     ]
    },
    {
     "name": "stdout",
     "output_type": "stream",
     "text": [
      "\n",
      "Test Epoch: 187\tAccuracy: 1961/2337 (84%)\n",
      "\n"
     ]
    },
    {
     "name": "stderr",
     "output_type": "stream",
     "text": [
      " 94%|█████████▎| 187.01249999996685/200 [04:32<00:22,  1.77s/it]"
     ]
    },
    {
     "name": "stdout",
     "output_type": "stream",
     "text": [
      "Train Epoch: 188 [0/17825 (0%)]\tLoss: 0.139848\n"
     ]
    },
    {
     "name": "stderr",
     "output_type": "stream",
     "text": [
      " 94%|█████████▎| 187.2874999999666/200 [04:32<00:17,  1.38s/it] "
     ]
    },
    {
     "name": "stdout",
     "output_type": "stream",
     "text": [
      "Train Epoch: 188 [5120/17825 (29%)]\tLoss: 0.150749\n"
     ]
    },
    {
     "name": "stderr",
     "output_type": "stream",
     "text": [
      " 94%|█████████▍| 187.63749999996628/200 [04:33<00:16,  1.36s/it]"
     ]
    },
    {
     "name": "stdout",
     "output_type": "stream",
     "text": [
      "Train Epoch: 188 [10240/17825 (57%)]\tLoss: 0.114359\n"
     ]
    },
    {
     "name": "stderr",
     "output_type": "stream",
     "text": [
      " 94%|█████████▍| 187.81249999996612/200 [04:33<00:15,  1.31s/it]"
     ]
    },
    {
     "name": "stdout",
     "output_type": "stream",
     "text": [
      "Train Epoch: 188 [15360/17825 (86%)]\tLoss: 0.128652\n"
     ]
    },
    {
     "name": "stderr",
     "output_type": "stream",
     "text": [
      " 94%|█████████▍| 187.98749999996596/200 [04:33<00:17,  1.46s/it]"
     ]
    },
    {
     "name": "stdout",
     "output_type": "stream",
     "text": [
      "\n",
      "Test Epoch: 188\tAccuracy: 1970/2337 (84%)\n",
      "\n"
     ]
    },
    {
     "name": "stderr",
     "output_type": "stream",
     "text": [
      " 94%|█████████▍| 188.0624999999659/200 [04:34<00:20,  1.68s/it] "
     ]
    },
    {
     "name": "stdout",
     "output_type": "stream",
     "text": [
      "Train Epoch: 189 [0/17825 (0%)]\tLoss: 0.137698\n"
     ]
    },
    {
     "name": "stderr",
     "output_type": "stream",
     "text": [
      " 94%|█████████▍| 188.31249999996567/200 [04:34<00:19,  1.64s/it]"
     ]
    },
    {
     "name": "stdout",
     "output_type": "stream",
     "text": [
      "Train Epoch: 189 [5120/17825 (29%)]\tLoss: 0.163843\n"
     ]
    },
    {
     "name": "stderr",
     "output_type": "stream",
     "text": [
      " 94%|█████████▍| 188.66249999996535/200 [04:34<00:14,  1.32s/it]"
     ]
    },
    {
     "name": "stdout",
     "output_type": "stream",
     "text": [
      "Train Epoch: 189 [10240/17825 (57%)]\tLoss: 0.130464\n"
     ]
    },
    {
     "name": "stderr",
     "output_type": "stream",
     "text": [
      " 94%|█████████▍| 188.8374999999652/200 [04:35<00:14,  1.27s/it] "
     ]
    },
    {
     "name": "stdout",
     "output_type": "stream",
     "text": [
      "Train Epoch: 189 [15360/17825 (86%)]\tLoss: 0.130958\n"
     ]
    },
    {
     "name": "stderr",
     "output_type": "stream",
     "text": [
      " 94%|█████████▍| 188.9249999999651/200 [04:35<00:16,  1.53s/it]"
     ]
    },
    {
     "name": "stdout",
     "output_type": "stream",
     "text": [
      "\n",
      "Test Epoch: 189\tAccuracy: 1960/2337 (84%)\n",
      "\n"
     ]
    },
    {
     "name": "stderr",
     "output_type": "stream",
     "text": [
      " 95%|█████████▍| 189.01249999996503/200 [04:35<00:19,  1.75s/it]"
     ]
    },
    {
     "name": "stdout",
     "output_type": "stream",
     "text": [
      "Train Epoch: 190 [0/17825 (0%)]\tLoss: 0.138308\n"
     ]
    },
    {
     "name": "stderr",
     "output_type": "stream",
     "text": [
      " 95%|█████████▍| 189.3749999999647/200 [04:35<00:15,  1.46s/it] "
     ]
    },
    {
     "name": "stdout",
     "output_type": "stream",
     "text": [
      "Train Epoch: 190 [5120/17825 (29%)]\tLoss: 0.121138\n"
     ]
    },
    {
     "name": "stderr",
     "output_type": "stream",
     "text": [
      " 95%|█████████▍| 189.63749999996446/200 [04:36<00:13,  1.31s/it]"
     ]
    },
    {
     "name": "stdout",
     "output_type": "stream",
     "text": [
      "Train Epoch: 190 [10240/17825 (57%)]\tLoss: 0.127250\n"
     ]
    },
    {
     "name": "stderr",
     "output_type": "stream",
     "text": [
      " 95%|█████████▍| 189.8124999999643/200 [04:36<00:13,  1.28s/it] "
     ]
    },
    {
     "name": "stdout",
     "output_type": "stream",
     "text": [
      "Train Epoch: 190 [15360/17825 (86%)]\tLoss: 0.159644\n"
     ]
    },
    {
     "name": "stderr",
     "output_type": "stream",
     "text": [
      " 95%|█████████▍| 189.98749999996414/200 [04:36<00:14,  1.45s/it]"
     ]
    },
    {
     "name": "stdout",
     "output_type": "stream",
     "text": [
      "\n",
      "Test Epoch: 190\tAccuracy: 1965/2337 (84%)\n",
      "\n"
     ]
    },
    {
     "name": "stderr",
     "output_type": "stream",
     "text": [
      " 95%|█████████▌| 190.06249999996407/200 [04:36<00:16,  1.68s/it]"
     ]
    },
    {
     "name": "stdout",
     "output_type": "stream",
     "text": [
      "Train Epoch: 191 [0/17825 (0%)]\tLoss: 0.123438\n"
     ]
    },
    {
     "name": "stderr",
     "output_type": "stream",
     "text": [
      " 95%|█████████▌| 190.31249999996385/200 [04:37<00:15,  1.59s/it]"
     ]
    },
    {
     "name": "stdout",
     "output_type": "stream",
     "text": [
      "Train Epoch: 191 [5120/17825 (29%)]\tLoss: 0.140510\n"
     ]
    },
    {
     "name": "stderr",
     "output_type": "stream",
     "text": [
      " 95%|█████████▌| 190.66249999996353/200 [04:37<00:12,  1.30s/it]"
     ]
    },
    {
     "name": "stdout",
     "output_type": "stream",
     "text": [
      "Train Epoch: 191 [10240/17825 (57%)]\tLoss: 0.141690\n"
     ]
    },
    {
     "name": "stderr",
     "output_type": "stream",
     "text": [
      " 95%|█████████▌| 190.83749999996337/200 [04:37<00:11,  1.27s/it]"
     ]
    },
    {
     "name": "stdout",
     "output_type": "stream",
     "text": [
      "Train Epoch: 191 [15360/17825 (86%)]\tLoss: 0.138994\n"
     ]
    },
    {
     "name": "stderr",
     "output_type": "stream",
     "text": [
      " 95%|█████████▌| 190.9249999999633/200 [04:38<00:13,  1.53s/it] "
     ]
    },
    {
     "name": "stdout",
     "output_type": "stream",
     "text": [
      "\n",
      "Test Epoch: 191\tAccuracy: 1960/2337 (84%)\n",
      "\n"
     ]
    },
    {
     "name": "stderr",
     "output_type": "stream",
     "text": [
      " 96%|█████████▌| 191.0124999999632/200 [04:38<00:15,  1.75s/it]"
     ]
    },
    {
     "name": "stdout",
     "output_type": "stream",
     "text": [
      "Train Epoch: 192 [0/17825 (0%)]\tLoss: 0.152096\n"
     ]
    },
    {
     "name": "stderr",
     "output_type": "stream",
     "text": [
      " 96%|█████████▌| 191.37499999996288/200 [04:38<00:13,  1.53s/it]"
     ]
    },
    {
     "name": "stdout",
     "output_type": "stream",
     "text": [
      "Train Epoch: 192 [5120/17825 (29%)]\tLoss: 0.144619\n"
     ]
    },
    {
     "name": "stderr",
     "output_type": "stream",
     "text": [
      " 96%|█████████▌| 191.63749999996264/200 [04:39<00:10,  1.31s/it]"
     ]
    },
    {
     "name": "stdout",
     "output_type": "stream",
     "text": [
      "Train Epoch: 192 [10240/17825 (57%)]\tLoss: 0.218667\n"
     ]
    },
    {
     "name": "stderr",
     "output_type": "stream",
     "text": [
      " 96%|█████████▌| 191.81249999996248/200 [04:39<00:10,  1.25s/it]"
     ]
    },
    {
     "name": "stdout",
     "output_type": "stream",
     "text": [
      "Train Epoch: 192 [15360/17825 (86%)]\tLoss: 0.133020\n"
     ]
    },
    {
     "name": "stderr",
     "output_type": "stream",
     "text": [
      " 96%|█████████▌| 191.98749999996232/200 [04:39<00:11,  1.42s/it]"
     ]
    },
    {
     "name": "stdout",
     "output_type": "stream",
     "text": [
      "\n",
      "Test Epoch: 192\tAccuracy: 1962/2337 (84%)\n",
      "\n"
     ]
    },
    {
     "name": "stderr",
     "output_type": "stream",
     "text": [
      " 96%|█████████▌| 192.07499999996224/200 [04:39<00:12,  1.62s/it]"
     ]
    },
    {
     "name": "stdout",
     "output_type": "stream",
     "text": [
      "Train Epoch: 193 [0/17825 (0%)]\tLoss: 0.174202\n"
     ]
    },
    {
     "name": "stderr",
     "output_type": "stream",
     "text": [
      " 96%|█████████▌| 192.32499999996202/200 [04:40<00:12,  1.64s/it]"
     ]
    },
    {
     "name": "stdout",
     "output_type": "stream",
     "text": [
      "Train Epoch: 193 [5120/17825 (29%)]\tLoss: 0.168535\n"
     ]
    },
    {
     "name": "stderr",
     "output_type": "stream",
     "text": [
      " 96%|█████████▋| 192.58749999996178/200 [04:40<00:10,  1.39s/it]"
     ]
    },
    {
     "name": "stdout",
     "output_type": "stream",
     "text": [
      "Train Epoch: 193 [10240/17825 (57%)]\tLoss: 0.144103\n"
     ]
    },
    {
     "name": "stderr",
     "output_type": "stream",
     "text": [
      " 96%|█████████▋| 192.84999999996154/200 [04:40<00:09,  1.30s/it]"
     ]
    },
    {
     "name": "stdout",
     "output_type": "stream",
     "text": [
      "Train Epoch: 193 [15360/17825 (86%)]\tLoss: 0.172233\n"
     ]
    },
    {
     "name": "stderr",
     "output_type": "stream",
     "text": [
      " 96%|█████████▋| 192.93749999996146/200 [04:41<00:10,  1.54s/it]"
     ]
    },
    {
     "name": "stdout",
     "output_type": "stream",
     "text": [
      "\n",
      "Test Epoch: 193\tAccuracy: 1965/2337 (84%)\n",
      "\n"
     ]
    },
    {
     "name": "stderr",
     "output_type": "stream",
     "text": [
      " 97%|█████████▋| 193.0124999999614/200 [04:41<00:12,  1.78s/it] "
     ]
    },
    {
     "name": "stdout",
     "output_type": "stream",
     "text": [
      "Train Epoch: 194 [0/17825 (0%)]\tLoss: 0.125039\n"
     ]
    },
    {
     "name": "stderr",
     "output_type": "stream",
     "text": [
      " 97%|█████████▋| 193.28749999996114/200 [04:41<00:10,  1.62s/it]"
     ]
    },
    {
     "name": "stdout",
     "output_type": "stream",
     "text": [
      "Train Epoch: 194 [5120/17825 (29%)]\tLoss: 0.196434\n"
     ]
    },
    {
     "name": "stderr",
     "output_type": "stream",
     "text": [
      " 97%|█████████▋| 193.63749999996082/200 [04:42<00:08,  1.31s/it]"
     ]
    },
    {
     "name": "stdout",
     "output_type": "stream",
     "text": [
      "Train Epoch: 194 [10240/17825 (57%)]\tLoss: 0.165272\n"
     ]
    },
    {
     "name": "stderr",
     "output_type": "stream",
     "text": [
      " 97%|█████████▋| 193.81249999996066/200 [04:42<00:07,  1.25s/it]"
     ]
    },
    {
     "name": "stdout",
     "output_type": "stream",
     "text": [
      "Train Epoch: 194 [15360/17825 (86%)]\tLoss: 0.126085\n"
     ]
    },
    {
     "name": "stderr",
     "output_type": "stream",
     "text": [
      " 97%|█████████▋| 193.9874999999605/200 [04:42<00:08,  1.43s/it] "
     ]
    },
    {
     "name": "stdout",
     "output_type": "stream",
     "text": [
      "\n",
      "Test Epoch: 194\tAccuracy: 1963/2337 (84%)\n",
      "\n"
     ]
    },
    {
     "name": "stderr",
     "output_type": "stream",
     "text": [
      " 97%|█████████▋| 194.07499999996043/200 [04:42<00:09,  1.62s/it]"
     ]
    },
    {
     "name": "stdout",
     "output_type": "stream",
     "text": [
      "Train Epoch: 195 [0/17825 (0%)]\tLoss: 0.113314\n"
     ]
    },
    {
     "name": "stderr",
     "output_type": "stream",
     "text": [
      " 97%|█████████▋| 194.3374999999602/200 [04:43<00:08,  1.56s/it] "
     ]
    },
    {
     "name": "stdout",
     "output_type": "stream",
     "text": [
      "Train Epoch: 195 [5120/17825 (29%)]\tLoss: 0.165790\n"
     ]
    },
    {
     "name": "stderr",
     "output_type": "stream",
     "text": [
      " 97%|█████████▋| 194.59999999995995/200 [04:43<00:07,  1.32s/it]"
     ]
    },
    {
     "name": "stdout",
     "output_type": "stream",
     "text": [
      "Train Epoch: 195 [10240/17825 (57%)]\tLoss: 0.191444\n"
     ]
    },
    {
     "name": "stderr",
     "output_type": "stream",
     "text": [
      " 97%|█████████▋| 194.8624999999597/200 [04:43<00:06,  1.24s/it] "
     ]
    },
    {
     "name": "stdout",
     "output_type": "stream",
     "text": [
      "Train Epoch: 195 [15360/17825 (86%)]\tLoss: 0.153455\n"
     ]
    },
    {
     "name": "stderr",
     "output_type": "stream",
     "text": [
      " 97%|█████████▋| 194.94999999995963/200 [04:43<00:07,  1.51s/it]"
     ]
    },
    {
     "name": "stdout",
     "output_type": "stream",
     "text": [
      "\n",
      "Test Epoch: 195\tAccuracy: 1965/2337 (84%)\n",
      "\n"
     ]
    },
    {
     "name": "stderr",
     "output_type": "stream",
     "text": [
      " 98%|█████████▊| 195.02499999995956/200 [04:44<00:08,  1.72s/it]"
     ]
    },
    {
     "name": "stdout",
     "output_type": "stream",
     "text": [
      "Train Epoch: 196 [0/17825 (0%)]\tLoss: 0.113880\n"
     ]
    },
    {
     "name": "stderr",
     "output_type": "stream",
     "text": [
      " 98%|█████████▊| 195.37499999995924/200 [04:44<00:07,  1.57s/it]"
     ]
    },
    {
     "name": "stdout",
     "output_type": "stream",
     "text": [
      "Train Epoch: 196 [5120/17825 (29%)]\tLoss: 0.118393\n"
     ]
    },
    {
     "name": "stderr",
     "output_type": "stream",
     "text": [
      " 98%|█████████▊| 195.637499999959/200 [04:44<00:05,  1.35s/it]  "
     ]
    },
    {
     "name": "stdout",
     "output_type": "stream",
     "text": [
      "Train Epoch: 196 [10240/17825 (57%)]\tLoss: 0.136025\n"
     ]
    },
    {
     "name": "stderr",
     "output_type": "stream",
     "text": [
      " 98%|█████████▊| 195.81249999995885/200 [04:45<00:05,  1.29s/it]"
     ]
    },
    {
     "name": "stdout",
     "output_type": "stream",
     "text": [
      "Train Epoch: 196 [15360/17825 (86%)]\tLoss: 0.146055\n"
     ]
    },
    {
     "name": "stderr",
     "output_type": "stream",
     "text": [
      " 98%|█████████▊| 195.89999999995877/200 [04:45<00:06,  1.56s/it]"
     ]
    },
    {
     "name": "stdout",
     "output_type": "stream",
     "text": [
      "\n",
      "Test Epoch: 196\tAccuracy: 1962/2337 (84%)\n",
      "\n"
     ]
    },
    {
     "name": "stderr",
     "output_type": "stream",
     "text": [
      " 98%|█████████▊| 196.01249999995866/200 [04:45<00:06,  1.70s/it]"
     ]
    },
    {
     "name": "stdout",
     "output_type": "stream",
     "text": [
      "Train Epoch: 197 [0/17825 (0%)]\tLoss: 0.147069\n"
     ]
    },
    {
     "name": "stderr",
     "output_type": "stream",
     "text": [
      " 98%|█████████▊| 196.37499999995833/200 [04:46<00:05,  1.48s/it]"
     ]
    },
    {
     "name": "stdout",
     "output_type": "stream",
     "text": [
      "Train Epoch: 197 [5120/17825 (29%)]\tLoss: 0.125790\n"
     ]
    },
    {
     "name": "stderr",
     "output_type": "stream",
     "text": [
      " 98%|█████████▊| 196.6249999999581/200 [04:46<00:04,  1.35s/it] "
     ]
    },
    {
     "name": "stdout",
     "output_type": "stream",
     "text": [
      "Train Epoch: 197 [10240/17825 (57%)]\tLoss: 0.146680\n"
     ]
    },
    {
     "name": "stderr",
     "output_type": "stream",
     "text": [
      " 98%|█████████▊| 196.79999999995795/200 [04:46<00:04,  1.29s/it]"
     ]
    },
    {
     "name": "stdout",
     "output_type": "stream",
     "text": [
      "Train Epoch: 197 [15360/17825 (86%)]\tLoss: 0.142813\n"
     ]
    },
    {
     "name": "stderr",
     "output_type": "stream",
     "text": [
      " 98%|█████████▊| 196.98749999995778/200 [04:46<00:04,  1.44s/it]"
     ]
    },
    {
     "name": "stdout",
     "output_type": "stream",
     "text": [
      "\n",
      "Test Epoch: 197\tAccuracy: 1961/2337 (84%)\n",
      "\n"
     ]
    },
    {
     "name": "stderr",
     "output_type": "stream",
     "text": [
      " 99%|█████████▊| 197.0749999999577/200 [04:47<00:04,  1.64s/it] "
     ]
    },
    {
     "name": "stdout",
     "output_type": "stream",
     "text": [
      "Train Epoch: 198 [0/17825 (0%)]\tLoss: 0.127931\n"
     ]
    },
    {
     "name": "stderr",
     "output_type": "stream",
     "text": [
      " 99%|█████████▊| 197.32499999995747/200 [04:47<00:04,  1.64s/it]"
     ]
    },
    {
     "name": "stdout",
     "output_type": "stream",
     "text": [
      "Train Epoch: 198 [5120/17825 (29%)]\tLoss: 0.108764\n"
     ]
    },
    {
     "name": "stderr",
     "output_type": "stream",
     "text": [
      " 99%|█████████▉| 197.67499999995715/200 [04:47<00:03,  1.32s/it]"
     ]
    },
    {
     "name": "stdout",
     "output_type": "stream",
     "text": [
      "Train Epoch: 198 [10240/17825 (57%)]\tLoss: 0.120311\n"
     ]
    },
    {
     "name": "stderr",
     "output_type": "stream",
     "text": [
      " 99%|█████████▉| 197.849999999957/200 [04:48<00:02,  1.26s/it]  "
     ]
    },
    {
     "name": "stdout",
     "output_type": "stream",
     "text": [
      "Train Epoch: 198 [15360/17825 (86%)]\tLoss: 0.116181\n"
     ]
    },
    {
     "name": "stderr",
     "output_type": "stream",
     "text": [
      " 99%|█████████▉| 197.9374999999569/200 [04:48<00:03,  1.54s/it]"
     ]
    },
    {
     "name": "stdout",
     "output_type": "stream",
     "text": [
      "\n",
      "Test Epoch: 198\tAccuracy: 1963/2337 (84%)\n",
      "\n"
     ]
    },
    {
     "name": "stderr",
     "output_type": "stream",
     "text": [
      " 99%|█████████▉| 198.01249999995684/200 [04:48<00:03,  1.77s/it]"
     ]
    },
    {
     "name": "stdout",
     "output_type": "stream",
     "text": [
      "Train Epoch: 199 [0/17825 (0%)]\tLoss: 0.157497\n"
     ]
    },
    {
     "name": "stderr",
     "output_type": "stream",
     "text": [
      " 99%|█████████▉| 198.37499999995651/200 [04:48<00:02,  1.47s/it]"
     ]
    },
    {
     "name": "stdout",
     "output_type": "stream",
     "text": [
      "Train Epoch: 199 [5120/17825 (29%)]\tLoss: 0.148373\n"
     ]
    },
    {
     "name": "stderr",
     "output_type": "stream",
     "text": [
      " 99%|█████████▉| 198.63749999995628/200 [04:49<00:01,  1.34s/it]"
     ]
    },
    {
     "name": "stdout",
     "output_type": "stream",
     "text": [
      "Train Epoch: 199 [10240/17825 (57%)]\tLoss: 0.125156\n"
     ]
    },
    {
     "name": "stderr",
     "output_type": "stream",
     "text": [
      " 99%|█████████▉| 198.81249999995612/200 [04:49<00:01,  1.28s/it]"
     ]
    },
    {
     "name": "stdout",
     "output_type": "stream",
     "text": [
      "Train Epoch: 199 [15360/17825 (86%)]\tLoss: 0.147210\n"
     ]
    },
    {
     "name": "stderr",
     "output_type": "stream",
     "text": [
      " 99%|█████████▉| 198.98749999995596/200 [04:49<00:01,  1.43s/it]"
     ]
    },
    {
     "name": "stdout",
     "output_type": "stream",
     "text": [
      "\n",
      "Test Epoch: 199\tAccuracy: 1964/2337 (84%)\n",
      "\n"
     ]
    },
    {
     "name": "stderr",
     "output_type": "stream",
     "text": [
      "100%|█████████▉| 199.0624999999559/200 [04:49<00:01,  1.64s/it] "
     ]
    },
    {
     "name": "stdout",
     "output_type": "stream",
     "text": [
      "Train Epoch: 200 [0/17825 (0%)]\tLoss: 0.154556\n"
     ]
    },
    {
     "name": "stderr",
     "output_type": "stream",
     "text": [
      "100%|█████████▉| 199.31249999995566/200 [04:50<00:01,  1.64s/it]"
     ]
    },
    {
     "name": "stdout",
     "output_type": "stream",
     "text": [
      "Train Epoch: 200 [5120/17825 (29%)]\tLoss: 0.118940\n"
     ]
    },
    {
     "name": "stderr",
     "output_type": "stream",
     "text": [
      "100%|█████████▉| 199.66249999995534/200 [04:50<00:00,  1.34s/it]"
     ]
    },
    {
     "name": "stdout",
     "output_type": "stream",
     "text": [
      "Train Epoch: 200 [10240/17825 (57%)]\tLoss: 0.139169\n"
     ]
    },
    {
     "name": "stderr",
     "output_type": "stream",
     "text": [
      "100%|█████████▉| 199.83749999995518/200 [04:51<00:00,  1.29s/it]"
     ]
    },
    {
     "name": "stdout",
     "output_type": "stream",
     "text": [
      "Train Epoch: 200 [15360/17825 (86%)]\tLoss: 0.130209\n"
     ]
    },
    {
     "name": "stderr",
     "output_type": "stream",
     "text": [
      "100%|█████████▉| 199.99999999995504/200 [04:51<00:00,  1.46s/it]"
     ]
    },
    {
     "name": "stdout",
     "output_type": "stream",
     "text": [
      "\n",
      "Test Epoch: 200\tAccuracy: 1965/2337 (84%)\n",
      "\n"
     ]
    },
    {
     "name": "stderr",
     "output_type": "stream",
     "text": [
      "\n"
     ]
    },
    {
     "data": {
      "image/png": "[encoded data removed]",
      "text/plain": [
       "<Figure size 640x480 with 1 Axes>"
      ]
     },
     "metadata": {},
     "output_type": "display_data"
    }
   ],
   "source": [
    "log_interval = 20\n",
    "n_epoch = 200\n",
    "\n",
    "pbar_update = 1 / (len(train_loader) + len(test_loader))\n",
    "losses = []\n",
    "\n",
    "# The transform needs to live on the same device as the model and the data.\n",
    "transform = transform.to(device)\n",
    "with tqdm(total=n_epoch) as pbar:\n",
    "    for epoch in range(1, n_epoch + 1):\n",
    "        train(model, epoch, log_interval)\n",
    "        test(model, epoch)\n",
    "        scheduler.step()\n",
    "\n",
    "# Let's plot the training loss versus the number of iteration.\n",
    "plt.plot(losses);\n",
    "plt.title(\"training loss\");"
   ]
  },
  {
   "attachments": {},
   "cell_type": "markdown",
   "id": "d926955c-ec83-4149-bde5-2a93a8acae78",
   "metadata": {},
   "source": [
    "# Save model"
   ]
  },
  {
   "cell_type": "code",
   "execution_count": 20,
   "id": "52820d81-45fc-4ad9-b3da-c8edac9184a8",
   "metadata": {},
   "outputs": [],
   "source": [
    "file = \"../weights/M4_3500.pth\"\n",
    "torch.save(model, file)"
   ]
  },
  {
   "cell_type": "code",
   "execution_count": 21,
   "id": "18abdce2-65b2-4630-9af0-16b3af126c7b",
   "metadata": {},
   "outputs": [],
   "source": [
    "# file = \"../weights/scripted_model_8000.pt\"\n",
    "# model_scripted = torch.jit.script(model) # Export to TorchScript\n",
    "# model_scripted.save(file) # Save"
   ]
  },
  {
   "cell_type": "code",
   "execution_count": 70,
   "id": "b8b83587-6a23-4e47-bf0e-4fa364b63876",
   "metadata": {},
   "outputs": [
    {
     "name": "stdout",
     "output_type": "stream",
     "text": [
      "Expected: backward. Predicted: ('backward', 0.4110463559627533).\n"
     ]
    }
   ],
   "source": [
    "import numpy as np\n",
    "\n",
    "\n",
    "def normalize(array):\n",
    "    mn = torch.min(array)\n",
    "    mx = torch.max(array)\n",
    "    return (array - mn) / (mx - mn)\n",
    "\n",
    "\n",
    "def predict(tensor):\n",
    "    # Use the model to predict the label of the waveform\n",
    "    tensor = tensor.to(device)\n",
    "    tensor = transform(tensor)\n",
    "    tensor = model(tensor.unsqueeze(0))\n",
    "    idx = get_likely_index(tensor)\n",
    "    # print(idx)\n",
    "    normed = normalize(tensor.squeeze())\n",
    "    prob = normed / torch.sum(normed)\n",
    "    tensor = index_to_label(idx.squeeze())\n",
    "    return tensor, prob[idx.squeeze()].item()\n",
    "\n",
    "\n",
    "waveform, sample_rate, utterance, *_ = train_set[2]\n",
    "ipd.Audio(waveform.numpy(), rate=sample_rate)\n",
    "\n",
    "print(f\"Expected: {utterance}. Predicted: {predict(waveform)}.\")"
   ]
  },
  {
   "cell_type": "code",
   "execution_count": 71,
   "id": "8e06fcf4-116d-4e5d-a014-6b89a45cc1fc",
   "metadata": {},
   "outputs": [
    {
     "data": {
      "text/html": [
       "\n",
       "                <audio  controls=\"controls\" >\n",
       "                    <source src=\"data:audio/wav;base64,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\" type=\"audio/wav\" />\n",
       "                    Your browser does not support the audio element.\n",
       "                </audio>\n",
       "              "
      ],
      "text/plain": [
       "<IPython.lib.display.Audio object>"
      ]
     },
     "execution_count": 71,
     "metadata": {},
     "output_type": "execute_result"
    }
   ],
   "source": [
    "waveform, *_ = test_set[50]\n",
    "ipd.Audio(waveform.numpy(), rate=sample_rate)"
   ]
  },
  {
   "cell_type": "code",
   "execution_count": 72,
   "id": "f3ae89bc",
   "metadata": {},
   "outputs": [
    {
     "data": {
      "text/plain": [
       "2337"
      ]
     },
     "execution_count": 72,
     "metadata": {},
     "output_type": "execute_result"
    }
   ],
   "source": [
    "len(test_set)"
   ]
  },
  {
   "cell_type": "code",
   "execution_count": 75,
   "id": "3758671f-786a-48f0-b47a-650094f7e932",
   "metadata": {},
   "outputs": [
    {
     "name": "stdout",
     "output_type": "stream",
     "text": [
      "Expected: right. Predicted: ('left', 0.2820636034011841).\n",
      "Expected: right. Predicted: ('right', 0.28661972284317017).\n",
      "Expected: right. Predicted: ('off', 0.29391923546791077).\n",
      "Expected: right. Predicted: ('right', 0.2873322069644928).\n",
      "Expected: right. Predicted: ('stop', 0.3356190025806427).\n",
      "Expected: right. Predicted: ('backward', 0.2687470018863678).\n",
      "Expected: right. Predicted: ('right', 0.3901662826538086).\n",
      "Expected: right. Predicted: ('stop', 0.3550357222557068).\n",
      "Expected: backward. Predicted: ('backward', 0.3231675326824188).\n",
      "Expected: backward. Predicted: ('backward', 0.3225235641002655).\n",
      "Expected: backward. Predicted: ('backward', 0.3425339162349701).\n",
      "Expected: backward. Predicted: ('backward', 0.47718116641044617).\n",
      "Expected: left. Predicted: ('left', 0.24899359047412872).\n",
      "Expected: left. Predicted: ('left', 0.25553610920906067).\n",
      "Expected: left. Predicted: ('left', 0.2923568785190582).\n",
      "Expected: left. Predicted: ('left', 0.2937542200088501).\n",
      "Expected: left. Predicted: ('left', 0.3778076469898224).\n",
      "Expected: left. Predicted: ('left', 0.22636185586452484).\n",
      "Expected: left. Predicted: ('left', 0.3055448830127716).\n",
      "Expected: left. Predicted: ('left', 0.29865357279777527).\n",
      "Expected: stop. Predicted: ('stop', 0.41419562697410583).\n",
      "Expected: stop. Predicted: ('backward', 0.2129707634449005).\n",
      "Expected: stop. Predicted: ('stop', 0.2779429256916046).\n",
      "Expected: stop. Predicted: ('stop', 0.22121889889240265).\n",
      "Expected: stop. Predicted: ('stop', 0.2661950886249542).\n",
      "Expected: stop. Predicted: ('stop', 0.3694547712802887).\n",
      "Expected: stop. Predicted: ('stop', 0.317404568195343).\n",
      "Expected: stop. Predicted: ('stop', 0.3635842800140381).\n",
      "Expected: on. Predicted: ('off', 0.38638848066329956).\n",
      "Expected: on. Predicted: ('forward', 0.18621885776519775).\n",
      "Expected: on. Predicted: ('on', 0.34727227687835693).\n",
      "Expected: on. Predicted: ('on', 0.290312796831131).\n",
      "Expected: on. Predicted: ('on', 0.3161563575267792).\n",
      "Expected: on. Predicted: ('off', 0.3606049716472626).\n",
      "Expected: on. Predicted: ('forward', 0.3062925338745117).\n",
      "Expected: on. Predicted: ('on', 0.30876460671424866).\n",
      "Expected: forward. Predicted: ('forward', 0.3216811418533325).\n",
      "Expected: forward. Predicted: ('forward', 0.2934800684452057).\n",
      "Expected: forward. Predicted: ('forward', 0.48276302218437195).\n",
      "Expected: off. Predicted: ('stop', 0.24002094566822052).\n",
      "Expected: off. Predicted: ('off', 0.29892992973327637).\n",
      "Expected: off. Predicted: ('off', 0.3725169599056244).\n",
      "Expected: off. Predicted: ('on', 0.26909831166267395).\n",
      "Expected: off. Predicted: ('off', 0.3474716246128082).\n",
      "Expected: off. Predicted: ('off', 0.29210609197616577).\n",
      "Expected: off. Predicted: ('off', 0.41598808765411377).\n",
      "Expected: off. Predicted: ('on', 0.29231393337249756).\n"
     ]
    }
   ],
   "source": [
    "for i in range(0, 2337, 50):\n",
    "    waveform, sample_rate, utterance, *_ = test_set[i]\n",
    "    print(f\"Expected: {utterance}. Predicted: {predict(waveform)}.\")"
   ]
  },
  {
   "cell_type": "code",
   "execution_count": null,
   "id": "ea346e7d-c39a-4255-81d2-efa5b4c9b1eb",
   "metadata": {},
   "outputs": [],
   "source": []
  }
 ],
 "metadata": {
  "kernelspec": {
   "display_name": "Python 3 (ipykernel)",
   "language": "python",
   "name": "python3"
  },
  "language_info": {
   "codemirror_mode": {
    "name": "ipython",
    "version": 3
   },
   "file_extension": ".py",
   "mimetype": "text/x-python",
   "name": "python",
   "nbconvert_exporter": "python",
   "pygments_lexer": "ipython3",
   "version": "3.11.3"
  }
 },
 "nbformat": 4,
 "nbformat_minor": 5
}
